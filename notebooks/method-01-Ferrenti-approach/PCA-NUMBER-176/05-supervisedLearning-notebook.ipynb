{
 "cells": [
  {
   "cell_type": "code",
   "execution_count": 1,
   "metadata": {},
   "outputs": [
    {
     "data": {
      "text/html": [
       "\n",
       "        <script>\n",
       "            function code_toggle_15770849005890661285() {\n",
       "                $('div.cell.code_cell.rendered.selected').find('div.input').toggle();\n",
       "            }\n",
       "\n",
       "            \n",
       "        </script>\n",
       "\n",
       "        <a href=\"javascript:code_toggle_15770849005890661285()\">Toggle show/hide</a>\n",
       "    "
      ],
      "text/plain": [
       "<IPython.core.display.HTML object>"
      ]
     },
     "execution_count": 1,
     "metadata": {},
     "output_type": "execute_result"
    }
   ],
   "source": [
    "from pathlib import Path\n",
    "from src.notebookcodesnippets.hideInputs import hide_toggle \n",
    "\n",
    "hide_toggle()"
   ]
  },
  {
   "cell_type": "code",
   "execution_count": 2,
   "metadata": {},
   "outputs": [
    {
     "data": {
      "text/markdown": [
       "# 05-Supervised learning\n",
       "\n",
       "In this notebook we will train a model based on the previous 4 notebooks. This includes inspecting, finding the optimal hyperparameters (with many visualizations) and finally predict with the optimal model that has been found. This notebook is the same as every other supervised notebook in this project, but differs in training set, principal components and results. Therefore, to provide easy implementations, the notebook has been made modular to a certain degree, in particular for further implementation of other machine learning algorithms. It should be relatively straight forward to add more algorithms.\n",
       "\n",
       "## Table of contents\n",
       "\n",
       "- Imports and reading of data\n",
       "- Algorithms\n",
       "- Methods for finding optimal hyperparameters\n",
       "- Optimal hyperparameter search\n",
       "    - Visualizing the optimal parameters for dimensionality reduction\n",
       "    - Visualizing confusion metrics\n",
       "    - ROC-AUC  and precision recall curves\n",
       "    - Visualizing the cross-validated trained models\n",
       "    - Visualizing relevant features\n",
       "    - Falsely predicted entries\n",
       "- Predicting solid-state qubit candidates\n",
       "    - Save the summary and models\n",
       "\n",
       "The cell under provides the editorial difference between the different supervised notebooks in this project. \n"
      ],
      "text/plain": [
       "<IPython.core.display.Markdown object>"
      ]
     },
     "metadata": {},
     "output_type": "display_data"
    },
    {
     "data": {
      "text/html": [
       "\n",
       "        <script>\n",
       "            function code_toggle_8915004941921795458() {\n",
       "                $('div.cell.code_cell.rendered.selected').find('div.input').toggle();\n",
       "            }\n",
       "\n",
       "            \n",
       "        </script>\n",
       "\n",
       "        <a href=\"javascript:code_toggle_8915004941921795458()\">Toggle show/hide</a>\n",
       "    "
      ],
      "text/plain": [
       "<IPython.core.display.HTML object>"
      ]
     },
     "execution_count": 2,
     "metadata": {},
     "output_type": "execute_result"
    }
   ],
   "source": [
    "from IPython.display import display, Markdown\n",
    "\n",
    "with open(Path.cwd().parent.parent.parent / \"src\" / \"notebookcodesnippets\" / \"supervised\" / \"intro.md\", 'r') as fh:\n",
    "    content = fh.read()\n",
    "\n",
    "display(Markdown(content))\n",
    "hide_toggle()"
   ]
  },
  {
   "cell_type": "code",
   "execution_count": 3,
   "metadata": {},
   "outputs": [],
   "source": [
    "title = \"Ferrenti\"\n",
    "InsertApproach = \"01-ferrenti-approach\"\n",
    "numberOfPrincipalComponents = 176"
   ]
  },
  {
   "cell_type": "markdown",
   "metadata": {},
   "source": [
    "# Imports and reading of data\n",
    "\n",
    "Most of the code used in this notebook is found in the src library."
   ]
  },
  {
   "cell_type": "code",
   "execution_count": 4,
   "metadata": {},
   "outputs": [
    {
     "data": {
      "text/html": [
       "\n",
       "        <script>\n",
       "            function code_toggle_8139480387595716166() {\n",
       "                $('div.cell.code_cell.rendered.selected').find('div.input').toggle();\n",
       "            }\n",
       "\n",
       "            \n",
       "        </script>\n",
       "\n",
       "        <a href=\"javascript:code_toggle_8139480387595716166()\">Toggle show/hide</a>\n",
       "    "
      ],
      "text/plain": [
       "<IPython.core.display.HTML object>"
      ]
     },
     "execution_count": 4,
     "metadata": {},
     "output_type": "execute_result"
    }
   ],
   "source": [
    "# Optional: Load the \"autoreload\" extension so that code can change\n",
    "%load_ext autoreload\n",
    "\n",
    "#OPTIONAL: Always reload modules so that as you change code in src, it gets loaded\n",
    "%autoreload 2\n",
    "\n",
    "hide_toggle()"
   ]
  },
  {
   "cell_type": "code",
   "execution_count": 5,
   "metadata": {},
   "outputs": [
    {
     "name": "stdout",
     "output_type": "stream",
     "text": [
      "Current data directory /home/oliver/Dokumenter/masterprosjekt/predicting-solid-state-qubit-candidates/data\n",
      "\n",
      "If you use the ChemEnv tool for your research, please consider citing the following reference(s) :\n",
      "==================================================================================================\n",
      "David Waroquiers, Xavier Gonze, Gian-Marco Rignanese, Cathrin Welker-Nieuwoudt, Frank Rosowski,\n",
      "Michael Goebel, Stephan Schenk, Peter Degelmann, Rute Andre, Robert Glaum, and Geoffroy Hautier,\n",
      "\"Statistical analysis of coordination environments in oxides\",\n",
      "Chem. Mater., 2017, 29 (19), pp 8346-8360,\n",
      "DOI: 10.1021/acs.chemmater.7b02766\n",
      "\n"
     ]
    },
    {
     "data": {
      "text/html": [
       "\n",
       "        <script>\n",
       "            function code_toggle_9027551260689092061() {\n",
       "                $('div.cell.code_cell.rendered.selected').find('div.input').toggle();\n",
       "            }\n",
       "\n",
       "            \n",
       "        </script>\n",
       "\n",
       "        <a href=\"javascript:code_toggle_9027551260689092061()\">Toggle show/hide</a>\n",
       "    "
      ],
      "text/plain": [
       "<IPython.core.display.HTML object>"
      ]
     },
     "execution_count": 5,
     "metadata": {},
     "output_type": "execute_result"
    }
   ],
   "source": [
    "import sys\n",
    "sys.path.insert(0, \"../\")\n",
    "\n",
    "data_dir = Path.cwd().parent.parent.parent / \"data\"\n",
    "print(\"Current data directory {}\".format(data_dir))\n",
    "models_dir = Path.cwd().parent.parent.parent / \"models\" \n",
    "\n",
    "# src\n",
    "from src.models import train_model, predict_model\n",
    "from src.features import build_features\n",
    "from src.visualization import visualize\n",
    "\n",
    "#Standard libraries\n",
    "import numpy as np\n",
    "import pandas as pd\n",
    "import pickle\n",
    "\n",
    "#Models\n",
    "from sklearn.ensemble import RandomForestClassifier, GradientBoostingClassifier\n",
    "from sklearn.linear_model import LogisticRegression\n",
    "from sklearn.tree import DecisionTreeClassifier\n",
    "\n",
    "# CV\n",
    "from sklearn.model_selection import RepeatedStratifiedKFold\n",
    "\n",
    "#visualizations\n",
    "import plotly.graph_objs as go\n",
    "from tqdm import tqdm\n",
    "\n",
    "# setting random seed for reproducibility\n",
    "random_state=1\n",
    "hide_toggle()"
   ]
  },
  {
   "cell_type": "code",
   "execution_count": 6,
   "metadata": {},
   "outputs": [
    {
     "data": {
      "text/html": [
       "<div>\n",
       "<style scoped>\n",
       "    .dataframe tbody tr th:only-of-type {\n",
       "        vertical-align: middle;\n",
       "    }\n",
       "\n",
       "    .dataframe tbody tr th {\n",
       "        vertical-align: top;\n",
       "    }\n",
       "\n",
       "    .dataframe thead th {\n",
       "        text-align: right;\n",
       "    }\n",
       "</style>\n",
       "<table border=\"1\" class=\"dataframe\">\n",
       "  <thead>\n",
       "    <tr style=\"text-align: right;\">\n",
       "      <th></th>\n",
       "      <th>material_id</th>\n",
       "      <th>full_formula</th>\n",
       "      <th>AtomicOrbitals|HOMO_character</th>\n",
       "      <th>AtomicOrbitals|HOMO_element</th>\n",
       "      <th>AtomicOrbitals|HOMO_energy</th>\n",
       "      <th>AtomicOrbitals|LUMO_character</th>\n",
       "      <th>AtomicOrbitals|LUMO_element</th>\n",
       "      <th>AtomicOrbitals|LUMO_energy</th>\n",
       "      <th>AtomicPackingEfficiency|dist from 1 clusters |APE| &lt; 0.010</th>\n",
       "      <th>AtomicPackingEfficiency|dist from 3 clusters |APE| &lt; 0.010</th>\n",
       "      <th>...</th>\n",
       "      <th>AFLOWML|ml_ael_bulk_modulus_vrh</th>\n",
       "      <th>AFLOWML|ml_ael_shear_modulus_vrh</th>\n",
       "      <th>AFLOWML|ml_agl_debye</th>\n",
       "      <th>AFLOWML|ml_agl_heat_capacity_Cp_300K</th>\n",
       "      <th>AFLOWML|ml_agl_heat_capacity_Cp_300K_per_atom</th>\n",
       "      <th>AFLOWML|ml_agl_heat_capacity_Cv_300K</th>\n",
       "      <th>AFLOWML|ml_agl_heat_capacity_Cv_300K_per_atom</th>\n",
       "      <th>AFLOWML|ml_agl_thermal_conductivity_300K</th>\n",
       "      <th>AFLOWML|ml_agl_thermal_expansion_300K</th>\n",
       "      <th>AFLOWML|ml_egap_type_Insulator</th>\n",
       "    </tr>\n",
       "  </thead>\n",
       "  <tbody>\n",
       "    <tr>\n",
       "      <th>0</th>\n",
       "      <td>mp-7</td>\n",
       "      <td>S6</td>\n",
       "      <td>2.0</td>\n",
       "      <td>16</td>\n",
       "      <td>-0.261676</td>\n",
       "      <td>2.0</td>\n",
       "      <td>16</td>\n",
       "      <td>-0.261676</td>\n",
       "      <td>1.000000</td>\n",
       "      <td>1.000000</td>\n",
       "      <td>...</td>\n",
       "      <td>3.790</td>\n",
       "      <td>3.930</td>\n",
       "      <td>377.683</td>\n",
       "      <td>16.791</td>\n",
       "      <td>2.886</td>\n",
       "      <td>17.163</td>\n",
       "      <td>2.762</td>\n",
       "      <td>3.440</td>\n",
       "      <td>0.000070</td>\n",
       "      <td>1</td>\n",
       "    </tr>\n",
       "    <tr>\n",
       "      <th>1</th>\n",
       "      <td>mp-14</td>\n",
       "      <td>Se3</td>\n",
       "      <td>2.0</td>\n",
       "      <td>34</td>\n",
       "      <td>-0.245806</td>\n",
       "      <td>2.0</td>\n",
       "      <td>34</td>\n",
       "      <td>-0.245806</td>\n",
       "      <td>1.000000</td>\n",
       "      <td>1.000000</td>\n",
       "      <td>...</td>\n",
       "      <td>28.294</td>\n",
       "      <td>6.569</td>\n",
       "      <td>146.767</td>\n",
       "      <td>9.680</td>\n",
       "      <td>3.106</td>\n",
       "      <td>8.771</td>\n",
       "      <td>2.926</td>\n",
       "      <td>3.010</td>\n",
       "      <td>0.000062</td>\n",
       "      <td>1</td>\n",
       "    </tr>\n",
       "    <tr>\n",
       "      <th>2</th>\n",
       "      <td>mp-19</td>\n",
       "      <td>Te3</td>\n",
       "      <td>2.0</td>\n",
       "      <td>52</td>\n",
       "      <td>-0.226594</td>\n",
       "      <td>2.0</td>\n",
       "      <td>52</td>\n",
       "      <td>-0.226594</td>\n",
       "      <td>1.000000</td>\n",
       "      <td>1.000000</td>\n",
       "      <td>...</td>\n",
       "      <td>31.893</td>\n",
       "      <td>6.225</td>\n",
       "      <td>121.481</td>\n",
       "      <td>10.146</td>\n",
       "      <td>3.089</td>\n",
       "      <td>9.237</td>\n",
       "      <td>2.954</td>\n",
       "      <td>3.166</td>\n",
       "      <td>0.000054</td>\n",
       "      <td>0</td>\n",
       "    </tr>\n",
       "    <tr>\n",
       "      <th>3</th>\n",
       "      <td>mp-47</td>\n",
       "      <td>C4</td>\n",
       "      <td>2.0</td>\n",
       "      <td>6</td>\n",
       "      <td>-0.199186</td>\n",
       "      <td>2.0</td>\n",
       "      <td>6</td>\n",
       "      <td>-0.199186</td>\n",
       "      <td>1.000000</td>\n",
       "      <td>1.000000</td>\n",
       "      <td>...</td>\n",
       "      <td>404.186</td>\n",
       "      <td>521.822</td>\n",
       "      <td>2076.203</td>\n",
       "      <td>1.740</td>\n",
       "      <td>0.629</td>\n",
       "      <td>1.816</td>\n",
       "      <td>0.588</td>\n",
       "      <td>3.223</td>\n",
       "      <td>0.000086</td>\n",
       "      <td>1</td>\n",
       "    </tr>\n",
       "    <tr>\n",
       "      <th>4</th>\n",
       "      <td>mp-66</td>\n",
       "      <td>C2</td>\n",
       "      <td>2.0</td>\n",
       "      <td>6</td>\n",
       "      <td>-0.199186</td>\n",
       "      <td>2.0</td>\n",
       "      <td>6</td>\n",
       "      <td>-0.199186</td>\n",
       "      <td>1.000000</td>\n",
       "      <td>1.000000</td>\n",
       "      <td>...</td>\n",
       "      <td>416.966</td>\n",
       "      <td>505.647</td>\n",
       "      <td>2070.786</td>\n",
       "      <td>1.149</td>\n",
       "      <td>0.658</td>\n",
       "      <td>1.139</td>\n",
       "      <td>0.617</td>\n",
       "      <td>4.279</td>\n",
       "      <td>0.000086</td>\n",
       "      <td>1</td>\n",
       "    </tr>\n",
       "    <tr>\n",
       "      <th>...</th>\n",
       "      <td>...</td>\n",
       "      <td>...</td>\n",
       "      <td>...</td>\n",
       "      <td>...</td>\n",
       "      <td>...</td>\n",
       "      <td>...</td>\n",
       "      <td>...</td>\n",
       "      <td>...</td>\n",
       "      <td>...</td>\n",
       "      <td>...</td>\n",
       "      <td>...</td>\n",
       "      <td>...</td>\n",
       "      <td>...</td>\n",
       "      <td>...</td>\n",
       "      <td>...</td>\n",
       "      <td>...</td>\n",
       "      <td>...</td>\n",
       "      <td>...</td>\n",
       "      <td>...</td>\n",
       "      <td>...</td>\n",
       "      <td>...</td>\n",
       "    </tr>\n",
       "    <tr>\n",
       "      <th>1576</th>\n",
       "      <td>mp-1275839</td>\n",
       "      <td>Co4Bi24S8O64</td>\n",
       "      <td>3.0</td>\n",
       "      <td>27</td>\n",
       "      <td>-0.322368</td>\n",
       "      <td>3.0</td>\n",
       "      <td>27</td>\n",
       "      <td>-0.322368</td>\n",
       "      <td>0.034641</td>\n",
       "      <td>0.052087</td>\n",
       "      <td>...</td>\n",
       "      <td>119.163</td>\n",
       "      <td>58.263</td>\n",
       "      <td>362.421</td>\n",
       "      <td>122.952</td>\n",
       "      <td>2.800</td>\n",
       "      <td>118.318</td>\n",
       "      <td>2.709</td>\n",
       "      <td>2.690</td>\n",
       "      <td>0.000052</td>\n",
       "      <td>1</td>\n",
       "    </tr>\n",
       "    <tr>\n",
       "      <th>1577</th>\n",
       "      <td>mp-1291058</td>\n",
       "      <td>Sr4Mn2Mo2O12</td>\n",
       "      <td>3.0</td>\n",
       "      <td>25</td>\n",
       "      <td>-0.266540</td>\n",
       "      <td>3.0</td>\n",
       "      <td>25</td>\n",
       "      <td>-0.266540</td>\n",
       "      <td>0.052116</td>\n",
       "      <td>0.058661</td>\n",
       "      <td>...</td>\n",
       "      <td>127.341</td>\n",
       "      <td>81.354</td>\n",
       "      <td>521.151</td>\n",
       "      <td>51.377</td>\n",
       "      <td>2.650</td>\n",
       "      <td>53.364</td>\n",
       "      <td>2.515</td>\n",
       "      <td>2.749</td>\n",
       "      <td>0.000060</td>\n",
       "      <td>0</td>\n",
       "    </tr>\n",
       "    <tr>\n",
       "      <th>1578</th>\n",
       "      <td>mp-1291630</td>\n",
       "      <td>Fe12O16</td>\n",
       "      <td>3.0</td>\n",
       "      <td>26</td>\n",
       "      <td>-0.295049</td>\n",
       "      <td>3.0</td>\n",
       "      <td>26</td>\n",
       "      <td>-0.295049</td>\n",
       "      <td>0.091832</td>\n",
       "      <td>0.135247</td>\n",
       "      <td>...</td>\n",
       "      <td>148.954</td>\n",
       "      <td>82.942</td>\n",
       "      <td>521.152</td>\n",
       "      <td>64.432</td>\n",
       "      <td>2.666</td>\n",
       "      <td>63.321</td>\n",
       "      <td>2.496</td>\n",
       "      <td>2.841</td>\n",
       "      <td>0.000060</td>\n",
       "      <td>0</td>\n",
       "    </tr>\n",
       "    <tr>\n",
       "      <th>1579</th>\n",
       "      <td>mp-1298346</td>\n",
       "      <td>Sr8Co4O16</td>\n",
       "      <td>3.0</td>\n",
       "      <td>27</td>\n",
       "      <td>-0.322368</td>\n",
       "      <td>3.0</td>\n",
       "      <td>27</td>\n",
       "      <td>-0.322368</td>\n",
       "      <td>0.057864</td>\n",
       "      <td>0.095274</td>\n",
       "      <td>...</td>\n",
       "      <td>123.001</td>\n",
       "      <td>72.603</td>\n",
       "      <td>505.797</td>\n",
       "      <td>34.850</td>\n",
       "      <td>2.733</td>\n",
       "      <td>35.375</td>\n",
       "      <td>2.654</td>\n",
       "      <td>2.725</td>\n",
       "      <td>0.000061</td>\n",
       "      <td>0</td>\n",
       "    </tr>\n",
       "    <tr>\n",
       "      <th>1580</th>\n",
       "      <td>mp-1539137</td>\n",
       "      <td>Rb1Cr5S8</td>\n",
       "      <td>3.0</td>\n",
       "      <td>24</td>\n",
       "      <td>-0.118123</td>\n",
       "      <td>3.0</td>\n",
       "      <td>24</td>\n",
       "      <td>-0.118123</td>\n",
       "      <td>0.033111</td>\n",
       "      <td>0.074127</td>\n",
       "      <td>...</td>\n",
       "      <td>62.446</td>\n",
       "      <td>31.222</td>\n",
       "      <td>322.497</td>\n",
       "      <td>39.483</td>\n",
       "      <td>2.957</td>\n",
       "      <td>38.302</td>\n",
       "      <td>2.773</td>\n",
       "      <td>2.708</td>\n",
       "      <td>0.000061</td>\n",
       "      <td>1</td>\n",
       "    </tr>\n",
       "  </tbody>\n",
       "</table>\n",
       "<p>1581 rows × 678 columns</p>\n",
       "</div>"
      ],
      "text/plain": [
       "     material_id  full_formula  AtomicOrbitals|HOMO_character  \\\n",
       "0           mp-7            S6                            2.0   \n",
       "1          mp-14           Se3                            2.0   \n",
       "2          mp-19           Te3                            2.0   \n",
       "3          mp-47            C4                            2.0   \n",
       "4          mp-66            C2                            2.0   \n",
       "...          ...           ...                            ...   \n",
       "1576  mp-1275839  Co4Bi24S8O64                            3.0   \n",
       "1577  mp-1291058  Sr4Mn2Mo2O12                            3.0   \n",
       "1578  mp-1291630       Fe12O16                            3.0   \n",
       "1579  mp-1298346     Sr8Co4O16                            3.0   \n",
       "1580  mp-1539137      Rb1Cr5S8                            3.0   \n",
       "\n",
       "      AtomicOrbitals|HOMO_element  AtomicOrbitals|HOMO_energy  \\\n",
       "0                              16                   -0.261676   \n",
       "1                              34                   -0.245806   \n",
       "2                              52                   -0.226594   \n",
       "3                               6                   -0.199186   \n",
       "4                               6                   -0.199186   \n",
       "...                           ...                         ...   \n",
       "1576                           27                   -0.322368   \n",
       "1577                           25                   -0.266540   \n",
       "1578                           26                   -0.295049   \n",
       "1579                           27                   -0.322368   \n",
       "1580                           24                   -0.118123   \n",
       "\n",
       "      AtomicOrbitals|LUMO_character  AtomicOrbitals|LUMO_element  \\\n",
       "0                               2.0                           16   \n",
       "1                               2.0                           34   \n",
       "2                               2.0                           52   \n",
       "3                               2.0                            6   \n",
       "4                               2.0                            6   \n",
       "...                             ...                          ...   \n",
       "1576                            3.0                           27   \n",
       "1577                            3.0                           25   \n",
       "1578                            3.0                           26   \n",
       "1579                            3.0                           27   \n",
       "1580                            3.0                           24   \n",
       "\n",
       "      AtomicOrbitals|LUMO_energy  \\\n",
       "0                      -0.261676   \n",
       "1                      -0.245806   \n",
       "2                      -0.226594   \n",
       "3                      -0.199186   \n",
       "4                      -0.199186   \n",
       "...                          ...   \n",
       "1576                   -0.322368   \n",
       "1577                   -0.266540   \n",
       "1578                   -0.295049   \n",
       "1579                   -0.322368   \n",
       "1580                   -0.118123   \n",
       "\n",
       "      AtomicPackingEfficiency|dist from 1 clusters |APE| < 0.010  \\\n",
       "0                                              1.000000            \n",
       "1                                              1.000000            \n",
       "2                                              1.000000            \n",
       "3                                              1.000000            \n",
       "4                                              1.000000            \n",
       "...                                                 ...            \n",
       "1576                                           0.034641            \n",
       "1577                                           0.052116            \n",
       "1578                                           0.091832            \n",
       "1579                                           0.057864            \n",
       "1580                                           0.033111            \n",
       "\n",
       "      AtomicPackingEfficiency|dist from 3 clusters |APE| < 0.010  ...  \\\n",
       "0                                              1.000000           ...   \n",
       "1                                              1.000000           ...   \n",
       "2                                              1.000000           ...   \n",
       "3                                              1.000000           ...   \n",
       "4                                              1.000000           ...   \n",
       "...                                                 ...           ...   \n",
       "1576                                           0.052087           ...   \n",
       "1577                                           0.058661           ...   \n",
       "1578                                           0.135247           ...   \n",
       "1579                                           0.095274           ...   \n",
       "1580                                           0.074127           ...   \n",
       "\n",
       "      AFLOWML|ml_ael_bulk_modulus_vrh  AFLOWML|ml_ael_shear_modulus_vrh  \\\n",
       "0                               3.790                             3.930   \n",
       "1                              28.294                             6.569   \n",
       "2                              31.893                             6.225   \n",
       "3                             404.186                           521.822   \n",
       "4                             416.966                           505.647   \n",
       "...                               ...                               ...   \n",
       "1576                          119.163                            58.263   \n",
       "1577                          127.341                            81.354   \n",
       "1578                          148.954                            82.942   \n",
       "1579                          123.001                            72.603   \n",
       "1580                           62.446                            31.222   \n",
       "\n",
       "      AFLOWML|ml_agl_debye  AFLOWML|ml_agl_heat_capacity_Cp_300K  \\\n",
       "0                  377.683                                16.791   \n",
       "1                  146.767                                 9.680   \n",
       "2                  121.481                                10.146   \n",
       "3                 2076.203                                 1.740   \n",
       "4                 2070.786                                 1.149   \n",
       "...                    ...                                   ...   \n",
       "1576               362.421                               122.952   \n",
       "1577               521.151                                51.377   \n",
       "1578               521.152                                64.432   \n",
       "1579               505.797                                34.850   \n",
       "1580               322.497                                39.483   \n",
       "\n",
       "      AFLOWML|ml_agl_heat_capacity_Cp_300K_per_atom  \\\n",
       "0                                             2.886   \n",
       "1                                             3.106   \n",
       "2                                             3.089   \n",
       "3                                             0.629   \n",
       "4                                             0.658   \n",
       "...                                             ...   \n",
       "1576                                          2.800   \n",
       "1577                                          2.650   \n",
       "1578                                          2.666   \n",
       "1579                                          2.733   \n",
       "1580                                          2.957   \n",
       "\n",
       "      AFLOWML|ml_agl_heat_capacity_Cv_300K  \\\n",
       "0                                   17.163   \n",
       "1                                    8.771   \n",
       "2                                    9.237   \n",
       "3                                    1.816   \n",
       "4                                    1.139   \n",
       "...                                    ...   \n",
       "1576                               118.318   \n",
       "1577                                53.364   \n",
       "1578                                63.321   \n",
       "1579                                35.375   \n",
       "1580                                38.302   \n",
       "\n",
       "      AFLOWML|ml_agl_heat_capacity_Cv_300K_per_atom  \\\n",
       "0                                             2.762   \n",
       "1                                             2.926   \n",
       "2                                             2.954   \n",
       "3                                             0.588   \n",
       "4                                             0.617   \n",
       "...                                             ...   \n",
       "1576                                          2.709   \n",
       "1577                                          2.515   \n",
       "1578                                          2.496   \n",
       "1579                                          2.654   \n",
       "1580                                          2.773   \n",
       "\n",
       "      AFLOWML|ml_agl_thermal_conductivity_300K  \\\n",
       "0                                        3.440   \n",
       "1                                        3.010   \n",
       "2                                        3.166   \n",
       "3                                        3.223   \n",
       "4                                        4.279   \n",
       "...                                        ...   \n",
       "1576                                     2.690   \n",
       "1577                                     2.749   \n",
       "1578                                     2.841   \n",
       "1579                                     2.725   \n",
       "1580                                     2.708   \n",
       "\n",
       "      AFLOWML|ml_agl_thermal_expansion_300K  AFLOWML|ml_egap_type_Insulator  \n",
       "0                                  0.000070                               1  \n",
       "1                                  0.000062                               1  \n",
       "2                                  0.000054                               0  \n",
       "3                                  0.000086                               1  \n",
       "4                                  0.000086                               1  \n",
       "...                                     ...                             ...  \n",
       "1576                               0.000052                               1  \n",
       "1577                               0.000060                               0  \n",
       "1578                               0.000060                               0  \n",
       "1579                               0.000061                               0  \n",
       "1580                               0.000061                               1  \n",
       "\n",
       "[1581 rows x 678 columns]"
      ]
     },
     "execution_count": 6,
     "metadata": {},
     "output_type": "execute_result"
    }
   ],
   "source": [
    "data   = pd.read_pickle(data_dir / \"processed\" / \"processedData.pkl\")\n",
    "trainingData   = pd.read_pickle(data_dir / InsertApproach / \"processed\" / \"trainingData.pkl\")\n",
    "trainingTarget= pd.read_pickle(data_dir / InsertApproach / \"processed\" / \"trainingTarget.pkl\")\n",
    "testSet       = pd.read_pickle(data_dir / InsertApproach / \"processed\" / \"testSet.pkl\")\n",
    "\n",
    "trainingData"
   ]
  },
  {
   "cell_type": "code",
   "execution_count": 7,
   "metadata": {},
   "outputs": [
    {
     "data": {
      "text/html": [
       "<div>\n",
       "<style scoped>\n",
       "    .dataframe tbody tr th:only-of-type {\n",
       "        vertical-align: middle;\n",
       "    }\n",
       "\n",
       "    .dataframe tbody tr th {\n",
       "        vertical-align: top;\n",
       "    }\n",
       "\n",
       "    .dataframe thead th {\n",
       "        text-align: right;\n",
       "    }\n",
       "</style>\n",
       "<table border=\"1\" class=\"dataframe\">\n",
       "  <thead>\n",
       "    <tr style=\"text-align: right;\">\n",
       "      <th></th>\n",
       "      <th>material_id</th>\n",
       "      <th>pretty_formula</th>\n",
       "      <th>full_formula</th>\n",
       "      <th>candidate</th>\n",
       "      <th>AtomicOrbitals|HOMO_character</th>\n",
       "      <th>AtomicOrbitals|HOMO_element</th>\n",
       "      <th>AtomicOrbitals|HOMO_energy</th>\n",
       "      <th>AtomicOrbitals|LUMO_character</th>\n",
       "      <th>AtomicOrbitals|LUMO_element</th>\n",
       "      <th>AtomicOrbitals|LUMO_energy</th>\n",
       "      <th>...</th>\n",
       "      <th>AFLOWML|ml_ael_bulk_modulus_vrh</th>\n",
       "      <th>AFLOWML|ml_ael_shear_modulus_vrh</th>\n",
       "      <th>AFLOWML|ml_agl_debye</th>\n",
       "      <th>AFLOWML|ml_agl_heat_capacity_Cp_300K</th>\n",
       "      <th>AFLOWML|ml_agl_heat_capacity_Cp_300K_per_atom</th>\n",
       "      <th>AFLOWML|ml_agl_heat_capacity_Cv_300K</th>\n",
       "      <th>AFLOWML|ml_agl_heat_capacity_Cv_300K_per_atom</th>\n",
       "      <th>AFLOWML|ml_agl_thermal_conductivity_300K</th>\n",
       "      <th>AFLOWML|ml_agl_thermal_expansion_300K</th>\n",
       "      <th>AFLOWML|ml_egap_type_Insulator</th>\n",
       "    </tr>\n",
       "  </thead>\n",
       "  <tbody>\n",
       "    <tr>\n",
       "      <th>1581</th>\n",
       "      <td>mvc-12905</td>\n",
       "      <td>FeO2</td>\n",
       "      <td>Fe4O8</td>\n",
       "      <td>NaN</td>\n",
       "      <td>3.0</td>\n",
       "      <td>26</td>\n",
       "      <td>-0.295049</td>\n",
       "      <td>3.0</td>\n",
       "      <td>26</td>\n",
       "      <td>-0.295049</td>\n",
       "      <td>...</td>\n",
       "      <td>131.745</td>\n",
       "      <td>74.980</td>\n",
       "      <td>559.793</td>\n",
       "      <td>29.522</td>\n",
       "      <td>2.614</td>\n",
       "      <td>29.011</td>\n",
       "      <td>2.488</td>\n",
       "      <td>2.762</td>\n",
       "      <td>0.000060</td>\n",
       "      <td>1</td>\n",
       "    </tr>\n",
       "    <tr>\n",
       "      <th>1582</th>\n",
       "      <td>mp-24</td>\n",
       "      <td>C</td>\n",
       "      <td>C8</td>\n",
       "      <td>NaN</td>\n",
       "      <td>2.0</td>\n",
       "      <td>6</td>\n",
       "      <td>-0.199186</td>\n",
       "      <td>2.0</td>\n",
       "      <td>6</td>\n",
       "      <td>-0.199186</td>\n",
       "      <td>...</td>\n",
       "      <td>382.355</td>\n",
       "      <td>490.162</td>\n",
       "      <td>2012.191</td>\n",
       "      <td>4.036</td>\n",
       "      <td>0.679</td>\n",
       "      <td>4.262</td>\n",
       "      <td>0.634</td>\n",
       "      <td>3.043</td>\n",
       "      <td>0.000086</td>\n",
       "      <td>1</td>\n",
       "    </tr>\n",
       "    <tr>\n",
       "      <th>1583</th>\n",
       "      <td>mp-25</td>\n",
       "      <td>N2</td>\n",
       "      <td>N8</td>\n",
       "      <td>NaN</td>\n",
       "      <td>2.0</td>\n",
       "      <td>7</td>\n",
       "      <td>-0.266297</td>\n",
       "      <td>2.0</td>\n",
       "      <td>7</td>\n",
       "      <td>-0.266297</td>\n",
       "      <td>...</td>\n",
       "      <td>-4.641</td>\n",
       "      <td>0.572</td>\n",
       "      <td>537.473</td>\n",
       "      <td>21.673</td>\n",
       "      <td>2.667</td>\n",
       "      <td>21.106</td>\n",
       "      <td>2.612</td>\n",
       "      <td>3.211</td>\n",
       "      <td>0.000063</td>\n",
       "      <td>1</td>\n",
       "    </tr>\n",
       "    <tr>\n",
       "      <th>1584</th>\n",
       "      <td>mp-111</td>\n",
       "      <td>Ne</td>\n",
       "      <td>Ne1</td>\n",
       "      <td>NaN</td>\n",
       "      <td>-1.0</td>\n",
       "      <td>-1</td>\n",
       "      <td>0.000000</td>\n",
       "      <td>-1.0</td>\n",
       "      <td>-1</td>\n",
       "      <td>0.000000</td>\n",
       "      <td>...</td>\n",
       "      <td>13.058</td>\n",
       "      <td>10.432</td>\n",
       "      <td>218.421</td>\n",
       "      <td>4.198</td>\n",
       "      <td>3.562</td>\n",
       "      <td>3.189</td>\n",
       "      <td>2.889</td>\n",
       "      <td>4.094</td>\n",
       "      <td>0.000061</td>\n",
       "      <td>1</td>\n",
       "    </tr>\n",
       "    <tr>\n",
       "      <th>1585</th>\n",
       "      <td>mp-118</td>\n",
       "      <td>P</td>\n",
       "      <td>P24</td>\n",
       "      <td>NaN</td>\n",
       "      <td>2.0</td>\n",
       "      <td>15</td>\n",
       "      <td>-0.206080</td>\n",
       "      <td>2.0</td>\n",
       "      <td>15</td>\n",
       "      <td>-0.206080</td>\n",
       "      <td>...</td>\n",
       "      <td>43.539</td>\n",
       "      <td>26.450</td>\n",
       "      <td>455.547</td>\n",
       "      <td>56.421</td>\n",
       "      <td>2.791</td>\n",
       "      <td>52.631</td>\n",
       "      <td>2.713</td>\n",
       "      <td>2.865</td>\n",
       "      <td>0.000070</td>\n",
       "      <td>1</td>\n",
       "    </tr>\n",
       "    <tr>\n",
       "      <th>...</th>\n",
       "      <td>...</td>\n",
       "      <td>...</td>\n",
       "      <td>...</td>\n",
       "      <td>...</td>\n",
       "      <td>...</td>\n",
       "      <td>...</td>\n",
       "      <td>...</td>\n",
       "      <td>...</td>\n",
       "      <td>...</td>\n",
       "      <td>...</td>\n",
       "      <td>...</td>\n",
       "      <td>...</td>\n",
       "      <td>...</td>\n",
       "      <td>...</td>\n",
       "      <td>...</td>\n",
       "      <td>...</td>\n",
       "      <td>...</td>\n",
       "      <td>...</td>\n",
       "      <td>...</td>\n",
       "      <td>...</td>\n",
       "      <td>...</td>\n",
       "    </tr>\n",
       "    <tr>\n",
       "      <th>25199</th>\n",
       "      <td>mp-1304797</td>\n",
       "      <td>Sr3InNiO6</td>\n",
       "      <td>Sr12In4Ni4O24</td>\n",
       "      <td>NaN</td>\n",
       "      <td>2.0</td>\n",
       "      <td>8</td>\n",
       "      <td>-0.338381</td>\n",
       "      <td>2.0</td>\n",
       "      <td>8</td>\n",
       "      <td>-0.338381</td>\n",
       "      <td>...</td>\n",
       "      <td>123.836</td>\n",
       "      <td>60.361</td>\n",
       "      <td>383.857</td>\n",
       "      <td>120.443</td>\n",
       "      <td>2.850</td>\n",
       "      <td>121.983</td>\n",
       "      <td>2.753</td>\n",
       "      <td>2.534</td>\n",
       "      <td>0.000060</td>\n",
       "      <td>1</td>\n",
       "    </tr>\n",
       "    <tr>\n",
       "      <th>25200</th>\n",
       "      <td>mp-1541522</td>\n",
       "      <td>BiPO4</td>\n",
       "      <td>Bi2P2O8</td>\n",
       "      <td>NaN</td>\n",
       "      <td>2.0</td>\n",
       "      <td>8</td>\n",
       "      <td>-0.338381</td>\n",
       "      <td>2.0</td>\n",
       "      <td>8</td>\n",
       "      <td>-0.338381</td>\n",
       "      <td>...</td>\n",
       "      <td>130.120</td>\n",
       "      <td>48.373</td>\n",
       "      <td>427.679</td>\n",
       "      <td>30.488</td>\n",
       "      <td>2.796</td>\n",
       "      <td>29.473</td>\n",
       "      <td>2.710</td>\n",
       "      <td>2.576</td>\n",
       "      <td>0.000052</td>\n",
       "      <td>1</td>\n",
       "    </tr>\n",
       "    <tr>\n",
       "      <th>25201</th>\n",
       "      <td>mp-1541714</td>\n",
       "      <td>Cs3As2Cl9</td>\n",
       "      <td>Cs3As2Cl9</td>\n",
       "      <td>NaN</td>\n",
       "      <td>2.0</td>\n",
       "      <td>17</td>\n",
       "      <td>-0.320380</td>\n",
       "      <td>2.0</td>\n",
       "      <td>33</td>\n",
       "      <td>-0.197497</td>\n",
       "      <td>...</td>\n",
       "      <td>8.625</td>\n",
       "      <td>4.178</td>\n",
       "      <td>184.421</td>\n",
       "      <td>41.898</td>\n",
       "      <td>3.269</td>\n",
       "      <td>40.290</td>\n",
       "      <td>2.963</td>\n",
       "      <td>3.284</td>\n",
       "      <td>0.000049</td>\n",
       "      <td>1</td>\n",
       "    </tr>\n",
       "    <tr>\n",
       "      <th>25202</th>\n",
       "      <td>mp-1542038</td>\n",
       "      <td>CsSnSe3</td>\n",
       "      <td>Cs2Sn2Se6</td>\n",
       "      <td>NaN</td>\n",
       "      <td>2.0</td>\n",
       "      <td>34</td>\n",
       "      <td>-0.245806</td>\n",
       "      <td>2.0</td>\n",
       "      <td>34</td>\n",
       "      <td>-0.245806</td>\n",
       "      <td>...</td>\n",
       "      <td>19.554</td>\n",
       "      <td>11.324</td>\n",
       "      <td>154.514</td>\n",
       "      <td>30.391</td>\n",
       "      <td>3.139</td>\n",
       "      <td>28.917</td>\n",
       "      <td>2.938</td>\n",
       "      <td>2.698</td>\n",
       "      <td>0.000047</td>\n",
       "      <td>1</td>\n",
       "    </tr>\n",
       "    <tr>\n",
       "      <th>25203</th>\n",
       "      <td>mp-1542939</td>\n",
       "      <td>BaMo(PO4)2</td>\n",
       "      <td>Ba1Mo1P2O8</td>\n",
       "      <td>NaN</td>\n",
       "      <td>2.0</td>\n",
       "      <td>8</td>\n",
       "      <td>-0.338381</td>\n",
       "      <td>2.0</td>\n",
       "      <td>8</td>\n",
       "      <td>-0.338381</td>\n",
       "      <td>...</td>\n",
       "      <td>123.648</td>\n",
       "      <td>69.069</td>\n",
       "      <td>521.900</td>\n",
       "      <td>30.666</td>\n",
       "      <td>2.645</td>\n",
       "      <td>30.733</td>\n",
       "      <td>2.620</td>\n",
       "      <td>2.728</td>\n",
       "      <td>0.000052</td>\n",
       "      <td>1</td>\n",
       "    </tr>\n",
       "  </tbody>\n",
       "</table>\n",
       "<p>23623 rows × 680 columns</p>\n",
       "</div>"
      ],
      "text/plain": [
       "      material_id pretty_formula   full_formula  candidate  \\\n",
       "1581    mvc-12905           FeO2          Fe4O8        NaN   \n",
       "1582        mp-24              C             C8        NaN   \n",
       "1583        mp-25             N2             N8        NaN   \n",
       "1584       mp-111             Ne            Ne1        NaN   \n",
       "1585       mp-118              P            P24        NaN   \n",
       "...           ...            ...            ...        ...   \n",
       "25199  mp-1304797      Sr3InNiO6  Sr12In4Ni4O24        NaN   \n",
       "25200  mp-1541522          BiPO4        Bi2P2O8        NaN   \n",
       "25201  mp-1541714      Cs3As2Cl9      Cs3As2Cl9        NaN   \n",
       "25202  mp-1542038        CsSnSe3      Cs2Sn2Se6        NaN   \n",
       "25203  mp-1542939     BaMo(PO4)2     Ba1Mo1P2O8        NaN   \n",
       "\n",
       "       AtomicOrbitals|HOMO_character  AtomicOrbitals|HOMO_element  \\\n",
       "1581                             3.0                           26   \n",
       "1582                             2.0                            6   \n",
       "1583                             2.0                            7   \n",
       "1584                            -1.0                           -1   \n",
       "1585                             2.0                           15   \n",
       "...                              ...                          ...   \n",
       "25199                            2.0                            8   \n",
       "25200                            2.0                            8   \n",
       "25201                            2.0                           17   \n",
       "25202                            2.0                           34   \n",
       "25203                            2.0                            8   \n",
       "\n",
       "       AtomicOrbitals|HOMO_energy  AtomicOrbitals|LUMO_character  \\\n",
       "1581                    -0.295049                            3.0   \n",
       "1582                    -0.199186                            2.0   \n",
       "1583                    -0.266297                            2.0   \n",
       "1584                     0.000000                           -1.0   \n",
       "1585                    -0.206080                            2.0   \n",
       "...                           ...                            ...   \n",
       "25199                   -0.338381                            2.0   \n",
       "25200                   -0.338381                            2.0   \n",
       "25201                   -0.320380                            2.0   \n",
       "25202                   -0.245806                            2.0   \n",
       "25203                   -0.338381                            2.0   \n",
       "\n",
       "       AtomicOrbitals|LUMO_element  AtomicOrbitals|LUMO_energy  ...  \\\n",
       "1581                            26                   -0.295049  ...   \n",
       "1582                             6                   -0.199186  ...   \n",
       "1583                             7                   -0.266297  ...   \n",
       "1584                            -1                    0.000000  ...   \n",
       "1585                            15                   -0.206080  ...   \n",
       "...                            ...                         ...  ...   \n",
       "25199                            8                   -0.338381  ...   \n",
       "25200                            8                   -0.338381  ...   \n",
       "25201                           33                   -0.197497  ...   \n",
       "25202                           34                   -0.245806  ...   \n",
       "25203                            8                   -0.338381  ...   \n",
       "\n",
       "       AFLOWML|ml_ael_bulk_modulus_vrh  AFLOWML|ml_ael_shear_modulus_vrh  \\\n",
       "1581                           131.745                            74.980   \n",
       "1582                           382.355                           490.162   \n",
       "1583                            -4.641                             0.572   \n",
       "1584                            13.058                            10.432   \n",
       "1585                            43.539                            26.450   \n",
       "...                                ...                               ...   \n",
       "25199                          123.836                            60.361   \n",
       "25200                          130.120                            48.373   \n",
       "25201                            8.625                             4.178   \n",
       "25202                           19.554                            11.324   \n",
       "25203                          123.648                            69.069   \n",
       "\n",
       "       AFLOWML|ml_agl_debye  AFLOWML|ml_agl_heat_capacity_Cp_300K  \\\n",
       "1581                559.793                                29.522   \n",
       "1582               2012.191                                 4.036   \n",
       "1583                537.473                                21.673   \n",
       "1584                218.421                                 4.198   \n",
       "1585                455.547                                56.421   \n",
       "...                     ...                                   ...   \n",
       "25199               383.857                               120.443   \n",
       "25200               427.679                                30.488   \n",
       "25201               184.421                                41.898   \n",
       "25202               154.514                                30.391   \n",
       "25203               521.900                                30.666   \n",
       "\n",
       "       AFLOWML|ml_agl_heat_capacity_Cp_300K_per_atom  \\\n",
       "1581                                           2.614   \n",
       "1582                                           0.679   \n",
       "1583                                           2.667   \n",
       "1584                                           3.562   \n",
       "1585                                           2.791   \n",
       "...                                              ...   \n",
       "25199                                          2.850   \n",
       "25200                                          2.796   \n",
       "25201                                          3.269   \n",
       "25202                                          3.139   \n",
       "25203                                          2.645   \n",
       "\n",
       "       AFLOWML|ml_agl_heat_capacity_Cv_300K  \\\n",
       "1581                                 29.011   \n",
       "1582                                  4.262   \n",
       "1583                                 21.106   \n",
       "1584                                  3.189   \n",
       "1585                                 52.631   \n",
       "...                                     ...   \n",
       "25199                               121.983   \n",
       "25200                                29.473   \n",
       "25201                                40.290   \n",
       "25202                                28.917   \n",
       "25203                                30.733   \n",
       "\n",
       "       AFLOWML|ml_agl_heat_capacity_Cv_300K_per_atom  \\\n",
       "1581                                           2.488   \n",
       "1582                                           0.634   \n",
       "1583                                           2.612   \n",
       "1584                                           2.889   \n",
       "1585                                           2.713   \n",
       "...                                              ...   \n",
       "25199                                          2.753   \n",
       "25200                                          2.710   \n",
       "25201                                          2.963   \n",
       "25202                                          2.938   \n",
       "25203                                          2.620   \n",
       "\n",
       "       AFLOWML|ml_agl_thermal_conductivity_300K  \\\n",
       "1581                                      2.762   \n",
       "1582                                      3.043   \n",
       "1583                                      3.211   \n",
       "1584                                      4.094   \n",
       "1585                                      2.865   \n",
       "...                                         ...   \n",
       "25199                                     2.534   \n",
       "25200                                     2.576   \n",
       "25201                                     3.284   \n",
       "25202                                     2.698   \n",
       "25203                                     2.728   \n",
       "\n",
       "       AFLOWML|ml_agl_thermal_expansion_300K  AFLOWML|ml_egap_type_Insulator  \n",
       "1581                                0.000060                               1  \n",
       "1582                                0.000086                               1  \n",
       "1583                                0.000063                               1  \n",
       "1584                                0.000061                               1  \n",
       "1585                                0.000070                               1  \n",
       "...                                      ...                             ...  \n",
       "25199                               0.000060                               1  \n",
       "25200                               0.000052                               1  \n",
       "25201                               0.000049                               1  \n",
       "25202                               0.000047                               1  \n",
       "25203                               0.000052                               1  \n",
       "\n",
       "[23623 rows x 680 columns]"
      ]
     },
     "execution_count": 7,
     "metadata": {},
     "output_type": "execute_result"
    }
   ],
   "source": [
    "testSet"
   ]
  },
  {
   "cell_type": "code",
   "execution_count": 8,
   "metadata": {},
   "outputs": [
    {
     "data": {
      "text/markdown": [
       "# Algorithms\n",
       "Below we define the algorithm to use and its abbreviation. Parameters that are optional to tune are the parameters to the algorithms, with the default value as their optimised value. Another parameter to tune is how many cross-validations one wants to iterate through for the analysis. In addition, one has to find the best features for a new algorithm which will be added further down in the notebook.\n"
      ],
      "text/plain": [
       "<IPython.core.display.Markdown object>"
      ]
     },
     "metadata": {},
     "output_type": "display_data"
    },
    {
     "data": {
      "text/html": [
       "\n",
       "        <script>\n",
       "            function code_toggle_15469804529402906608() {\n",
       "                $('div.cell.code_cell.rendered.selected').find('div.input').toggle();\n",
       "            }\n",
       "\n",
       "            \n",
       "        </script>\n",
       "\n",
       "        <a href=\"javascript:code_toggle_15469804529402906608()\">Toggle show/hide</a>\n",
       "    "
      ],
      "text/plain": [
       "<IPython.core.display.HTML object>"
      ]
     },
     "execution_count": 8,
     "metadata": {},
     "output_type": "execute_result"
    }
   ],
   "source": [
    "from IPython.display import display, Markdown\n",
    "\n",
    "with open(Path.cwd().parent.parent.parent / \"src\" / \"notebookcodesnippets\" / \"supervised\" / \"algorithms.md\", 'r') as fh:\n",
    "    content = fh.read()\n",
    "\n",
    "display(Markdown(content))\n",
    "hide_toggle()"
   ]
  },
  {
   "cell_type": "code",
   "execution_count": 9,
   "metadata": {},
   "outputs": [],
   "source": [
    "InsertAlgorithms    = [LogisticRegression        (random_state = random_state, max_iter=200),\n",
    "                       DecisionTreeClassifier    (random_state = random_state, max_features = \"auto\"),\n",
    "                       RandomForestClassifier    (random_state = random_state, max_features = \"auto\", max_depth=6),\\\n",
    "                       GradientBoostingClassifier(random_state = random_state, max_features = \"auto\")]\n",
    "InsertAbbreviations = [\"LOG\", \"DT\", \"RF\", \"GB\"]\n",
    "InsertprettyNames   = [\"Logistic regression\", \"Decision Tree\", \"Random Forest\", \"Gradient Boost\"]"
   ]
  },
  {
   "cell_type": "code",
   "execution_count": 10,
   "metadata": {},
   "outputs": [
    {
     "data": {
      "text/markdown": [
       "# Methods for finding optimal hyperparameters\n",
       "\n",
       "### Cross-validation\n",
       "\n",
       "Cross-validation is a technique to evaluate predictive models by partitioning the original sample into a training set to train the model, and a test set to evaluate it. It is crucial that we avoid at all cost to fit anything to the test data, since this will introduce bias in the model and might reduce the generalization potential of a model.\n",
       "\n",
       "### k-fold cross-validation\n",
       "\n",
       "In k-fold cross-validation, the sample is partioned into k equal sized subsamples. Of the k samples, a single sample is used as validation set while the remaining k-1 samples are used as training data. The process is then repeated k-times, such that each of the k-th subsample is used as validation set exactly one time. Therefore, all observations are used for both training and validation, and each observation is used for validation exactly once. The k results from the folds can then be averaged to produce an estimate.\n",
       "\n",
       "### Stratified k-fold cross-validation\n",
       "\n",
       "In stratified k-fold cross validation, the fold that is selected contains roughly the same proportions of existing class labels.\n",
       "\n",
       "### n-repeated stratified k-fold cross-validation\n",
       "\n",
       "In n-repeated stratified k-fold cross-validation, the stratified k-fold cross-validation is repeated n times, which yields n random partitions of the original sample. The n results can be averaged to produce a single estimation.\n",
       "\n",
       "## Sample size\n",
       "To not discrimate a class, we make sure that each class is equally represented in the subsamples. Underneath shows a brief overview of the different methods involved to deal with this challenge.\n",
       "\n",
       "### Random oversampling of minority class\n",
       "\n",
       "Random oversampling can be achived by randomly duplicating examples from the minority class and adding them to the training dataset.\n",
       "\n",
       "The approach can be effective to algorithms that are vulnerable to a skewed dsitribution, however, it can also affect algorithms to overfit the minority class.\n",
       "\n",
       "### Random Undersampling of majority class\n",
       "\n",
       "Random undersampling involves randomly selecting examples from the majority class to delete from the training dataset.\n",
       "\n",
       "This can prove problematic, since the loss of data can make the decision boundary between minority and majority instances harder to learn. Additionally, there is a chance that the model might loose valuable information.\n",
       "\n",
       "### Both oversampling and undersampling\n",
       "\n",
       "A third option might be to combine the two of them.\n",
       "\n",
       "\n",
       "# Optimal hyperparameters search\n",
       "\n",
       "In this section we will find the optimal parameters used for the various algorithms. We will use imblearn's Pipeline to provide the option of implementing sampling such as SMOTE and RandomUnderSampler. The advantage of using imblearn instead of sklearn, is that sklearn's pipeline will fit the samplers to the validation data as well, while imblearn only fit the resamplers to the training data. We store the best estimators and use them again under this section.\n",
       "\n",
       "It is possible to have a large search over a wide amount of properties, but that is indeed extremely cpu-demanding. Therefore, we restrict ourself to the standard choice of some properties, but include a search for properties that can reduce the variance.\n",
       "\n",
       "## Standardscaler and principal component analysis\n",
       "Since we will scale the data, it is neccessary to combine the target and training data and scale it together. We fit the standardscaler to the training data, and then transform the test data with the same scaling as we fitted from the training data. Thereafter, we will apply a principal component analysis to potentially reduce the dimensions of the data.\n"
      ],
      "text/plain": [
       "<IPython.core.display.Markdown object>"
      ]
     },
     "metadata": {},
     "output_type": "display_data"
    },
    {
     "data": {
      "text/html": [
       "\n",
       "        <script>\n",
       "            function code_toggle_1491868086724729790() {\n",
       "                $('div.cell.code_cell.rendered.selected').find('div.input').toggle();\n",
       "            }\n",
       "\n",
       "            \n",
       "        </script>\n",
       "\n",
       "        <a href=\"javascript:code_toggle_1491868086724729790()\">Toggle show/hide</a>\n",
       "    "
      ],
      "text/plain": [
       "<IPython.core.display.HTML object>"
      ]
     },
     "execution_count": 10,
     "metadata": {},
     "output_type": "execute_result"
    }
   ],
   "source": [
    "from IPython.display import display, Markdown\n",
    "\n",
    "with open(Path.cwd().parent.parent.parent / \"src\" / \"notebookcodesnippets\" / \"supervised\" / \"optimalparameters.md\", 'r') as fh:\n",
    "    content = fh.read()\n",
    "\n",
    "display(Markdown(content))\n",
    "hide_toggle()"
   ]
  },
  {
   "cell_type": "code",
   "execution_count": 11,
   "metadata": {},
   "outputs": [],
   "source": [
    "# Optional to include any sampling method. Default is none. \n",
    "includeSampleMethods = [\"\"]#, \"under\", \"over\", \"both\"]"
   ]
  },
  {
   "cell_type": "code",
   "execution_count": 12,
   "metadata": {},
   "outputs": [],
   "source": [
    "numberRuns   = 5\n",
    "numberSplits = 5\n",
    "\n",
    "rskfold = RepeatedStratifiedKFold(n_splits=numberSplits, n_repeats=numberRuns, random_state=random_state)"
   ]
  },
  {
   "cell_type": "code",
   "execution_count": 13,
   "metadata": {
    "scrolled": false
   },
   "outputs": [
    {
     "name": "stderr",
     "output_type": "stream",
     "text": [
      "\r",
      "0it [00:00, ?it/s]"
     ]
    },
    {
     "name": "stdout",
     "output_type": "stream",
     "text": [
      "Finding best params for: LOG \n",
      "Fitting 25 folds for each of 1232 candidates, totalling 30800 fits\n"
     ]
    },
    {
     "name": "stderr",
     "output_type": "stream",
     "text": [
      "\r",
      "1it [1:22:23, 4943.93s/it]"
     ]
    },
    {
     "name": "stdout",
     "output_type": "stream",
     "text": [
      "Pipeline(steps=[('scale', StandardScaler()), ('pca', PCA(n_components=171)),\n",
      "                ('model',\n",
      "                 LogisticRegression(C=0.021544346900318832, max_iter=400,\n",
      "                                    random_state=1))])\n",
      "Finding best params for: DT \n",
      "Fitting 25 folds for each of 616 candidates, totalling 15400 fits\n"
     ]
    },
    {
     "name": "stderr",
     "output_type": "stream",
     "text": [
      "\r",
      "2it [1:54:08, 3155.79s/it]"
     ]
    },
    {
     "name": "stdout",
     "output_type": "stream",
     "text": [
      "Pipeline(steps=[('scale', StandardScaler()), ('pca', PCA(n_components=37)),\n",
      "                ('model',\n",
      "                 DecisionTreeClassifier(max_depth=7, max_features='sqrt',\n",
      "                                        random_state=1))])\n",
      "Finding best params for: RF \n",
      "Fitting 25 folds for each of 616 candidates, totalling 15400 fits\n"
     ]
    },
    {
     "name": "stderr",
     "output_type": "stream",
     "text": [
      "\r",
      "3it [3:11:52, 3844.52s/it]"
     ]
    },
    {
     "name": "stdout",
     "output_type": "stream",
     "text": [
      "Pipeline(steps=[('scale', StandardScaler()), ('pca', PCA(n_components=53)),\n",
      "                ('model', RandomForestClassifier(max_depth=7, random_state=1))])\n",
      "Finding best params for: GB \n",
      "Fitting 25 folds for each of 616 candidates, totalling 15400 fits\n"
     ]
    },
    {
     "name": "stderr",
     "output_type": "stream",
     "text": [
      "4it [8:40:56, 7814.10s/it] "
     ]
    },
    {
     "name": "stdout",
     "output_type": "stream",
     "text": [
      "Pipeline(steps=[('scale', StandardScaler()), ('pca', PCA(n_components=107)),\n",
      "                ('model',\n",
      "                 GradientBoostingClassifier(max_depth=4, max_features='auto',\n",
      "                                            random_state=1))])\n"
     ]
    },
    {
     "name": "stderr",
     "output_type": "stream",
     "text": [
      "\n"
     ]
    }
   ],
   "source": [
    "ModelsBestParams = pd.Series({}, dtype=\"string\")\n",
    "\n",
    "Abbreviations = []\n",
    "prettyNames   = []\n",
    "Algorithms = []\n",
    "\n",
    "for i, algorithm in tqdm(enumerate(InsertAlgorithms)):\n",
    "    for method in includeSampleMethods:\n",
    "        print(\"Finding best params for: {}\".format(InsertAbbreviations[i] + \" \" + method))\n",
    "        bestEstimator, ModelsBestParams[InsertAbbreviations[i] + \" \" + method] = train_model.applyGridSearch(\n",
    "                                                                             X = trainingData.drop([\"material_id\", \"full_formula\"], axis=1), \n",
    "                                                                             y = trainingTarget.values.reshape(-1,),\n",
    "                                                                        model = algorithm, \n",
    "                                                                           cv = rskfold,\n",
    "                                                                        numPC = numberOfPrincipalComponents,\n",
    "                                                                 sampleMethod = method,\n",
    "                                                                     searchPC = True )\n",
    "        Abbreviations.append(InsertAbbreviations[i] + \" \" + method)\n",
    "        prettyNames.append(InsertAbbreviations[i] + \" \" + method)\n",
    "        Algorithms.append(bestEstimator)"
   ]
  },
  {
   "cell_type": "code",
   "execution_count": 14,
   "metadata": {},
   "outputs": [
    {
     "data": {
      "text/markdown": [
       "## Visualizing the optimal parameters for dimensionality reduction\n"
      ],
      "text/plain": [
       "<IPython.core.display.Markdown object>"
      ]
     },
     "metadata": {},
     "output_type": "display_data"
    },
    {
     "data": {
      "text/html": [
       "\n",
       "        <script>\n",
       "            function code_toggle_16850092422477408172() {\n",
       "                $('div.cell.code_cell.rendered.selected').find('div.input').toggle();\n",
       "            }\n",
       "\n",
       "            \n",
       "        </script>\n",
       "\n",
       "        <a href=\"javascript:code_toggle_16850092422477408172()\">Toggle show/hide</a>\n",
       "    "
      ],
      "text/plain": [
       "<IPython.core.display.HTML object>"
      ]
     },
     "execution_count": 14,
     "metadata": {},
     "output_type": "execute_result"
    }
   ],
   "source": [
    "from IPython.display import display, Markdown\n",
    "\n",
    "with open(Path.cwd().parent.parent.parent / \"src\" / \"notebookcodesnippets\" / \"supervised\" / \"visualoptimalparameters.md\", 'r') as fh:\n",
    "    content = fh.read()\n",
    "\n",
    "display(Markdown(content))\n",
    "hide_toggle()"
   ]
  },
  {
   "cell_type": "code",
   "execution_count": 86,
   "metadata": {
    "scrolled": false
   },
   "outputs": [
    {
     "data": {
      "image/png": "[encoded data removed]",
      "text/plain": [
       "<Figure size 163.842x163.842 with 1 Axes>"
      ]
     },
     "metadata": {
      "needs_background": "light"
     },
     "output_type": "display_data"
    },
    {
     "data": {
      "image/png": "[encoded data removed]",
      "text/plain": [
       "<Figure size 163.842x163.842 with 1 Axes>"
      ]
     },
     "metadata": {
      "needs_background": "light"
     },
     "output_type": "display_data"
    },
    {
     "data": {
      "image/png": "[encoded data removed]",
      "text/plain": [
       "<Figure size 163.842x163.842 with 1 Axes>"
      ]
     },
     "metadata": {
      "needs_background": "light"
     },
     "output_type": "display_data"
    },
    {
     "data": {
      "image/png": "[encoded data removed]",
      "text/plain": [
       "<Figure size 163.842x163.842 with 1 Axes>"
      ]
     },
     "metadata": {
      "needs_background": "light"
     },
     "output_type": "display_data"
    }
   ],
   "source": [
    "visualize.principalComponentsVSscores(X = trainingData.drop([\"material_id\", \"full_formula\"], axis=1),\n",
    "                                     ModelsBestParams = ModelsBestParams,\n",
    "                                     prettyNames = prettyNames,\n",
    "                                     numPC = numberOfPrincipalComponents,\n",
    "                                     approach = InsertApproach)"
   ]
  },
  {
   "cell_type": "code",
   "execution_count": 42,
   "metadata": {},
   "outputs": [
    {
     "data": {
      "image/png": "[encoded data removed]",
      "text/plain": [
       "<Figure size 204.803x204.803 with 1 Axes>"
      ]
     },
     "metadata": {
      "needs_background": "light"
     },
     "output_type": "display_data"
    },
    {
     "data": {
      "image/png": "[encoded data removed]",
      "text/plain": [
       "<Figure size 204.803x204.803 with 1 Axes>"
      ]
     },
     "metadata": {
      "needs_background": "light"
     },
     "output_type": "display_data"
    },
    {
     "data": {
      "image/png": "[encoded data removed]",
      "text/plain": [
       "<Figure size 204.803x204.803 with 1 Axes>"
      ]
     },
     "metadata": {
      "needs_background": "light"
     },
     "output_type": "display_data"
    },
    {
     "data": {
      "image/png": "[encoded data removed]",
      "text/plain": [
       "<Figure size 204.803x204.803 with 1 Axes>"
      ]
     },
     "metadata": {
      "needs_background": "light"
     },
     "output_type": "display_data"
    }
   ],
   "source": [
    "visualize.gridsearchVSscores(X = trainingData.drop([\"material_id\", \"full_formula\"], axis=1), \n",
    "                             ModelsBestParams = ModelsBestParams,\n",
    "                            prettyNames = prettyNames,\n",
    "                            approach = InsertApproach)"
   ]
  },
  {
   "cell_type": "code",
   "execution_count": 17,
   "metadata": {},
   "outputs": [
    {
     "data": {
      "text/markdown": [
       "## ROC-AUC and precision recall curves\n"
      ],
      "text/plain": [
       "<IPython.core.display.Markdown object>"
      ]
     },
     "metadata": {},
     "output_type": "display_data"
    },
    {
     "data": {
      "text/html": [
       "\n",
       "        <script>\n",
       "            function code_toggle_765956454830476768() {\n",
       "                $('div.cell.code_cell.rendered.selected').find('div.input').toggle();\n",
       "            }\n",
       "\n",
       "            \n",
       "        </script>\n",
       "\n",
       "        <a href=\"javascript:code_toggle_765956454830476768()\">Toggle show/hide</a>\n",
       "    "
      ],
      "text/plain": [
       "<IPython.core.display.HTML object>"
      ]
     },
     "execution_count": 17,
     "metadata": {},
     "output_type": "execute_result"
    }
   ],
   "source": [
    "from IPython.display import display, Markdown\n",
    "\n",
    "with open(Path.cwd().parent.parent.parent / \"src\" / \"notebookcodesnippets\" / \"supervised\" / \"roc-auc.md\", 'r') as fh:\n",
    "    content = fh.read()\n",
    "\n",
    "display(Markdown(content))\n",
    "hide_toggle() "
   ]
  },
  {
   "cell_type": "code",
   "execution_count": 18,
   "metadata": {
    "scrolled": false
   },
   "outputs": [
    {
     "name": "stderr",
     "output_type": "stream",
     "text": [
      "\r",
      "0it [00:00, ?it/s]"
     ]
    },
    {
     "name": "stdout",
     "output_type": "stream",
     "text": [
      "Current training algorithm: LOG \n"
     ]
    },
    {
     "name": "stderr",
     "output_type": "stream",
     "text": [
      "25it [02:12,  5.31s/it]\n"
     ]
    },
    {
     "data": {
      "image/png": "[encoded data removed]",
      "text/plain": [
       "<Figure size 409.606x409.606 with 1 Axes>"
      ]
     },
     "metadata": {
      "needs_background": "light"
     },
     "output_type": "display_data"
    },
    {
     "data": {
      "image/png": "[encoded data removed]",
      "text/plain": [
       "<Figure size 409.606x409.606 with 1 Axes>"
      ]
     },
     "metadata": {
      "needs_background": "light"
     },
     "output_type": "display_data"
    },
    {
     "name": "stderr",
     "output_type": "stream",
     "text": [
      "\r",
      "0it [00:00, ?it/s]"
     ]
    },
    {
     "name": "stdout",
     "output_type": "stream",
     "text": [
      "Mean accuracy:0.98140\n",
      "Standard deviation:0.00998\n",
      "f1-score:0.99267\n",
      "Current training algorithm: DT \n"
     ]
    },
    {
     "name": "stderr",
     "output_type": "stream",
     "text": [
      "25it [00:50,  2.03s/it]\n"
     ]
    },
    {
     "data": {
      "image/png": "[encoded data removed]",
      "text/plain": [
       "<Figure size 409.606x409.606 with 1 Axes>"
      ]
     },
     "metadata": {
      "needs_background": "light"
     },
     "output_type": "display_data"
    },
    {
     "data": {
      "image/png": "[encoded data removed]",
      "text/plain": [
       "<Figure size 409.606x409.606 with 1 Axes>"
      ]
     },
     "metadata": {
      "needs_background": "light"
     },
     "output_type": "display_data"
    },
    {
     "name": "stderr",
     "output_type": "stream",
     "text": [
      "\r",
      "0it [00:00, ?it/s]"
     ]
    },
    {
     "name": "stdout",
     "output_type": "stream",
     "text": [
      "Mean accuracy:0.76939\n",
      "Standard deviation:0.03633\n",
      "f1-score:0.83663\n",
      "Current training algorithm: RF \n"
     ]
    },
    {
     "name": "stderr",
     "output_type": "stream",
     "text": [
      "25it [01:58,  4.75s/it]\n"
     ]
    },
    {
     "data": {
      "image/png": "[encoded data removed]",
      "text/plain": [
       "<Figure size 409.606x409.606 with 1 Axes>"
      ]
     },
     "metadata": {
      "needs_background": "light"
     },
     "output_type": "display_data"
    },
    {
     "data": {
      "image/png": "[encoded data removed]",
      "text/plain": [
       "<Figure size 409.606x409.606 with 1 Axes>"
      ]
     },
     "metadata": {
      "needs_background": "light"
     },
     "output_type": "display_data"
    },
    {
     "name": "stderr",
     "output_type": "stream",
     "text": [
      "\r",
      "0it [00:00, ?it/s]"
     ]
    },
    {
     "name": "stdout",
     "output_type": "stream",
     "text": [
      "Mean accuracy:0.90032\n",
      "Standard deviation:0.01934\n",
      "f1-score:0.93953\n",
      "Current training algorithm: GB \n"
     ]
    },
    {
     "name": "stderr",
     "output_type": "stream",
     "text": [
      "25it [14:21, 34.47s/it]\n"
     ]
    },
    {
     "data": {
      "image/png": "[encoded data removed]",
      "text/plain": [
       "<Figure size 409.606x409.606 with 1 Axes>"
      ]
     },
     "metadata": {
      "needs_background": "light"
     },
     "output_type": "display_data"
    },
    {
     "data": {
      "image/png": "[encoded data removed]",
      "text/plain": [
       "<Figure size 409.606x409.606 with 1 Axes>"
      ]
     },
     "metadata": {
      "needs_background": "light"
     },
     "output_type": "display_data"
    },
    {
     "name": "stdout",
     "output_type": "stream",
     "text": [
      "Mean accuracy:0.93144\n",
      "Standard deviation:0.01672\n",
      "f1-score:0.96190\n"
     ]
    }
   ],
   "source": [
    "SupervisedModels = pd.Series({}, dtype=\"string\")\n",
    "\n",
    "for i, algorithm in enumerate(Algorithms): \n",
    "    print(\"Current training algorithm: {}\".format(prettyNames[i]))\n",
    "    SupervisedModels[Abbreviations[i]] = (\n",
    "        visualize.evaluatePrecisionRecallMetrics(classifier  = algorithm, \n",
    "                                     X = trainingData.drop([\"material_id\", \"full_formula\"], axis=1), \n",
    "                                     y = trainingTarget.values.reshape(-1,),\n",
    "                                     k = numberSplits,\n",
    "                                     n = numberRuns,\n",
    "                                    cv = rskfold,\n",
    "                     featureImportance = True,\n",
    "                                 title = prettyNames[i],\n",
    "                                 numPC = numberOfPrincipalComponents,\n",
    "                              approach = InsertApproach )\n",
    "    )"
   ]
  },
  {
   "cell_type": "code",
   "execution_count": 19,
   "metadata": {},
   "outputs": [
    {
     "data": {
      "text/markdown": [
       "# Visualizing the cross-validated trained models \n"
      ],
      "text/plain": [
       "<IPython.core.display.Markdown object>"
      ]
     },
     "metadata": {},
     "output_type": "display_data"
    },
    {
     "data": {
      "text/html": [
       "\n",
       "        <script>\n",
       "            function code_toggle_3301785958591423261() {\n",
       "                $('div.cell.code_cell.rendered.selected').find('div.input').toggle();\n",
       "            }\n",
       "\n",
       "            \n",
       "        </script>\n",
       "\n",
       "        <a href=\"javascript:code_toggle_3301785958591423261()\">Toggle show/hide</a>\n",
       "    "
      ],
      "text/plain": [
       "<IPython.core.display.HTML object>"
      ]
     },
     "execution_count": 19,
     "metadata": {},
     "output_type": "execute_result"
    }
   ],
   "source": [
    "from IPython.display import display, Markdown\n",
    "\n",
    "with open(Path.cwd().parent.parent.parent / \"src\" / \"notebookcodesnippets\" / \"supervised\" / \"visualize-cv.md\", 'r') as fh:\n",
    "    content = fh.read()\n",
    "\n",
    "display(Markdown(content))\n",
    "hide_toggle()"
   ]
  },
  {
   "cell_type": "code",
   "execution_count": 20,
   "metadata": {
    "scrolled": false
   },
   "outputs": [
    {
     "data": {
      "image/png": "[encoded data removed]",
      "text/plain": [
       "<Figure size 307.205x569.589 with 3 Axes>"
      ]
     },
     "metadata": {
      "needs_background": "light"
     },
     "output_type": "display_data"
    }
   ],
   "source": [
    "visualize.plot_accuracy(SupervisedModels, prettyNames,                                       \n",
    "                     prettyNames = prettyNames,\n",
    "                           numPC = numberOfPrincipalComponents,\n",
    "                        approach = InsertApproach)"
   ]
  },
  {
   "cell_type": "code",
   "execution_count": 21,
   "metadata": {},
   "outputs": [
    {
     "data": {
      "text/markdown": [
       "## Visualizing relevant features\n",
       "\n",
       "Which features are the most important in predicting to give a label $0$ or $1$?\n"
      ],
      "text/plain": [
       "<IPython.core.display.Markdown object>"
      ]
     },
     "metadata": {},
     "output_type": "display_data"
    },
    {
     "data": {
      "text/html": [
       "\n",
       "        <script>\n",
       "            function code_toggle_2232552648059243547() {\n",
       "                $('div.cell.code_cell.rendered.selected').find('div.input').toggle();\n",
       "            }\n",
       "\n",
       "            \n",
       "        </script>\n",
       "\n",
       "        <a href=\"javascript:code_toggle_2232552648059243547()\">Toggle show/hide</a>\n",
       "    "
      ],
      "text/plain": [
       "<IPython.core.display.HTML object>"
      ]
     },
     "execution_count": 21,
     "metadata": {},
     "output_type": "execute_result"
    }
   ],
   "source": [
    "from IPython.display import display, Markdown\n",
    "\n",
    "with open(Path.cwd().parent.parent.parent / \"src\" / \"notebookcodesnippets\" / \"supervised\" / \"visualizerelevant.md\", 'r') as fh:\n",
    "    content = fh.read()\n",
    "\n",
    "display(Markdown(content))\n",
    "hide_toggle()"
   ]
  },
  {
   "cell_type": "code",
   "execution_count": null,
   "metadata": {
    "scrolled": false
   },
   "outputs": [
    {
     "data": {
      "application/vnd.plotly.v1+json": {
       "config": {
        "plotlyServerURL": "https://plot.ly"
       },
       "data": [
        {
         "error_y": {
          "array": [
           0.10635323506586837,
           0.018154842456634228,
           0.09428242072782879,
           0.06971635083864969,
           0.009569136710779339,
           0.07071497682789118,
           0.024300265976394567,
           0.049281673950109926,
           0.04831816952300911,
           0.09815420624846712,
           0.04893174852192357,
           0.05516333020389775,
           0.11874479926888327,
           0.12818400588682355,
           0.0971015366655337,
           0.12466153368503623,
           0.2628500831850574,
           0.1751742478892058,
           0.26941962101583705,
           0.1498009203127854,
           0.15398377903480207,
           0.1813174435915302,
           0.10898382372101931,
           0.2314418420941434,
           0.2824721267304145,
           0.21286014146621945,
           0.2540955158437193,
           0.2390300902993313,
           0.1895409450339189,
           0.17666043748587948,
           0.14064566327702113,
           0.1403674747580606,
           0.12894331243962912,
           0.12231203604462361,
           0.13655719207656591,
           0.14956247739774964,
           0.1832340129669396,
           0.17117168191488585,
           0.1995714865078305,
           0.16225315396485882,
           0.18554648455443087,
           0.1546511090735634,
           0.13161335909884847,
           0.14069941121257687,
           0.18657758534302452,
           0.14032603583136233,
           0.17867962481179137,
           0.12467674640272285,
           0.12560669981791017,
           0.14155243634161407,
           0.1574760769460901,
           0.15179003831190876,
           0.15369710731010935,
           0.10275975023113622,
           0.07689923975481142,
           0.11435865993242557,
           0.12637705101455177,
           0.14254673800960554,
           0.1049201925447087,
           0.09016320342638814,
           0.10561417783159406,
           0.11382277921598692,
           0.09224598003831501,
           0.11725436002572721,
           0.13049793073131843,
           0.1042179966764018,
           0.1321572049827643,
           0.10833126095339757,
           0.09468052336225705,
           0.11475413352857332,
           0.09183064131170295,
           0.07534438578965767,
           0.07461391654220992,
           0.09979277882038019,
           0.07642674138449382,
           0.09623111727091438,
           0.09313795123731819,
           0.0697615686517614,
           0.07477323638299235,
           0.09018147283009305,
           0.07522107078634362,
           0.08405000409247874,
           0.07714903638541568,
           0.05798663518282067,
           0.06556715108535847,
           0.08735838184768574,
           0.0744922413168456,
           0.08428123831400178,
           0.07409205857398155,
           0.07967208704638815,
           0.0527988046727909,
           0.06620825074258647,
           0.08927845050430329,
           0.09050854630936307,
           0.0782004857533376,
           0.08114690776313672,
           0.06670692628213085,
           0.07699860520703763,
           0.07354527423267103,
           0.09161434021320142,
           0.08247607001375964,
           0.07724056990785698,
           0.0934380139483494,
           0.06258198097311779,
           0.060686050893590804,
           0.07454385204203276,
           0.08285372491636658,
           0.06993236019056094,
           0.0644924430370123,
           0.06323303773633185,
           0.06484151424135574,
           0.08136850693747477,
           0.06037564633819475,
           0.07957328418042386,
           0.07812641540071903,
           0.07335678275372008,
           0.07800332188949298,
           0.07028843302683407,
           0.08531766361188672,
           0.11305556074733299,
           0.06549085420297979,
           0.07443167120872546,
           0.09012256623646207,
           0.07511778492529966,
           0.08188495032025778,
           0.08392642391538506,
           0.08152627339910422,
           0.08273616476315819,
           0.08644417439475671,
           0.0629819220708944,
           0.08640967044780187,
           0.079205367764722,
           0.08463556059465786,
           0.06091775288893915,
           0.08559028839305624,
           0.07494506151258785,
           0.0862740918938405,
           0.08276513639754227,
           0.0812427939242233,
           0.07927911989247426,
           0.06365238560937511,
           0.07316577415384658,
           0.04544144924663551,
           0.06712672582465906,
           0.05911067683353626,
           0.08652186374835104,
           0.06930421215990704,
           0.05651398935765939,
           0.06436999237505305,
           0.060060079004514884,
           0.058092040792953846,
           0.07886029312528262,
           0.06583548453637678,
           0.07395144221474993,
           0.0643825847715389,
           0.04784490681060647,
           0.06376110870914568,
           0.049822906672495997,
           0.05565388923951185,
           0.05360577086822769,
           0.0443427738821078,
           0.053226132177892224,
           0.05645443338123599,
           0.05691549106045934,
           0.04892458887042902,
           0.038916159367336355,
           0.062266467843108055,
           0.0536625563183654,
           0.054093339485743144,
           0.06382249268639134,
           0.04543701324481964
          ],
          "type": "data"
         },
         "name": "LOG ",
         "type": "bar",
         "x": [
          1,
          2,
          3,
          4,
          5,
          6,
          7,
          8,
          9,
          10,
          11,
          12,
          13,
          14,
          15,
          16,
          17,
          18,
          19,
          20,
          21,
          22,
          23,
          24,
          25,
          26,
          27,
          28,
          29,
          30,
          31,
          32,
          33,
          34,
          35,
          36,
          37,
          38,
          39,
          40,
          41,
          42,
          43,
          44,
          45,
          46,
          47,
          48,
          49,
          50,
          51,
          52,
          53,
          54,
          55,
          56,
          57,
          58,
          59,
          60,
          61,
          62,
          63,
          64,
          65,
          66,
          67,
          68,
          69,
          70,
          71,
          72,
          73,
          74,
          75,
          76,
          77,
          78,
          79,
          80,
          81,
          82,
          83,
          84,
          85,
          86,
          87,
          88,
          89,
          90,
          91,
          92,
          93,
          94,
          95,
          96,
          97,
          98,
          99,
          100,
          101,
          102,
          103,
          104,
          105,
          106,
          107,
          108,
          109,
          110,
          111,
          112,
          113,
          114,
          115,
          116,
          117,
          118,
          119,
          120,
          121,
          122,
          123,
          124,
          125,
          126,
          127,
          128,
          129,
          130,
          131,
          132,
          133,
          134,
          135,
          136,
          137,
          138,
          139,
          140,
          141,
          142,
          143,
          144,
          145,
          146,
          147,
          148,
          149,
          150,
          151,
          152,
          153,
          154,
          155,
          156,
          157,
          158,
          159,
          160,
          161,
          162,
          163,
          164,
          165,
          166,
          167,
          168,
          169,
          170,
          171,
          172,
          173,
          174,
          175,
          176
         ],
         "xaxis": "x",
         "y": [
          -0.12306425330048659,
          0.25407493696561445,
          0.0637383003312674,
          0.010153582132698957,
          -0.4265447510387148,
          0.07326552502723692,
          0.07080596588300583,
          0.008379816735013501,
          0.025845645329782348,
          0.022518818858113326,
          -0.0013341375888127863,
          -0.0028701216821501465,
          -0.13187477889241275,
          -0.1427906697655729,
          -0.04057798106341558,
          0.035073186066981496,
          -0.031100002598593437,
          -0.14448078918333002,
          0.033212744542325985,
          -0.005938392975183095,
          -0.03876380902862884,
          -0.05466453063779755,
          -0.05726983978240097,
          -0.004108442049998702,
          -0.033402263906966906,
          0.0853809142882779,
          0.01984058415986079,
          0.13855406426818342,
          0.0013935604872878794,
          -0.024801810932761226,
          0.009270074243486973,
          0.04065080550733125,
          -0.022008549308481812,
          0.012290110280741104,
          0.011773871569911115,
          0.0627385553151567,
          -0.006568996495704609,
          -0.0228110471468111,
          -0.03250334575360829,
          -0.00654185236261303,
          0.08299639331556317,
          0.018904781158188846,
          -0.012342186117619168,
          0.01449935366791845,
          -0.030586084053503673,
          -0.11031806214415772,
          -0.08901965681961743,
          0.005512960679514221,
          -0.02561358015053591,
          -0.020359185785072315,
          0.09186655775263658,
          0.02836517984473275,
          0.0249734969909756,
          0.03286013000630279,
          -0.007460916948180723,
          -0.02561238059244772,
          0.015268688391085998,
          0.006159022677372078,
          -0.007273078493983496,
          1.8277186369571873e-05,
          -0.019487340044554963,
          -0.002999122249472462,
          -0.0135115523150322,
          -0.04955422583320865,
          0.005051902979831928,
          0.018190839992462435,
          0.004027505072627211,
          -0.03884201845676376,
          0.042644104533961356,
          -0.047121926169004874,
          -0.004312183072545783,
          -0.0161183601452867,
          0.003656349370399268,
          0.015879350282581656,
          -0.03052391123986598,
          0.012751586366715188,
          -0.013223998444008279,
          -0.00012451020342137798,
          -0.016493493715703876,
          -0.00262975949645808,
          -0.014000625799065367,
          -0.014288785942082563,
          -0.02226108874804259,
          -0.027870765783201315,
          -0.01851745233209123,
          -0.03307472345769361,
          -0.04278177635821156,
          -0.009687801043064203,
          -0.008870729798921862,
          0.0016631175648536979,
          -0.004425568882857893,
          -0.04091210903929628,
          -0.0033491075022382788,
          -0.014899220463677275,
          -0.014197861374766103,
          -0.01794661791003088,
          -0.01779466306753753,
          0.009506101044049683,
          -0.00178068019848079,
          0.015220186274778275,
          -0.016262310209382524,
          -0.01509775133720412,
          0.02574772627528499,
          -0.012527203960380205,
          0.0008719820460785877,
          -0.0009224661752582277,
          -0.011958093907752189,
          0.0020190887411392594,
          0.013207448081822504,
          0.00633291323128835,
          0.004751916368637666,
          -0.0008702762927482474,
          0.001746934247656965,
          0.002825338395614432,
          0.023691520223309,
          0.03497038002657851,
          0.014442518341106299,
          -0.0035518443279670504,
          0.014435555592171639,
          -0.017728268935018283,
          -0.0067668594655421665,
          -0.0006038986395130096,
          0.010787041869310182,
          -0.011035257531084173,
          -0.018009601262758582,
          0.00038739985448935343,
          -0.005785974677828984,
          0.0022711056690731713,
          -0.01091417380852816,
          0.021058710473113057,
          -0.017428898492982407,
          -0.04169532413237771,
          0.007530826781921577,
          0.0075075739073114205,
          -0.0038750545296719705,
          -0.013415130342339494,
          -0.022974282399702676,
          0.009709640591061499,
          -0.0032289829173524436,
          0.012999265571333008,
          0.00444040536594361,
          -0.02164147632223338,
          -0.01901470935521514,
          0.0036964669038655707,
          -0.030736226899051974,
          -0.0028942751897867046,
          0.007536388957510444,
          0.014848964435625825,
          -0.019740124458040645,
          0.007381505485296879,
          0.013696200172091557,
          -0.012141520888745014,
          -0.0024393269188415535,
          0.021549056130836856,
          0.0005937313875607761,
          -0.007465937799460953,
          0.003542360194545669,
          0.0061894071051777555,
          0.006451617532123627,
          0.016014175759439295,
          0.027834803541342962,
          0.0025262476513460024,
          0.006650577759743021,
          -0.007375322866548057,
          -0.008169514187773182,
          0.013656350951590292,
          0.006866972088797214,
          -0.013814043952130874,
          -0.017360765277786714,
          -0.0035048775410855032,
          -0.009341631050961901
         ],
         "yaxis": "y"
        },
        {
         "error_y": {
          "array": [
           0.06016138363731898,
           0.04207230379031625,
           0.02359383763673023,
           0.02169090464353219,
           0.044917386162003796,
           0.02089719795493625,
           0.010762795094861772,
           0.012227929639258296,
           0.00961922282253312,
           0.01251413070805233,
           0.012526409728357628,
           0.009306348211890438,
           0.01579865731913114,
           0.018476094677773187,
           0.021313740924973668,
           0.025691938635411957,
           0.031222455796409924,
           0.029285309645836626,
           0.024788185784122237,
           0.023255263456450678,
           0.022897602788030512,
           0.026067680261156818,
           0.009135268671654345,
           0.0451359035214505,
           0.03681506218034646,
           0.04004631318794725,
           0.021873172243109508,
           0.021285909049173914,
           0.015555102396068525,
           0.01225362861492258,
           0.007734734812096682,
           0.01748388938689293,
           0.01759259170418932,
           0.014041029626086061,
           0.012198397540274792,
           0.016338189142159974,
           0.01660277866407367
          ],
          "type": "data"
         },
         "name": "DT ",
         "type": "bar",
         "x": [
          1,
          2,
          3,
          4,
          5,
          6,
          7,
          8,
          9,
          10,
          11,
          12,
          13,
          14,
          15,
          16,
          17,
          18,
          19,
          20,
          21,
          22,
          23,
          24,
          25,
          26,
          27,
          28,
          29,
          30,
          31,
          32,
          33,
          34,
          35,
          36,
          37,
          38,
          39,
          40,
          41,
          42,
          43,
          44,
          45,
          46,
          47,
          48,
          49,
          50,
          51,
          52,
          53,
          54,
          55,
          56,
          57,
          58,
          59,
          60,
          61,
          62,
          63,
          64,
          65,
          66,
          67,
          68,
          69,
          70,
          71,
          72,
          73,
          74,
          75,
          76,
          77,
          78,
          79,
          80,
          81,
          82,
          83,
          84,
          85,
          86,
          87,
          88,
          89,
          90,
          91,
          92,
          93,
          94,
          95,
          96,
          97,
          98,
          99,
          100,
          101,
          102,
          103,
          104,
          105,
          106,
          107,
          108,
          109,
          110,
          111,
          112,
          113,
          114,
          115,
          116,
          117,
          118,
          119,
          120,
          121,
          122,
          123,
          124,
          125,
          126,
          127,
          128,
          129,
          130,
          131,
          132,
          133,
          134,
          135,
          136,
          137,
          138,
          139,
          140,
          141,
          142,
          143,
          144,
          145,
          146,
          147,
          148,
          149,
          150,
          151,
          152,
          153,
          154,
          155,
          156,
          157,
          158,
          159,
          160,
          161,
          162,
          163,
          164,
          165,
          166,
          167,
          168,
          169,
          170,
          171,
          172,
          173,
          174,
          175,
          176
         ],
         "xaxis": "x2",
         "y": [
          0.06021266477647644,
          0.11096318839591214,
          0.024037119389802585,
          0.022154713191210238,
          0.24609314595979265,
          0.018821788318287232,
          0.010501597438469887,
          0.006991362943949649,
          0.008530411237679043,
          0.009342643732386722,
          0.020124502643932795,
          0.008037369533901327,
          0.02015413605514783,
          0.018044602188165126,
          0.01321184622343751,
          0.018104606982872112,
          0.030917458200174615,
          0.03598781483519831,
          0.027129427508483843,
          0.012494436624753961,
          0.01673715425246475,
          0.017279802140809295,
          0.005421418417368807,
          0.040241864428201934,
          0.02273462583673082,
          0.02899354056905941,
          0.009690256835290671,
          0.019330649643306327,
          0.015348183260940316,
          0.010557523103763313,
          0.004057584380451216,
          0.016769971521630643,
          0.012995986758593044,
          0.014425427215813526,
          0.012128233854251318,
          0.013431771870715615,
          0.018001169730574956
         ],
         "yaxis": "y2"
        },
        {
         "error_y": {
          "array": [
           0.005754712809279192,
           0.011573522035044886,
           0.006679581421965087,
           0.004355797656118868,
           0.010311399322560401,
           0.003937897525924488,
           0.0018025251220014128,
           0.002438466119536556,
           0.0017436195455478457,
           0.004431053773014859,
           0.0034778137321750586,
           0.0019138166616714876,
           0.006544521517254576,
           0.015293197496930535,
           0.007727118790309815,
           0.010690063084215445,
           0.0172510553230342,
           0.014846624603520814,
           0.02261901125401961,
           0.010424586724049183,
           0.006824758782737328,
           0.01005424414833572,
           0.0030197700848396815,
           0.016804585771842684,
           0.027632918042998892,
           0.016179233329388754,
           0.01924419185121029,
           0.015278468769316928,
           0.009003606296028987,
           0.005125965458327246,
           0.005784420776936624,
           0.009311279632595832,
           0.0032435805539188143,
           0.003845533429230055,
           0.003796420398760396,
           0.006878633545698734,
           0.007678633771386794,
           0.006819590256864317,
           0.01097780552937092,
           0.006232065304609923,
           0.00849735739736193,
           0.008093229097143396,
           0.004793848856272579,
           0.004619800786247573,
           0.004553309306508944,
           0.006705458900307635,
           0.008617740802981421,
           0.003999252396566016,
           0.002518925592057258,
           0.002816872920938711,
           0.003822822177823434,
           0.0024219593875795566,
           0.003611575015269857
          ],
          "type": "data"
         },
         "name": "RF ",
         "type": "bar",
         "x": [
          1,
          2,
          3,
          4,
          5,
          6,
          7,
          8,
          9,
          10,
          11,
          12,
          13,
          14,
          15,
          16,
          17,
          18,
          19,
          20,
          21,
          22,
          23,
          24,
          25,
          26,
          27,
          28,
          29,
          30,
          31,
          32,
          33,
          34,
          35,
          36,
          37,
          38,
          39,
          40,
          41,
          42,
          43,
          44,
          45,
          46,
          47,
          48,
          49,
          50,
          51,
          52,
          53,
          54,
          55,
          56,
          57,
          58,
          59,
          60,
          61,
          62,
          63,
          64,
          65,
          66,
          67,
          68,
          69,
          70,
          71,
          72,
          73,
          74,
          75,
          76,
          77,
          78,
          79,
          80,
          81,
          82,
          83,
          84,
          85,
          86,
          87,
          88,
          89,
          90,
          91,
          92,
          93,
          94,
          95,
          96,
          97,
          98,
          99,
          100,
          101,
          102,
          103,
          104,
          105,
          106,
          107,
          108,
          109,
          110,
          111,
          112,
          113,
          114,
          115,
          116,
          117,
          118,
          119,
          120,
          121,
          122,
          123,
          124,
          125,
          126,
          127,
          128,
          129,
          130,
          131,
          132,
          133,
          134,
          135,
          136,
          137,
          138,
          139,
          140,
          141,
          142,
          143,
          144,
          145,
          146,
          147,
          148,
          149,
          150,
          151,
          152,
          153,
          154,
          155,
          156,
          157,
          158,
          159,
          160,
          161,
          162,
          163,
          164,
          165,
          166,
          167,
          168,
          169,
          170,
          171,
          172,
          173,
          174,
          175,
          176
         ],
         "xaxis": "x3",
         "y": [
          0.06305574311054192,
          0.08311937441815517,
          0.02291214315890799,
          0.01954872610654465,
          0.11396179119337825,
          0.016684505810612635,
          0.011188086530194557,
          0.01098154127997068,
          0.013418791526676039,
          0.014802853677952595,
          0.013160831970137074,
          0.008380399091986686,
          0.014885419440222916,
          0.020364021574157537,
          0.014792233216019371,
          0.016705821670240793,
          0.02856841736656081,
          0.0251819365387591,
          0.03424426559547861,
          0.013851385458878469,
          0.013555927842853348,
          0.015023733116170213,
          0.009627021173735898,
          0.02061366623932656,
          0.03351013552002135,
          0.01890457053679678,
          0.021456886882330793,
          0.021334038122602775,
          0.013367450396441417,
          0.011651372483500509,
          0.011615817398915316,
          0.012565166111160622,
          0.009914054697983591,
          0.009286287977003172,
          0.009518100837810994,
          0.012884058225788506,
          0.013508146953640235,
          0.013756099681079624,
          0.0158945459676445,
          0.0127100268435179,
          0.01726585951272148,
          0.011965968985803894,
          0.009513659033511233,
          0.009628540114258203,
          0.011100218194420088,
          0.012332199009999777,
          0.013222123394892048,
          0.009137254877420375,
          0.008026717685007578,
          0.00853591832369248,
          0.010500870243414086,
          0.009539949842019323,
          0.00872532503913947
         ],
         "yaxis": "y3"
        },
        {
         "error_y": {
          "array": [
           0.021097512762180862,
           0.025970479983292997,
           0.011743472924957844,
           0.007677147302910195,
           0.026829825893805104,
           0.005930314383272814,
           0.0036046093883994827,
           0.004414096190234957,
           0.002711837544202985,
           0.007306665613831558,
           0.004174511840535852,
           0.0020417212236877066,
           0.012222094680066437,
           0.026895896726277815,
           0.014696422856364853,
           0.017612901163533114,
           0.03407480422117113,
           0.029998694410998093,
           0.039199398103481796,
           0.01518857276655358,
           0.008285254191423164,
           0.015522735452508747,
           0.0043688875737633,
           0.025336879870279314,
           0.04348353241980913,
           0.031190788360069707,
           0.0295651286072037,
           0.025817350106123703,
           0.011730109323748348,
           0.006262153359087995,
           0.006086683991817527,
           0.011753265688765918,
           0.004874189464431152,
           0.00332360128390442,
           0.0033941824432336433,
           0.011005763727617279,
           0.012364759232565092,
           0.00952219602692673,
           0.012993873423176601,
           0.0065289873188113055,
           0.008871213472329626,
           0.008613295068066745,
           0.0038760079578884794,
           0.005542906613413424,
           0.006404192147332541,
           0.008076717423705368,
           0.010724063098312206,
           0.008500247089493365,
           0.001174677572949973,
           0.0037211981474489122,
           0.007373347893499891,
           0.004467750647914931,
           0.0029067027676959304,
           0.0007044214198882269,
           0.0015043152117858762,
           0.0030651490211400776,
           0.0018823060577993372,
           0.002288193089454342,
           0.0031181044919882466,
           0.0023015985558053676,
           0.0016903970218156827,
           0.004380845634570685,
           0.0013016777260595927,
           0.00288434372112762,
           0.0023526234597906794,
           0.002736921556588091,
           0.0037723876283620597,
           0.0029691722211071594,
           0.001642666102668534,
           0.001352667987379214,
           0.001615706038366296,
           0.0009003158885457736,
           0.0010275492036654294,
           0.0011446278367096183,
           0.0016285912567240452,
           0.0012613895966877649,
           0.0022460026651159527,
           0.0010354246936459062,
           0.0012845593301862544,
           0.0015704113447036862,
           0.0012994194271150929,
           0.0020188656899616246,
           0.0010582052855318154,
           0.0010078291011166236,
           0.0008639296177092736,
           0.0013490387223276553,
           0.001654289149328319,
           0.001043587139656154,
           0.0006818417355223638,
           0.0010382173148305927,
           0.0007579822106921773,
           0.0006339363435780511,
           0.0012423068091953259,
           0.001432008585320708,
           0.0010336665310835221,
           0.0019683459881458805,
           0.00219001665526064,
           0.0012145976845215223,
           0.001014102845654652,
           0.0019186341064243826,
           0.0018213490877730819,
           0.002214348579727837,
           0.0010250468492866518,
           0.001159244722656263,
           0.0014512709560650272,
           0.0013183716864200938,
           0.002715450910867773
          ],
          "type": "data"
         },
         "name": "GB ",
         "type": "bar",
         "x": [
          1,
          2,
          3,
          4,
          5,
          6,
          7,
          8,
          9,
          10,
          11,
          12,
          13,
          14,
          15,
          16,
          17,
          18,
          19,
          20,
          21,
          22,
          23,
          24,
          25,
          26,
          27,
          28,
          29,
          30,
          31,
          32,
          33,
          34,
          35,
          36,
          37,
          38,
          39,
          40,
          41,
          42,
          43,
          44,
          45,
          46,
          47,
          48,
          49,
          50,
          51,
          52,
          53,
          54,
          55,
          56,
          57,
          58,
          59,
          60,
          61,
          62,
          63,
          64,
          65,
          66,
          67,
          68,
          69,
          70,
          71,
          72,
          73,
          74,
          75,
          76,
          77,
          78,
          79,
          80,
          81,
          82,
          83,
          84,
          85,
          86,
          87,
          88,
          89,
          90,
          91,
          92,
          93,
          94,
          95,
          96,
          97,
          98,
          99,
          100,
          101,
          102,
          103,
          104,
          105,
          106,
          107,
          108,
          109,
          110,
          111,
          112,
          113,
          114,
          115,
          116,
          117,
          118,
          119,
          120,
          121,
          122,
          123,
          124,
          125,
          126,
          127,
          128,
          129,
          130,
          131,
          132,
          133,
          134,
          135,
          136,
          137,
          138,
          139,
          140,
          141,
          142,
          143,
          144,
          145,
          146,
          147,
          148,
          149,
          150,
          151,
          152,
          153,
          154,
          155,
          156,
          157,
          158,
          159,
          160,
          161,
          162,
          163,
          164,
          165,
          166,
          167,
          168,
          169,
          170,
          171,
          172,
          173,
          174,
          175,
          176
         ],
         "xaxis": "x4",
         "y": [
          0.09392192943546063,
          0.1287171269990146,
          0.02139388868645634,
          0.008881446851686639,
          0.19150467245270597,
          0.00724897098092836,
          0.004502875408741522,
          0.003898928655045453,
          0.0032893862397071843,
          0.0060763416899853725,
          0.0075927359484661994,
          0.0024696443430712654,
          0.011327343447260396,
          0.02155266210325384,
          0.008890679696253168,
          0.011283302463616213,
          0.033114566367821084,
          0.026565660592538873,
          0.04126639620306672,
          0.008932772295114038,
          0.00638009737027819,
          0.011008348600170326,
          0.0039690387031771565,
          0.018260305019584217,
          0.04005632566905632,
          0.02016834524816245,
          0.020202100432985023,
          0.021386504994144743,
          0.009352210720115191,
          0.005580969180335103,
          0.005462145388109844,
          0.007863472456445777,
          0.003769171372638137,
          0.002156102501829588,
          0.00294944873462034,
          0.009432571193948008,
          0.010475161465367056,
          0.008404217029411359,
          0.011122332772679204,
          0.006047447773248996,
          0.009562055088908436,
          0.005574067145335749,
          0.0023984742473884876,
          0.0037265431398198147,
          0.005447024391443047,
          0.00615577563863471,
          0.008163416905504844,
          0.0036968693528189656,
          0.0013193358047485417,
          0.0025166745670383993,
          0.006448244014495063,
          0.0028503064376473697,
          0.0021008454056406643,
          0.0008475992059696517,
          0.00109596921537903,
          0.0022690603850850353,
          0.001389996524454182,
          0.0017590108149838702,
          0.0019532918206127746,
          0.0018031775224902071,
          0.0014277572910959915,
          0.002749458696911544,
          0.0012254176767021617,
          0.002752634449230221,
          0.001551461986688027,
          0.0022472918408142973,
          0.002596220330936213,
          0.0017114264185435686,
          0.0014134005161354382,
          0.0011600151996928843,
          0.0011759149302128567,
          0.0008976203868144449,
          0.0007436088230458083,
          0.0008553284729501038,
          0.0011583445225824113,
          0.0010070756207799809,
          0.0015971619821998856,
          0.00093559315980769,
          0.0010007993749839054,
          0.0015304506339728326,
          0.001145938639220754,
          0.0017222053982650536,
          0.0008622250199073102,
          0.0008409426521164416,
          0.0007697039897046962,
          0.001191277156746057,
          0.001288330010578092,
          0.0009755521573060831,
          0.0007430312513069408,
          0.0010193531399882213,
          0.0006875232343824668,
          0.0008400498221810433,
          0.001165335674813197,
          0.0013526071553571209,
          0.001048466995710287,
          0.002008499030297212,
          0.0011517015460773702,
          0.001071291301783836,
          0.0013766067155305047,
          0.0015618283378468615,
          0.001329367708164971,
          0.0016902113793926868,
          0.0009899579512621095,
          0.0012052048433660043,
          0.0014328122073573792,
          0.001045241115437197,
          0.002192368136900124
         ],
         "yaxis": "y4"
        }
       ],
       "layout": {
        "autosize": false,
        "barmode": "group",
        "font": {
         "color": "Black",
         "family": "Palatino",
         "size": 12
        },
        "height": 407.3235447076888,
        "margin": {
         "b": 0,
         "l": 0,
         "r": 0,
         "t": 25
        },
        "paper_bgcolor": "rgba(0, 0, 0, 0)",
        "plot_bgcolor": "rgba(0, 0, 0, 0)",
        "template": {
         "data": {
          "bar": [
           {
            "error_x": {
             "color": "#2a3f5f"
            },
            "error_y": {
             "color": "#2a3f5f"
            },
            "marker": {
             "line": {
              "color": "#E5ECF6",
              "width": 0.5
             }
            },
            "type": "bar"
           }
          ],
          "barpolar": [
           {
            "marker": {
             "line": {
              "color": "#E5ECF6",
              "width": 0.5
             }
            },
            "type": "barpolar"
           }
          ],
          "carpet": [
           {
            "aaxis": {
             "endlinecolor": "#2a3f5f",
             "gridcolor": "white",
             "linecolor": "white",
             "minorgridcolor": "white",
             "startlinecolor": "#2a3f5f"
            },
            "baxis": {
             "endlinecolor": "#2a3f5f",
             "gridcolor": "white",
             "linecolor": "white",
             "minorgridcolor": "white",
             "startlinecolor": "#2a3f5f"
            },
            "type": "carpet"
           }
          ],
          "choropleth": [
           {
            "colorbar": {
             "outlinewidth": 0,
             "ticks": ""
            },
            "type": "choropleth"
           }
          ],
          "contour": [
           {
            "colorbar": {
             "outlinewidth": 0,
             "ticks": ""
            },
            "colorscale": [
             [
              0,
              "#0d0887"
             ],
             [
              0.1111111111111111,
              "#46039f"
             ],
             [
              0.2222222222222222,
              "#7201a8"
             ],
             [
              0.3333333333333333,
              "#9c179e"
             ],
             [
              0.4444444444444444,
              "#bd3786"
             ],
             [
              0.5555555555555556,
              "#d8576b"
             ],
             [
              0.6666666666666666,
              "#ed7953"
             ],
             [
              0.7777777777777778,
              "#fb9f3a"
             ],
             [
              0.8888888888888888,
              "#fdca26"
             ],
             [
              1,
              "#f0f921"
             ]
            ],
            "type": "contour"
           }
          ],
          "contourcarpet": [
           {
            "colorbar": {
             "outlinewidth": 0,
             "ticks": ""
            },
            "type": "contourcarpet"
           }
          ],
          "heatmap": [
           {
            "colorbar": {
             "outlinewidth": 0,
             "ticks": ""
            },
            "colorscale": [
             [
              0,
              "#0d0887"
             ],
             [
              0.1111111111111111,
              "#46039f"
             ],
             [
              0.2222222222222222,
              "#7201a8"
             ],
             [
              0.3333333333333333,
              "#9c179e"
             ],
             [
              0.4444444444444444,
              "#bd3786"
             ],
             [
              0.5555555555555556,
              "#d8576b"
             ],
             [
              0.6666666666666666,
              "#ed7953"
             ],
             [
              0.7777777777777778,
              "#fb9f3a"
             ],
             [
              0.8888888888888888,
              "#fdca26"
             ],
             [
              1,
              "#f0f921"
             ]
            ],
            "type": "heatmap"
           }
          ],
          "heatmapgl": [
           {
            "colorbar": {
             "outlinewidth": 0,
             "ticks": ""
            },
            "colorscale": [
             [
              0,
              "#0d0887"
             ],
             [
              0.1111111111111111,
              "#46039f"
             ],
             [
              0.2222222222222222,
              "#7201a8"
             ],
             [
              0.3333333333333333,
              "#9c179e"
             ],
             [
              0.4444444444444444,
              "#bd3786"
             ],
             [
              0.5555555555555556,
              "#d8576b"
             ],
             [
              0.6666666666666666,
              "#ed7953"
             ],
             [
              0.7777777777777778,
              "#fb9f3a"
             ],
             [
              0.8888888888888888,
              "#fdca26"
             ],
             [
              1,
              "#f0f921"
             ]
            ],
            "type": "heatmapgl"
           }
          ],
          "histogram": [
           {
            "marker": {
             "colorbar": {
              "outlinewidth": 0,
              "ticks": ""
             }
            },
            "type": "histogram"
           }
          ],
          "histogram2d": [
           {
            "colorbar": {
             "outlinewidth": 0,
             "ticks": ""
            },
            "colorscale": [
             [
              0,
              "#0d0887"
             ],
             [
              0.1111111111111111,
              "#46039f"
             ],
             [
              0.2222222222222222,
              "#7201a8"
             ],
             [
              0.3333333333333333,
              "#9c179e"
             ],
             [
              0.4444444444444444,
              "#bd3786"
             ],
             [
              0.5555555555555556,
              "#d8576b"
             ],
             [
              0.6666666666666666,
              "#ed7953"
             ],
             [
              0.7777777777777778,
              "#fb9f3a"
             ],
             [
              0.8888888888888888,
              "#fdca26"
             ],
             [
              1,
              "#f0f921"
             ]
            ],
            "type": "histogram2d"
           }
          ],
          "histogram2dcontour": [
           {
            "colorbar": {
             "outlinewidth": 0,
             "ticks": ""
            },
            "colorscale": [
             [
              0,
              "#0d0887"
             ],
             [
              0.1111111111111111,
              "#46039f"
             ],
             [
              0.2222222222222222,
              "#7201a8"
             ],
             [
              0.3333333333333333,
              "#9c179e"
             ],
             [
              0.4444444444444444,
              "#bd3786"
             ],
             [
              0.5555555555555556,
              "#d8576b"
             ],
             [
              0.6666666666666666,
              "#ed7953"
             ],
             [
              0.7777777777777778,
              "#fb9f3a"
             ],
             [
              0.8888888888888888,
              "#fdca26"
             ],
             [
              1,
              "#f0f921"
             ]
            ],
            "type": "histogram2dcontour"
           }
          ],
          "mesh3d": [
           {
            "colorbar": {
             "outlinewidth": 0,
             "ticks": ""
            },
            "type": "mesh3d"
           }
          ],
          "parcoords": [
           {
            "line": {
             "colorbar": {
              "outlinewidth": 0,
              "ticks": ""
             }
            },
            "type": "parcoords"
           }
          ],
          "pie": [
           {
            "automargin": true,
            "type": "pie"
           }
          ],
          "scatter": [
           {
            "marker": {
             "colorbar": {
              "outlinewidth": 0,
              "ticks": ""
             }
            },
            "type": "scatter"
           }
          ],
          "scatter3d": [
           {
            "line": {
             "colorbar": {
              "outlinewidth": 0,
              "ticks": ""
             }
            },
            "marker": {
             "colorbar": {
              "outlinewidth": 0,
              "ticks": ""
             }
            },
            "type": "scatter3d"
           }
          ],
          "scattercarpet": [
           {
            "marker": {
             "colorbar": {
              "outlinewidth": 0,
              "ticks": ""
             }
            },
            "type": "scattercarpet"
           }
          ],
          "scattergeo": [
           {
            "marker": {
             "colorbar": {
              "outlinewidth": 0,
              "ticks": ""
             }
            },
            "type": "scattergeo"
           }
          ],
          "scattergl": [
           {
            "marker": {
             "colorbar": {
              "outlinewidth": 0,
              "ticks": ""
             }
            },
            "type": "scattergl"
           }
          ],
          "scattermapbox": [
           {
            "marker": {
             "colorbar": {
              "outlinewidth": 0,
              "ticks": ""
             }
            },
            "type": "scattermapbox"
           }
          ],
          "scatterpolar": [
           {
            "marker": {
             "colorbar": {
              "outlinewidth": 0,
              "ticks": ""
             }
            },
            "type": "scatterpolar"
           }
          ],
          "scatterpolargl": [
           {
            "marker": {
             "colorbar": {
              "outlinewidth": 0,
              "ticks": ""
             }
            },
            "type": "scatterpolargl"
           }
          ],
          "scatterternary": [
           {
            "marker": {
             "colorbar": {
              "outlinewidth": 0,
              "ticks": ""
             }
            },
            "type": "scatterternary"
           }
          ],
          "surface": [
           {
            "colorbar": {
             "outlinewidth": 0,
             "ticks": ""
            },
            "colorscale": [
             [
              0,
              "#0d0887"
             ],
             [
              0.1111111111111111,
              "#46039f"
             ],
             [
              0.2222222222222222,
              "#7201a8"
             ],
             [
              0.3333333333333333,
              "#9c179e"
             ],
             [
              0.4444444444444444,
              "#bd3786"
             ],
             [
              0.5555555555555556,
              "#d8576b"
             ],
             [
              0.6666666666666666,
              "#ed7953"
             ],
             [
              0.7777777777777778,
              "#fb9f3a"
             ],
             [
              0.8888888888888888,
              "#fdca26"
             ],
             [
              1,
              "#f0f921"
             ]
            ],
            "type": "surface"
           }
          ],
          "table": [
           {
            "cells": {
             "fill": {
              "color": "#EBF0F8"
             },
             "line": {
              "color": "white"
             }
            },
            "header": {
             "fill": {
              "color": "#C8D4E3"
             },
             "line": {
              "color": "white"
             }
            },
            "type": "table"
           }
          ]
         },
         "layout": {
          "annotationdefaults": {
           "arrowcolor": "#2a3f5f",
           "arrowhead": 0,
           "arrowwidth": 1
          },
          "autotypenumbers": "strict",
          "coloraxis": {
           "colorbar": {
            "outlinewidth": 0,
            "ticks": ""
           }
          },
          "colorscale": {
           "diverging": [
            [
             0,
             "#8e0152"
            ],
            [
             0.1,
             "#c51b7d"
            ],
            [
             0.2,
             "#de77ae"
            ],
            [
             0.3,
             "#f1b6da"
            ],
            [
             0.4,
             "#fde0ef"
            ],
            [
             0.5,
             "#f7f7f7"
            ],
            [
             0.6,
             "#e6f5d0"
            ],
            [
             0.7,
             "#b8e186"
            ],
            [
             0.8,
             "#7fbc41"
            ],
            [
             0.9,
             "#4d9221"
            ],
            [
             1,
             "#276419"
            ]
           ],
           "sequential": [
            [
             0,
             "#0d0887"
            ],
            [
             0.1111111111111111,
             "#46039f"
            ],
            [
             0.2222222222222222,
             "#7201a8"
            ],
            [
             0.3333333333333333,
             "#9c179e"
            ],
            [
             0.4444444444444444,
             "#bd3786"
            ],
            [
             0.5555555555555556,
             "#d8576b"
            ],
            [
             0.6666666666666666,
             "#ed7953"
            ],
            [
             0.7777777777777778,
             "#fb9f3a"
            ],
            [
             0.8888888888888888,
             "#fdca26"
            ],
            [
             1,
             "#f0f921"
            ]
           ],
           "sequentialminus": [
            [
             0,
             "#0d0887"
            ],
            [
             0.1111111111111111,
             "#46039f"
            ],
            [
             0.2222222222222222,
             "#7201a8"
            ],
            [
             0.3333333333333333,
             "#9c179e"
            ],
            [
             0.4444444444444444,
             "#bd3786"
            ],
            [
             0.5555555555555556,
             "#d8576b"
            ],
            [
             0.6666666666666666,
             "#ed7953"
            ],
            [
             0.7777777777777778,
             "#fb9f3a"
            ],
            [
             0.8888888888888888,
             "#fdca26"
            ],
            [
             1,
             "#f0f921"
            ]
           ]
          },
          "colorway": [
           "#636efa",
           "#EF553B",
           "#00cc96",
           "#ab63fa",
           "#FFA15A",
           "#19d3f3",
           "#FF6692",
           "#B6E880",
           "#FF97FF",
           "#FECB52"
          ],
          "font": {
           "color": "#2a3f5f"
          },
          "geo": {
           "bgcolor": "white",
           "lakecolor": "white",
           "landcolor": "#E5ECF6",
           "showlakes": true,
           "showland": true,
           "subunitcolor": "white"
          },
          "hoverlabel": {
           "align": "left"
          },
          "hovermode": "closest",
          "mapbox": {
           "style": "light"
          },
          "paper_bgcolor": "white",
          "plot_bgcolor": "#E5ECF6",
          "polar": {
           "angularaxis": {
            "gridcolor": "white",
            "linecolor": "white",
            "ticks": ""
           },
           "bgcolor": "#E5ECF6",
           "radialaxis": {
            "gridcolor": "white",
            "linecolor": "white",
            "ticks": ""
           }
          },
          "scene": {
           "xaxis": {
            "backgroundcolor": "#E5ECF6",
            "gridcolor": "white",
            "gridwidth": 2,
            "linecolor": "white",
            "showbackground": true,
            "ticks": "",
            "zerolinecolor": "white"
           },
           "yaxis": {
            "backgroundcolor": "#E5ECF6",
            "gridcolor": "white",
            "gridwidth": 2,
            "linecolor": "white",
            "showbackground": true,
            "ticks": "",
            "zerolinecolor": "white"
           },
           "zaxis": {
            "backgroundcolor": "#E5ECF6",
            "gridcolor": "white",
            "gridwidth": 2,
            "linecolor": "white",
            "showbackground": true,
            "ticks": "",
            "zerolinecolor": "white"
           }
          },
          "shapedefaults": {
           "line": {
            "color": "#2a3f5f"
           }
          },
          "ternary": {
           "aaxis": {
            "gridcolor": "white",
            "linecolor": "white",
            "ticks": ""
           },
           "baxis": {
            "gridcolor": "white",
            "linecolor": "white",
            "ticks": ""
           },
           "bgcolor": "#E5ECF6",
           "caxis": {
            "gridcolor": "white",
            "linecolor": "white",
            "ticks": ""
           }
          },
          "title": {
           "x": 0.05
          },
          "xaxis": {
           "automargin": true,
           "gridcolor": "white",
           "linecolor": "white",
           "ticks": "",
           "title": {
            "standoff": 15
           },
           "zerolinecolor": "white",
           "zerolinewidth": 2
          },
          "yaxis": {
           "automargin": true,
           "gridcolor": "white",
           "linecolor": "white",
           "ticks": "",
           "title": {
            "standoff": 15
           },
           "zerolinecolor": "white",
           "zerolinewidth": 2
          }
         }
        },
        "title": {
         "text": "Mean feature importance for 25 iterations"
        },
        "width": 548.1896533333334,
        "xaxis": {
         "anchor": "y",
         "domain": [
          0,
          1
         ],
         "matches": "x4",
         "showticklabels": false,
         "title": {
          "text": "Number principal component"
         }
        },
        "xaxis2": {
         "anchor": "y2",
         "domain": [
          0,
          1
         ],
         "matches": "x4",
         "showticklabels": false
        },
        "xaxis3": {
         "anchor": "y3",
         "domain": [
          0,
          1
         ],
         "matches": "x4",
         "showticklabels": false
        },
        "xaxis4": {
         "anchor": "y4",
         "domain": [
          0,
          1
         ]
        },
        "yaxis": {
         "anchor": "x",
         "domain": [
          0.80625,
          1
         ]
        },
        "yaxis2": {
         "anchor": "x2",
         "domain": [
          0.5375,
          0.73125
         ]
        },
        "yaxis3": {
         "anchor": "x3",
         "domain": [
          0.26875,
          0.4625
         ]
        },
        "yaxis4": {
         "anchor": "x4",
         "domain": [
          0,
          0.19375
         ]
        }
       }
      },
      "text/html": [
       "<div>                            <div id=\"447424c9-2e68-4ae2-8a25-5352168c2d00\" class=\"plotly-graph-div\" style=\"height:407.3235447076888px; width:548.1896533333334px;\"></div>            <script type=\"text/javascript\">                require([\"plotly\"], function(Plotly) {                    window.PLOTLYENV=window.PLOTLYENV || {};                                    if (document.getElementById(\"447424c9-2e68-4ae2-8a25-5352168c2d00\")) {                    Plotly.newPlot(                        \"447424c9-2e68-4ae2-8a25-5352168c2d00\",                        [{\"error_y\": {\"array\": [0.10635323506586837, 0.018154842456634228, 0.09428242072782879, 0.06971635083864969, 0.009569136710779339, 0.07071497682789118, 0.024300265976394567, 0.049281673950109926, 0.04831816952300911, 0.09815420624846712, 0.04893174852192357, 0.05516333020389775, 0.11874479926888327, 0.12818400588682355, 0.0971015366655337, 0.12466153368503623, 0.2628500831850574, 0.1751742478892058, 0.26941962101583705, 0.1498009203127854, 0.15398377903480207, 0.1813174435915302, 0.10898382372101931, 0.2314418420941434, 0.2824721267304145, 0.21286014146621945, 0.2540955158437193, 0.2390300902993313, 0.1895409450339189, 0.17666043748587948, 0.14064566327702113, 0.1403674747580606, 0.12894331243962912, 0.12231203604462361, 0.13655719207656591, 0.14956247739774964, 0.1832340129669396, 0.17117168191488585, 0.1995714865078305, 0.16225315396485882, 0.18554648455443087, 0.1546511090735634, 0.13161335909884847, 0.14069941121257687, 0.18657758534302452, 0.14032603583136233, 0.17867962481179137, 0.12467674640272285, 0.12560669981791017, 0.14155243634161407, 0.1574760769460901, 0.15179003831190876, 0.15369710731010935, 0.10275975023113622, 0.07689923975481142, 0.11435865993242557, 0.12637705101455177, 0.14254673800960554, 0.1049201925447087, 0.09016320342638814, 0.10561417783159406, 0.11382277921598692, 0.09224598003831501, 0.11725436002572721, 0.13049793073131843, 0.1042179966764018, 0.1321572049827643, 0.10833126095339757, 0.09468052336225705, 0.11475413352857332, 0.09183064131170295, 0.07534438578965767, 0.07461391654220992, 0.09979277882038019, 0.07642674138449382, 0.09623111727091438, 0.09313795123731819, 0.0697615686517614, 0.07477323638299235, 0.09018147283009305, 0.07522107078634362, 0.08405000409247874, 0.07714903638541568, 0.05798663518282067, 0.06556715108535847, 0.08735838184768574, 0.0744922413168456, 0.08428123831400178, 0.07409205857398155, 0.07967208704638815, 0.0527988046727909, 0.06620825074258647, 0.08927845050430329, 0.09050854630936307, 0.0782004857533376, 0.08114690776313672, 0.06670692628213085, 0.07699860520703763, 0.07354527423267103, 0.09161434021320142, 0.08247607001375964, 0.07724056990785698, 0.0934380139483494, 0.06258198097311779, 0.060686050893590804, 0.07454385204203276, 0.08285372491636658, 0.06993236019056094, 0.0644924430370123, 0.06323303773633185, 0.06484151424135574, 0.08136850693747477, 0.06037564633819475, 0.07957328418042386, 0.07812641540071903, 0.07335678275372008, 0.07800332188949298, 0.07028843302683407, 0.08531766361188672, 0.11305556074733299, 0.06549085420297979, 0.07443167120872546, 0.09012256623646207, 0.07511778492529966, 0.08188495032025778, 0.08392642391538506, 0.08152627339910422, 0.08273616476315819, 0.08644417439475671, 0.0629819220708944, 0.08640967044780187, 0.079205367764722, 0.08463556059465786, 0.06091775288893915, 0.08559028839305624, 0.07494506151258785, 0.0862740918938405, 0.08276513639754227, 0.0812427939242233, 0.07927911989247426, 0.06365238560937511, 0.07316577415384658, 0.04544144924663551, 0.06712672582465906, 0.05911067683353626, 0.08652186374835104, 0.06930421215990704, 0.05651398935765939, 0.06436999237505305, 0.060060079004514884, 0.058092040792953846, 0.07886029312528262, 0.06583548453637678, 0.07395144221474993, 0.0643825847715389, 0.04784490681060647, 0.06376110870914568, 0.049822906672495997, 0.05565388923951185, 0.05360577086822769, 0.0443427738821078, 0.053226132177892224, 0.05645443338123599, 0.05691549106045934, 0.04892458887042902, 0.038916159367336355, 0.062266467843108055, 0.0536625563183654, 0.054093339485743144, 0.06382249268639134, 0.04543701324481964], \"type\": \"data\"}, \"name\": \"LOG \", \"type\": \"bar\", \"x\": [1, 2, 3, 4, 5, 6, 7, 8, 9, 10, 11, 12, 13, 14, 15, 16, 17, 18, 19, 20, 21, 22, 23, 24, 25, 26, 27, 28, 29, 30, 31, 32, 33, 34, 35, 36, 37, 38, 39, 40, 41, 42, 43, 44, 45, 46, 47, 48, 49, 50, 51, 52, 53, 54, 55, 56, 57, 58, 59, 60, 61, 62, 63, 64, 65, 66, 67, 68, 69, 70, 71, 72, 73, 74, 75, 76, 77, 78, 79, 80, 81, 82, 83, 84, 85, 86, 87, 88, 89, 90, 91, 92, 93, 94, 95, 96, 97, 98, 99, 100, 101, 102, 103, 104, 105, 106, 107, 108, 109, 110, 111, 112, 113, 114, 115, 116, 117, 118, 119, 120, 121, 122, 123, 124, 125, 126, 127, 128, 129, 130, 131, 132, 133, 134, 135, 136, 137, 138, 139, 140, 141, 142, 143, 144, 145, 146, 147, 148, 149, 150, 151, 152, 153, 154, 155, 156, 157, 158, 159, 160, 161, 162, 163, 164, 165, 166, 167, 168, 169, 170, 171, 172, 173, 174, 175, 176], \"xaxis\": \"x\", \"y\": [-0.12306425330048659, 0.25407493696561445, 0.0637383003312674, 0.010153582132698957, -0.4265447510387148, 0.07326552502723692, 0.07080596588300583, 0.008379816735013501, 0.025845645329782348, 0.022518818858113326, -0.0013341375888127863, -0.0028701216821501465, -0.13187477889241275, -0.1427906697655729, -0.04057798106341558, 0.035073186066981496, -0.031100002598593437, -0.14448078918333002, 0.033212744542325985, -0.005938392975183095, -0.03876380902862884, -0.05466453063779755, -0.05726983978240097, -0.004108442049998702, -0.033402263906966906, 0.0853809142882779, 0.01984058415986079, 0.13855406426818342, 0.0013935604872878794, -0.024801810932761226, 0.009270074243486973, 0.04065080550733125, -0.022008549308481812, 0.012290110280741104, 0.011773871569911115, 0.0627385553151567, -0.006568996495704609, -0.0228110471468111, -0.03250334575360829, -0.00654185236261303, 0.08299639331556317, 0.018904781158188846, -0.012342186117619168, 0.01449935366791845, -0.030586084053503673, -0.11031806214415772, -0.08901965681961743, 0.005512960679514221, -0.02561358015053591, -0.020359185785072315, 0.09186655775263658, 0.02836517984473275, 0.0249734969909756, 0.03286013000630279, -0.007460916948180723, -0.02561238059244772, 0.015268688391085998, 0.006159022677372078, -0.007273078493983496, 1.8277186369571873e-05, -0.019487340044554963, -0.002999122249472462, -0.0135115523150322, -0.04955422583320865, 0.005051902979831928, 0.018190839992462435, 0.004027505072627211, -0.03884201845676376, 0.042644104533961356, -0.047121926169004874, -0.004312183072545783, -0.0161183601452867, 0.003656349370399268, 0.015879350282581656, -0.03052391123986598, 0.012751586366715188, -0.013223998444008279, -0.00012451020342137798, -0.016493493715703876, -0.00262975949645808, -0.014000625799065367, -0.014288785942082563, -0.02226108874804259, -0.027870765783201315, -0.01851745233209123, -0.03307472345769361, -0.04278177635821156, -0.009687801043064203, -0.008870729798921862, 0.0016631175648536979, -0.004425568882857893, -0.04091210903929628, -0.0033491075022382788, -0.014899220463677275, -0.014197861374766103, -0.01794661791003088, -0.01779466306753753, 0.009506101044049683, -0.00178068019848079, 0.015220186274778275, -0.016262310209382524, -0.01509775133720412, 0.02574772627528499, -0.012527203960380205, 0.0008719820460785877, -0.0009224661752582277, -0.011958093907752189, 0.0020190887411392594, 0.013207448081822504, 0.00633291323128835, 0.004751916368637666, -0.0008702762927482474, 0.001746934247656965, 0.002825338395614432, 0.023691520223309, 0.03497038002657851, 0.014442518341106299, -0.0035518443279670504, 0.014435555592171639, -0.017728268935018283, -0.0067668594655421665, -0.0006038986395130096, 0.010787041869310182, -0.011035257531084173, -0.018009601262758582, 0.00038739985448935343, -0.005785974677828984, 0.0022711056690731713, -0.01091417380852816, 0.021058710473113057, -0.017428898492982407, -0.04169532413237771, 0.007530826781921577, 0.0075075739073114205, -0.0038750545296719705, -0.013415130342339494, -0.022974282399702676, 0.009709640591061499, -0.0032289829173524436, 0.012999265571333008, 0.00444040536594361, -0.02164147632223338, -0.01901470935521514, 0.0036964669038655707, -0.030736226899051974, -0.0028942751897867046, 0.007536388957510444, 0.014848964435625825, -0.019740124458040645, 0.007381505485296879, 0.013696200172091557, -0.012141520888745014, -0.0024393269188415535, 0.021549056130836856, 0.0005937313875607761, -0.007465937799460953, 0.003542360194545669, 0.0061894071051777555, 0.006451617532123627, 0.016014175759439295, 0.027834803541342962, 0.0025262476513460024, 0.006650577759743021, -0.007375322866548057, -0.008169514187773182, 0.013656350951590292, 0.006866972088797214, -0.013814043952130874, -0.017360765277786714, -0.0035048775410855032, -0.009341631050961901], \"yaxis\": \"y\"}, {\"error_y\": {\"array\": [0.06016138363731898, 0.04207230379031625, 0.02359383763673023, 0.02169090464353219, 0.044917386162003796, 0.02089719795493625, 0.010762795094861772, 0.012227929639258296, 0.00961922282253312, 0.01251413070805233, 0.012526409728357628, 0.009306348211890438, 0.01579865731913114, 0.018476094677773187, 0.021313740924973668, 0.025691938635411957, 0.031222455796409924, 0.029285309645836626, 0.024788185784122237, 0.023255263456450678, 0.022897602788030512, 0.026067680261156818, 0.009135268671654345, 0.0451359035214505, 0.03681506218034646, 0.04004631318794725, 0.021873172243109508, 0.021285909049173914, 0.015555102396068525, 0.01225362861492258, 0.007734734812096682, 0.01748388938689293, 0.01759259170418932, 0.014041029626086061, 0.012198397540274792, 0.016338189142159974, 0.01660277866407367], \"type\": \"data\"}, \"name\": \"DT \", \"type\": \"bar\", \"x\": [1, 2, 3, 4, 5, 6, 7, 8, 9, 10, 11, 12, 13, 14, 15, 16, 17, 18, 19, 20, 21, 22, 23, 24, 25, 26, 27, 28, 29, 30, 31, 32, 33, 34, 35, 36, 37, 38, 39, 40, 41, 42, 43, 44, 45, 46, 47, 48, 49, 50, 51, 52, 53, 54, 55, 56, 57, 58, 59, 60, 61, 62, 63, 64, 65, 66, 67, 68, 69, 70, 71, 72, 73, 74, 75, 76, 77, 78, 79, 80, 81, 82, 83, 84, 85, 86, 87, 88, 89, 90, 91, 92, 93, 94, 95, 96, 97, 98, 99, 100, 101, 102, 103, 104, 105, 106, 107, 108, 109, 110, 111, 112, 113, 114, 115, 116, 117, 118, 119, 120, 121, 122, 123, 124, 125, 126, 127, 128, 129, 130, 131, 132, 133, 134, 135, 136, 137, 138, 139, 140, 141, 142, 143, 144, 145, 146, 147, 148, 149, 150, 151, 152, 153, 154, 155, 156, 157, 158, 159, 160, 161, 162, 163, 164, 165, 166, 167, 168, 169, 170, 171, 172, 173, 174, 175, 176], \"xaxis\": \"x2\", \"y\": [0.06021266477647644, 0.11096318839591214, 0.024037119389802585, 0.022154713191210238, 0.24609314595979265, 0.018821788318287232, 0.010501597438469887, 0.006991362943949649, 0.008530411237679043, 0.009342643732386722, 0.020124502643932795, 0.008037369533901327, 0.02015413605514783, 0.018044602188165126, 0.01321184622343751, 0.018104606982872112, 0.030917458200174615, 0.03598781483519831, 0.027129427508483843, 0.012494436624753961, 0.01673715425246475, 0.017279802140809295, 0.005421418417368807, 0.040241864428201934, 0.02273462583673082, 0.02899354056905941, 0.009690256835290671, 0.019330649643306327, 0.015348183260940316, 0.010557523103763313, 0.004057584380451216, 0.016769971521630643, 0.012995986758593044, 0.014425427215813526, 0.012128233854251318, 0.013431771870715615, 0.018001169730574956], \"yaxis\": \"y2\"}, {\"error_y\": {\"array\": [0.005754712809279192, 0.011573522035044886, 0.006679581421965087, 0.004355797656118868, 0.010311399322560401, 0.003937897525924488, 0.0018025251220014128, 0.002438466119536556, 0.0017436195455478457, 0.004431053773014859, 0.0034778137321750586, 0.0019138166616714876, 0.006544521517254576, 0.015293197496930535, 0.007727118790309815, 0.010690063084215445, 0.0172510553230342, 0.014846624603520814, 0.02261901125401961, 0.010424586724049183, 0.006824758782737328, 0.01005424414833572, 0.0030197700848396815, 0.016804585771842684, 0.027632918042998892, 0.016179233329388754, 0.01924419185121029, 0.015278468769316928, 0.009003606296028987, 0.005125965458327246, 0.005784420776936624, 0.009311279632595832, 0.0032435805539188143, 0.003845533429230055, 0.003796420398760396, 0.006878633545698734, 0.007678633771386794, 0.006819590256864317, 0.01097780552937092, 0.006232065304609923, 0.00849735739736193, 0.008093229097143396, 0.004793848856272579, 0.004619800786247573, 0.004553309306508944, 0.006705458900307635, 0.008617740802981421, 0.003999252396566016, 0.002518925592057258, 0.002816872920938711, 0.003822822177823434, 0.0024219593875795566, 0.003611575015269857], \"type\": \"data\"}, \"name\": \"RF \", \"type\": \"bar\", \"x\": [1, 2, 3, 4, 5, 6, 7, 8, 9, 10, 11, 12, 13, 14, 15, 16, 17, 18, 19, 20, 21, 22, 23, 24, 25, 26, 27, 28, 29, 30, 31, 32, 33, 34, 35, 36, 37, 38, 39, 40, 41, 42, 43, 44, 45, 46, 47, 48, 49, 50, 51, 52, 53, 54, 55, 56, 57, 58, 59, 60, 61, 62, 63, 64, 65, 66, 67, 68, 69, 70, 71, 72, 73, 74, 75, 76, 77, 78, 79, 80, 81, 82, 83, 84, 85, 86, 87, 88, 89, 90, 91, 92, 93, 94, 95, 96, 97, 98, 99, 100, 101, 102, 103, 104, 105, 106, 107, 108, 109, 110, 111, 112, 113, 114, 115, 116, 117, 118, 119, 120, 121, 122, 123, 124, 125, 126, 127, 128, 129, 130, 131, 132, 133, 134, 135, 136, 137, 138, 139, 140, 141, 142, 143, 144, 145, 146, 147, 148, 149, 150, 151, 152, 153, 154, 155, 156, 157, 158, 159, 160, 161, 162, 163, 164, 165, 166, 167, 168, 169, 170, 171, 172, 173, 174, 175, 176], \"xaxis\": \"x3\", \"y\": [0.06305574311054192, 0.08311937441815517, 0.02291214315890799, 0.01954872610654465, 0.11396179119337825, 0.016684505810612635, 0.011188086530194557, 0.01098154127997068, 0.013418791526676039, 0.014802853677952595, 0.013160831970137074, 0.008380399091986686, 0.014885419440222916, 0.020364021574157537, 0.014792233216019371, 0.016705821670240793, 0.02856841736656081, 0.0251819365387591, 0.03424426559547861, 0.013851385458878469, 0.013555927842853348, 0.015023733116170213, 0.009627021173735898, 0.02061366623932656, 0.03351013552002135, 0.01890457053679678, 0.021456886882330793, 0.021334038122602775, 0.013367450396441417, 0.011651372483500509, 0.011615817398915316, 0.012565166111160622, 0.009914054697983591, 0.009286287977003172, 0.009518100837810994, 0.012884058225788506, 0.013508146953640235, 0.013756099681079624, 0.0158945459676445, 0.0127100268435179, 0.01726585951272148, 0.011965968985803894, 0.009513659033511233, 0.009628540114258203, 0.011100218194420088, 0.012332199009999777, 0.013222123394892048, 0.009137254877420375, 0.008026717685007578, 0.00853591832369248, 0.010500870243414086, 0.009539949842019323, 0.00872532503913947], \"yaxis\": \"y3\"}, {\"error_y\": {\"array\": [0.021097512762180862, 0.025970479983292997, 0.011743472924957844, 0.007677147302910195, 0.026829825893805104, 0.005930314383272814, 0.0036046093883994827, 0.004414096190234957, 0.002711837544202985, 0.007306665613831558, 0.004174511840535852, 0.0020417212236877066, 0.012222094680066437, 0.026895896726277815, 0.014696422856364853, 0.017612901163533114, 0.03407480422117113, 0.029998694410998093, 0.039199398103481796, 0.01518857276655358, 0.008285254191423164, 0.015522735452508747, 0.0043688875737633, 0.025336879870279314, 0.04348353241980913, 0.031190788360069707, 0.0295651286072037, 0.025817350106123703, 0.011730109323748348, 0.006262153359087995, 0.006086683991817527, 0.011753265688765918, 0.004874189464431152, 0.00332360128390442, 0.0033941824432336433, 0.011005763727617279, 0.012364759232565092, 0.00952219602692673, 0.012993873423176601, 0.0065289873188113055, 0.008871213472329626, 0.008613295068066745, 0.0038760079578884794, 0.005542906613413424, 0.006404192147332541, 0.008076717423705368, 0.010724063098312206, 0.008500247089493365, 0.001174677572949973, 0.0037211981474489122, 0.007373347893499891, 0.004467750647914931, 0.0029067027676959304, 0.0007044214198882269, 0.0015043152117858762, 0.0030651490211400776, 0.0018823060577993372, 0.002288193089454342, 0.0031181044919882466, 0.0023015985558053676, 0.0016903970218156827, 0.004380845634570685, 0.0013016777260595927, 0.00288434372112762, 0.0023526234597906794, 0.002736921556588091, 0.0037723876283620597, 0.0029691722211071594, 0.001642666102668534, 0.001352667987379214, 0.001615706038366296, 0.0009003158885457736, 0.0010275492036654294, 0.0011446278367096183, 0.0016285912567240452, 0.0012613895966877649, 0.0022460026651159527, 0.0010354246936459062, 0.0012845593301862544, 0.0015704113447036862, 0.0012994194271150929, 0.0020188656899616246, 0.0010582052855318154, 0.0010078291011166236, 0.0008639296177092736, 0.0013490387223276553, 0.001654289149328319, 0.001043587139656154, 0.0006818417355223638, 0.0010382173148305927, 0.0007579822106921773, 0.0006339363435780511, 0.0012423068091953259, 0.001432008585320708, 0.0010336665310835221, 0.0019683459881458805, 0.00219001665526064, 0.0012145976845215223, 0.001014102845654652, 0.0019186341064243826, 0.0018213490877730819, 0.002214348579727837, 0.0010250468492866518, 0.001159244722656263, 0.0014512709560650272, 0.0013183716864200938, 0.002715450910867773], \"type\": \"data\"}, \"name\": \"GB \", \"type\": \"bar\", \"x\": [1, 2, 3, 4, 5, 6, 7, 8, 9, 10, 11, 12, 13, 14, 15, 16, 17, 18, 19, 20, 21, 22, 23, 24, 25, 26, 27, 28, 29, 30, 31, 32, 33, 34, 35, 36, 37, 38, 39, 40, 41, 42, 43, 44, 45, 46, 47, 48, 49, 50, 51, 52, 53, 54, 55, 56, 57, 58, 59, 60, 61, 62, 63, 64, 65, 66, 67, 68, 69, 70, 71, 72, 73, 74, 75, 76, 77, 78, 79, 80, 81, 82, 83, 84, 85, 86, 87, 88, 89, 90, 91, 92, 93, 94, 95, 96, 97, 98, 99, 100, 101, 102, 103, 104, 105, 106, 107, 108, 109, 110, 111, 112, 113, 114, 115, 116, 117, 118, 119, 120, 121, 122, 123, 124, 125, 126, 127, 128, 129, 130, 131, 132, 133, 134, 135, 136, 137, 138, 139, 140, 141, 142, 143, 144, 145, 146, 147, 148, 149, 150, 151, 152, 153, 154, 155, 156, 157, 158, 159, 160, 161, 162, 163, 164, 165, 166, 167, 168, 169, 170, 171, 172, 173, 174, 175, 176], \"xaxis\": \"x4\", \"y\": [0.09392192943546063, 0.1287171269990146, 0.02139388868645634, 0.008881446851686639, 0.19150467245270597, 0.00724897098092836, 0.004502875408741522, 0.003898928655045453, 0.0032893862397071843, 0.0060763416899853725, 0.0075927359484661994, 0.0024696443430712654, 0.011327343447260396, 0.02155266210325384, 0.008890679696253168, 0.011283302463616213, 0.033114566367821084, 0.026565660592538873, 0.04126639620306672, 0.008932772295114038, 0.00638009737027819, 0.011008348600170326, 0.0039690387031771565, 0.018260305019584217, 0.04005632566905632, 0.02016834524816245, 0.020202100432985023, 0.021386504994144743, 0.009352210720115191, 0.005580969180335103, 0.005462145388109844, 0.007863472456445777, 0.003769171372638137, 0.002156102501829588, 0.00294944873462034, 0.009432571193948008, 0.010475161465367056, 0.008404217029411359, 0.011122332772679204, 0.006047447773248996, 0.009562055088908436, 0.005574067145335749, 0.0023984742473884876, 0.0037265431398198147, 0.005447024391443047, 0.00615577563863471, 0.008163416905504844, 0.0036968693528189656, 0.0013193358047485417, 0.0025166745670383993, 0.006448244014495063, 0.0028503064376473697, 0.0021008454056406643, 0.0008475992059696517, 0.00109596921537903, 0.0022690603850850353, 0.001389996524454182, 0.0017590108149838702, 0.0019532918206127746, 0.0018031775224902071, 0.0014277572910959915, 0.002749458696911544, 0.0012254176767021617, 0.002752634449230221, 0.001551461986688027, 0.0022472918408142973, 0.002596220330936213, 0.0017114264185435686, 0.0014134005161354382, 0.0011600151996928843, 0.0011759149302128567, 0.0008976203868144449, 0.0007436088230458083, 0.0008553284729501038, 0.0011583445225824113, 0.0010070756207799809, 0.0015971619821998856, 0.00093559315980769, 0.0010007993749839054, 0.0015304506339728326, 0.001145938639220754, 0.0017222053982650536, 0.0008622250199073102, 0.0008409426521164416, 0.0007697039897046962, 0.001191277156746057, 0.001288330010578092, 0.0009755521573060831, 0.0007430312513069408, 0.0010193531399882213, 0.0006875232343824668, 0.0008400498221810433, 0.001165335674813197, 0.0013526071553571209, 0.001048466995710287, 0.002008499030297212, 0.0011517015460773702, 0.001071291301783836, 0.0013766067155305047, 0.0015618283378468615, 0.001329367708164971, 0.0016902113793926868, 0.0009899579512621095, 0.0012052048433660043, 0.0014328122073573792, 0.001045241115437197, 0.002192368136900124], \"yaxis\": \"y4\"}],                        {\"autosize\": false, \"barmode\": \"group\", \"font\": {\"color\": \"Black\", \"family\": \"Palatino\", \"size\": 12}, \"height\": 407.3235447076888, \"margin\": {\"b\": 0, \"l\": 0, \"r\": 0, \"t\": 25}, \"paper_bgcolor\": \"rgba(0, 0, 0, 0)\", \"plot_bgcolor\": \"rgba(0, 0, 0, 0)\", \"template\": {\"data\": {\"bar\": [{\"error_x\": {\"color\": \"#2a3f5f\"}, \"error_y\": {\"color\": \"#2a3f5f\"}, \"marker\": {\"line\": {\"color\": \"#E5ECF6\", \"width\": 0.5}}, \"type\": \"bar\"}], \"barpolar\": [{\"marker\": {\"line\": {\"color\": \"#E5ECF6\", \"width\": 0.5}}, \"type\": \"barpolar\"}], \"carpet\": [{\"aaxis\": {\"endlinecolor\": \"#2a3f5f\", \"gridcolor\": \"white\", \"linecolor\": \"white\", \"minorgridcolor\": \"white\", \"startlinecolor\": \"#2a3f5f\"}, \"baxis\": {\"endlinecolor\": \"#2a3f5f\", \"gridcolor\": \"white\", \"linecolor\": \"white\", \"minorgridcolor\": \"white\", \"startlinecolor\": \"#2a3f5f\"}, \"type\": \"carpet\"}], \"choropleth\": [{\"colorbar\": {\"outlinewidth\": 0, \"ticks\": \"\"}, \"type\": \"choropleth\"}], \"contour\": [{\"colorbar\": {\"outlinewidth\": 0, \"ticks\": \"\"}, \"colorscale\": [[0.0, \"#0d0887\"], [0.1111111111111111, \"#46039f\"], [0.2222222222222222, \"#7201a8\"], [0.3333333333333333, \"#9c179e\"], [0.4444444444444444, \"#bd3786\"], [0.5555555555555556, \"#d8576b\"], [0.6666666666666666, \"#ed7953\"], [0.7777777777777778, \"#fb9f3a\"], [0.8888888888888888, \"#fdca26\"], [1.0, \"#f0f921\"]], \"type\": \"contour\"}], \"contourcarpet\": [{\"colorbar\": {\"outlinewidth\": 0, \"ticks\": \"\"}, \"type\": \"contourcarpet\"}], \"heatmap\": [{\"colorbar\": {\"outlinewidth\": 0, \"ticks\": \"\"}, \"colorscale\": [[0.0, \"#0d0887\"], [0.1111111111111111, \"#46039f\"], [0.2222222222222222, \"#7201a8\"], [0.3333333333333333, \"#9c179e\"], [0.4444444444444444, \"#bd3786\"], [0.5555555555555556, \"#d8576b\"], [0.6666666666666666, \"#ed7953\"], [0.7777777777777778, \"#fb9f3a\"], [0.8888888888888888, \"#fdca26\"], [1.0, \"#f0f921\"]], \"type\": \"heatmap\"}], \"heatmapgl\": [{\"colorbar\": {\"outlinewidth\": 0, \"ticks\": \"\"}, \"colorscale\": [[0.0, \"#0d0887\"], [0.1111111111111111, \"#46039f\"], [0.2222222222222222, \"#7201a8\"], [0.3333333333333333, \"#9c179e\"], [0.4444444444444444, \"#bd3786\"], [0.5555555555555556, \"#d8576b\"], [0.6666666666666666, \"#ed7953\"], [0.7777777777777778, \"#fb9f3a\"], [0.8888888888888888, \"#fdca26\"], [1.0, \"#f0f921\"]], \"type\": \"heatmapgl\"}], \"histogram\": [{\"marker\": {\"colorbar\": {\"outlinewidth\": 0, \"ticks\": \"\"}}, \"type\": \"histogram\"}], \"histogram2d\": [{\"colorbar\": {\"outlinewidth\": 0, \"ticks\": \"\"}, \"colorscale\": [[0.0, \"#0d0887\"], [0.1111111111111111, \"#46039f\"], [0.2222222222222222, \"#7201a8\"], [0.3333333333333333, \"#9c179e\"], [0.4444444444444444, \"#bd3786\"], [0.5555555555555556, \"#d8576b\"], [0.6666666666666666, \"#ed7953\"], [0.7777777777777778, \"#fb9f3a\"], [0.8888888888888888, \"#fdca26\"], [1.0, \"#f0f921\"]], \"type\": \"histogram2d\"}], \"histogram2dcontour\": [{\"colorbar\": {\"outlinewidth\": 0, \"ticks\": \"\"}, \"colorscale\": [[0.0, \"#0d0887\"], [0.1111111111111111, \"#46039f\"], [0.2222222222222222, \"#7201a8\"], [0.3333333333333333, \"#9c179e\"], [0.4444444444444444, \"#bd3786\"], [0.5555555555555556, \"#d8576b\"], [0.6666666666666666, \"#ed7953\"], [0.7777777777777778, \"#fb9f3a\"], [0.8888888888888888, \"#fdca26\"], [1.0, \"#f0f921\"]], \"type\": \"histogram2dcontour\"}], \"mesh3d\": [{\"colorbar\": {\"outlinewidth\": 0, \"ticks\": \"\"}, \"type\": \"mesh3d\"}], \"parcoords\": [{\"line\": {\"colorbar\": {\"outlinewidth\": 0, \"ticks\": \"\"}}, \"type\": \"parcoords\"}], \"pie\": [{\"automargin\": true, \"type\": \"pie\"}], \"scatter\": [{\"marker\": {\"colorbar\": {\"outlinewidth\": 0, \"ticks\": \"\"}}, \"type\": \"scatter\"}], \"scatter3d\": [{\"line\": {\"colorbar\": {\"outlinewidth\": 0, \"ticks\": \"\"}}, \"marker\": {\"colorbar\": {\"outlinewidth\": 0, \"ticks\": \"\"}}, \"type\": \"scatter3d\"}], \"scattercarpet\": [{\"marker\": {\"colorbar\": {\"outlinewidth\": 0, \"ticks\": \"\"}}, \"type\": \"scattercarpet\"}], \"scattergeo\": [{\"marker\": {\"colorbar\": {\"outlinewidth\": 0, \"ticks\": \"\"}}, \"type\": \"scattergeo\"}], \"scattergl\": [{\"marker\": {\"colorbar\": {\"outlinewidth\": 0, \"ticks\": \"\"}}, \"type\": \"scattergl\"}], \"scattermapbox\": [{\"marker\": {\"colorbar\": {\"outlinewidth\": 0, \"ticks\": \"\"}}, \"type\": \"scattermapbox\"}], \"scatterpolar\": [{\"marker\": {\"colorbar\": {\"outlinewidth\": 0, \"ticks\": \"\"}}, \"type\": \"scatterpolar\"}], \"scatterpolargl\": [{\"marker\": {\"colorbar\": {\"outlinewidth\": 0, \"ticks\": \"\"}}, \"type\": \"scatterpolargl\"}], \"scatterternary\": [{\"marker\": {\"colorbar\": {\"outlinewidth\": 0, \"ticks\": \"\"}}, \"type\": \"scatterternary\"}], \"surface\": [{\"colorbar\": {\"outlinewidth\": 0, \"ticks\": \"\"}, \"colorscale\": [[0.0, \"#0d0887\"], [0.1111111111111111, \"#46039f\"], [0.2222222222222222, \"#7201a8\"], [0.3333333333333333, \"#9c179e\"], [0.4444444444444444, \"#bd3786\"], [0.5555555555555556, \"#d8576b\"], [0.6666666666666666, \"#ed7953\"], [0.7777777777777778, \"#fb9f3a\"], [0.8888888888888888, \"#fdca26\"], [1.0, \"#f0f921\"]], \"type\": \"surface\"}], \"table\": [{\"cells\": {\"fill\": {\"color\": \"#EBF0F8\"}, \"line\": {\"color\": \"white\"}}, \"header\": {\"fill\": {\"color\": \"#C8D4E3\"}, \"line\": {\"color\": \"white\"}}, \"type\": \"table\"}]}, \"layout\": {\"annotationdefaults\": {\"arrowcolor\": \"#2a3f5f\", \"arrowhead\": 0, \"arrowwidth\": 1}, \"autotypenumbers\": \"strict\", \"coloraxis\": {\"colorbar\": {\"outlinewidth\": 0, \"ticks\": \"\"}}, \"colorscale\": {\"diverging\": [[0, \"#8e0152\"], [0.1, \"#c51b7d\"], [0.2, \"#de77ae\"], [0.3, \"#f1b6da\"], [0.4, \"#fde0ef\"], [0.5, \"#f7f7f7\"], [0.6, \"#e6f5d0\"], [0.7, \"#b8e186\"], [0.8, \"#7fbc41\"], [0.9, \"#4d9221\"], [1, \"#276419\"]], \"sequential\": [[0.0, \"#0d0887\"], [0.1111111111111111, \"#46039f\"], [0.2222222222222222, \"#7201a8\"], [0.3333333333333333, \"#9c179e\"], [0.4444444444444444, \"#bd3786\"], [0.5555555555555556, \"#d8576b\"], [0.6666666666666666, \"#ed7953\"], [0.7777777777777778, \"#fb9f3a\"], [0.8888888888888888, \"#fdca26\"], [1.0, \"#f0f921\"]], \"sequentialminus\": [[0.0, \"#0d0887\"], [0.1111111111111111, \"#46039f\"], [0.2222222222222222, \"#7201a8\"], [0.3333333333333333, \"#9c179e\"], [0.4444444444444444, \"#bd3786\"], [0.5555555555555556, \"#d8576b\"], [0.6666666666666666, \"#ed7953\"], [0.7777777777777778, \"#fb9f3a\"], [0.8888888888888888, \"#fdca26\"], [1.0, \"#f0f921\"]]}, \"colorway\": [\"#636efa\", \"#EF553B\", \"#00cc96\", \"#ab63fa\", \"#FFA15A\", \"#19d3f3\", \"#FF6692\", \"#B6E880\", \"#FF97FF\", \"#FECB52\"], \"font\": {\"color\": \"#2a3f5f\"}, \"geo\": {\"bgcolor\": \"white\", \"lakecolor\": \"white\", \"landcolor\": \"#E5ECF6\", \"showlakes\": true, \"showland\": true, \"subunitcolor\": \"white\"}, \"hoverlabel\": {\"align\": \"left\"}, \"hovermode\": \"closest\", \"mapbox\": {\"style\": \"light\"}, \"paper_bgcolor\": \"white\", \"plot_bgcolor\": \"#E5ECF6\", \"polar\": {\"angularaxis\": {\"gridcolor\": \"white\", \"linecolor\": \"white\", \"ticks\": \"\"}, \"bgcolor\": \"#E5ECF6\", \"radialaxis\": {\"gridcolor\": \"white\", \"linecolor\": \"white\", \"ticks\": \"\"}}, \"scene\": {\"xaxis\": {\"backgroundcolor\": \"#E5ECF6\", \"gridcolor\": \"white\", \"gridwidth\": 2, \"linecolor\": \"white\", \"showbackground\": true, \"ticks\": \"\", \"zerolinecolor\": \"white\"}, \"yaxis\": {\"backgroundcolor\": \"#E5ECF6\", \"gridcolor\": \"white\", \"gridwidth\": 2, \"linecolor\": \"white\", \"showbackground\": true, \"ticks\": \"\", \"zerolinecolor\": \"white\"}, \"zaxis\": {\"backgroundcolor\": \"#E5ECF6\", \"gridcolor\": \"white\", \"gridwidth\": 2, \"linecolor\": \"white\", \"showbackground\": true, \"ticks\": \"\", \"zerolinecolor\": \"white\"}}, \"shapedefaults\": {\"line\": {\"color\": \"#2a3f5f\"}}, \"ternary\": {\"aaxis\": {\"gridcolor\": \"white\", \"linecolor\": \"white\", \"ticks\": \"\"}, \"baxis\": {\"gridcolor\": \"white\", \"linecolor\": \"white\", \"ticks\": \"\"}, \"bgcolor\": \"#E5ECF6\", \"caxis\": {\"gridcolor\": \"white\", \"linecolor\": \"white\", \"ticks\": \"\"}}, \"title\": {\"x\": 0.05}, \"xaxis\": {\"automargin\": true, \"gridcolor\": \"white\", \"linecolor\": \"white\", \"ticks\": \"\", \"title\": {\"standoff\": 15}, \"zerolinecolor\": \"white\", \"zerolinewidth\": 2}, \"yaxis\": {\"automargin\": true, \"gridcolor\": \"white\", \"linecolor\": \"white\", \"ticks\": \"\", \"title\": {\"standoff\": 15}, \"zerolinecolor\": \"white\", \"zerolinewidth\": 2}}}, \"title\": {\"text\": \"Mean feature importance for 25 iterations\"}, \"width\": 548.1896533333334, \"xaxis\": {\"anchor\": \"y\", \"domain\": [0.0, 1.0], \"matches\": \"x4\", \"showticklabels\": false, \"title\": {\"text\": \"Number principal component\"}}, \"xaxis2\": {\"anchor\": \"y2\", \"domain\": [0.0, 1.0], \"matches\": \"x4\", \"showticklabels\": false}, \"xaxis3\": {\"anchor\": \"y3\", \"domain\": [0.0, 1.0], \"matches\": \"x4\", \"showticklabels\": false}, \"xaxis4\": {\"anchor\": \"y4\", \"domain\": [0.0, 1.0]}, \"yaxis\": {\"anchor\": \"x\", \"domain\": [0.80625, 1.0]}, \"yaxis2\": {\"anchor\": \"x2\", \"domain\": [0.5375, 0.73125]}, \"yaxis3\": {\"anchor\": \"x3\", \"domain\": [0.26875, 0.4625]}, \"yaxis4\": {\"anchor\": \"x4\", \"domain\": [0.0, 0.19375]}},                        {\"responsive\": true}                    ).then(function(){\n",
       "                            \n",
       "var gd = document.getElementById('447424c9-2e68-4ae2-8a25-5352168c2d00');\n",
       "var x = new MutationObserver(function (mutations, observer) {{\n",
       "        var display = window.getComputedStyle(gd).display;\n",
       "        if (!display || display === 'none') {{\n",
       "            console.log([gd, 'removed!']);\n",
       "            Plotly.purge(gd);\n",
       "            observer.disconnect();\n",
       "        }}\n",
       "}});\n",
       "\n",
       "// Listen for the removal of the full notebook cells\n",
       "var notebookContainer = gd.closest('#notebook-container');\n",
       "if (notebookContainer) {{\n",
       "    x.observe(notebookContainer, {childList: true});\n",
       "}}\n",
       "\n",
       "// Listen for the clearing of the current output cell\n",
       "var outputEl = gd.closest('.output');\n",
       "if (outputEl) {{\n",
       "    x.observe(outputEl, {childList: true});\n",
       "}}\n",
       "\n",
       "                        })                };                });            </script>        </div>"
      ]
     },
     "metadata": {},
     "output_type": "display_data"
    }
   ],
   "source": [
    "visualize.plot_important_features(SupervisedModels,\n",
    "                               X = trainingData.drop([\"material_id\", \"full_formula\"], axis=1),\n",
    "                               k = numberSplits, \n",
    "                               n = numberRuns,                                      \n",
    "                     prettyNames = prettyNames,\n",
    "                           numPC = numberOfPrincipalComponents,\n",
    "                        approach = InsertApproach)"
   ]
  },
  {
   "cell_type": "code",
   "execution_count": 23,
   "metadata": {},
   "outputs": [
    {
     "data": {
      "text/markdown": [
       "## Falsely predicted entries\n"
      ],
      "text/plain": [
       "<IPython.core.display.Markdown object>"
      ]
     },
     "metadata": {},
     "output_type": "display_data"
    },
    {
     "data": {
      "text/html": [
       "\n",
       "        <script>\n",
       "            function code_toggle_2850347298791955470() {\n",
       "                $('div.cell.code_cell.rendered.selected').find('div.input').toggle();\n",
       "            }\n",
       "\n",
       "            \n",
       "        </script>\n",
       "\n",
       "        <a href=\"javascript:code_toggle_2850347298791955470()\">Toggle show/hide</a>\n",
       "    "
      ],
      "text/plain": [
       "<IPython.core.display.HTML object>"
      ]
     },
     "execution_count": 23,
     "metadata": {},
     "output_type": "execute_result"
    }
   ],
   "source": [
    "from IPython.display import display, Markdown\n",
    "\n",
    "with open(Path.cwd().parent.parent.parent / \"src\" / \"notebookcodesnippets\" / \"supervised\" / \"falselypredicted.md\", 'r') as fh:\n",
    "    content = fh.read()\n",
    "\n",
    "display(Markdown(content))\n",
    "hide_toggle()"
   ]
  },
  {
   "cell_type": "code",
   "execution_count": 24,
   "metadata": {
    "scrolled": false
   },
   "outputs": [
    {
     "data": {
      "application/vnd.plotly.v1+json": {
       "config": {
        "plotlyServerURL": "https://plot.ly"
       },
       "data": [
        {
         "name": "LOG ",
         "type": "bar",
         "x": [
          "Sr16Nb16O56",
          "Ba12Ni4Sb8O36",
          "Fe2Bi2O6",
          "V12Zn4O32",
          "P4W4O20",
          "Sr4V8Ni8O32",
          "Cr2Bi2O6",
          "V2Zn4P4O18",
          "V8Se16O48",
          "K4Ni4P12O36",
          "K24Co24P24O96",
          "Ba8Cr4O16",
          "As18Pb14S40",
          "Tc2B2",
          "Fe2Bi2O6",
          "Sn2P2O6",
          "Mg3Si2O9",
          "W3O10",
          "I10N4",
          "Ca2Co1O3",
          "Hg1H3I1O6",
          "Cu4Sb8O16",
          "Mn4Pb8W4O24",
          "Mn4As12Pb12O36",
          "Si18C8N2O36",
          "Ba4Mn4O12",
          "Co4Bi24S8O64"
         ],
         "y": [
          25,
          24,
          1,
          6,
          5,
          25,
          2,
          2,
          4,
          5,
          5,
          18,
          11,
          5,
          4,
          3,
          3,
          6,
          5,
          5,
          2,
          3,
          1,
          3,
          2,
          6,
          5
         ]
        },
        {
         "name": "DT ",
         "type": "bar",
         "x": [
          "Y8Cu8O20",
          "Na12Co2Se8",
          "Cr1Ag1Se2",
          "Gd6Ga2O12",
          "Mn4Si4N8",
          "Cr2Ag2S4",
          "Ho8Cu8O20",
          "Na12Mn2S8",
          "Mo6P18O54",
          "Cr1Cu1S2",
          "K4Cu2P8O24",
          "Ca4Gd1B3O10",
          "K1Cr1P2S7",
          "Li2U2O6",
          "Eu2B8O14",
          "Cr6P18O54",
          "Al8C2N6O2",
          "Na12Mn2Se8",
          "K12Co2S8",
          "K12Co2Se8",
          "Lu8Cu8O20",
          "Sr16Nb16O56",
          "Na36Fe8O28",
          "Na2Ca18Mn2P14O56",
          "K4V6O16",
          "Ba6V4S8O6",
          "Na4Co7P6O24",
          "K12Mn2S8",
          "K12Mn2Te8",
          "U6F18",
          "Na1Al6Fe3Si6B3O30F1",
          "K12Mn2Se8",
          "Ba12Ni4Sb8O36",
          "Cs8Li4Mn4O16",
          "Na8Co2O6",
          "Fe3P1O7",
          "Li1Fe1As2O7",
          "K4V2P4O16",
          "Li8Fe4Si4O16",
          "Na2Zr1Ni1P4O14",
          "Li2Mo2P4O14",
          "Na8Fe2O6",
          "Ca6Mn4O14",
          "Ho6Mn6O18",
          "Li2Cr2P4O14",
          "Co4O4",
          "Ba4Fe8O16",
          "Ba4V2Si4O16",
          "Na2Zr1Co1P4O14",
          "Zn4Mo6O16",
          "Ti2Fe2O6",
          "Li2Fe2P4O14",
          "Na4V2P4O16",
          "Ti4Mn4O12",
          "Y6Mn6O18",
          "Li1Y1Mo3O8",
          "Li1Sc1Mo3O8",
          "Na4Ni7P6O24",
          "Cs2Fe4P10O32",
          "K8Cr8P8O32F8",
          "Sr16Cr8O32",
          "K8V8P8O40",
          "V2Pb2O6",
          "Na2Nd2Mn2W2O12",
          "Na8Co4Ge4O16",
          "V2P6O18",
          "Mn2Cu4Ge2S8",
          "Na4Fe4O8",
          "Er8Cu8O20",
          "Al8Fe8O24",
          "Ce3Si3B3O15",
          "Ba2Yb2Co8O14",
          "Na1O3",
          "K4Ni4P4O16",
          "Na2La2Mn2W2O12",
          "K2Ce2Si2S8",
          "Fe2Bi2O6",
          "Fe2I6O18",
          "Fe2Bi2O6",
          "K24Co12Cl48",
          "Mn12B28I4O52",
          "Co6B14Cl2O26",
          "Cs1Mn1P3H1O10",
          "Cr4H4O8",
          "K4Mn4P4H8O20",
          "Cr2H2O4",
          "Fe2H2O4",
          "V2P4O14",
          "Li2Ti2P4O14",
          "Mn2P4O14",
          "Cu2I4O12",
          "V12Zn4O32",
          "K6Ni6Cl18",
          "Rb4Cr4I12",
          "Li16Co2O12",
          "Ca4Fe9O17",
          "Fe2Se2Cl14",
          "Na20Mn4O16",
          "V4As2O13",
          "Na20Mn12F56",
          "K4Fe4Cl16",
          "Eu8Cl12O2",
          "Rb6V6Br18",
          "Rb4Pu2Cl12",
          "P4W4O20",
          "Na12V18O42",
          "V2Re4O18",
          "Ba16Co14O42",
          "Cr4O4F12",
          "U1Mo5O16",
          "Ba4V6O18",
          "Mn6Co4O16",
          "La6Mn2Ga2S14",
          "Fe4Mo6O16",
          "K16Co8Si8O32",
          "Na2V4O10",
          "Gd12Nb4S12O16",
          "Na36Co8O28",
          "Rb4V6O16",
          "K2Na4Li2Ti4Fe4Si16O48",
          "Fe2H2O4",
          "Ca8Mn6B6C2O30",
          "K4Co2P8O24",
          "Ba8Fe8F40",
          "Fe2Te2Cl14",
          "Fe2Te2Br14",
          "Na2Mn6F20",
          "Sr16V8O32",
          "Sr4V8Ni8O32",
          "Sr4Fe4O10",
          "Mn2As4S4O8F24",
          "Cs8Co4Si4O16",
          "K4Cu2C4O12",
          "Dy6Mn6O18",
          "Fe16O24",
          "Na4Co2Ge2O8",
          "Cr2Bi2O6",
          "Ba1Cu1B2O5",
          "Fe1Bi1O3",
          "Eu8B20Cl4O36",
          "K2Ca18Mn2P14O56",
          "Ca18Fe2P14O56",
          "Ni12B28Br4O52",
          "Li2Ca18Mn2P14O56",
          "Ba2Cu4Te4Cl4O12",
          "Ba2Fe2F8",
          "Ba10Os6Cl2O30",
          "K2Gd2P8O24",
          "K32Fe16F80",
          "K20Mn2Mo14O54",
          "Al1Mo4S8",
          "K4Mn4Zn8Si8O30",
          "Ba8Gd4Cd6S20",
          "Mn2I4O12",
          "Fe12Si4P20O76",
          "Ba2Mo4P6O28",
          "Ba2Ni2F8",
          "Na2Tb2Mn2W2O12",
          "Os4O4F20",
          "Ce4B12O24",
          "Li2V4O10",
          "Li6Cu1B4O10",
          "Ba6Al4Cu4F32",
          "K4Ni2N8O24",
          "Ni12B28Cl4O52",
          "Ca2V4P4O20",
          "Fe6B14Cl2O26",
          "Cr16Si8Cl8O28",
          "Na24Ce8P16O64",
          "Ba4V4O4F16",
          "K16V4P8S36",
          "Ba2Fe2Cu2F14",
          "Eu6B2W2O18",
          "Mn12B28Cl4O52",
          "Te6W4Se8Cl16O4",
          "Ba2Mn2F8",
          "Fe6B14I2O26",
          "V2Zn4P4O18",
          "V4Cd2P4O20",
          "V8Se16O48",
          "Mn6Nb4Zn2O18",
          "Li2Fe4F12",
          "Mn39Si6Sb3O72",
          "K4Ni4P12O36",
          "K24Co24P24O96",
          "Fe2N6Cl2O6",
          "Mn8P4Cl4O16",
          "K17Fe5O16",
          "Cr4P12O36",
          "Na12Fe4O12",
          "Nd4Cu2Ge4O16",
          "Ba8Mn4Si8Cl4O28",
          "Eu8Br12O2",
          "Li8Mn4Si4O16",
          "Rb8Mn8V8O32",
          "Gd6Se8O24F2",
          "Cr12B28Cl4O52",
          "Sr2V4P4O20",
          "Rb4Cr4F20",
          "Ga1Mo4S8",
          "Tl4Ni7P6O24",
          "Cs2Mn2P8O24",
          "K4Mn2F12",
          "Ca18Cr2P14O56",
          "Eu4Si8N8O8",
          "Ca7Cu1Pt2O12",
          "K4V5Cu1Cl1O15",
          "La12Mo24O60",
          "Na16Ni12P16O60",
          "Gd3Al9B12O36",
          "Mn12B28Br4O52",
          "Ba4V10P8O48",
          "Cs6Mo10P12O50",
          "Re24S24F96",
          "Cs2Mn4V4Cl2O14",
          "Fe12B28I4O52",
          "Gd6B2W2O18",
          "K4Sr6Mn4P12O42",
          "Ba6Al3Cu6F33",
          "Na4Fe2Ni2F14",
          "Ba8Cr4O16",
          "Li8Co4Si4O16",
          "Ba6Co6Si6O24",
          "Ba4Ca4Co16O28",
          "Na16Co8P16O56",
          "Na16Co12P16O60",
          "K2Ho2Co2Si4O14",
          "Rb12In4Co4Si18O52",
          "Li12Mn6Sn18O48",
          "Fe16B8O32",
          "Ga1Mo4Se8",
          "Gd6Cu2Ge2Se14",
          "Gd6Cu2Sn2Se14",
          "Rb4Cr4Cl12",
          "Rb8Co4Cl16",
          "Fe4Co4P4O16F4",
          "Co4I8O24",
          "Cs4Mn2V4Br4O12",
          "Cs6Mo10P14O48",
          "Gd6Cu2Ge2S14",
          "Ba2U2I12",
          "Na16Mn12P16O60",
          "Gd12Ge12O42",
          "Gd2Ag2Se4",
          "Fe2H24C8N2Cl8",
          "Al8Cr4Cl32",
          "Sb4Mo20O62",
          "Fe6O8",
          "Cs2V5O13",
          "Ba4Cu4Se8O24",
          "Ca4Fe2W2O12",
          "Ba10Os6N2O36",
          "Gd6Cu2Si2Se14",
          "Cu1H4Pb2Cl2O4",
          "Eu2Mg2H8",
          "K4Co4P4H8O20",
          "Ba2Co4P4H4O18",
          "K4Ni4P4H8O20",
          "Li4H8C4O12",
          "Ba8Y8Co32O64",
          "As18Pb14S40",
          "Rb10Hf2Fe2Mo12O48",
          "Ga8Fe8O24",
          "Nb16Ni32O72",
          "Gd13Ge6O31F1",
          "Re2Se4Cl24",
          "K48Co24Cl96",
          "K6Yb2S6O24",
          "Rb6V6I18",
          "Mo12N8Cl44",
          "Rb6Tm2S6O24",
          "Gd24Ru8O56",
          "Eu8C4I9N7",
          "Ba10Re6O32",
          "K1Y1H4C4O9",
          "Sr2B5H2O11",
          "K16Mn16Be24F96",
          "Ba5B20H4O38",
          "Fe4Ag4Se8O24",
          "Fe16Mo24O96",
          "K12V4C20N20O4",
          "K12Cr4C20N24O4",
          "Tl2Ni8P6O24",
          "K10Ce4H4S12O50",
          "Al4Si4H8O18",
          "Ni2P2H12N2O10",
          "K2Fe4H2Se8O24",
          "Cr4H72O36F12",
          "Mn8Si4H16O24",
          "Zn2Cr2H30N10Cl8F2",
          "Mg4Mn2H48Cl12O24",
          "Ca2Mn2Si4H6O17",
          "Li8Fe4Si4O16",
          "Li2Fe2Si2O8",
          "Li2Fe2Si2O8",
          "Li4Fe4Si4O16",
          "Li4Fe4Si4O16",
          "V6H16N4O16",
          "Na1Al6Fe3Si6B3H3O30F1",
          "Ba4V2P4O22",
          "Nd6Mn2Al2S14",
          "Ce6Mg2Al2S14",
          "Rb2Mn2P6H2O20",
          "Pr6Mn2Al2S14",
          "Mn12P8H4O34",
          "K2Ce2P8O24",
          "Na8Co4P8O28",
          "In1O1F2",
          "Tc2B2",
          "Cs1S1O3",
          "Fe2Bi2O6",
          "Pd1N2Cl2",
          "Ca2Cl2O2",
          "Ca2Fe2S2O2",
          "Ir1N4Cl4",
          "Fe1N3F6",
          "Sn2P2O6",
          "Mg1Cu2As1O7",
          "Fe4P4O14",
          "Cs1Cr1P2S7",
          "Na2I2O8",
          "Eu4Ge2S8",
          "Ba1Mn2P2O9",
          "Mo2P2O10",
          "Li2Nd2B2O8",
          "Mg3Si2O9",
          "W3O10",
          "Rb1Li3S2O9",
          "Ir1N5Cl6O3",
          "I10N4",
          "Rb2La2Mn2W2O12",
          "Li4Mn2Sn2S8",
          "Sm6Fe2O12",
          "Cs6Fe2O5",
          "Si2Ni3H4O9",
          "Mn4Bi4O12",
          "V2Co1O6",
          "Sr10Cr6Cl2O24",
          "Na4Zn4Mo4O20",
          "N4O16",
          "Na2Sr1P4O18",
          "Mo3C8Se13N2",
          "Li4Be4N4F16",
          "La6Fe2O12",
          "K4Al4O14",
          "Fe3Co1Bi4O12",
          "K12V8S16O72",
          "Ca2Co1O3",
          "Ca3S6O30",
          "Be8N16F32",
          "Hg1H3I1O6",
          "Nd6Fe2O12",
          "Li2Mn2V2F12",
          "Ce4B4S12",
          "K2U2Si2O14",
          "Zr2P4C2O12",
          "Gd6Fe2O12",
          "Rb3Se3O12",
          "Ba2Al4O12",
          "Nd8Fe2S12O2",
          "Li2Al2Si4H1O14",
          "Gd6Mg2Al2S14",
          "Na2Gd6Ge2S14",
          "Ce2S4O17",
          "K5Mo1C7N7O1",
          "Pr6In2Fe2S14",
          "Gd6Mn2Al2S14",
          "Sm6Al2Fe2S14",
          "Sr4Fe2Cu2Pb4O12",
          "Gd6Cu2Si2S14",
          "K4Cu2Te2O14",
          "Eu8I12O2",
          "Gd6Mn2Ga2S14",
          "Gd6Be2Cr2S14",
          "Gd6Al2Zn2S14",
          "Fe2C10O10",
          "Pr8Mn2S14",
          "La6Be2Cr2S14",
          "Cs2Os4O18",
          "Sb2Ir2Xe2F24",
          "Li8Mn2Sn4Se14",
          "Cs4V6O16",
          "Tl4V2S4O20",
          "Cs4Cd4I12O4",
          "Ba2Dy2Fe8O14",
          "Sm8Fe2S14",
          "Sm2I6O20",
          "Li8Mn2Ge4S14",
          "Ho6Mn6O18",
          "Mn6In6O18",
          "Sc2Se6O18",
          "Nd2I6O20",
          "Re4Cl16O8",
          "Cu4Sb8O16",
          "Sr2Cu4Se4Cl4O12",
          "Li3Cr4P1O19",
          "Mn4P4C4O16",
          "Ba2Lu2Co8O14",
          "V6As4O18",
          "Sr4Mn8V8O32",
          "K20Mn12O24",
          "Sm12P12O56",
          "Ba6Na2Gd6Si12O40",
          "Fe6B14I2O26",
          "Cs12Gd4P8O32",
          "Ca4Ti8Mn4O24",
          "Mn4Pb8W4O24",
          "Co6H42C18N6O36",
          "Li8Mn4Sn4S16",
          "Gd4Be8B20O44",
          "K4Nd2N10O34",
          "B20Pb8Cl4O38",
          "K4Pr2N10O34",
          "K10Mo6H4S8O4F22",
          "V8Pb6O6F38",
          "La16Mn8Se16O16",
          "Ba4S8N8O24",
          "Li4Al4Si6O24",
          "Nb24I44",
          "Gd8Ge6S24",
          "Na4Al4Si6O24",
          "Ca2Al4Si6O26",
          "Ba8Cu8Si16O48",
          "Cs4U2Si12O30",
          "Co6B14O26F2",
          "K8Ce4S12O52",
          "Sb8S16O72",
          "K4Mo12H4Cl28O2",
          "Np4P8H8C4O32",
          "Zn1Fe16Ni7O32",
          "La4I12O38",
          "V24H144C48O76",
          "Ba2V4P8O34",
          "Gd8Si6S24",
          "V12Co18Te6Pb18O84",
          "C16N36O12",
          "Ca12Al16Co4O40",
          "Gd4Re12O60",
          "Zn3Fe16Ni5O32",
          "Cs4Mo8P12O52",
          "Gd16Ga4Sb4S36",
          "Th4P8H8C4O32",
          "Zr4O12F20",
          "Ca4Re8O40",
          "Ce8H8Se16O48",
          "Mn4As12Pb12O36",
          "In2S6N6O24",
          "Ni6As6O21",
          "Rb8Te8O8F28",
          "Rb8U4Se8O48",
          "Gd8Ag8S16",
          "Y2B12O24",
          "U2B16O34",
          "Ba4Lu4Co16O28",
          "Na8Zr4Si12O44",
          "Mo6Se2N4O24",
          "Ca4B12O24",
          "Rb8U4C8S4O44",
          "K8Fe4Ge12Se32",
          "V8P8N8O40",
          "Mn8Fe8N8F48",
          "K4Cd2C8O20",
          "Li4Be4As4O20",
          "Li16Be12P14O58",
          "Li4Fe4Se16O40",
          "K4Mn2C8O20",
          "Zn4Fe16Ni4O32",
          "Ti6P8N4O32",
          "La16Fe8Se16O16",
          "Ca2Al4Si12O40",
          "Cu6Pb4Se4N4O28",
          "Th4P6O26",
          "K8I16O48",
          "Ca2Al4Si6O26",
          "Gd2B12O24",
          "Ba4Tm4Co16O28",
          "Fe6H42C18N6O36",
          "Ho2B12O24",
          "Si18C8N2O36",
          "U4S4N4O24F4",
          "Np4P8H36C8N4O44",
          "Ni2P2H30O22",
          "Ba10P6O26",
          "Na2Se8O24",
          "Re8C12Cl12O24",
          "K4U4V4I4O40",
          "Rb4Os8O36",
          "Na12Ni6B18P12H6O76",
          "Cu12Mo2C40S8N10Cl18",
          "Ba4Mn4O12",
          "Co4Bi24S8O64",
          "Sr4Mn2Mo2O12",
          "Fe12O16",
          "Sr8Co4O16",
          "Rb1Cr5S8"
         ],
         "y": [
          3,
          3,
          7,
          4,
          9,
          6,
          3,
          3,
          9,
          3,
          2,
          10,
          6,
          9,
          2,
          3,
          7,
          3,
          1,
          1,
          5,
          8,
          3,
          7,
          1,
          9,
          2,
          3,
          6,
          5,
          3,
          2,
          14,
          6,
          3,
          8,
          11,
          6,
          6,
          2,
          2,
          2,
          8,
          4,
          2,
          9,
          4,
          4,
          2,
          6,
          9,
          3,
          5,
          6,
          2,
          2,
          2,
          3,
          3,
          8,
          4,
          10,
          8,
          6,
          5,
          7,
          7,
          3,
          2,
          10,
          5,
          1,
          16,
          9,
          6,
          4,
          13,
          5,
          9,
          5,
          2,
          1,
          5,
          11,
          1,
          5,
          4,
          10,
          2,
          9,
          6,
          15,
          3,
          5,
          4,
          7,
          1,
          6,
          11,
          2,
          3,
          5,
          5,
          3,
          9,
          1,
          11,
          10,
          6,
          13,
          3,
          8,
          6,
          8,
          4,
          4,
          7,
          5,
          9,
          1,
          9,
          6,
          1,
          4,
          3,
          5,
          8,
          9,
          9,
          6,
          4,
          8,
          5,
          2,
          4,
          5,
          9,
          1,
          9,
          1,
          5,
          8,
          2,
          7,
          2,
          1,
          7,
          2,
          5,
          5,
          3,
          3,
          12,
          5,
          11,
          2,
          1,
          1,
          4,
          3,
          3,
          3,
          3,
          3,
          1,
          14,
          5,
          1,
          4,
          2,
          10,
          1,
          4,
          1,
          3,
          3,
          4,
          10,
          12,
          7,
          6,
          11,
          4,
          9,
          8,
          10,
          8,
          1,
          10,
          4,
          3,
          3,
          3,
          2,
          8,
          5,
          1,
          15,
          1,
          3,
          7,
          5,
          2,
          11,
          3,
          5,
          1,
          4,
          4,
          3,
          2,
          7,
          1,
          4,
          3,
          1,
          7,
          1,
          2,
          9,
          12,
          7,
          6,
          4,
          6,
          4,
          2,
          4,
          7,
          5,
          5,
          2,
          4,
          2,
          6,
          8,
          7,
          2,
          3,
          2,
          6,
          4,
          8,
          13,
          1,
          8,
          11,
          9,
          12,
          6,
          8,
          8,
          2,
          2,
          9,
          1,
          2,
          1,
          4,
          1,
          17,
          3,
          9,
          10,
          6,
          1,
          7,
          1,
          5,
          2,
          7,
          8,
          1,
          10,
          1,
          2,
          1,
          6,
          6,
          4,
          5,
          11,
          7,
          4,
          1,
          1,
          4,
          2,
          1,
          1,
          1,
          1,
          3,
          2,
          5,
          2,
          4,
          1,
          1,
          6,
          2,
          4,
          5,
          4,
          4,
          1,
          3,
          11,
          4,
          13,
          11,
          5,
          5,
          7,
          3,
          4,
          17,
          3,
          10,
          3,
          9,
          5,
          4,
          11,
          5,
          6,
          12,
          3,
          2,
          10,
          9,
          7,
          3,
          6,
          8,
          13,
          13,
          6,
          10,
          1,
          8,
          4,
          2,
          6,
          4,
          4,
          7,
          12,
          8,
          1,
          2,
          2,
          10,
          4,
          6,
          5,
          4,
          11,
          4,
          2,
          5,
          1,
          1,
          4,
          4,
          1,
          4,
          2,
          7,
          1,
          2,
          4,
          4,
          3,
          5,
          2,
          2,
          2,
          10,
          1,
          8,
          3,
          13,
          4,
          2,
          1,
          6,
          4,
          3,
          8,
          10,
          7,
          3,
          10,
          1,
          5,
          5,
          4,
          8,
          4,
          3,
          6,
          8,
          1,
          7,
          11,
          16,
          1,
          9,
          4,
          1,
          3,
          1,
          4,
          3,
          9,
          10,
          6,
          3,
          1,
          8,
          1,
          5,
          8,
          1,
          5,
          16,
          2,
          2,
          1,
          5,
          3,
          3,
          3,
          8,
          1,
          7,
          12,
          2,
          2,
          7,
          3,
          3,
          9,
          5,
          15,
          11,
          11,
          4,
          4,
          10,
          8,
          5,
          2,
          5,
          4,
          4,
          1,
          8,
          6,
          5,
          3,
          5,
          3,
          13,
          5,
          1,
          5,
          8,
          5,
          7,
          7,
          7,
          4,
          2,
          3,
          2,
          5,
          11,
          4,
          1,
          1,
          13,
          8,
          1,
          2,
          10,
          3,
          1,
          8,
          9,
          10,
          6,
          10,
          5
         ]
        },
        {
         "name": "RF ",
         "type": "bar",
         "x": [
          "Cr1Ag1Se2",
          "Mn4Si4N8",
          "Cr2Ag2S4",
          "Ho8Cu8O20",
          "Mo6P18O54",
          "Cr1Cu1S2",
          "Ca4Gd1B3O10",
          "K1Cr1P2S7",
          "Li2U2O6",
          "Cr6P18O54",
          "Al8C2N6O2",
          "Lu8Cu8O20",
          "Sr16Nb16O56",
          "Na36Fe8O28",
          "Na2Ca18Mn2P14O56",
          "Ba6V4S8O6",
          "U6F18",
          "Ba12Ni4Sb8O36",
          "Cs8Li4Mn4O16",
          "Fe3P1O7",
          "Li1Fe1As2O7",
          "K4V2P4O16",
          "Li2Mo2P4O14",
          "Ca6Mn4O14",
          "Co4O4",
          "Ba4Fe8O16",
          "Ba4V2Si4O16",
          "Zn4Mo6O16",
          "Ti2Fe2O6",
          "Ti4Mn4O12",
          "Y6Mn6O18",
          "Sr16Cr8O32",
          "V2Pb2O6",
          "Na2Nd2Mn2W2O12",
          "V2P6O18",
          "Mn2Cu4Ge2S8",
          "Er8Cu8O20",
          "Al8Fe8O24",
          "Na1O3",
          "K4Ni4P4O16",
          "Na2La2Mn2W2O12",
          "Fe2Bi2O6",
          "Fe2I6O18",
          "Fe2Bi2O6",
          "Cr4H4O8",
          "Cr2H2O4",
          "Fe2H2O4",
          "V2P4O14",
          "Mn2P4O14",
          "Cu2I4O12",
          "V12Zn4O32",
          "Rb4Cr4I12",
          "V4As2O13",
          "Rb6V6Br18",
          "P4W4O20",
          "V2Re4O18",
          "Ba16Co14O42",
          "U1Mo5O16",
          "Ba4V6O18",
          "Mn6Co4O16",
          "Fe4Mo6O16",
          "K16Co8Si8O32",
          "Na36Co8O28",
          "Rb4V6O16",
          "Fe2H2O4",
          "Ca8Mn6B6C2O30",
          "Fe2Te2Br14",
          "Na2Mn6F20",
          "Sr16V8O32",
          "Sr4V8Ni8O32",
          "Sr4Fe4O10",
          "Cs8Co4Si4O16",
          "K4Cu2C4O12",
          "Cr2Bi2O6",
          "Ba1Cu1B2O5",
          "Fe1Bi1O3",
          "K2Ca18Mn2P14O56",
          "Ca18Fe2P14O56",
          "K20Mn2Mo14O54",
          "K4Mn4Zn8Si8O30",
          "Ba8Gd4Cd6S20",
          "Mn2I4O12",
          "Fe12Si4P20O76",
          "K4Ni2N8O24",
          "Ca2V4P4O20",
          "K16V4P8S36",
          "Te6W4Se8Cl16O4",
          "Ba2Mn2F8",
          "V2Zn4P4O18",
          "V4Cd2P4O20",
          "V8Se16O48",
          "Mn6Nb4Zn2O18",
          "Li2Fe4F12",
          "Mn39Si6Sb3O72",
          "K4Ni4P12O36",
          "K24Co24P24O96",
          "Mn8P4Cl4O16",
          "Cr4P12O36",
          "Na12Fe4O12",
          "Rb8Mn8V8O32",
          "Gd6Se8O24F2",
          "Sr2V4P4O20",
          "Ga1Mo4S8",
          "Tl4Ni7P6O24",
          "Ca18Cr2P14O56",
          "Ca7Cu1Pt2O12",
          "Na16Ni12P16O60",
          "Gd3Al9B12O36",
          "Gd6B2W2O18",
          "Na4Fe2Ni2F14",
          "Ba8Cr4O16",
          "Ba6Co6Si6O24",
          "K2Ho2Co2Si4O14",
          "Rb12In4Co4Si18O52",
          "Li12Mn6Sn18O48",
          "Fe16B8O32",
          "Ga1Mo4Se8",
          "Rb8Co4Cl16",
          "Fe4Co4P4O16F4",
          "Co4I8O24",
          "Ba2U2I12",
          "Gd12Ge12O42",
          "Gd2Ag2Se4",
          "Al8Cr4Cl32",
          "Sb4Mo20O62",
          "Fe6O8",
          "Cs2V5O13",
          "Ba4Cu4Se8O24",
          "Ca4Fe2W2O12",
          "Ba10Os6N2O36",
          "Eu2Mg2H8",
          "As18Pb14S40",
          "Rb10Hf2Fe2Mo12O48",
          "Ga8Fe8O24",
          "Nb16Ni32O72",
          "K48Co24Cl96",
          "Rb6V6I18",
          "Rb6Tm2S6O24",
          "Gd24Ru8O56",
          "Ba10Re6O32",
          "Fe4Ag4Se8O24",
          "Fe16Mo24O96",
          "K12Cr4C20N24O4",
          "Tl2Ni8P6O24",
          "Li2Fe2Si2O8",
          "In1O1F2",
          "Tc2B2",
          "Cs1S1O3",
          "Fe2Bi2O6",
          "Pd1N2Cl2",
          "Ca2Cl2O2",
          "Ca2Fe2S2O2",
          "Sn2P2O6",
          "Mg1Cu2As1O7",
          "Fe4P4O14",
          "Cs1Cr1P2S7",
          "Na2I2O8",
          "Ba1Mn2P2O9",
          "Mo2P2O10",
          "Mg3Si2O9",
          "W3O10",
          "Ir1N5Cl6O3",
          "I10N4",
          "Rb2La2Mn2W2O12",
          "Li4Mn2Sn2S8",
          "Cs6Fe2O5",
          "Si2Ni3H4O9",
          "Mn4Bi4O12",
          "V2Co1O6",
          "Sr10Cr6Cl2O24",
          "Na4Zn4Mo4O20",
          "Na2Sr1P4O18",
          "Mo3C8Se13N2",
          "La6Fe2O12",
          "K4Al4O14",
          "Fe3Co1Bi4O12",
          "Ca2Co1O3",
          "Hg1H3I1O6",
          "Nd6Fe2O12",
          "Li2Mn2V2F12",
          "Rb3Se3O12",
          "K5Mo1C7N7O1",
          "Sr4Fe2Cu2Pb4O12",
          "Eu8I12O2",
          "Cs2Os4O18",
          "Li8Mn2Sn4Se14",
          "Cd2N4O20",
          "Tl4V2S4O20",
          "Sm2I6O20",
          "Li8Mn2Ge4S14",
          "Mn6In6O18",
          "Sc2Se6O18",
          "Cu4Sb8O16",
          "V6As4O18",
          "Sr4Mn8V8O32",
          "Sm12P12O56",
          "Ba6Na2Gd6Si12O40",
          "Cs12Gd4P8O32",
          "Ca4Ti8Mn4O24",
          "Mn4Pb8W4O24",
          "Li8Mn4Sn4S16",
          "B20Pb8Cl4O38",
          "La16Mn8Se16O16",
          "Ba4S8N8O24",
          "Nb24I44",
          "Cs4U2Si12O30",
          "Sb8S16O72",
          "V12Co18Te6Pb18O84",
          "C16N36O12",
          "Ca12Al16Co4O40",
          "Gd4Re12O60",
          "S2N16O26",
          "Gd16Ga4Sb4S36",
          "Ca4Re8O40",
          "Mn4As12Pb12O36",
          "In2S6N6O24",
          "Ni6As6O21",
          "Gd8Ag8S16",
          "Ca4B12O24",
          "K8Fe4Ge12Se32",
          "Li4Fe4Se16O40",
          "Zn4Fe16Ni4O32",
          "La16Fe8Se16O16",
          "Cu6Pb4Se4N4O28",
          "Th4P6O26",
          "K8I16O48",
          "Si18C8N2O36",
          "Ba10P6O26",
          "Na2Se8O24",
          "Rb4Os8O36",
          "Ba4Mn4O12",
          "Co4Bi24S8O64",
          "Sr4Mn2Mo2O12",
          "Fe12O16",
          "Sr8Co4O16"
         ],
         "y": [
          3,
          4,
          2,
          2,
          3,
          1,
          12,
          3,
          3,
          5,
          4,
          2,
          10,
          1,
          3,
          3,
          3,
          22,
          6,
          4,
          5,
          2,
          1,
          3,
          5,
          1,
          4,
          1,
          8,
          7,
          3,
          7,
          4,
          4,
          5,
          3,
          5,
          6,
          17,
          15,
          3,
          10,
          2,
          6,
          2,
          3,
          1,
          1,
          2,
          6,
          12,
          1,
          14,
          1,
          10,
          5,
          5,
          4,
          3,
          4,
          2,
          1,
          1,
          1,
          3,
          1,
          4,
          2,
          6,
          20,
          7,
          7,
          1,
          6,
          1,
          6,
          2,
          4,
          1,
          1,
          7,
          4,
          4,
          2,
          12,
          10,
          1,
          1,
          11,
          14,
          4,
          2,
          3,
          1,
          3,
          4,
          2,
          3,
          1,
          1,
          1,
          15,
          1,
          13,
          2,
          6,
          1,
          4,
          2,
          5,
          20,
          6,
          1,
          1,
          6,
          5,
          3,
          1,
          2,
          4,
          2,
          4,
          3,
          4,
          5,
          5,
          1,
          2,
          11,
          4,
          4,
          15,
          1,
          2,
          6,
          2,
          1,
          1,
          5,
          8,
          2,
          5,
          3,
          5,
          2,
          10,
          5,
          5,
          11,
          4,
          4,
          4,
          20,
          3,
          7,
          4,
          2,
          2,
          1,
          3,
          11,
          1,
          4,
          5,
          1,
          3,
          3,
          10,
          10,
          1,
          5,
          1,
          1,
          1,
          1,
          7,
          5,
          4,
          1,
          3,
          6,
          1,
          5,
          1,
          2,
          3,
          1,
          5,
          1,
          1,
          3,
          4,
          12,
          4,
          3,
          1,
          3,
          6,
          7,
          9,
          2,
          1,
          3,
          5,
          1,
          3,
          6,
          6,
          4,
          6,
          3,
          1,
          3,
          3,
          5,
          5,
          16,
          3,
          1,
          3,
          8,
          2,
          4,
          2,
          1,
          1,
          12,
          13,
          2,
          2,
          5,
          6,
          6,
          4,
          7
         ]
        },
        {
         "name": "GB ",
         "type": "bar",
         "x": [
          "Cr1Ag1Se2",
          "Mn4Si4N8",
          "Mo6P18O54",
          "Ca4Gd1B3O10",
          "K1Cr1P2S7",
          "Cr6P18O54",
          "Al8C2N6O2",
          "Sr16Nb16O56",
          "Na2Ca18Mn2P14O56",
          "Ba6V4S8O6",
          "U6F18",
          "Ba12Ni4Sb8O36",
          "Cs8Li4Mn4O16",
          "Fe3P1O7",
          "Li1Fe1As2O7",
          "K4V2P4O16",
          "Ca6Mn4O14",
          "Co4O4",
          "Ba4V2Si4O16",
          "Zn4Mo6O16",
          "Ti2Fe2O6",
          "Ti4Mn4O12",
          "Y6Mn6O18",
          "Sr16Cr8O32",
          "V2Pb2O6",
          "Na2Nd2Mn2W2O12",
          "V2P6O18",
          "Er8Cu8O20",
          "Al8Fe8O24",
          "Na1O3",
          "K4Ni4P4O16",
          "Na2La2Mn2W2O12",
          "Fe2Bi2O6",
          "Fe2Bi2O6",
          "V2P4O14",
          "Mn2P4O14",
          "Cu2I4O12",
          "V12Zn4O32",
          "Rb4Cr4I12",
          "V4As2O13",
          "Rb4Pu2Cl12",
          "P4W4O20",
          "V2Re4O18",
          "Ba16Co14O42",
          "U1Mo5O16",
          "Ba4V6O18",
          "Mn6Co4O16",
          "Fe4Mo6O16",
          "Fe2Te2Br14",
          "Na2Mn6F20",
          "Sr16V8O32",
          "Sr4V8Ni8O32",
          "Sr4Fe4O10",
          "Cs8Co4Si4O16",
          "Cr2Bi2O6",
          "Fe1Bi1O3",
          "Ca18Fe2P14O56",
          "Ba10Os6Cl2O30",
          "Ba8Gd4Cd6S20",
          "Mn2I4O12",
          "Fe12Si4P20O76",
          "Ba2Ni2F8",
          "Ca2V4P4O20",
          "K16V4P8S36",
          "Eu6B2W2O18",
          "V2Zn4P4O18",
          "V4Cd2P4O20",
          "V8Se16O48",
          "Mn6Nb4Zn2O18",
          "Li2Fe4F12",
          "K4Ni4P12O36",
          "K24Co24P24O96",
          "Cr4P12O36",
          "Rb8Mn8V8O32",
          "Sr2V4P4O20",
          "Tl4Ni7P6O24",
          "Ca7Cu1Pt2O12",
          "Gd3Al9B12O36",
          "Gd6B2W2O18",
          "Na4Fe2Ni2F14",
          "Ba8Cr4O16",
          "Ba6Co6Si6O24",
          "Rb12In4Co4Si18O52",
          "Li12Mn6Sn18O48",
          "Fe16B8O32",
          "Ga1Mo4Se8",
          "Rb8Co4Cl16",
          "Fe4Co4P4O16F4",
          "Co4I8O24",
          "Ba2U2I12",
          "Gd2Ag2Se4",
          "Al8Cr4Cl32",
          "Sb4Mo20O62",
          "Fe6O8",
          "Ba4Cu4Se8O24",
          "Ca4Fe2W2O12",
          "Ba10Os6N2O36",
          "Eu2Mg2H8",
          "As18Pb14S40",
          "Nb16Ni32O72",
          "Rb6V6I18",
          "Gd24Ru8O56",
          "Ba10Re6O32",
          "Fe4Ag4Se8O24",
          "Fe16Mo24O96",
          "Tl2Ni8P6O24",
          "In1O1F2",
          "Tc2B2",
          "Cs1S1O3",
          "Fe2Bi2O6",
          "Pd1N2Cl2",
          "Ca2Cl2O2",
          "Sn2P2O6",
          "Mg1Cu2As1O7",
          "Fe4P4O14",
          "Mo2P2O10",
          "Ba1Yb1Fe4O7",
          "Mg3Si2O9",
          "W3O10",
          "I10N4",
          "Rb2La2Mn2W2O12",
          "Li4Mn2Sn2S8",
          "Cs6Fe2O5",
          "Si2Ni3H4O9",
          "Mn4Bi4O12",
          "V2Co1O6",
          "Sr10Cr6Cl2O24",
          "Fe3Co1Bi4O12",
          "Ca2Co1O3",
          "Hg1H3I1O6",
          "Li2Mn2V2F12",
          "Rb3Se3O12",
          "Sr4Fe2Cu2Pb4O12",
          "Fe2C10O10",
          "Cs2Os4O18",
          "Li8Mn2Sn4Se14",
          "Tl4V2S4O20",
          "Mn6In6O18",
          "Sc2Se6O18",
          "Cu4Sb8O16",
          "V6As4O18",
          "Ba6Na2Gd6Si12O40",
          "Cs12Gd4P8O32",
          "Ca4Ti8Mn4O24",
          "Mn4Pb8W4O24",
          "Li8Mn4Sn4S16",
          "B20Pb8Cl4O38",
          "La16Mn8Se16O16",
          "Ba4S8N8O24",
          "Nb24I44",
          "Cs4U2Si12O30",
          "Sb8S16O72",
          "V12Co18Te6Pb18O84",
          "Gd4Re12O60",
          "S2N16O26",
          "Ca4Re8O40",
          "Mn4As12Pb12O36",
          "In2S6N6O24",
          "Ni6As6O21",
          "Gd8Ag8S16",
          "Ba4Lu4Co16O28",
          "K8Fe4Ge12Se32",
          "Li4Fe4Se16O40",
          "Zn4Fe16Ni4O32",
          "La16Fe8Se16O16",
          "Cu6Pb4Se4N4O28",
          "Th4P6O26",
          "Si18C8N2O36",
          "Ba10P6O26",
          "Na2Se8O24",
          "Rb4Os8O36",
          "Ba4Mn4O12",
          "Co4Bi24S8O64",
          "Sr4Mn2Mo2O12",
          "Fe12O16",
          "Sr8Co4O16"
         ],
         "y": [
          2,
          2,
          2,
          4,
          2,
          2,
          1,
          5,
          1,
          1,
          1,
          5,
          1,
          2,
          2,
          1,
          3,
          3,
          2,
          1,
          3,
          4,
          1,
          3,
          3,
          1,
          2,
          1,
          1,
          5,
          2,
          3,
          5,
          3,
          1,
          2,
          3,
          4,
          1,
          3,
          1,
          5,
          3,
          4,
          2,
          1,
          1,
          1,
          3,
          3,
          2,
          4,
          2,
          1,
          5,
          4,
          2,
          1,
          3,
          1,
          2,
          1,
          1,
          3,
          1,
          4,
          4,
          3,
          1,
          1,
          2,
          1,
          2,
          1,
          5,
          4,
          1,
          1,
          1,
          5,
          5,
          2,
          1,
          3,
          2,
          1,
          1,
          1,
          2,
          2,
          1,
          3,
          5,
          5,
          1,
          5,
          1,
          2,
          5,
          4,
          1,
          5,
          4,
          2,
          5,
          2,
          3,
          3,
          5,
          5,
          1,
          2,
          4,
          1,
          2,
          1,
          1,
          3,
          5,
          5,
          5,
          2,
          1,
          1,
          3,
          3,
          1,
          3,
          5,
          4,
          2,
          3,
          2,
          1,
          1,
          2,
          3,
          1,
          3,
          3,
          1,
          1,
          1,
          4,
          5,
          1,
          2,
          1,
          1,
          2,
          2,
          5,
          2,
          2,
          1,
          1,
          3,
          2,
          4,
          2,
          1,
          3,
          2,
          2,
          3,
          2,
          2,
          5,
          3,
          1,
          2,
          3,
          4,
          5,
          3,
          2
         ]
        }
       ],
       "layout": {
        "autosize": false,
        "barmode": "group",
        "font": {
         "color": "Black",
         "family": "Palatino",
         "size": 12
        },
        "height": 407.3235447076888,
        "template": {
         "data": {
          "bar": [
           {
            "error_x": {
             "color": "#2a3f5f"
            },
            "error_y": {
             "color": "#2a3f5f"
            },
            "marker": {
             "line": {
              "color": "#E5ECF6",
              "width": 0.5
             }
            },
            "type": "bar"
           }
          ],
          "barpolar": [
           {
            "marker": {
             "line": {
              "color": "#E5ECF6",
              "width": 0.5
             }
            },
            "type": "barpolar"
           }
          ],
          "carpet": [
           {
            "aaxis": {
             "endlinecolor": "#2a3f5f",
             "gridcolor": "white",
             "linecolor": "white",
             "minorgridcolor": "white",
             "startlinecolor": "#2a3f5f"
            },
            "baxis": {
             "endlinecolor": "#2a3f5f",
             "gridcolor": "white",
             "linecolor": "white",
             "minorgridcolor": "white",
             "startlinecolor": "#2a3f5f"
            },
            "type": "carpet"
           }
          ],
          "choropleth": [
           {
            "colorbar": {
             "outlinewidth": 0,
             "ticks": ""
            },
            "type": "choropleth"
           }
          ],
          "contour": [
           {
            "colorbar": {
             "outlinewidth": 0,
             "ticks": ""
            },
            "colorscale": [
             [
              0,
              "#0d0887"
             ],
             [
              0.1111111111111111,
              "#46039f"
             ],
             [
              0.2222222222222222,
              "#7201a8"
             ],
             [
              0.3333333333333333,
              "#9c179e"
             ],
             [
              0.4444444444444444,
              "#bd3786"
             ],
             [
              0.5555555555555556,
              "#d8576b"
             ],
             [
              0.6666666666666666,
              "#ed7953"
             ],
             [
              0.7777777777777778,
              "#fb9f3a"
             ],
             [
              0.8888888888888888,
              "#fdca26"
             ],
             [
              1,
              "#f0f921"
             ]
            ],
            "type": "contour"
           }
          ],
          "contourcarpet": [
           {
            "colorbar": {
             "outlinewidth": 0,
             "ticks": ""
            },
            "type": "contourcarpet"
           }
          ],
          "heatmap": [
           {
            "colorbar": {
             "outlinewidth": 0,
             "ticks": ""
            },
            "colorscale": [
             [
              0,
              "#0d0887"
             ],
             [
              0.1111111111111111,
              "#46039f"
             ],
             [
              0.2222222222222222,
              "#7201a8"
             ],
             [
              0.3333333333333333,
              "#9c179e"
             ],
             [
              0.4444444444444444,
              "#bd3786"
             ],
             [
              0.5555555555555556,
              "#d8576b"
             ],
             [
              0.6666666666666666,
              "#ed7953"
             ],
             [
              0.7777777777777778,
              "#fb9f3a"
             ],
             [
              0.8888888888888888,
              "#fdca26"
             ],
             [
              1,
              "#f0f921"
             ]
            ],
            "type": "heatmap"
           }
          ],
          "heatmapgl": [
           {
            "colorbar": {
             "outlinewidth": 0,
             "ticks": ""
            },
            "colorscale": [
             [
              0,
              "#0d0887"
             ],
             [
              0.1111111111111111,
              "#46039f"
             ],
             [
              0.2222222222222222,
              "#7201a8"
             ],
             [
              0.3333333333333333,
              "#9c179e"
             ],
             [
              0.4444444444444444,
              "#bd3786"
             ],
             [
              0.5555555555555556,
              "#d8576b"
             ],
             [
              0.6666666666666666,
              "#ed7953"
             ],
             [
              0.7777777777777778,
              "#fb9f3a"
             ],
             [
              0.8888888888888888,
              "#fdca26"
             ],
             [
              1,
              "#f0f921"
             ]
            ],
            "type": "heatmapgl"
           }
          ],
          "histogram": [
           {
            "marker": {
             "colorbar": {
              "outlinewidth": 0,
              "ticks": ""
             }
            },
            "type": "histogram"
           }
          ],
          "histogram2d": [
           {
            "colorbar": {
             "outlinewidth": 0,
             "ticks": ""
            },
            "colorscale": [
             [
              0,
              "#0d0887"
             ],
             [
              0.1111111111111111,
              "#46039f"
             ],
             [
              0.2222222222222222,
              "#7201a8"
             ],
             [
              0.3333333333333333,
              "#9c179e"
             ],
             [
              0.4444444444444444,
              "#bd3786"
             ],
             [
              0.5555555555555556,
              "#d8576b"
             ],
             [
              0.6666666666666666,
              "#ed7953"
             ],
             [
              0.7777777777777778,
              "#fb9f3a"
             ],
             [
              0.8888888888888888,
              "#fdca26"
             ],
             [
              1,
              "#f0f921"
             ]
            ],
            "type": "histogram2d"
           }
          ],
          "histogram2dcontour": [
           {
            "colorbar": {
             "outlinewidth": 0,
             "ticks": ""
            },
            "colorscale": [
             [
              0,
              "#0d0887"
             ],
             [
              0.1111111111111111,
              "#46039f"
             ],
             [
              0.2222222222222222,
              "#7201a8"
             ],
             [
              0.3333333333333333,
              "#9c179e"
             ],
             [
              0.4444444444444444,
              "#bd3786"
             ],
             [
              0.5555555555555556,
              "#d8576b"
             ],
             [
              0.6666666666666666,
              "#ed7953"
             ],
             [
              0.7777777777777778,
              "#fb9f3a"
             ],
             [
              0.8888888888888888,
              "#fdca26"
             ],
             [
              1,
              "#f0f921"
             ]
            ],
            "type": "histogram2dcontour"
           }
          ],
          "mesh3d": [
           {
            "colorbar": {
             "outlinewidth": 0,
             "ticks": ""
            },
            "type": "mesh3d"
           }
          ],
          "parcoords": [
           {
            "line": {
             "colorbar": {
              "outlinewidth": 0,
              "ticks": ""
             }
            },
            "type": "parcoords"
           }
          ],
          "pie": [
           {
            "automargin": true,
            "type": "pie"
           }
          ],
          "scatter": [
           {
            "marker": {
             "colorbar": {
              "outlinewidth": 0,
              "ticks": ""
             }
            },
            "type": "scatter"
           }
          ],
          "scatter3d": [
           {
            "line": {
             "colorbar": {
              "outlinewidth": 0,
              "ticks": ""
             }
            },
            "marker": {
             "colorbar": {
              "outlinewidth": 0,
              "ticks": ""
             }
            },
            "type": "scatter3d"
           }
          ],
          "scattercarpet": [
           {
            "marker": {
             "colorbar": {
              "outlinewidth": 0,
              "ticks": ""
             }
            },
            "type": "scattercarpet"
           }
          ],
          "scattergeo": [
           {
            "marker": {
             "colorbar": {
              "outlinewidth": 0,
              "ticks": ""
             }
            },
            "type": "scattergeo"
           }
          ],
          "scattergl": [
           {
            "marker": {
             "colorbar": {
              "outlinewidth": 0,
              "ticks": ""
             }
            },
            "type": "scattergl"
           }
          ],
          "scattermapbox": [
           {
            "marker": {
             "colorbar": {
              "outlinewidth": 0,
              "ticks": ""
             }
            },
            "type": "scattermapbox"
           }
          ],
          "scatterpolar": [
           {
            "marker": {
             "colorbar": {
              "outlinewidth": 0,
              "ticks": ""
             }
            },
            "type": "scatterpolar"
           }
          ],
          "scatterpolargl": [
           {
            "marker": {
             "colorbar": {
              "outlinewidth": 0,
              "ticks": ""
             }
            },
            "type": "scatterpolargl"
           }
          ],
          "scatterternary": [
           {
            "marker": {
             "colorbar": {
              "outlinewidth": 0,
              "ticks": ""
             }
            },
            "type": "scatterternary"
           }
          ],
          "surface": [
           {
            "colorbar": {
             "outlinewidth": 0,
             "ticks": ""
            },
            "colorscale": [
             [
              0,
              "#0d0887"
             ],
             [
              0.1111111111111111,
              "#46039f"
             ],
             [
              0.2222222222222222,
              "#7201a8"
             ],
             [
              0.3333333333333333,
              "#9c179e"
             ],
             [
              0.4444444444444444,
              "#bd3786"
             ],
             [
              0.5555555555555556,
              "#d8576b"
             ],
             [
              0.6666666666666666,
              "#ed7953"
             ],
             [
              0.7777777777777778,
              "#fb9f3a"
             ],
             [
              0.8888888888888888,
              "#fdca26"
             ],
             [
              1,
              "#f0f921"
             ]
            ],
            "type": "surface"
           }
          ],
          "table": [
           {
            "cells": {
             "fill": {
              "color": "#EBF0F8"
             },
             "line": {
              "color": "white"
             }
            },
            "header": {
             "fill": {
              "color": "#C8D4E3"
             },
             "line": {
              "color": "white"
             }
            },
            "type": "table"
           }
          ]
         },
         "layout": {
          "annotationdefaults": {
           "arrowcolor": "#2a3f5f",
           "arrowhead": 0,
           "arrowwidth": 1
          },
          "autotypenumbers": "strict",
          "coloraxis": {
           "colorbar": {
            "outlinewidth": 0,
            "ticks": ""
           }
          },
          "colorscale": {
           "diverging": [
            [
             0,
             "#8e0152"
            ],
            [
             0.1,
             "#c51b7d"
            ],
            [
             0.2,
             "#de77ae"
            ],
            [
             0.3,
             "#f1b6da"
            ],
            [
             0.4,
             "#fde0ef"
            ],
            [
             0.5,
             "#f7f7f7"
            ],
            [
             0.6,
             "#e6f5d0"
            ],
            [
             0.7,
             "#b8e186"
            ],
            [
             0.8,
             "#7fbc41"
            ],
            [
             0.9,
             "#4d9221"
            ],
            [
             1,
             "#276419"
            ]
           ],
           "sequential": [
            [
             0,
             "#0d0887"
            ],
            [
             0.1111111111111111,
             "#46039f"
            ],
            [
             0.2222222222222222,
             "#7201a8"
            ],
            [
             0.3333333333333333,
             "#9c179e"
            ],
            [
             0.4444444444444444,
             "#bd3786"
            ],
            [
             0.5555555555555556,
             "#d8576b"
            ],
            [
             0.6666666666666666,
             "#ed7953"
            ],
            [
             0.7777777777777778,
             "#fb9f3a"
            ],
            [
             0.8888888888888888,
             "#fdca26"
            ],
            [
             1,
             "#f0f921"
            ]
           ],
           "sequentialminus": [
            [
             0,
             "#0d0887"
            ],
            [
             0.1111111111111111,
             "#46039f"
            ],
            [
             0.2222222222222222,
             "#7201a8"
            ],
            [
             0.3333333333333333,
             "#9c179e"
            ],
            [
             0.4444444444444444,
             "#bd3786"
            ],
            [
             0.5555555555555556,
             "#d8576b"
            ],
            [
             0.6666666666666666,
             "#ed7953"
            ],
            [
             0.7777777777777778,
             "#fb9f3a"
            ],
            [
             0.8888888888888888,
             "#fdca26"
            ],
            [
             1,
             "#f0f921"
            ]
           ]
          },
          "colorway": [
           "#636efa",
           "#EF553B",
           "#00cc96",
           "#ab63fa",
           "#FFA15A",
           "#19d3f3",
           "#FF6692",
           "#B6E880",
           "#FF97FF",
           "#FECB52"
          ],
          "font": {
           "color": "#2a3f5f"
          },
          "geo": {
           "bgcolor": "white",
           "lakecolor": "white",
           "landcolor": "#E5ECF6",
           "showlakes": true,
           "showland": true,
           "subunitcolor": "white"
          },
          "hoverlabel": {
           "align": "left"
          },
          "hovermode": "closest",
          "mapbox": {
           "style": "light"
          },
          "paper_bgcolor": "white",
          "plot_bgcolor": "#E5ECF6",
          "polar": {
           "angularaxis": {
            "gridcolor": "white",
            "linecolor": "white",
            "ticks": ""
           },
           "bgcolor": "#E5ECF6",
           "radialaxis": {
            "gridcolor": "white",
            "linecolor": "white",
            "ticks": ""
           }
          },
          "scene": {
           "xaxis": {
            "backgroundcolor": "#E5ECF6",
            "gridcolor": "white",
            "gridwidth": 2,
            "linecolor": "white",
            "showbackground": true,
            "ticks": "",
            "zerolinecolor": "white"
           },
           "yaxis": {
            "backgroundcolor": "#E5ECF6",
            "gridcolor": "white",
            "gridwidth": 2,
            "linecolor": "white",
            "showbackground": true,
            "ticks": "",
            "zerolinecolor": "white"
           },
           "zaxis": {
            "backgroundcolor": "#E5ECF6",
            "gridcolor": "white",
            "gridwidth": 2,
            "linecolor": "white",
            "showbackground": true,
            "ticks": "",
            "zerolinecolor": "white"
           }
          },
          "shapedefaults": {
           "line": {
            "color": "#2a3f5f"
           }
          },
          "ternary": {
           "aaxis": {
            "gridcolor": "white",
            "linecolor": "white",
            "ticks": ""
           },
           "baxis": {
            "gridcolor": "white",
            "linecolor": "white",
            "ticks": ""
           },
           "bgcolor": "#E5ECF6",
           "caxis": {
            "gridcolor": "white",
            "linecolor": "white",
            "ticks": ""
           }
          },
          "title": {
           "x": 0.05
          },
          "xaxis": {
           "automargin": true,
           "gridcolor": "white",
           "linecolor": "white",
           "ticks": "",
           "title": {
            "standoff": 15
           },
           "zerolinecolor": "white",
           "zerolinewidth": 2
          },
          "yaxis": {
           "automargin": true,
           "gridcolor": "white",
           "linecolor": "white",
           "ticks": "",
           "title": {
            "standoff": 15
           },
           "zerolinecolor": "white",
           "zerolinewidth": 2
          }
         }
        },
        "title": {
         "text": "False positive (Nruns = 25)"
        },
        "width": 2192.7586133333334,
        "yaxis": {
         "title": {
          "text": "Counts"
         }
        }
       }
      },
      "text/html": [
       "<div>                            <div id=\"2498ebfa-8f00-42a7-b76c-e2fcea6734fa\" class=\"plotly-graph-div\" style=\"height:407.3235447076888px; width:2192.7586133333334px;\"></div>            <script type=\"text/javascript\">                require([\"plotly\"], function(Plotly) {                    window.PLOTLYENV=window.PLOTLYENV || {};                                    if (document.getElementById(\"2498ebfa-8f00-42a7-b76c-e2fcea6734fa\")) {                    Plotly.newPlot(                        \"2498ebfa-8f00-42a7-b76c-e2fcea6734fa\",                        [{\"name\": \"LOG \", \"type\": \"bar\", \"x\": [\"Sr16Nb16O56\", \"Ba12Ni4Sb8O36\", \"Fe2Bi2O6\", \"V12Zn4O32\", \"P4W4O20\", \"Sr4V8Ni8O32\", \"Cr2Bi2O6\", \"V2Zn4P4O18\", \"V8Se16O48\", \"K4Ni4P12O36\", \"K24Co24P24O96\", \"Ba8Cr4O16\", \"As18Pb14S40\", \"Tc2B2\", \"Fe2Bi2O6\", \"Sn2P2O6\", \"Mg3Si2O9\", \"W3O10\", \"I10N4\", \"Ca2Co1O3\", \"Hg1H3I1O6\", \"Cu4Sb8O16\", \"Mn4Pb8W4O24\", \"Mn4As12Pb12O36\", \"Si18C8N2O36\", \"Ba4Mn4O12\", \"Co4Bi24S8O64\"], \"y\": [25.0, 24.0, 1.0, 6.0, 5.0, 25.0, 2.0, 2.0, 4.0, 5.0, 5.0, 18.0, 11.0, 5.0, 4.0, 3.0, 3.0, 6.0, 5.0, 5.0, 2.0, 3.0, 1.0, 3.0, 2.0, 6.0, 5.0]}, {\"name\": \"DT \", \"type\": \"bar\", \"x\": [\"Y8Cu8O20\", \"Na12Co2Se8\", \"Cr1Ag1Se2\", \"Gd6Ga2O12\", \"Mn4Si4N8\", \"Cr2Ag2S4\", \"Ho8Cu8O20\", \"Na12Mn2S8\", \"Mo6P18O54\", \"Cr1Cu1S2\", \"K4Cu2P8O24\", \"Ca4Gd1B3O10\", \"K1Cr1P2S7\", \"Li2U2O6\", \"Eu2B8O14\", \"Cr6P18O54\", \"Al8C2N6O2\", \"Na12Mn2Se8\", \"K12Co2S8\", \"K12Co2Se8\", \"Lu8Cu8O20\", \"Sr16Nb16O56\", \"Na36Fe8O28\", \"Na2Ca18Mn2P14O56\", \"K4V6O16\", \"Ba6V4S8O6\", \"Na4Co7P6O24\", \"K12Mn2S8\", \"K12Mn2Te8\", \"U6F18\", \"Na1Al6Fe3Si6B3O30F1\", \"K12Mn2Se8\", \"Ba12Ni4Sb8O36\", \"Cs8Li4Mn4O16\", \"Na8Co2O6\", \"Fe3P1O7\", \"Li1Fe1As2O7\", \"K4V2P4O16\", \"Li8Fe4Si4O16\", \"Na2Zr1Ni1P4O14\", \"Li2Mo2P4O14\", \"Na8Fe2O6\", \"Ca6Mn4O14\", \"Ho6Mn6O18\", \"Li2Cr2P4O14\", \"Co4O4\", \"Ba4Fe8O16\", \"Ba4V2Si4O16\", \"Na2Zr1Co1P4O14\", \"Zn4Mo6O16\", \"Ti2Fe2O6\", \"Li2Fe2P4O14\", \"Na4V2P4O16\", \"Ti4Mn4O12\", \"Y6Mn6O18\", \"Li1Y1Mo3O8\", \"Li1Sc1Mo3O8\", \"Na4Ni7P6O24\", \"Cs2Fe4P10O32\", \"K8Cr8P8O32F8\", \"Sr16Cr8O32\", \"K8V8P8O40\", \"V2Pb2O6\", \"Na2Nd2Mn2W2O12\", \"Na8Co4Ge4O16\", \"V2P6O18\", \"Mn2Cu4Ge2S8\", \"Na4Fe4O8\", \"Er8Cu8O20\", \"Al8Fe8O24\", \"Ce3Si3B3O15\", \"Ba2Yb2Co8O14\", \"Na1O3\", \"K4Ni4P4O16\", \"Na2La2Mn2W2O12\", \"K2Ce2Si2S8\", \"Fe2Bi2O6\", \"Fe2I6O18\", \"Fe2Bi2O6\", \"K24Co12Cl48\", \"Mn12B28I4O52\", \"Co6B14Cl2O26\", \"Cs1Mn1P3H1O10\", \"Cr4H4O8\", \"K4Mn4P4H8O20\", \"Cr2H2O4\", \"Fe2H2O4\", \"V2P4O14\", \"Li2Ti2P4O14\", \"Mn2P4O14\", \"Cu2I4O12\", \"V12Zn4O32\", \"K6Ni6Cl18\", \"Rb4Cr4I12\", \"Li16Co2O12\", \"Ca4Fe9O17\", \"Fe2Se2Cl14\", \"Na20Mn4O16\", \"V4As2O13\", \"Na20Mn12F56\", \"K4Fe4Cl16\", \"Eu8Cl12O2\", \"Rb6V6Br18\", \"Rb4Pu2Cl12\", \"P4W4O20\", \"Na12V18O42\", \"V2Re4O18\", \"Ba16Co14O42\", \"Cr4O4F12\", \"U1Mo5O16\", \"Ba4V6O18\", \"Mn6Co4O16\", \"La6Mn2Ga2S14\", \"Fe4Mo6O16\", \"K16Co8Si8O32\", \"Na2V4O10\", \"Gd12Nb4S12O16\", \"Na36Co8O28\", \"Rb4V6O16\", \"K2Na4Li2Ti4Fe4Si16O48\", \"Fe2H2O4\", \"Ca8Mn6B6C2O30\", \"K4Co2P8O24\", \"Ba8Fe8F40\", \"Fe2Te2Cl14\", \"Fe2Te2Br14\", \"Na2Mn6F20\", \"Sr16V8O32\", \"Sr4V8Ni8O32\", \"Sr4Fe4O10\", \"Mn2As4S4O8F24\", \"Cs8Co4Si4O16\", \"K4Cu2C4O12\", \"Dy6Mn6O18\", \"Fe16O24\", \"Na4Co2Ge2O8\", \"Cr2Bi2O6\", \"Ba1Cu1B2O5\", \"Fe1Bi1O3\", \"Eu8B20Cl4O36\", \"K2Ca18Mn2P14O56\", \"Ca18Fe2P14O56\", \"Ni12B28Br4O52\", \"Li2Ca18Mn2P14O56\", \"Ba2Cu4Te4Cl4O12\", \"Ba2Fe2F8\", \"Ba10Os6Cl2O30\", \"K2Gd2P8O24\", \"K32Fe16F80\", \"K20Mn2Mo14O54\", \"Al1Mo4S8\", \"K4Mn4Zn8Si8O30\", \"Ba8Gd4Cd6S20\", \"Mn2I4O12\", \"Fe12Si4P20O76\", \"Ba2Mo4P6O28\", \"Ba2Ni2F8\", \"Na2Tb2Mn2W2O12\", \"Os4O4F20\", \"Ce4B12O24\", \"Li2V4O10\", \"Li6Cu1B4O10\", \"Ba6Al4Cu4F32\", \"K4Ni2N8O24\", \"Ni12B28Cl4O52\", \"Ca2V4P4O20\", \"Fe6B14Cl2O26\", \"Cr16Si8Cl8O28\", \"Na24Ce8P16O64\", \"Ba4V4O4F16\", \"K16V4P8S36\", \"Ba2Fe2Cu2F14\", \"Eu6B2W2O18\", \"Mn12B28Cl4O52\", \"Te6W4Se8Cl16O4\", \"Ba2Mn2F8\", \"Fe6B14I2O26\", \"V2Zn4P4O18\", \"V4Cd2P4O20\", \"V8Se16O48\", \"Mn6Nb4Zn2O18\", \"Li2Fe4F12\", \"Mn39Si6Sb3O72\", \"K4Ni4P12O36\", \"K24Co24P24O96\", \"Fe2N6Cl2O6\", \"Mn8P4Cl4O16\", \"K17Fe5O16\", \"Cr4P12O36\", \"Na12Fe4O12\", \"Nd4Cu2Ge4O16\", \"Ba8Mn4Si8Cl4O28\", \"Eu8Br12O2\", \"Li8Mn4Si4O16\", \"Rb8Mn8V8O32\", \"Gd6Se8O24F2\", \"Cr12B28Cl4O52\", \"Sr2V4P4O20\", \"Rb4Cr4F20\", \"Ga1Mo4S8\", \"Tl4Ni7P6O24\", \"Cs2Mn2P8O24\", \"K4Mn2F12\", \"Ca18Cr2P14O56\", \"Eu4Si8N8O8\", \"Ca7Cu1Pt2O12\", \"K4V5Cu1Cl1O15\", \"La12Mo24O60\", \"Na16Ni12P16O60\", \"Gd3Al9B12O36\", \"Mn12B28Br4O52\", \"Ba4V10P8O48\", \"Cs6Mo10P12O50\", \"Re24S24F96\", \"Cs2Mn4V4Cl2O14\", \"Fe12B28I4O52\", \"Gd6B2W2O18\", \"K4Sr6Mn4P12O42\", \"Ba6Al3Cu6F33\", \"Na4Fe2Ni2F14\", \"Ba8Cr4O16\", \"Li8Co4Si4O16\", \"Ba6Co6Si6O24\", \"Ba4Ca4Co16O28\", \"Na16Co8P16O56\", \"Na16Co12P16O60\", \"K2Ho2Co2Si4O14\", \"Rb12In4Co4Si18O52\", \"Li12Mn6Sn18O48\", \"Fe16B8O32\", \"Ga1Mo4Se8\", \"Gd6Cu2Ge2Se14\", \"Gd6Cu2Sn2Se14\", \"Rb4Cr4Cl12\", \"Rb8Co4Cl16\", \"Fe4Co4P4O16F4\", \"Co4I8O24\", \"Cs4Mn2V4Br4O12\", \"Cs6Mo10P14O48\", \"Gd6Cu2Ge2S14\", \"Ba2U2I12\", \"Na16Mn12P16O60\", \"Gd12Ge12O42\", \"Gd2Ag2Se4\", \"Fe2H24C8N2Cl8\", \"Al8Cr4Cl32\", \"Sb4Mo20O62\", \"Fe6O8\", \"Cs2V5O13\", \"Ba4Cu4Se8O24\", \"Ca4Fe2W2O12\", \"Ba10Os6N2O36\", \"Gd6Cu2Si2Se14\", \"Cu1H4Pb2Cl2O4\", \"Eu2Mg2H8\", \"K4Co4P4H8O20\", \"Ba2Co4P4H4O18\", \"K4Ni4P4H8O20\", \"Li4H8C4O12\", \"Ba8Y8Co32O64\", \"As18Pb14S40\", \"Rb10Hf2Fe2Mo12O48\", \"Ga8Fe8O24\", \"Nb16Ni32O72\", \"Gd13Ge6O31F1\", \"Re2Se4Cl24\", \"K48Co24Cl96\", \"K6Yb2S6O24\", \"Rb6V6I18\", \"Mo12N8Cl44\", \"Rb6Tm2S6O24\", \"Gd24Ru8O56\", \"Eu8C4I9N7\", \"Ba10Re6O32\", \"K1Y1H4C4O9\", \"Sr2B5H2O11\", \"K16Mn16Be24F96\", \"Ba5B20H4O38\", \"Fe4Ag4Se8O24\", \"Fe16Mo24O96\", \"K12V4C20N20O4\", \"K12Cr4C20N24O4\", \"Tl2Ni8P6O24\", \"K10Ce4H4S12O50\", \"Al4Si4H8O18\", \"Ni2P2H12N2O10\", \"K2Fe4H2Se8O24\", \"Cr4H72O36F12\", \"Mn8Si4H16O24\", \"Zn2Cr2H30N10Cl8F2\", \"Mg4Mn2H48Cl12O24\", \"Ca2Mn2Si4H6O17\", \"Li8Fe4Si4O16\", \"Li2Fe2Si2O8\", \"Li2Fe2Si2O8\", \"Li4Fe4Si4O16\", \"Li4Fe4Si4O16\", \"V6H16N4O16\", \"Na1Al6Fe3Si6B3H3O30F1\", \"Ba4V2P4O22\", \"Nd6Mn2Al2S14\", \"Ce6Mg2Al2S14\", \"Rb2Mn2P6H2O20\", \"Pr6Mn2Al2S14\", \"Mn12P8H4O34\", \"K2Ce2P8O24\", \"Na8Co4P8O28\", \"In1O1F2\", \"Tc2B2\", \"Cs1S1O3\", \"Fe2Bi2O6\", \"Pd1N2Cl2\", \"Ca2Cl2O2\", \"Ca2Fe2S2O2\", \"Ir1N4Cl4\", \"Fe1N3F6\", \"Sn2P2O6\", \"Mg1Cu2As1O7\", \"Fe4P4O14\", \"Cs1Cr1P2S7\", \"Na2I2O8\", \"Eu4Ge2S8\", \"Ba1Mn2P2O9\", \"Mo2P2O10\", \"Li2Nd2B2O8\", \"Mg3Si2O9\", \"W3O10\", \"Rb1Li3S2O9\", \"Ir1N5Cl6O3\", \"I10N4\", \"Rb2La2Mn2W2O12\", \"Li4Mn2Sn2S8\", \"Sm6Fe2O12\", \"Cs6Fe2O5\", \"Si2Ni3H4O9\", \"Mn4Bi4O12\", \"V2Co1O6\", \"Sr10Cr6Cl2O24\", \"Na4Zn4Mo4O20\", \"N4O16\", \"Na2Sr1P4O18\", \"Mo3C8Se13N2\", \"Li4Be4N4F16\", \"La6Fe2O12\", \"K4Al4O14\", \"Fe3Co1Bi4O12\", \"K12V8S16O72\", \"Ca2Co1O3\", \"Ca3S6O30\", \"Be8N16F32\", \"Hg1H3I1O6\", \"Nd6Fe2O12\", \"Li2Mn2V2F12\", \"Ce4B4S12\", \"K2U2Si2O14\", \"Zr2P4C2O12\", \"Gd6Fe2O12\", \"Rb3Se3O12\", \"Ba2Al4O12\", \"Nd8Fe2S12O2\", \"Li2Al2Si4H1O14\", \"Gd6Mg2Al2S14\", \"Na2Gd6Ge2S14\", \"Ce2S4O17\", \"K5Mo1C7N7O1\", \"Pr6In2Fe2S14\", \"Gd6Mn2Al2S14\", \"Sm6Al2Fe2S14\", \"Sr4Fe2Cu2Pb4O12\", \"Gd6Cu2Si2S14\", \"K4Cu2Te2O14\", \"Eu8I12O2\", \"Gd6Mn2Ga2S14\", \"Gd6Be2Cr2S14\", \"Gd6Al2Zn2S14\", \"Fe2C10O10\", \"Pr8Mn2S14\", \"La6Be2Cr2S14\", \"Cs2Os4O18\", \"Sb2Ir2Xe2F24\", \"Li8Mn2Sn4Se14\", \"Cs4V6O16\", \"Tl4V2S4O20\", \"Cs4Cd4I12O4\", \"Ba2Dy2Fe8O14\", \"Sm8Fe2S14\", \"Sm2I6O20\", \"Li8Mn2Ge4S14\", \"Ho6Mn6O18\", \"Mn6In6O18\", \"Sc2Se6O18\", \"Nd2I6O20\", \"Re4Cl16O8\", \"Cu4Sb8O16\", \"Sr2Cu4Se4Cl4O12\", \"Li3Cr4P1O19\", \"Mn4P4C4O16\", \"Ba2Lu2Co8O14\", \"V6As4O18\", \"Sr4Mn8V8O32\", \"K20Mn12O24\", \"Sm12P12O56\", \"Ba6Na2Gd6Si12O40\", \"Fe6B14I2O26\", \"Cs12Gd4P8O32\", \"Ca4Ti8Mn4O24\", \"Mn4Pb8W4O24\", \"Co6H42C18N6O36\", \"Li8Mn4Sn4S16\", \"Gd4Be8B20O44\", \"K4Nd2N10O34\", \"B20Pb8Cl4O38\", \"K4Pr2N10O34\", \"K10Mo6H4S8O4F22\", \"V8Pb6O6F38\", \"La16Mn8Se16O16\", \"Ba4S8N8O24\", \"Li4Al4Si6O24\", \"Nb24I44\", \"Gd8Ge6S24\", \"Na4Al4Si6O24\", \"Ca2Al4Si6O26\", \"Ba8Cu8Si16O48\", \"Cs4U2Si12O30\", \"Co6B14O26F2\", \"K8Ce4S12O52\", \"Sb8S16O72\", \"K4Mo12H4Cl28O2\", \"Np4P8H8C4O32\", \"Zn1Fe16Ni7O32\", \"La4I12O38\", \"V24H144C48O76\", \"Ba2V4P8O34\", \"Gd8Si6S24\", \"V12Co18Te6Pb18O84\", \"C16N36O12\", \"Ca12Al16Co4O40\", \"Gd4Re12O60\", \"Zn3Fe16Ni5O32\", \"Cs4Mo8P12O52\", \"Gd16Ga4Sb4S36\", \"Th4P8H8C4O32\", \"Zr4O12F20\", \"Ca4Re8O40\", \"Ce8H8Se16O48\", \"Mn4As12Pb12O36\", \"In2S6N6O24\", \"Ni6As6O21\", \"Rb8Te8O8F28\", \"Rb8U4Se8O48\", \"Gd8Ag8S16\", \"Y2B12O24\", \"U2B16O34\", \"Ba4Lu4Co16O28\", \"Na8Zr4Si12O44\", \"Mo6Se2N4O24\", \"Ca4B12O24\", \"Rb8U4C8S4O44\", \"K8Fe4Ge12Se32\", \"V8P8N8O40\", \"Mn8Fe8N8F48\", \"K4Cd2C8O20\", \"Li4Be4As4O20\", \"Li16Be12P14O58\", \"Li4Fe4Se16O40\", \"K4Mn2C8O20\", \"Zn4Fe16Ni4O32\", \"Ti6P8N4O32\", \"La16Fe8Se16O16\", \"Ca2Al4Si12O40\", \"Cu6Pb4Se4N4O28\", \"Th4P6O26\", \"K8I16O48\", \"Ca2Al4Si6O26\", \"Gd2B12O24\", \"Ba4Tm4Co16O28\", \"Fe6H42C18N6O36\", \"Ho2B12O24\", \"Si18C8N2O36\", \"U4S4N4O24F4\", \"Np4P8H36C8N4O44\", \"Ni2P2H30O22\", \"Ba10P6O26\", \"Na2Se8O24\", \"Re8C12Cl12O24\", \"K4U4V4I4O40\", \"Rb4Os8O36\", \"Na12Ni6B18P12H6O76\", \"Cu12Mo2C40S8N10Cl18\", \"Ba4Mn4O12\", \"Co4Bi24S8O64\", \"Sr4Mn2Mo2O12\", \"Fe12O16\", \"Sr8Co4O16\", \"Rb1Cr5S8\"], \"y\": [3.0, 3.0, 7.0, 4.0, 9.0, 6.0, 3.0, 3.0, 9.0, 3.0, 2.0, 10.0, 6.0, 9.0, 2.0, 3.0, 7.0, 3.0, 1.0, 1.0, 5.0, 8.0, 3.0, 7.0, 1.0, 9.0, 2.0, 3.0, 6.0, 5.0, 3.0, 2.0, 14.0, 6.0, 3.0, 8.0, 11.0, 6.0, 6.0, 2.0, 2.0, 2.0, 8.0, 4.0, 2.0, 9.0, 4.0, 4.0, 2.0, 6.0, 9.0, 3.0, 5.0, 6.0, 2.0, 2.0, 2.0, 3.0, 3.0, 8.0, 4.0, 10.0, 8.0, 6.0, 5.0, 7.0, 7.0, 3.0, 2.0, 10.0, 5.0, 1.0, 16.0, 9.0, 6.0, 4.0, 13.0, 5.0, 9.0, 5.0, 2.0, 1.0, 5.0, 11.0, 1.0, 5.0, 4.0, 10.0, 2.0, 9.0, 6.0, 15.0, 3.0, 5.0, 4.0, 7.0, 1.0, 6.0, 11.0, 2.0, 3.0, 5.0, 5.0, 3.0, 9.0, 1.0, 11.0, 10.0, 6.0, 13.0, 3.0, 8.0, 6.0, 8.0, 4.0, 4.0, 7.0, 5.0, 9.0, 1.0, 9.0, 6.0, 1.0, 4.0, 3.0, 5.0, 8.0, 9.0, 9.0, 6.0, 4.0, 8.0, 5.0, 2.0, 4.0, 5.0, 9.0, 1.0, 9.0, 1.0, 5.0, 8.0, 2.0, 7.0, 2.0, 1.0, 7.0, 2.0, 5.0, 5.0, 3.0, 3.0, 12.0, 5.0, 11.0, 2.0, 1.0, 1.0, 4.0, 3.0, 3.0, 3.0, 3.0, 3.0, 1.0, 14.0, 5.0, 1.0, 4.0, 2.0, 10.0, 1.0, 4.0, 1.0, 3.0, 3.0, 4.0, 10.0, 12.0, 7.0, 6.0, 11.0, 4.0, 9.0, 8.0, 10.0, 8.0, 1.0, 10.0, 4.0, 3.0, 3.0, 3.0, 2.0, 8.0, 5.0, 1.0, 15.0, 1.0, 3.0, 7.0, 5.0, 2.0, 11.0, 3.0, 5.0, 1.0, 4.0, 4.0, 3.0, 2.0, 7.0, 1.0, 4.0, 3.0, 1.0, 7.0, 1.0, 2.0, 9.0, 12.0, 7.0, 6.0, 4.0, 6.0, 4.0, 2.0, 4.0, 7.0, 5.0, 5.0, 2.0, 4.0, 2.0, 6.0, 8.0, 7.0, 2.0, 3.0, 2.0, 6.0, 4.0, 8.0, 13.0, 1.0, 8.0, 11.0, 9.0, 12.0, 6.0, 8.0, 8.0, 2.0, 2.0, 9.0, 1.0, 2.0, 1.0, 4.0, 1.0, 17.0, 3.0, 9.0, 10.0, 6.0, 1.0, 7.0, 1.0, 5.0, 2.0, 7.0, 8.0, 1.0, 10.0, 1.0, 2.0, 1.0, 6.0, 6.0, 4.0, 5.0, 11.0, 7.0, 4.0, 1.0, 1.0, 4.0, 2.0, 1.0, 1.0, 1.0, 1.0, 3.0, 2.0, 5.0, 2.0, 4.0, 1.0, 1.0, 6.0, 2.0, 4.0, 5.0, 4.0, 4.0, 1.0, 3.0, 11.0, 4.0, 13.0, 11.0, 5.0, 5.0, 7.0, 3.0, 4.0, 17.0, 3.0, 10.0, 3.0, 9.0, 5.0, 4.0, 11.0, 5.0, 6.0, 12.0, 3.0, 2.0, 10.0, 9.0, 7.0, 3.0, 6.0, 8.0, 13.0, 13.0, 6.0, 10.0, 1.0, 8.0, 4.0, 2.0, 6.0, 4.0, 4.0, 7.0, 12.0, 8.0, 1.0, 2.0, 2.0, 10.0, 4.0, 6.0, 5.0, 4.0, 11.0, 4.0, 2.0, 5.0, 1.0, 1.0, 4.0, 4.0, 1.0, 4.0, 2.0, 7.0, 1.0, 2.0, 4.0, 4.0, 3.0, 5.0, 2.0, 2.0, 2.0, 10.0, 1.0, 8.0, 3.0, 13.0, 4.0, 2.0, 1.0, 6.0, 4.0, 3.0, 8.0, 10.0, 7.0, 3.0, 10.0, 1.0, 5.0, 5.0, 4.0, 8.0, 4.0, 3.0, 6.0, 8.0, 1.0, 7.0, 11.0, 16.0, 1.0, 9.0, 4.0, 1.0, 3.0, 1.0, 4.0, 3.0, 9.0, 10.0, 6.0, 3.0, 1.0, 8.0, 1.0, 5.0, 8.0, 1.0, 5.0, 16.0, 2.0, 2.0, 1.0, 5.0, 3.0, 3.0, 3.0, 8.0, 1.0, 7.0, 12.0, 2.0, 2.0, 7.0, 3.0, 3.0, 9.0, 5.0, 15.0, 11.0, 11.0, 4.0, 4.0, 10.0, 8.0, 5.0, 2.0, 5.0, 4.0, 4.0, 1.0, 8.0, 6.0, 5.0, 3.0, 5.0, 3.0, 13.0, 5.0, 1.0, 5.0, 8.0, 5.0, 7.0, 7.0, 7.0, 4.0, 2.0, 3.0, 2.0, 5.0, 11.0, 4.0, 1.0, 1.0, 13.0, 8.0, 1.0, 2.0, 10.0, 3.0, 1.0, 8.0, 9.0, 10.0, 6.0, 10.0, 5.0]}, {\"name\": \"RF \", \"type\": \"bar\", \"x\": [\"Cr1Ag1Se2\", \"Mn4Si4N8\", \"Cr2Ag2S4\", \"Ho8Cu8O20\", \"Mo6P18O54\", \"Cr1Cu1S2\", \"Ca4Gd1B3O10\", \"K1Cr1P2S7\", \"Li2U2O6\", \"Cr6P18O54\", \"Al8C2N6O2\", \"Lu8Cu8O20\", \"Sr16Nb16O56\", \"Na36Fe8O28\", \"Na2Ca18Mn2P14O56\", \"Ba6V4S8O6\", \"U6F18\", \"Ba12Ni4Sb8O36\", \"Cs8Li4Mn4O16\", \"Fe3P1O7\", \"Li1Fe1As2O7\", \"K4V2P4O16\", \"Li2Mo2P4O14\", \"Ca6Mn4O14\", \"Co4O4\", \"Ba4Fe8O16\", \"Ba4V2Si4O16\", \"Zn4Mo6O16\", \"Ti2Fe2O6\", \"Ti4Mn4O12\", \"Y6Mn6O18\", \"Sr16Cr8O32\", \"V2Pb2O6\", \"Na2Nd2Mn2W2O12\", \"V2P6O18\", \"Mn2Cu4Ge2S8\", \"Er8Cu8O20\", \"Al8Fe8O24\", \"Na1O3\", \"K4Ni4P4O16\", \"Na2La2Mn2W2O12\", \"Fe2Bi2O6\", \"Fe2I6O18\", \"Fe2Bi2O6\", \"Cr4H4O8\", \"Cr2H2O4\", \"Fe2H2O4\", \"V2P4O14\", \"Mn2P4O14\", \"Cu2I4O12\", \"V12Zn4O32\", \"Rb4Cr4I12\", \"V4As2O13\", \"Rb6V6Br18\", \"P4W4O20\", \"V2Re4O18\", \"Ba16Co14O42\", \"U1Mo5O16\", \"Ba4V6O18\", \"Mn6Co4O16\", \"Fe4Mo6O16\", \"K16Co8Si8O32\", \"Na36Co8O28\", \"Rb4V6O16\", \"Fe2H2O4\", \"Ca8Mn6B6C2O30\", \"Fe2Te2Br14\", \"Na2Mn6F20\", \"Sr16V8O32\", \"Sr4V8Ni8O32\", \"Sr4Fe4O10\", \"Cs8Co4Si4O16\", \"K4Cu2C4O12\", \"Cr2Bi2O6\", \"Ba1Cu1B2O5\", \"Fe1Bi1O3\", \"K2Ca18Mn2P14O56\", \"Ca18Fe2P14O56\", \"K20Mn2Mo14O54\", \"K4Mn4Zn8Si8O30\", \"Ba8Gd4Cd6S20\", \"Mn2I4O12\", \"Fe12Si4P20O76\", \"K4Ni2N8O24\", \"Ca2V4P4O20\", \"K16V4P8S36\", \"Te6W4Se8Cl16O4\", \"Ba2Mn2F8\", \"V2Zn4P4O18\", \"V4Cd2P4O20\", \"V8Se16O48\", \"Mn6Nb4Zn2O18\", \"Li2Fe4F12\", \"Mn39Si6Sb3O72\", \"K4Ni4P12O36\", \"K24Co24P24O96\", \"Mn8P4Cl4O16\", \"Cr4P12O36\", \"Na12Fe4O12\", \"Rb8Mn8V8O32\", \"Gd6Se8O24F2\", \"Sr2V4P4O20\", \"Ga1Mo4S8\", \"Tl4Ni7P6O24\", \"Ca18Cr2P14O56\", \"Ca7Cu1Pt2O12\", \"Na16Ni12P16O60\", \"Gd3Al9B12O36\", \"Gd6B2W2O18\", \"Na4Fe2Ni2F14\", \"Ba8Cr4O16\", \"Ba6Co6Si6O24\", \"K2Ho2Co2Si4O14\", \"Rb12In4Co4Si18O52\", \"Li12Mn6Sn18O48\", \"Fe16B8O32\", \"Ga1Mo4Se8\", \"Rb8Co4Cl16\", \"Fe4Co4P4O16F4\", \"Co4I8O24\", \"Ba2U2I12\", \"Gd12Ge12O42\", \"Gd2Ag2Se4\", \"Al8Cr4Cl32\", \"Sb4Mo20O62\", \"Fe6O8\", \"Cs2V5O13\", \"Ba4Cu4Se8O24\", \"Ca4Fe2W2O12\", \"Ba10Os6N2O36\", \"Eu2Mg2H8\", \"As18Pb14S40\", \"Rb10Hf2Fe2Mo12O48\", \"Ga8Fe8O24\", \"Nb16Ni32O72\", \"K48Co24Cl96\", \"Rb6V6I18\", \"Rb6Tm2S6O24\", \"Gd24Ru8O56\", \"Ba10Re6O32\", \"Fe4Ag4Se8O24\", \"Fe16Mo24O96\", \"K12Cr4C20N24O4\", \"Tl2Ni8P6O24\", \"Li2Fe2Si2O8\", \"In1O1F2\", \"Tc2B2\", \"Cs1S1O3\", \"Fe2Bi2O6\", \"Pd1N2Cl2\", \"Ca2Cl2O2\", \"Ca2Fe2S2O2\", \"Sn2P2O6\", \"Mg1Cu2As1O7\", \"Fe4P4O14\", \"Cs1Cr1P2S7\", \"Na2I2O8\", \"Ba1Mn2P2O9\", \"Mo2P2O10\", \"Mg3Si2O9\", \"W3O10\", \"Ir1N5Cl6O3\", \"I10N4\", \"Rb2La2Mn2W2O12\", \"Li4Mn2Sn2S8\", \"Cs6Fe2O5\", \"Si2Ni3H4O9\", \"Mn4Bi4O12\", \"V2Co1O6\", \"Sr10Cr6Cl2O24\", \"Na4Zn4Mo4O20\", \"Na2Sr1P4O18\", \"Mo3C8Se13N2\", \"La6Fe2O12\", \"K4Al4O14\", \"Fe3Co1Bi4O12\", \"Ca2Co1O3\", \"Hg1H3I1O6\", \"Nd6Fe2O12\", \"Li2Mn2V2F12\", \"Rb3Se3O12\", \"K5Mo1C7N7O1\", \"Sr4Fe2Cu2Pb4O12\", \"Eu8I12O2\", \"Cs2Os4O18\", \"Li8Mn2Sn4Se14\", \"Cd2N4O20\", \"Tl4V2S4O20\", \"Sm2I6O20\", \"Li8Mn2Ge4S14\", \"Mn6In6O18\", \"Sc2Se6O18\", \"Cu4Sb8O16\", \"V6As4O18\", \"Sr4Mn8V8O32\", \"Sm12P12O56\", \"Ba6Na2Gd6Si12O40\", \"Cs12Gd4P8O32\", \"Ca4Ti8Mn4O24\", \"Mn4Pb8W4O24\", \"Li8Mn4Sn4S16\", \"B20Pb8Cl4O38\", \"La16Mn8Se16O16\", \"Ba4S8N8O24\", \"Nb24I44\", \"Cs4U2Si12O30\", \"Sb8S16O72\", \"V12Co18Te6Pb18O84\", \"C16N36O12\", \"Ca12Al16Co4O40\", \"Gd4Re12O60\", \"S2N16O26\", \"Gd16Ga4Sb4S36\", \"Ca4Re8O40\", \"Mn4As12Pb12O36\", \"In2S6N6O24\", \"Ni6As6O21\", \"Gd8Ag8S16\", \"Ca4B12O24\", \"K8Fe4Ge12Se32\", \"Li4Fe4Se16O40\", \"Zn4Fe16Ni4O32\", \"La16Fe8Se16O16\", \"Cu6Pb4Se4N4O28\", \"Th4P6O26\", \"K8I16O48\", \"Si18C8N2O36\", \"Ba10P6O26\", \"Na2Se8O24\", \"Rb4Os8O36\", \"Ba4Mn4O12\", \"Co4Bi24S8O64\", \"Sr4Mn2Mo2O12\", \"Fe12O16\", \"Sr8Co4O16\"], \"y\": [3.0, 4.0, 2.0, 2.0, 3.0, 1.0, 12.0, 3.0, 3.0, 5.0, 4.0, 2.0, 10.0, 1.0, 3.0, 3.0, 3.0, 22.0, 6.0, 4.0, 5.0, 2.0, 1.0, 3.0, 5.0, 1.0, 4.0, 1.0, 8.0, 7.0, 3.0, 7.0, 4.0, 4.0, 5.0, 3.0, 5.0, 6.0, 17.0, 15.0, 3.0, 10.0, 2.0, 6.0, 2.0, 3.0, 1.0, 1.0, 2.0, 6.0, 12.0, 1.0, 14.0, 1.0, 10.0, 5.0, 5.0, 4.0, 3.0, 4.0, 2.0, 1.0, 1.0, 1.0, 3.0, 1.0, 4.0, 2.0, 6.0, 20.0, 7.0, 7.0, 1.0, 6.0, 1.0, 6.0, 2.0, 4.0, 1.0, 1.0, 7.0, 4.0, 4.0, 2.0, 12.0, 10.0, 1.0, 1.0, 11.0, 14.0, 4.0, 2.0, 3.0, 1.0, 3.0, 4.0, 2.0, 3.0, 1.0, 1.0, 1.0, 15.0, 1.0, 13.0, 2.0, 6.0, 1.0, 4.0, 2.0, 5.0, 20.0, 6.0, 1.0, 1.0, 6.0, 5.0, 3.0, 1.0, 2.0, 4.0, 2.0, 4.0, 3.0, 4.0, 5.0, 5.0, 1.0, 2.0, 11.0, 4.0, 4.0, 15.0, 1.0, 2.0, 6.0, 2.0, 1.0, 1.0, 5.0, 8.0, 2.0, 5.0, 3.0, 5.0, 2.0, 10.0, 5.0, 5.0, 11.0, 4.0, 4.0, 4.0, 20.0, 3.0, 7.0, 4.0, 2.0, 2.0, 1.0, 3.0, 11.0, 1.0, 4.0, 5.0, 1.0, 3.0, 3.0, 10.0, 10.0, 1.0, 5.0, 1.0, 1.0, 1.0, 1.0, 7.0, 5.0, 4.0, 1.0, 3.0, 6.0, 1.0, 5.0, 1.0, 2.0, 3.0, 1.0, 5.0, 1.0, 1.0, 3.0, 4.0, 12.0, 4.0, 3.0, 1.0, 3.0, 6.0, 7.0, 9.0, 2.0, 1.0, 3.0, 5.0, 1.0, 3.0, 6.0, 6.0, 4.0, 6.0, 3.0, 1.0, 3.0, 3.0, 5.0, 5.0, 16.0, 3.0, 1.0, 3.0, 8.0, 2.0, 4.0, 2.0, 1.0, 1.0, 12.0, 13.0, 2.0, 2.0, 5.0, 6.0, 6.0, 4.0, 7.0]}, {\"name\": \"GB \", \"type\": \"bar\", \"x\": [\"Cr1Ag1Se2\", \"Mn4Si4N8\", \"Mo6P18O54\", \"Ca4Gd1B3O10\", \"K1Cr1P2S7\", \"Cr6P18O54\", \"Al8C2N6O2\", \"Sr16Nb16O56\", \"Na2Ca18Mn2P14O56\", \"Ba6V4S8O6\", \"U6F18\", \"Ba12Ni4Sb8O36\", \"Cs8Li4Mn4O16\", \"Fe3P1O7\", \"Li1Fe1As2O7\", \"K4V2P4O16\", \"Ca6Mn4O14\", \"Co4O4\", \"Ba4V2Si4O16\", \"Zn4Mo6O16\", \"Ti2Fe2O6\", \"Ti4Mn4O12\", \"Y6Mn6O18\", \"Sr16Cr8O32\", \"V2Pb2O6\", \"Na2Nd2Mn2W2O12\", \"V2P6O18\", \"Er8Cu8O20\", \"Al8Fe8O24\", \"Na1O3\", \"K4Ni4P4O16\", \"Na2La2Mn2W2O12\", \"Fe2Bi2O6\", \"Fe2Bi2O6\", \"V2P4O14\", \"Mn2P4O14\", \"Cu2I4O12\", \"V12Zn4O32\", \"Rb4Cr4I12\", \"V4As2O13\", \"Rb4Pu2Cl12\", \"P4W4O20\", \"V2Re4O18\", \"Ba16Co14O42\", \"U1Mo5O16\", \"Ba4V6O18\", \"Mn6Co4O16\", \"Fe4Mo6O16\", \"Fe2Te2Br14\", \"Na2Mn6F20\", \"Sr16V8O32\", \"Sr4V8Ni8O32\", \"Sr4Fe4O10\", \"Cs8Co4Si4O16\", \"Cr2Bi2O6\", \"Fe1Bi1O3\", \"Ca18Fe2P14O56\", \"Ba10Os6Cl2O30\", \"Ba8Gd4Cd6S20\", \"Mn2I4O12\", \"Fe12Si4P20O76\", \"Ba2Ni2F8\", \"Ca2V4P4O20\", \"K16V4P8S36\", \"Eu6B2W2O18\", \"V2Zn4P4O18\", \"V4Cd2P4O20\", \"V8Se16O48\", \"Mn6Nb4Zn2O18\", \"Li2Fe4F12\", \"K4Ni4P12O36\", \"K24Co24P24O96\", \"Cr4P12O36\", \"Rb8Mn8V8O32\", \"Sr2V4P4O20\", \"Tl4Ni7P6O24\", \"Ca7Cu1Pt2O12\", \"Gd3Al9B12O36\", \"Gd6B2W2O18\", \"Na4Fe2Ni2F14\", \"Ba8Cr4O16\", \"Ba6Co6Si6O24\", \"Rb12In4Co4Si18O52\", \"Li12Mn6Sn18O48\", \"Fe16B8O32\", \"Ga1Mo4Se8\", \"Rb8Co4Cl16\", \"Fe4Co4P4O16F4\", \"Co4I8O24\", \"Ba2U2I12\", \"Gd2Ag2Se4\", \"Al8Cr4Cl32\", \"Sb4Mo20O62\", \"Fe6O8\", \"Ba4Cu4Se8O24\", \"Ca4Fe2W2O12\", \"Ba10Os6N2O36\", \"Eu2Mg2H8\", \"As18Pb14S40\", \"Nb16Ni32O72\", \"Rb6V6I18\", \"Gd24Ru8O56\", \"Ba10Re6O32\", \"Fe4Ag4Se8O24\", \"Fe16Mo24O96\", \"Tl2Ni8P6O24\", \"In1O1F2\", \"Tc2B2\", \"Cs1S1O3\", \"Fe2Bi2O6\", \"Pd1N2Cl2\", \"Ca2Cl2O2\", \"Sn2P2O6\", \"Mg1Cu2As1O7\", \"Fe4P4O14\", \"Mo2P2O10\", \"Ba1Yb1Fe4O7\", \"Mg3Si2O9\", \"W3O10\", \"I10N4\", \"Rb2La2Mn2W2O12\", \"Li4Mn2Sn2S8\", \"Cs6Fe2O5\", \"Si2Ni3H4O9\", \"Mn4Bi4O12\", \"V2Co1O6\", \"Sr10Cr6Cl2O24\", \"Fe3Co1Bi4O12\", \"Ca2Co1O3\", \"Hg1H3I1O6\", \"Li2Mn2V2F12\", \"Rb3Se3O12\", \"Sr4Fe2Cu2Pb4O12\", \"Fe2C10O10\", \"Cs2Os4O18\", \"Li8Mn2Sn4Se14\", \"Tl4V2S4O20\", \"Mn6In6O18\", \"Sc2Se6O18\", \"Cu4Sb8O16\", \"V6As4O18\", \"Ba6Na2Gd6Si12O40\", \"Cs12Gd4P8O32\", \"Ca4Ti8Mn4O24\", \"Mn4Pb8W4O24\", \"Li8Mn4Sn4S16\", \"B20Pb8Cl4O38\", \"La16Mn8Se16O16\", \"Ba4S8N8O24\", \"Nb24I44\", \"Cs4U2Si12O30\", \"Sb8S16O72\", \"V12Co18Te6Pb18O84\", \"Gd4Re12O60\", \"S2N16O26\", \"Ca4Re8O40\", \"Mn4As12Pb12O36\", \"In2S6N6O24\", \"Ni6As6O21\", \"Gd8Ag8S16\", \"Ba4Lu4Co16O28\", \"K8Fe4Ge12Se32\", \"Li4Fe4Se16O40\", \"Zn4Fe16Ni4O32\", \"La16Fe8Se16O16\", \"Cu6Pb4Se4N4O28\", \"Th4P6O26\", \"Si18C8N2O36\", \"Ba10P6O26\", \"Na2Se8O24\", \"Rb4Os8O36\", \"Ba4Mn4O12\", \"Co4Bi24S8O64\", \"Sr4Mn2Mo2O12\", \"Fe12O16\", \"Sr8Co4O16\"], \"y\": [2.0, 2.0, 2.0, 4.0, 2.0, 2.0, 1.0, 5.0, 1.0, 1.0, 1.0, 5.0, 1.0, 2.0, 2.0, 1.0, 3.0, 3.0, 2.0, 1.0, 3.0, 4.0, 1.0, 3.0, 3.0, 1.0, 2.0, 1.0, 1.0, 5.0, 2.0, 3.0, 5.0, 3.0, 1.0, 2.0, 3.0, 4.0, 1.0, 3.0, 1.0, 5.0, 3.0, 4.0, 2.0, 1.0, 1.0, 1.0, 3.0, 3.0, 2.0, 4.0, 2.0, 1.0, 5.0, 4.0, 2.0, 1.0, 3.0, 1.0, 2.0, 1.0, 1.0, 3.0, 1.0, 4.0, 4.0, 3.0, 1.0, 1.0, 2.0, 1.0, 2.0, 1.0, 5.0, 4.0, 1.0, 1.0, 1.0, 5.0, 5.0, 2.0, 1.0, 3.0, 2.0, 1.0, 1.0, 1.0, 2.0, 2.0, 1.0, 3.0, 5.0, 5.0, 1.0, 5.0, 1.0, 2.0, 5.0, 4.0, 1.0, 5.0, 4.0, 2.0, 5.0, 2.0, 3.0, 3.0, 5.0, 5.0, 1.0, 2.0, 4.0, 1.0, 2.0, 1.0, 1.0, 3.0, 5.0, 5.0, 5.0, 2.0, 1.0, 1.0, 3.0, 3.0, 1.0, 3.0, 5.0, 4.0, 2.0, 3.0, 2.0, 1.0, 1.0, 2.0, 3.0, 1.0, 3.0, 3.0, 1.0, 1.0, 1.0, 4.0, 5.0, 1.0, 2.0, 1.0, 1.0, 2.0, 2.0, 5.0, 2.0, 2.0, 1.0, 1.0, 3.0, 2.0, 4.0, 2.0, 1.0, 3.0, 2.0, 2.0, 3.0, 2.0, 2.0, 5.0, 3.0, 1.0, 2.0, 3.0, 4.0, 5.0, 3.0, 2.0]}],                        {\"autosize\": false, \"barmode\": \"group\", \"font\": {\"color\": \"Black\", \"family\": \"Palatino\", \"size\": 12}, \"height\": 407.3235447076888, \"template\": {\"data\": {\"bar\": [{\"error_x\": {\"color\": \"#2a3f5f\"}, \"error_y\": {\"color\": \"#2a3f5f\"}, \"marker\": {\"line\": {\"color\": \"#E5ECF6\", \"width\": 0.5}}, \"type\": \"bar\"}], \"barpolar\": [{\"marker\": {\"line\": {\"color\": \"#E5ECF6\", \"width\": 0.5}}, \"type\": \"barpolar\"}], \"carpet\": [{\"aaxis\": {\"endlinecolor\": \"#2a3f5f\", \"gridcolor\": \"white\", \"linecolor\": \"white\", \"minorgridcolor\": \"white\", \"startlinecolor\": \"#2a3f5f\"}, \"baxis\": {\"endlinecolor\": \"#2a3f5f\", \"gridcolor\": \"white\", \"linecolor\": \"white\", \"minorgridcolor\": \"white\", \"startlinecolor\": \"#2a3f5f\"}, \"type\": \"carpet\"}], \"choropleth\": [{\"colorbar\": {\"outlinewidth\": 0, \"ticks\": \"\"}, \"type\": \"choropleth\"}], \"contour\": [{\"colorbar\": {\"outlinewidth\": 0, \"ticks\": \"\"}, \"colorscale\": [[0.0, \"#0d0887\"], [0.1111111111111111, \"#46039f\"], [0.2222222222222222, \"#7201a8\"], [0.3333333333333333, \"#9c179e\"], [0.4444444444444444, \"#bd3786\"], [0.5555555555555556, \"#d8576b\"], [0.6666666666666666, \"#ed7953\"], [0.7777777777777778, \"#fb9f3a\"], [0.8888888888888888, \"#fdca26\"], [1.0, \"#f0f921\"]], \"type\": \"contour\"}], \"contourcarpet\": [{\"colorbar\": {\"outlinewidth\": 0, \"ticks\": \"\"}, \"type\": \"contourcarpet\"}], \"heatmap\": [{\"colorbar\": {\"outlinewidth\": 0, \"ticks\": \"\"}, \"colorscale\": [[0.0, \"#0d0887\"], [0.1111111111111111, \"#46039f\"], [0.2222222222222222, \"#7201a8\"], [0.3333333333333333, \"#9c179e\"], [0.4444444444444444, \"#bd3786\"], [0.5555555555555556, \"#d8576b\"], [0.6666666666666666, \"#ed7953\"], [0.7777777777777778, \"#fb9f3a\"], [0.8888888888888888, \"#fdca26\"], [1.0, \"#f0f921\"]], \"type\": \"heatmap\"}], \"heatmapgl\": [{\"colorbar\": {\"outlinewidth\": 0, \"ticks\": \"\"}, \"colorscale\": [[0.0, \"#0d0887\"], [0.1111111111111111, \"#46039f\"], [0.2222222222222222, \"#7201a8\"], [0.3333333333333333, \"#9c179e\"], [0.4444444444444444, \"#bd3786\"], [0.5555555555555556, \"#d8576b\"], [0.6666666666666666, \"#ed7953\"], [0.7777777777777778, \"#fb9f3a\"], [0.8888888888888888, \"#fdca26\"], [1.0, \"#f0f921\"]], \"type\": \"heatmapgl\"}], \"histogram\": [{\"marker\": {\"colorbar\": {\"outlinewidth\": 0, \"ticks\": \"\"}}, \"type\": \"histogram\"}], \"histogram2d\": [{\"colorbar\": {\"outlinewidth\": 0, \"ticks\": \"\"}, \"colorscale\": [[0.0, \"#0d0887\"], [0.1111111111111111, \"#46039f\"], [0.2222222222222222, \"#7201a8\"], [0.3333333333333333, \"#9c179e\"], [0.4444444444444444, \"#bd3786\"], [0.5555555555555556, \"#d8576b\"], [0.6666666666666666, \"#ed7953\"], [0.7777777777777778, \"#fb9f3a\"], [0.8888888888888888, \"#fdca26\"], [1.0, \"#f0f921\"]], \"type\": \"histogram2d\"}], \"histogram2dcontour\": [{\"colorbar\": {\"outlinewidth\": 0, \"ticks\": \"\"}, \"colorscale\": [[0.0, \"#0d0887\"], [0.1111111111111111, \"#46039f\"], [0.2222222222222222, \"#7201a8\"], [0.3333333333333333, \"#9c179e\"], [0.4444444444444444, \"#bd3786\"], [0.5555555555555556, \"#d8576b\"], [0.6666666666666666, \"#ed7953\"], [0.7777777777777778, \"#fb9f3a\"], [0.8888888888888888, \"#fdca26\"], [1.0, \"#f0f921\"]], \"type\": \"histogram2dcontour\"}], \"mesh3d\": [{\"colorbar\": {\"outlinewidth\": 0, \"ticks\": \"\"}, \"type\": \"mesh3d\"}], \"parcoords\": [{\"line\": {\"colorbar\": {\"outlinewidth\": 0, \"ticks\": \"\"}}, \"type\": \"parcoords\"}], \"pie\": [{\"automargin\": true, \"type\": \"pie\"}], \"scatter\": [{\"marker\": {\"colorbar\": {\"outlinewidth\": 0, \"ticks\": \"\"}}, \"type\": \"scatter\"}], \"scatter3d\": [{\"line\": {\"colorbar\": {\"outlinewidth\": 0, \"ticks\": \"\"}}, \"marker\": {\"colorbar\": {\"outlinewidth\": 0, \"ticks\": \"\"}}, \"type\": \"scatter3d\"}], \"scattercarpet\": [{\"marker\": {\"colorbar\": {\"outlinewidth\": 0, \"ticks\": \"\"}}, \"type\": \"scattercarpet\"}], \"scattergeo\": [{\"marker\": {\"colorbar\": {\"outlinewidth\": 0, \"ticks\": \"\"}}, \"type\": \"scattergeo\"}], \"scattergl\": [{\"marker\": {\"colorbar\": {\"outlinewidth\": 0, \"ticks\": \"\"}}, \"type\": \"scattergl\"}], \"scattermapbox\": [{\"marker\": {\"colorbar\": {\"outlinewidth\": 0, \"ticks\": \"\"}}, \"type\": \"scattermapbox\"}], \"scatterpolar\": [{\"marker\": {\"colorbar\": {\"outlinewidth\": 0, \"ticks\": \"\"}}, \"type\": \"scatterpolar\"}], \"scatterpolargl\": [{\"marker\": {\"colorbar\": {\"outlinewidth\": 0, \"ticks\": \"\"}}, \"type\": \"scatterpolargl\"}], \"scatterternary\": [{\"marker\": {\"colorbar\": {\"outlinewidth\": 0, \"ticks\": \"\"}}, \"type\": \"scatterternary\"}], \"surface\": [{\"colorbar\": {\"outlinewidth\": 0, \"ticks\": \"\"}, \"colorscale\": [[0.0, \"#0d0887\"], [0.1111111111111111, \"#46039f\"], [0.2222222222222222, \"#7201a8\"], [0.3333333333333333, \"#9c179e\"], [0.4444444444444444, \"#bd3786\"], [0.5555555555555556, \"#d8576b\"], [0.6666666666666666, \"#ed7953\"], [0.7777777777777778, \"#fb9f3a\"], [0.8888888888888888, \"#fdca26\"], [1.0, \"#f0f921\"]], \"type\": \"surface\"}], \"table\": [{\"cells\": {\"fill\": {\"color\": \"#EBF0F8\"}, \"line\": {\"color\": \"white\"}}, \"header\": {\"fill\": {\"color\": \"#C8D4E3\"}, \"line\": {\"color\": \"white\"}}, \"type\": \"table\"}]}, \"layout\": {\"annotationdefaults\": {\"arrowcolor\": \"#2a3f5f\", \"arrowhead\": 0, \"arrowwidth\": 1}, \"autotypenumbers\": \"strict\", \"coloraxis\": {\"colorbar\": {\"outlinewidth\": 0, \"ticks\": \"\"}}, \"colorscale\": {\"diverging\": [[0, \"#8e0152\"], [0.1, \"#c51b7d\"], [0.2, \"#de77ae\"], [0.3, \"#f1b6da\"], [0.4, \"#fde0ef\"], [0.5, \"#f7f7f7\"], [0.6, \"#e6f5d0\"], [0.7, \"#b8e186\"], [0.8, \"#7fbc41\"], [0.9, \"#4d9221\"], [1, \"#276419\"]], \"sequential\": [[0.0, \"#0d0887\"], [0.1111111111111111, \"#46039f\"], [0.2222222222222222, \"#7201a8\"], [0.3333333333333333, \"#9c179e\"], [0.4444444444444444, \"#bd3786\"], [0.5555555555555556, \"#d8576b\"], [0.6666666666666666, \"#ed7953\"], [0.7777777777777778, \"#fb9f3a\"], [0.8888888888888888, \"#fdca26\"], [1.0, \"#f0f921\"]], \"sequentialminus\": [[0.0, \"#0d0887\"], [0.1111111111111111, \"#46039f\"], [0.2222222222222222, \"#7201a8\"], [0.3333333333333333, \"#9c179e\"], [0.4444444444444444, \"#bd3786\"], [0.5555555555555556, \"#d8576b\"], [0.6666666666666666, \"#ed7953\"], [0.7777777777777778, \"#fb9f3a\"], [0.8888888888888888, \"#fdca26\"], [1.0, \"#f0f921\"]]}, \"colorway\": [\"#636efa\", \"#EF553B\", \"#00cc96\", \"#ab63fa\", \"#FFA15A\", \"#19d3f3\", \"#FF6692\", \"#B6E880\", \"#FF97FF\", \"#FECB52\"], \"font\": {\"color\": \"#2a3f5f\"}, \"geo\": {\"bgcolor\": \"white\", \"lakecolor\": \"white\", \"landcolor\": \"#E5ECF6\", \"showlakes\": true, \"showland\": true, \"subunitcolor\": \"white\"}, \"hoverlabel\": {\"align\": \"left\"}, \"hovermode\": \"closest\", \"mapbox\": {\"style\": \"light\"}, \"paper_bgcolor\": \"white\", \"plot_bgcolor\": \"#E5ECF6\", \"polar\": {\"angularaxis\": {\"gridcolor\": \"white\", \"linecolor\": \"white\", \"ticks\": \"\"}, \"bgcolor\": \"#E5ECF6\", \"radialaxis\": {\"gridcolor\": \"white\", \"linecolor\": \"white\", \"ticks\": \"\"}}, \"scene\": {\"xaxis\": {\"backgroundcolor\": \"#E5ECF6\", \"gridcolor\": \"white\", \"gridwidth\": 2, \"linecolor\": \"white\", \"showbackground\": true, \"ticks\": \"\", \"zerolinecolor\": \"white\"}, \"yaxis\": {\"backgroundcolor\": \"#E5ECF6\", \"gridcolor\": \"white\", \"gridwidth\": 2, \"linecolor\": \"white\", \"showbackground\": true, \"ticks\": \"\", \"zerolinecolor\": \"white\"}, \"zaxis\": {\"backgroundcolor\": \"#E5ECF6\", \"gridcolor\": \"white\", \"gridwidth\": 2, \"linecolor\": \"white\", \"showbackground\": true, \"ticks\": \"\", \"zerolinecolor\": \"white\"}}, \"shapedefaults\": {\"line\": {\"color\": \"#2a3f5f\"}}, \"ternary\": {\"aaxis\": {\"gridcolor\": \"white\", \"linecolor\": \"white\", \"ticks\": \"\"}, \"baxis\": {\"gridcolor\": \"white\", \"linecolor\": \"white\", \"ticks\": \"\"}, \"bgcolor\": \"#E5ECF6\", \"caxis\": {\"gridcolor\": \"white\", \"linecolor\": \"white\", \"ticks\": \"\"}}, \"title\": {\"x\": 0.05}, \"xaxis\": {\"automargin\": true, \"gridcolor\": \"white\", \"linecolor\": \"white\", \"ticks\": \"\", \"title\": {\"standoff\": 15}, \"zerolinecolor\": \"white\", \"zerolinewidth\": 2}, \"yaxis\": {\"automargin\": true, \"gridcolor\": \"white\", \"linecolor\": \"white\", \"ticks\": \"\", \"title\": {\"standoff\": 15}, \"zerolinecolor\": \"white\", \"zerolinewidth\": 2}}}, \"title\": {\"text\": \"False positive (Nruns = 25)\"}, \"width\": 2192.7586133333334, \"yaxis\": {\"title\": {\"text\": \"Counts\"}}},                        {\"responsive\": true}                    ).then(function(){\n",
       "                            \n",
       "var gd = document.getElementById('2498ebfa-8f00-42a7-b76c-e2fcea6734fa');\n",
       "var x = new MutationObserver(function (mutations, observer) {{\n",
       "        var display = window.getComputedStyle(gd).display;\n",
       "        if (!display || display === 'none') {{\n",
       "            console.log([gd, 'removed!']);\n",
       "            Plotly.purge(gd);\n",
       "            observer.disconnect();\n",
       "        }}\n",
       "}});\n",
       "\n",
       "// Listen for the removal of the full notebook cells\n",
       "var notebookContainer = gd.closest('#notebook-container');\n",
       "if (notebookContainer) {{\n",
       "    x.observe(notebookContainer, {childList: true});\n",
       "}}\n",
       "\n",
       "// Listen for the clearing of the current output cell\n",
       "var outputEl = gd.closest('.output');\n",
       "if (outputEl) {{\n",
       "    x.observe(outputEl, {childList: true});\n",
       "}}\n",
       "\n",
       "                        })                };                });            </script>        </div>"
      ]
     },
     "metadata": {},
     "output_type": "display_data"
    },
    {
     "data": {
      "application/vnd.plotly.v1+json": {
       "config": {
        "plotlyServerURL": "https://plot.ly"
       },
       "data": [
        {
         "name": "LOG ",
         "type": "bar",
         "x": [
          "Ba4Zn2Ge4S12O2",
          "Ba2Pd4S8",
          "Ba15Pt6O27",
          "Ba6Hf5S16",
          "Ca11Si4S1O18",
          "Ba12Ti10S30O2",
          "Sr8Pt8Pb2O22",
          "Ge9Pb15O33",
          "Mo2O6",
          "Mo12S12O72",
          "Ba4Ge4S24O84",
          "Ca1Ti4Pd3O12",
          "Zr4S4O24",
          "Sr25Ti39O103",
          "Sr5Ti7O19"
         ],
         "y": [
          2,
          4,
          2,
          1,
          1,
          25,
          3,
          4,
          1,
          6,
          8,
          4,
          2,
          2,
          1
         ]
        },
        {
         "name": "DT ",
         "type": "bar",
         "x": [
          "S6",
          "Se3",
          "Te3",
          "C4",
          "C2",
          "S32",
          "S32",
          "Ge12",
          "Se6",
          "Si2",
          "C2",
          "Ge3O6",
          "W2S4",
          "Ba2S6",
          "Hf4O8",
          "Ti2O4",
          "Ti4O8",
          "Ge2O4",
          "Te4O8",
          "Te4Mo2",
          "Pt1O2",
          "Ba2S4",
          "Sn4Se4",
          "Sn4O8",
          "Ge4Se4",
          "Se8O16",
          "Ge3O6",
          "Hf4O8",
          "Pt1S2",
          "Sn2O4",
          "Ca2C4",
          "Zr4O8",
          "Ba1Te1",
          "Sr1S1",
          "Ba1O2",
          "Pt1Se2",
          "Sn1S2",
          "Ba1Se1",
          "Mg1O1",
          "Pt2O4",
          "Ba1O1",
          "Sn2S2",
          "Ca1Se1",
          "Ti4O8",
          "Ba8Si16",
          "Ba1S1",
          "Ca1Te1",
          "Ca2C4",
          "Si2S4",
          "Mo2Se4",
          "Zr2Se6",
          "Ba1C2",
          "W2Se4",
          "Ti8O16",
          "Hf8O16",
          "Sn1Te1",
          "Sr2S4",
          "Sr1Te1",
          "Zn1O1",
          "Sn2O2",
          "Te8O16",
          "Ba8Ge16",
          "Zn1Te1",
          "Zn1O1",
          "Sn4S4",
          "Ge4S4",
          "Sr1O1",
          "Ca1C2",
          "Te2O6",
          "Mg4O8",
          "Ba1Te1",
          "Ca1O1",
          "Ge1Te1",
          "Sr1C2",
          "Ti2O4",
          "Sn1Se1",
          "Sr1O2",
          "Sr1Se1",
          "Mo2S4",
          "Zr4O8",
          "Mg8Si4O16",
          "Ca18Te18O54",
          "Ba4Si8O20",
          "Mg2Ge2O6",
          "Mg8Ge4O16",
          "Ca3S3O12",
          "Mg6Te2O12",
          "Ba4S4O16",
          "Ba2Ti8O18",
          "Ca2C2O6",
          "Sr2Te6O16",
          "Ba1S1O4",
          "Sr3Ti2O7",
          "Ba2Sn1O4",
          "Sr2Se2O6",
          "Ba8Ti4O16",
          "Mg8Si8O24",
          "Pb4S4O16",
          "Zn4Te6O16",
          "Zr4S4O4",
          "Ca2Ge4O10",
          "Sr2Hf2O6",
          "Mg2Ge2O6",
          "Mg2Ti2O6",
          "Zn12Si6O24",
          "Ba2Zr1S4",
          "Sr4C4O12",
          "Ba3Ge12O27",
          "Mg4Ge2O8",
          "Ca12Si8O28",
          "Ba3Ti6O15",
          "Ca2C2O6",
          "Ca4Ti4O12",
          "Sr4Se4O16",
          "Ca8Si4O16",
          "Ca2Sn2O6",
          "Ba3Zn3O6",
          "Sr4Te4O16",
          "Ca4Ge8O20",
          "Sr8Sn4O16",
          "Mg4Si4O12",
          "Zr4S8O32",
          "Ca2S2O8",
          "Ca6Si6O18",
          "Ca6Si6O18",
          "Ca8Si4O16",
          "Ca4Zr4O12",
          "Mg16Ge16O48",
          "Sr4Ge2S8",
          "Sr8Pt2O12",
          "Hf2Si2O8",
          "Ca4C4O12",
          "Pd2Se4O10",
          "Sr2Ti2O6",
          "Ca4Sn2O8",
          "Zr4Te12O32",
          "Ca2Pt2O6",
          "Mg4Ge4O12",
          "Mg4S4O16",
          "Ca4Te8O20",
          "Sn4Ge4S12",
          "Zn4S4O16",
          "Sr4Zr4S12",
          "Ti4Te12O32",
          "Ba6Si12O30",
          "Sr1Ti1O3",
          "Ca6Te2O12",
          "Sr4S4O16",
          "Zn8Se8O24",
          "Mg2C2O6",
          "Mg8Si4O16",
          "Ba2Te2O6",
          "Sr12Si4O20",
          "Ba4C4O12",
          "Sr2Ti1O4",
          "Ba8Zn4S12",
          "Sr4Zn4O8",
          "Mg4Si2O8",
          "Ca12Si12O36",
          "Mg4Te8O20",
          "Ba8Si4S16",
          "Zn12Ge6O24",
          "Mg2Si2O6",
          "Sr6Mg2Pt2O12",
          "Ca4Mg2Si4O14",
          "Ca4Ti4Si4O20",
          "Ca4Zn2Si4O14",
          "Ca2Ti2Si2O10",
          "Ca1Mg1C2O6",
          "Ca4Mg4Si4O16",
          "Ba1Mg1C2O6",
          "Ca1Mg3C4O12",
          "Sr4Mg2Si4O14",
          "Ca20Si8S4O48",
          "Ca2Zn2Si4O12",
          "Sr6Zn2Pt2O12",
          "Ca20Si8C8O52",
          "Ca2Mg2Si4O12",
          "Ca20Si8C4O44",
          "Ca2Si2Sn2O10",
          "Si3O6",
          "Si2O4",
          "Ba2Se2O6",
          "Ba4Si4O12",
          "Ba2O2",
          "Ba2Se4",
          "Ba2Se6",
          "Mg2S2O8",
          "Ge2S4",
          "Si2S4",
          "Ca4Zr4S12",
          "Hf4S4O4",
          "Ge4O8",
          "Mg4Si2O8",
          "Zr2Ge2O8",
          "Si1C1",
          "Ca4Ge4O12",
          "Zr2S2O2",
          "Ba2Te6",
          "Zn2Ge2O6",
          "Ba2Zr1O4",
          "Te4O8",
          "Ba12Zr8S28",
          "Ca2Si1O4",
          "Ca2Pt3O8",
          "Hf4Sn4S12",
          "Ba8Pt2O12",
          "Sn2Se2",
          "Ba3Zr2S7",
          "Ba2Hf1S4",
          "Ba4Mg2Si4O14",
          "Sr3Ge12O27",
          "Ba6Ti2S10",
          "Ca3Ge1O1",
          "Zn2C2O6",
          "Zr2S6",
          "Hf2S6",
          "Ge2Se4",
          "Ba2C4",
          "Ca8Pd2O12",
          "Sr1Ge1Te1O6",
          "Sr2C4",
          "Zn1S1",
          "Si8O16",
          "C2O4",
          "Zr2Si2O8",
          "Ba4Ge2Se8",
          "Ba4Se4O16",
          "Ba4Sn4S8",
          "Ca4Te4O16",
          "Sn4Te12O32",
          "Ca2Zn2Ge4O12",
          "Ca4S4O16",
          "Mg2Se2O8",
          "Si6O12",
          "Sr2Sn2O6",
          "O8",
          "Sn4O8",
          "Mg1Se1",
          "Mg1S1",
          "Mg1Te1",
          "Sr2Hf2O6",
          "Zn18Te6O36",
          "Ba2Sr1Te1O6",
          "Ca2Ge1O4",
          "Pd4S8",
          "Ba4Ge4O12",
          "Ti2Zn2O6",
          "Ba4Si2Se8",
          "Ba4Si2Te8",
          "Zn2Sn2O6",
          "Ca12Zn12Te8O48",
          "Ba4Zr3S10",
          "Ca12Hf4Si8O36",
          "Ca12Zr4Si8O36",
          "Ca12Si8Sn4O36",
          "Ca16Ti12O40",
          "Ca2Te6O16",
          "Hf2Se6",
          "Mg4Se8O20",
          "Zn8Te8O24",
          "Ba6Te4O18",
          "Ba4Zn2Ge4S12O2",
          "Si16O32",
          "Zr4Sn4S12",
          "Ba4Ca2Pd6O12",
          "Sr4Zn2Ge4O14",
          "Mg8Ge4S16",
          "Sr4Zr4Si8O28",
          "Ca6Si6O18",
          "Ba8Si4O16",
          "Ca6Ge6O18",
          "Sn4W4O16",
          "Ba8Ti4S16",
          "Ba8Zn4O12",
          "Sr8Ge8Se20",
          "Ba2Ca4Si6O18",
          "Ti4Sn8O16",
          "Sr6Si6O18",
          "Ba8Ge8Se20",
          "Hf4Te12O32",
          "Ba2Si6Sn2O18",
          "Sr8Si4O16",
          "Ba4Cr4O16",
          "Ca4Zn2Ge4O14",
          "Ba2Sr1W1O6",
          "Sr2Mo2O8",
          "Sr2Mg1W1O6",
          "Mo8O24",
          "Ba6W4O18",
          "Mg2W2O8",
          "Zn2W2O8",
          "Sr2Ca1Mo1O6",
          "Ba2Ca1W1O6",
          "Mg4Mo4O16",
          "Ba2W2O8",
          "Ba2Sr1W1O6",
          "Ba2Ca1W1O6",
          "Sr4Ca2Mo2O12",
          "Cr4Pb4O16",
          "Sr2W2O8",
          "Ca2Cr2O8",
          "Ba2Mo2O8",
          "Ca4Mg2W2O12",
          "Ca2Mo2O8",
          "Sr2Mg1W1O6",
          "Ca2W2O8",
          "Te8Mo4O28",
          "Te1Pb1",
          "Ti1Pb1O3",
          "Pb4C4O12",
          "Pb2O2",
          "C4O8",
          "Pb8O12",
          "Ca4Pb4O12",
          "Ba2Pb1O4",
          "Mg4Pb8W4O24",
          "Zr4Pb4S12",
          "Ca3Pb1O1",
          "Pb4S4O12",
          "Mo4O12",
          "Pb2Se2O6",
          "Pb4O4",
          "Sr4Pb2O8",
          "Ca4Pb2O8",
          "Mo2Pb4O10",
          "Pb2S2O6",
          "Mg1Te1Pb2O6",
          "Pb4S2O10",
          "Si12Pb12O36",
          "Si12Pb18O42",
          "Pb8S16O24",
          "Te18Pb12O48",
          "Pb6S2O12",
          "Hf4Pb4S12",
          "Mo2Pb2O8",
          "Pb4Se4O16",
          "Cr2Pb4O10",
          "Pb2W2O8",
          "Sn4Pb8O16",
          "Pb6S2O12",
          "Pb12O16",
          "Pb4W2O10",
          "Pb2C4O8",
          "Ca2Hf7O16",
          "Ba2Te4O12",
          "Mg28Ge10O48",
          "Se8O20",
          "Ba4Te4S12",
          "Se8O24",
          "Si4Pb8Se16",
          "Ba4Ti20O44",
          "Ba6Sn12S18",
          "Ba12Si4S20",
          "C1S14",
          "Zn8Ge12O32",
          "Ca8Se16O40",
          "Sn16S8O40",
          "Ba6Te8O22",
          "Mg2Ti4O10",
          "Ba4Ge8O20",
          "Sr4Se8O20",
          "Ca4Se6O16",
          "Ba4Se8O20",
          "Zr6S2O18",
          "Mg28Si10O48",
          "Ba4Ge8S20",
          "Mg4C6",
          "Pd2S2O8",
          "Ba2Pd4S8",
          "Ti12Zn8O32",
          "Ge24Pb8O56",
          "Ba8Si12O32",
          "Ba12Si20O52",
          "Ca3Sn1O1",
          "Ti2Se4O12",
          "Ca4Ge14O32",
          "Ba4Pt8S12",
          "Ba8Ti26O60",
          "Te6Se2O16",
          "Pt4Pb8O16",
          "Zn6Mo4O18",
          "Ca4Si8O20",
          "Sr8Pd2O12",
          "Ba15Pt6O27",
          "Sr6Te8O22",
          "C6S16",
          "Ti1Sn1Pt1",
          "Sr12Si4O4",
          "Sr12Ge4O4",
          "Zn6S4O18",
          "Sn4S8O16",
          "Sr4Ti3O10",
          "Ba32Sn16Se80",
          "Ti6Pb2O14",
          "Ba2Ti12O26",
          "Si4Pb8S16",
          "Ca4Si6Pb2O18",
          "Pb4W4O16",
          "Ti4S4O20",
          "Pb20S4O32",
          "Pb8C4O16",
          "Zr1Mo2O8",
          "Sr4Cr4O16",
          "Ge16Se32",
          "Ba2Sn2Ge6O18",
          "Ba4Zr4S12",
          "Ca8Ge4S16",
          "Ba8Ge4S16",
          "Ca4Mg12Si12O40",
          "Ge2Pd2S6",
          "Ba8Sn4S16",
          "Cr4Pb4O16",
          "Sr8Ge4O16",
          "Se32",
          "Se32",
          "Ti4Zn8O16",
          "Sn2C4O8",
          "Ba8W8O32",
          "Zr8Pb8O24",
          "Sn4S4O16",
          "Ba3Zn6Si4Te1O20",
          "Te12Pb12O36",
          "Pd2Se2O6",
          "Ca2O2",
          "Ba2C2O6",
          "W3O9",
          "Si4O8",
          "Sn4O4",
          "Pd2Se2O6",
          "Ba2Zn2S2O2",
          "Ba2Zn1W1O6",
          "Sn2O4",
          "Ba2Ca1Te1O6",
          "Sr2Hf2O6",
          "Ge12Pb12O36",
          "Ca4C4O12",
          "Si16O32",
          "Ca2Mg4S6O24",
          "Mg8Si8O24",
          "Ba6Zr4S14",
          "Ca8Zr32O72",
          "Ti4O8",
          "Ca16Ge16O48",
          "Sr6Mg2Si4O16",
          "Mg4Si2O8",
          "Ca2Ge4O10",
          "Ba6Hf5S16",
          "Ge6Pb6O18",
          "Sr12Ge12O36",
          "Ca4Zn4Si12O32",
          "Ti4S4O20",
          "Sr4Se4O12",
          "Sn12O24",
          "Ca11Si4S1O18",
          "Sn2Se4O12",
          "Sr4Zn4Se8O24",
          "Sr3Ge3O9",
          "Si8O16",
          "S9",
          "Ba12Ti10S30O2",
          "S72",
          "Ba12Te12O36",
          "C4O8",
          "Si8O16",
          "Zn4Si2O8",
          "Ca4C4O12",
          "Ba12Sn8S28",
          "Ba4S12",
          "Sr8Pt8Pb2O22",
          "Ba3Ca3C6O18",
          "Si18O36",
          "Zr12W24O96",
          "Ba12Ti34O80",
          "Ba4Mo4Se4O24",
          "Mg16Si16O48",
          "Ca16Si8O32",
          "Sn12W4O24",
          "Sn10W16O44",
          "Ba5Hf4S13",
          "Sr8Cr16O56",
          "Si4O8",
          "Si4O8",
          "S20",
          "S36",
          "S28",
          "Sn16W8O40",
          "Ge9Pb15O33",
          "Ca4Se4O12",
          "S24",
          "Ca12Mg4Si8O32",
          "Zn4Si2O8",
          "Ba4Ti8O20",
          "Ba16Ge32O80",
          "Ca12Mg4Si8O32",
          "Ca4Mg4Ge4O16",
          "Ca4C8O16",
          "Sr4Ti5Si4O22",
          "Ba12Pt24S36",
          "Ba4Zn2Si4O14",
          "Sr4Zr4S12",
          "Zn2Te2Mo2O12",
          "Ba8Ti4Pt2O20",
          "Zn16Si4Te4Pb4O40",
          "Ca8Mg4Si8O28",
          "Ca8Te8C8O40",
          "Pb6S2O12",
          "Hf2Mo4O16",
          "Sr2Ti2Si4O14",
          "Ca10Te6O28",
          "Si8O16",
          "Zn2C4O8",
          "Zr2Mo4O16",
          "Si8O16",
          "Si12O24",
          "Sr4Ti4Ge4O20",
          "Mg8Si4O16",
          "Ge4Pb8S16",
          "Sn8O16",
          "Ba2W2O8",
          "Ca8Ge4O16",
          "Mg4Se4O16",
          "Ba8Ti36O80",
          "Sr4Si8O20",
          "Si32O64",
          "Ca12Si12O36",
          "Te4O8",
          "S4O12",
          "Pd2Se2O8",
          "Sr8Si8O24",
          "Zn4Si4O12",
          "Ca4S4O16",
          "Ca2Mg2Si4O12",
          "Mo2O6",
          "Mo12S12O72",
          0,
          "Te3",
          "Si2Se4",
          "Sr16Sn8Se40",
          "Ca2Te2",
          "C4",
          "C8",
          "C14",
          "Zn2Se2",
          "Ba28Sn12Se52",
          "Se64",
          "Ba4Ge2Te4Se4",
          "Sr16Sn8Se36",
          "Ba8Cr16O56",
          "Ge16S32",
          "S104",
          "Ge8Pb40O56",
          "Si64O128",
          "Mg4Si4O12",
          "Mg4Si4O12",
          "Si12O24",
          "Mg2W2O8",
          "Pb4O6",
          "C8",
          "C12",
          "C16",
          "Zn16Si16O48",
          "Pb4S4O16",
          "Ge4Pb4S12",
          "Pb8Se8O24",
          "Ca1O2",
          "Pb2W2O8",
          "Pb8W8O32",
          "Ca54Si18O90",
          "Zn8Si8O24",
          "Mg8Si8O24",
          "Ca2C4",
          "Ca2Si2Sn2O10",
          "Ca2Zr2Ge2O10",
          "C2O4",
          "Mg8Si8O24",
          "Sn4S4O16",
          "Sn4S4O16",
          "Sn4S4O16",
          "Mo8Pb40O64",
          "Mg16Si16O48",
          "Pb4Se8O20",
          "Si28O56",
          "Ca16Zr40Ti16O128",
          "Ba10Si16O42",
          "Ge18Pb66O102",
          "Si48O96",
          "Ca32Te40O112",
          "Si8O16",
          "Te4Pb4",
          "Zr6Mo12O48",
          "Cr8Pb40O64",
          "Sr24Te24O68",
          "Ba1Sr1O2",
          "Ti4O8",
          "Mg4Te6O16",
          "Ca10Ge6O22",
          "Ca8Sn4S16",
          "Si46",
          "Sr4Te4O12",
          "Sr4Mg2Ge4O14",
          "Mg4Sn2O8",
          "Sr1Ca3O4",
          "Ba1Sr3O4",
          "Hf1S2",
          "Ba1O2",
          "Ba2O2",
          "Ti1Ge1Pt1",
          "Mg1Te1",
          "Ca2Sn1",
          "Ca2Si1",
          "Ca2Ge1",
          "Ca2Pb1",
          "Mg2Te2",
          "Ba1Ca1O2",
          "Ti1Sn1O3",
          "Hf2O4",
          "Mo2Se4",
          "Mo2S4",
          "Te4W2",
          "Ba1Ca3O4",
          "Ba2Zr2O6",
          "Ba4Ge4S24O84",
          "Ba4Mg8Si8O28",
          "Ba2S8O26",
          "Ba1Sr2Mg1Si2O8",
          "Ca4Si2O8",
          "Ca32Si20O72",
          "Ca4Mg4Si8O24",
          "Ca4S12O40",
          "Mg8Si4O16",
          "Mg4Si8O20",
          "Mg2S4O14",
          "Mg16Si16O48",
          "Sr4S3O1",
          "Zr2Si2O8",
          "Zn8Si4O16",
          "Zn8Si4O16",
          "Sr4Si2S16O56",
          "Zn2Si2O6",
          "Zn16Si8O32",
          "Sr4Ge2S16O56",
          "Zn8Si4O16",
          "Zn8Si4O16",
          "Sn2S2",
          "Mg2O2",
          "Pb2S2",
          "Pb2S2",
          "Ge2S4",
          "C2O4",
          "Ba4Te2O2",
          "Ca1Zn1C2O6",
          "Sr2Mg1Mo1O6",
          "Pb4S4",
          "Pb4Se4",
          "Sr2Zn1W1O6",
          "Sr4S1O3",
          "Ba3Sr1O4",
          "Sr3Ca1O4",
          "Sr2Zn1Mo1O6",
          "Sr2Zr1Ti1O6",
          "Ca1Zn3Se4",
          "Pb4S4",
          "Ca2Se2O8",
          "Si12",
          "Si4S8",
          "Ba2W2O8",
          "Sn4S8",
          "Zn2Mo2O8",
          "Ti2Si2O8",
          "Zr1Mo2O8",
          "Mg6O6",
          "Te4O8",
          "Zn4S8",
          "Te4O8",
          "Ba1Ca2Mg1Si2O8",
          "Mg4Se8",
          "Mg4Si2O8",
          "Sr4Si2S8",
          "Ba4Hf4S12",
          "Pb4C4O12",
          "Te2Pb4O10",
          "Ca1Ti4Pd3O12",
          "W8O24",
          "Sr4O8",
          "Se4O12",
          0,
          "Sr24Te24O72",
          "Mg8O8",
          "Ba4Sn4S12",
          "Sn4Pb4S12",
          "Ba4Hf3S10",
          "Te6O12",
          "Ca4Hf4S12",
          "Zr8O16",
          "Ca4Se4O16",
          "Ba8Zn4Te12",
          "Ca4W4O16",
          "Ba8Zn4Se12",
          "Mg12O12",
          "Ba4Mg2Ge4O14",
          "Ge8O16",
          "Ba4S4O16",
          "Ba4Cr4O16",
          "Ba8Zn4S12",
          "C8O16",
          "Ti8O16",
          "Ba4Zn2Ge4O14",
          "Sr8Zn4S12",
          "Sr4Zn2Si4O14",
          "Ba4Mg2Si4O14",
          "Mg12O12",
          "Mg12O12",
          "Mg12O12",
          "Ba4Ge4Pb4O16",
          "Mg8Ge4Se16",
          "Mg8Si4Se16",
          "Ba8Sn4Se16",
          "Sr4Ge4Pb4O16",
          "Ba2Hf2Si6O18",
          "Ca8Si4Se16",
          "Sr8Sn4O16",
          "Ca6C6O18",
          "Si12S24",
          "Ba4Te16O36",
          "Ba4Te12O28",
          "Ba8Ge8S24",
          "Ba24Sn24Se52",
          "Pb8C4S8O24",
          "Si40",
          "Mo4Pb4Se4O24",
          "Zr4S4O24",
          "Ca10C10O30",
          "Sr15Ti25O65",
          "W8O24",
          "Ge2Pb2S12O42",
          "Ca18C18O54",
          "Ge34",
          "Ca44Sn12C32",
          "Si12Pb44O68",
          "Ge2Pb4Se8O24",
          "Ba4Ti4S24O84",
          "Sr25Ti39O103",
          "Si82",
          "Sr24Te8O48",
          "Sr2Mo4Se4O22",
          "Ca8Zn12Si12Pb4O48",
          "Si16O32",
          "Ba12Ge4S20",
          "Si41",
          "Ba8Si8S48O168",
          "Si232",
          "Pb4Se8O24",
          "W4S8O36",
          "Ti16O32",
          "Te4Pb20O32",
          "Ba12Zr2Zn12S28",
          "Sr5Ti7O19",
          "W10O30",
          "Hf4S4O24",
          "Ba4Sn8S20",
          "Si58",
          "W8O24",
          "Te20Pb4O44",
          "Si68",
          "Ti4Pb4S24O84",
          "Si72O144",
          "Ge4Se8O24",
          "Mo4Pb2Se4O22",
          "Si46",
          "Ba12Sn14S40",
          "Ca2Ti2Ge2O10",
          "Ge2Se4O12",
          "Ba2Pd2Se4O12",
          "Zn2W2O8",
          "Ca4Ti4O12",
          "Ba2Mg2C4O12",
          "Ba4Zn4Se8O24",
          "Sr4Sn4S12",
          "Sr4Hf4S12",
          "Mg2Te2Mo2O12"
         ],
         "y": [
          2,
          2,
          1,
          2,
          2,
          3,
          2,
          1,
          1,
          1,
          5,
          1,
          5,
          4,
          2,
          2,
          9,
          2,
          1,
          3,
          4,
          1,
          1,
          1,
          1,
          2,
          1,
          4,
          1,
          1,
          3,
          3,
          2,
          3,
          2,
          2,
          1,
          1,
          2,
          5,
          4,
          1,
          1,
          3,
          5,
          1,
          1,
          2,
          4,
          2,
          10,
          2,
          2,
          3,
          2,
          1,
          5,
          2,
          8,
          2,
          3,
          1,
          1,
          4,
          1,
          1,
          1,
          2,
          2,
          1,
          3,
          3,
          1,
          3,
          1,
          1,
          2,
          2,
          4,
          6,
          2,
          2,
          3,
          3,
          2,
          7,
          1,
          4,
          2,
          5,
          3,
          5,
          3,
          1,
          4,
          6,
          2,
          2,
          3,
          19,
          2,
          1,
          4,
          5,
          7,
          1,
          3,
          7,
          2,
          5,
          7,
          4,
          1,
          3,
          7,
          5,
          7,
          3,
          5,
          1,
          2,
          4,
          2,
          4,
          2,
          1,
          1,
          3,
          4,
          4,
          2,
          2,
          7,
          1,
          7,
          1,
          8,
          2,
          8,
          1,
          6,
          8,
          3,
          1,
          3,
          2,
          2,
          4,
          4,
          9,
          1,
          3,
          4,
          4,
          2,
          5,
          8,
          1,
          3,
          2,
          4,
          1,
          5,
          5,
          5,
          5,
          5,
          2,
          4,
          3,
          5,
          7,
          1,
          4,
          3,
          3,
          7,
          1,
          8,
          5,
          1,
          1,
          2,
          4,
          1,
          2,
          10,
          6,
          3,
          3,
          5,
          11,
          4,
          6,
          1,
          4,
          1,
          6,
          1,
          4,
          1,
          1,
          1,
          1,
          5,
          2,
          6,
          1,
          1,
          1,
          2,
          5,
          4,
          4,
          5,
          9,
          9,
          1,
          2,
          6,
          3,
          1,
          2,
          1,
          2,
          1,
          2,
          4,
          3,
          2,
          2,
          3,
          3,
          4,
          1,
          1,
          3,
          1,
          1,
          1,
          1,
          1,
          9,
          1,
          2,
          10,
          7,
          7,
          6,
          5,
          3,
          1,
          1,
          9,
          5,
          6,
          2,
          2,
          8,
          1,
          2,
          7,
          9,
          1,
          2,
          15,
          5,
          4,
          6,
          3,
          1,
          1,
          1,
          6,
          8,
          6,
          10,
          6,
          8,
          5,
          1,
          2,
          4,
          7,
          5,
          2,
          1,
          2,
          3,
          5,
          4,
          3,
          2,
          2,
          1,
          1,
          2,
          2,
          1,
          6,
          1,
          6,
          3,
          2,
          4,
          3,
          2,
          10,
          1,
          1,
          4,
          2,
          1,
          6,
          1,
          4,
          4,
          4,
          2,
          2,
          11,
          2,
          4,
          2,
          8,
          4,
          4,
          1,
          3,
          2,
          3,
          4,
          1,
          3,
          3,
          3,
          3,
          7,
          3,
          1,
          5,
          1,
          5,
          2,
          1,
          4,
          3,
          2,
          8,
          3,
          3,
          14,
          6,
          6,
          4,
          2,
          1,
          3,
          3,
          2,
          3,
          3,
          4,
          6,
          7,
          4,
          4,
          3,
          7,
          12,
          3,
          4,
          4,
          4,
          2,
          3,
          2,
          5,
          6,
          3,
          8,
          1,
          5,
          5,
          10,
          2,
          6,
          3,
          5,
          4,
          4,
          1,
          2,
          4,
          4,
          6,
          3,
          9,
          7,
          6,
          6,
          3,
          2,
          6,
          5,
          1,
          7,
          2,
          4,
          1,
          6,
          3,
          10,
          2,
          4,
          6,
          5,
          6,
          4,
          1,
          3,
          14,
          2,
          7,
          4,
          7,
          1,
          1,
          1,
          7,
          9,
          1,
          1,
          1,
          1,
          3,
          1,
          1,
          5,
          8,
          2,
          1,
          2,
          1,
          1,
          1,
          2,
          2,
          4,
          4,
          7,
          1,
          7,
          2,
          1,
          1,
          3,
          2,
          1,
          1,
          14,
          1,
          4,
          2,
          3,
          5,
          3,
          12,
          3,
          13,
          11,
          1,
          2,
          1,
          15,
          6,
          5,
          7,
          9,
          2,
          11,
          1,
          1,
          1,
          1,
          1,
          4,
          2,
          1,
          1,
          6,
          3,
          4,
          4,
          10,
          4,
          11,
          7,
          8,
          4,
          9,
          4,
          6,
          7,
          4,
          8,
          2,
          12,
          1,
          2,
          1,
          6,
          5,
          1,
          2,
          1,
          4,
          2,
          5,
          2,
          2,
          5,
          5,
          4,
          2,
          1,
          3,
          3,
          5,
          3,
          4,
          5,
          2,
          8,
          12,
          8,
          2,
          7,
          3,
          2,
          4,
          3,
          5,
          3,
          3,
          5,
          4,
          2,
          10,
          6,
          2,
          2,
          1,
          3,
          1,
          1,
          2,
          3,
          4,
          2,
          2,
          1,
          2,
          1,
          1,
          3,
          3,
          4,
          4,
          6,
          4,
          2,
          3,
          4,
          1,
          1,
          3,
          5,
          2,
          9,
          5,
          1,
          1,
          2,
          5,
          3,
          1,
          4,
          1,
          2,
          3,
          6,
          5,
          1,
          6,
          5,
          4,
          2,
          1,
          5,
          3,
          3,
          3,
          3,
          1,
          4,
          1,
          3,
          1,
          3,
          2,
          3,
          2,
          1,
          2,
          1,
          1,
          1,
          8,
          1,
          3,
          1,
          9,
          15,
          11,
          2,
          2,
          3,
          5,
          6,
          12,
          2,
          3,
          5,
          6,
          6,
          6,
          3,
          9,
          9,
          3,
          9,
          5,
          11,
          4,
          3,
          2,
          3,
          2,
          3,
          7,
          4,
          1,
          3,
          2,
          1,
          2,
          2,
          1,
          1,
          1,
          5,
          2,
          3,
          2,
          1,
          1,
          1,
          2,
          2,
          2,
          11,
          1,
          2,
          6,
          1,
          1,
          4,
          2,
          3,
          4,
          2,
          9,
          1,
          3,
          3,
          2,
          4,
          3,
          4,
          5,
          2,
          5,
          4,
          4,
          2,
          5,
          10,
          2,
          3,
          4,
          1,
          4,
          10,
          3,
          1,
          3,
          5,
          5,
          1,
          3,
          10,
          2,
          9,
          5,
          1,
          3,
          4,
          2,
          4,
          4,
          1,
          2,
          2,
          1,
          3,
          3,
          5,
          3,
          1,
          6,
          8,
          6,
          3,
          1,
          6,
          7,
          1,
          7,
          3,
          3,
          8,
          6,
          2,
          5,
          12,
          7,
          2,
          4,
          1,
          8,
          2,
          2,
          13,
          2,
          6,
          14,
          2,
          1,
          8,
          5,
          1,
          1,
          2,
          2,
          8,
          4,
          4,
          11,
          2,
          7,
          1,
          5,
          6,
          2,
          2,
          5,
          2,
          3,
          3,
          7
         ]
        },
        {
         "name": "RF ",
         "type": "bar",
         "x": [
          "Zr4S4O4",
          "Hf4S4O4",
          "Ca2Te6O16",
          "Sr4Zr4Si8O28",
          "Te8Mo4O28",
          "Ba4Ti20O44",
          "Ba2Pd4S8",
          "Ti4S4O20",
          "Ba12Ti10S30O2",
          "Sr8Pt8Pb2O22",
          "Ba4Mo4Se4O24",
          "Ca4C8O16",
          "Sr4Ti5Si4O22",
          "Ba8Ti4Pt2O20",
          "Hf2Mo4O16",
          "Mo12S12O72",
          "Ti4O8",
          "Ba4Ge4S24O84",
          "Ba2S8O26",
          "Sr4Ge2S16O56",
          "Ca1Ti4Pd3O12",
          "Ca4W4O16",
          "Ba4Cr4O16",
          "Mg12O12",
          "Zr4S4O24",
          "Ge2Pb2S12O42",
          "Ba4Ti4S24O84",
          "Sr25Ti39O103",
          "Sr2Mo4Se4O22",
          "Ba12Zr2Zn12S28",
          "Si72O144",
          "Ba4Zn4Se8O24"
         ],
         "y": [
          2,
          1,
          1,
          1,
          1,
          1,
          2,
          3,
          8,
          3,
          2,
          5,
          1,
          1,
          1,
          6,
          1,
          5,
          4,
          2,
          1,
          1,
          1,
          1,
          1,
          2,
          2,
          1,
          3,
          2,
          1,
          1
         ]
        },
        {
         "name": "GB ",
         "type": "bar",
         "x": [
          "Zn1O1",
          "Ca2C2O6",
          "Zr4S4O4",
          "Ba3Ge12O27",
          "Ba3Ti6O15",
          "Ba3Zn3O6",
          "Ba4C4O12",
          "Ca1Mg3C4O12",
          "Ca20Si8C4O44",
          "Si1C1",
          "Zr2S2O2",
          "Ca2Pt3O8",
          "Sr3Ge12O27",
          "Ca2Te6O16",
          "Ba4Zn2Ge4S12O2",
          "Ba4Ca2Pd6O12",
          "Sr4Zr4Si8O28",
          "Ba8Ti4S16",
          "Ti4Sn8O16",
          "Ca4Zn2Ge4O14",
          "Ca3Pb1O1",
          "Pd2S2O8",
          "Ba2Pd4S8",
          "Pt4Pb8O16",
          "C6S16",
          "Ti4S4O20",
          "Ge2Pd2S6",
          "Sn2C4O8",
          "Ba3Zn6Si4Te1O20",
          "Pd2Se2O6",
          "Ba6Hf5S16",
          "Ba12Ti10S30O2",
          "Sr8Pt8Pb2O22",
          "Ba3Ca3C6O18",
          "Zr12W24O96",
          "Ba4Mo4Se4O24",
          "Sn10W16O44",
          "Sr8Cr16O56",
          "Ca4C8O16",
          "Ba12Pt24S36",
          "Zn2Te2Mo2O12",
          "Ba8Ti4Pt2O20",
          "Hf2Mo4O16",
          "Pd2Se2O8",
          "Mo12S12O72",
          "C4",
          "C14",
          "Ba8Cr16O56",
          "Pb8W8O32",
          "Sr24Te24O68",
          "Ti4O8",
          "Ba4Ge4S24O84",
          "Ba2S8O26",
          "Mg4Si2O8",
          "Ca1Ti4Pd3O12",
          "Ca4W4O16",
          "Ba4Cr4O16",
          "Ba4Zn2Ge4O14",
          "Mg12O12",
          "Mo4Pb4Se4O24",
          "Zr4S4O24",
          "Ge34",
          "Ca44Sn12C32",
          "Ba4Ti4S24O84",
          "Sr25Ti39O103",
          "Sr2Mo4Se4O22",
          "W4S8O36",
          "Ba12Zr2Zn12S28",
          "Sr5Ti7O19",
          "Hf4S4O24"
         ],
         "y": [
          2,
          1,
          3,
          1,
          1,
          2,
          1,
          1,
          1,
          1,
          1,
          1,
          1,
          1,
          2,
          3,
          1,
          1,
          1,
          1,
          1,
          1,
          3,
          1,
          1,
          3,
          1,
          1,
          1,
          1,
          1,
          5,
          3,
          1,
          1,
          2,
          2,
          1,
          4,
          1,
          1,
          1,
          1,
          1,
          3,
          1,
          1,
          2,
          1,
          1,
          1,
          3,
          2,
          1,
          3,
          3,
          1,
          1,
          1,
          2,
          2,
          1,
          1,
          1,
          3,
          1,
          1,
          1,
          2,
          2
         ]
        }
       ],
       "layout": {
        "autosize": false,
        "barmode": "group",
        "font": {
         "color": "Black",
         "family": "Palatino",
         "size": 12
        },
        "height": 407.3235447076888,
        "template": {
         "data": {
          "bar": [
           {
            "error_x": {
             "color": "#2a3f5f"
            },
            "error_y": {
             "color": "#2a3f5f"
            },
            "marker": {
             "line": {
              "color": "#E5ECF6",
              "width": 0.5
             }
            },
            "type": "bar"
           }
          ],
          "barpolar": [
           {
            "marker": {
             "line": {
              "color": "#E5ECF6",
              "width": 0.5
             }
            },
            "type": "barpolar"
           }
          ],
          "carpet": [
           {
            "aaxis": {
             "endlinecolor": "#2a3f5f",
             "gridcolor": "white",
             "linecolor": "white",
             "minorgridcolor": "white",
             "startlinecolor": "#2a3f5f"
            },
            "baxis": {
             "endlinecolor": "#2a3f5f",
             "gridcolor": "white",
             "linecolor": "white",
             "minorgridcolor": "white",
             "startlinecolor": "#2a3f5f"
            },
            "type": "carpet"
           }
          ],
          "choropleth": [
           {
            "colorbar": {
             "outlinewidth": 0,
             "ticks": ""
            },
            "type": "choropleth"
           }
          ],
          "contour": [
           {
            "colorbar": {
             "outlinewidth": 0,
             "ticks": ""
            },
            "colorscale": [
             [
              0,
              "#0d0887"
             ],
             [
              0.1111111111111111,
              "#46039f"
             ],
             [
              0.2222222222222222,
              "#7201a8"
             ],
             [
              0.3333333333333333,
              "#9c179e"
             ],
             [
              0.4444444444444444,
              "#bd3786"
             ],
             [
              0.5555555555555556,
              "#d8576b"
             ],
             [
              0.6666666666666666,
              "#ed7953"
             ],
             [
              0.7777777777777778,
              "#fb9f3a"
             ],
             [
              0.8888888888888888,
              "#fdca26"
             ],
             [
              1,
              "#f0f921"
             ]
            ],
            "type": "contour"
           }
          ],
          "contourcarpet": [
           {
            "colorbar": {
             "outlinewidth": 0,
             "ticks": ""
            },
            "type": "contourcarpet"
           }
          ],
          "heatmap": [
           {
            "colorbar": {
             "outlinewidth": 0,
             "ticks": ""
            },
            "colorscale": [
             [
              0,
              "#0d0887"
             ],
             [
              0.1111111111111111,
              "#46039f"
             ],
             [
              0.2222222222222222,
              "#7201a8"
             ],
             [
              0.3333333333333333,
              "#9c179e"
             ],
             [
              0.4444444444444444,
              "#bd3786"
             ],
             [
              0.5555555555555556,
              "#d8576b"
             ],
             [
              0.6666666666666666,
              "#ed7953"
             ],
             [
              0.7777777777777778,
              "#fb9f3a"
             ],
             [
              0.8888888888888888,
              "#fdca26"
             ],
             [
              1,
              "#f0f921"
             ]
            ],
            "type": "heatmap"
           }
          ],
          "heatmapgl": [
           {
            "colorbar": {
             "outlinewidth": 0,
             "ticks": ""
            },
            "colorscale": [
             [
              0,
              "#0d0887"
             ],
             [
              0.1111111111111111,
              "#46039f"
             ],
             [
              0.2222222222222222,
              "#7201a8"
             ],
             [
              0.3333333333333333,
              "#9c179e"
             ],
             [
              0.4444444444444444,
              "#bd3786"
             ],
             [
              0.5555555555555556,
              "#d8576b"
             ],
             [
              0.6666666666666666,
              "#ed7953"
             ],
             [
              0.7777777777777778,
              "#fb9f3a"
             ],
             [
              0.8888888888888888,
              "#fdca26"
             ],
             [
              1,
              "#f0f921"
             ]
            ],
            "type": "heatmapgl"
           }
          ],
          "histogram": [
           {
            "marker": {
             "colorbar": {
              "outlinewidth": 0,
              "ticks": ""
             }
            },
            "type": "histogram"
           }
          ],
          "histogram2d": [
           {
            "colorbar": {
             "outlinewidth": 0,
             "ticks": ""
            },
            "colorscale": [
             [
              0,
              "#0d0887"
             ],
             [
              0.1111111111111111,
              "#46039f"
             ],
             [
              0.2222222222222222,
              "#7201a8"
             ],
             [
              0.3333333333333333,
              "#9c179e"
             ],
             [
              0.4444444444444444,
              "#bd3786"
             ],
             [
              0.5555555555555556,
              "#d8576b"
             ],
             [
              0.6666666666666666,
              "#ed7953"
             ],
             [
              0.7777777777777778,
              "#fb9f3a"
             ],
             [
              0.8888888888888888,
              "#fdca26"
             ],
             [
              1,
              "#f0f921"
             ]
            ],
            "type": "histogram2d"
           }
          ],
          "histogram2dcontour": [
           {
            "colorbar": {
             "outlinewidth": 0,
             "ticks": ""
            },
            "colorscale": [
             [
              0,
              "#0d0887"
             ],
             [
              0.1111111111111111,
              "#46039f"
             ],
             [
              0.2222222222222222,
              "#7201a8"
             ],
             [
              0.3333333333333333,
              "#9c179e"
             ],
             [
              0.4444444444444444,
              "#bd3786"
             ],
             [
              0.5555555555555556,
              "#d8576b"
             ],
             [
              0.6666666666666666,
              "#ed7953"
             ],
             [
              0.7777777777777778,
              "#fb9f3a"
             ],
             [
              0.8888888888888888,
              "#fdca26"
             ],
             [
              1,
              "#f0f921"
             ]
            ],
            "type": "histogram2dcontour"
           }
          ],
          "mesh3d": [
           {
            "colorbar": {
             "outlinewidth": 0,
             "ticks": ""
            },
            "type": "mesh3d"
           }
          ],
          "parcoords": [
           {
            "line": {
             "colorbar": {
              "outlinewidth": 0,
              "ticks": ""
             }
            },
            "type": "parcoords"
           }
          ],
          "pie": [
           {
            "automargin": true,
            "type": "pie"
           }
          ],
          "scatter": [
           {
            "marker": {
             "colorbar": {
              "outlinewidth": 0,
              "ticks": ""
             }
            },
            "type": "scatter"
           }
          ],
          "scatter3d": [
           {
            "line": {
             "colorbar": {
              "outlinewidth": 0,
              "ticks": ""
             }
            },
            "marker": {
             "colorbar": {
              "outlinewidth": 0,
              "ticks": ""
             }
            },
            "type": "scatter3d"
           }
          ],
          "scattercarpet": [
           {
            "marker": {
             "colorbar": {
              "outlinewidth": 0,
              "ticks": ""
             }
            },
            "type": "scattercarpet"
           }
          ],
          "scattergeo": [
           {
            "marker": {
             "colorbar": {
              "outlinewidth": 0,
              "ticks": ""
             }
            },
            "type": "scattergeo"
           }
          ],
          "scattergl": [
           {
            "marker": {
             "colorbar": {
              "outlinewidth": 0,
              "ticks": ""
             }
            },
            "type": "scattergl"
           }
          ],
          "scattermapbox": [
           {
            "marker": {
             "colorbar": {
              "outlinewidth": 0,
              "ticks": ""
             }
            },
            "type": "scattermapbox"
           }
          ],
          "scatterpolar": [
           {
            "marker": {
             "colorbar": {
              "outlinewidth": 0,
              "ticks": ""
             }
            },
            "type": "scatterpolar"
           }
          ],
          "scatterpolargl": [
           {
            "marker": {
             "colorbar": {
              "outlinewidth": 0,
              "ticks": ""
             }
            },
            "type": "scatterpolargl"
           }
          ],
          "scatterternary": [
           {
            "marker": {
             "colorbar": {
              "outlinewidth": 0,
              "ticks": ""
             }
            },
            "type": "scatterternary"
           }
          ],
          "surface": [
           {
            "colorbar": {
             "outlinewidth": 0,
             "ticks": ""
            },
            "colorscale": [
             [
              0,
              "#0d0887"
             ],
             [
              0.1111111111111111,
              "#46039f"
             ],
             [
              0.2222222222222222,
              "#7201a8"
             ],
             [
              0.3333333333333333,
              "#9c179e"
             ],
             [
              0.4444444444444444,
              "#bd3786"
             ],
             [
              0.5555555555555556,
              "#d8576b"
             ],
             [
              0.6666666666666666,
              "#ed7953"
             ],
             [
              0.7777777777777778,
              "#fb9f3a"
             ],
             [
              0.8888888888888888,
              "#fdca26"
             ],
             [
              1,
              "#f0f921"
             ]
            ],
            "type": "surface"
           }
          ],
          "table": [
           {
            "cells": {
             "fill": {
              "color": "#EBF0F8"
             },
             "line": {
              "color": "white"
             }
            },
            "header": {
             "fill": {
              "color": "#C8D4E3"
             },
             "line": {
              "color": "white"
             }
            },
            "type": "table"
           }
          ]
         },
         "layout": {
          "annotationdefaults": {
           "arrowcolor": "#2a3f5f",
           "arrowhead": 0,
           "arrowwidth": 1
          },
          "autotypenumbers": "strict",
          "coloraxis": {
           "colorbar": {
            "outlinewidth": 0,
            "ticks": ""
           }
          },
          "colorscale": {
           "diverging": [
            [
             0,
             "#8e0152"
            ],
            [
             0.1,
             "#c51b7d"
            ],
            [
             0.2,
             "#de77ae"
            ],
            [
             0.3,
             "#f1b6da"
            ],
            [
             0.4,
             "#fde0ef"
            ],
            [
             0.5,
             "#f7f7f7"
            ],
            [
             0.6,
             "#e6f5d0"
            ],
            [
             0.7,
             "#b8e186"
            ],
            [
             0.8,
             "#7fbc41"
            ],
            [
             0.9,
             "#4d9221"
            ],
            [
             1,
             "#276419"
            ]
           ],
           "sequential": [
            [
             0,
             "#0d0887"
            ],
            [
             0.1111111111111111,
             "#46039f"
            ],
            [
             0.2222222222222222,
             "#7201a8"
            ],
            [
             0.3333333333333333,
             "#9c179e"
            ],
            [
             0.4444444444444444,
             "#bd3786"
            ],
            [
             0.5555555555555556,
             "#d8576b"
            ],
            [
             0.6666666666666666,
             "#ed7953"
            ],
            [
             0.7777777777777778,
             "#fb9f3a"
            ],
            [
             0.8888888888888888,
             "#fdca26"
            ],
            [
             1,
             "#f0f921"
            ]
           ],
           "sequentialminus": [
            [
             0,
             "#0d0887"
            ],
            [
             0.1111111111111111,
             "#46039f"
            ],
            [
             0.2222222222222222,
             "#7201a8"
            ],
            [
             0.3333333333333333,
             "#9c179e"
            ],
            [
             0.4444444444444444,
             "#bd3786"
            ],
            [
             0.5555555555555556,
             "#d8576b"
            ],
            [
             0.6666666666666666,
             "#ed7953"
            ],
            [
             0.7777777777777778,
             "#fb9f3a"
            ],
            [
             0.8888888888888888,
             "#fdca26"
            ],
            [
             1,
             "#f0f921"
            ]
           ]
          },
          "colorway": [
           "#636efa",
           "#EF553B",
           "#00cc96",
           "#ab63fa",
           "#FFA15A",
           "#19d3f3",
           "#FF6692",
           "#B6E880",
           "#FF97FF",
           "#FECB52"
          ],
          "font": {
           "color": "#2a3f5f"
          },
          "geo": {
           "bgcolor": "white",
           "lakecolor": "white",
           "landcolor": "#E5ECF6",
           "showlakes": true,
           "showland": true,
           "subunitcolor": "white"
          },
          "hoverlabel": {
           "align": "left"
          },
          "hovermode": "closest",
          "mapbox": {
           "style": "light"
          },
          "paper_bgcolor": "white",
          "plot_bgcolor": "#E5ECF6",
          "polar": {
           "angularaxis": {
            "gridcolor": "white",
            "linecolor": "white",
            "ticks": ""
           },
           "bgcolor": "#E5ECF6",
           "radialaxis": {
            "gridcolor": "white",
            "linecolor": "white",
            "ticks": ""
           }
          },
          "scene": {
           "xaxis": {
            "backgroundcolor": "#E5ECF6",
            "gridcolor": "white",
            "gridwidth": 2,
            "linecolor": "white",
            "showbackground": true,
            "ticks": "",
            "zerolinecolor": "white"
           },
           "yaxis": {
            "backgroundcolor": "#E5ECF6",
            "gridcolor": "white",
            "gridwidth": 2,
            "linecolor": "white",
            "showbackground": true,
            "ticks": "",
            "zerolinecolor": "white"
           },
           "zaxis": {
            "backgroundcolor": "#E5ECF6",
            "gridcolor": "white",
            "gridwidth": 2,
            "linecolor": "white",
            "showbackground": true,
            "ticks": "",
            "zerolinecolor": "white"
           }
          },
          "shapedefaults": {
           "line": {
            "color": "#2a3f5f"
           }
          },
          "ternary": {
           "aaxis": {
            "gridcolor": "white",
            "linecolor": "white",
            "ticks": ""
           },
           "baxis": {
            "gridcolor": "white",
            "linecolor": "white",
            "ticks": ""
           },
           "bgcolor": "#E5ECF6",
           "caxis": {
            "gridcolor": "white",
            "linecolor": "white",
            "ticks": ""
           }
          },
          "title": {
           "x": 0.05
          },
          "xaxis": {
           "automargin": true,
           "gridcolor": "white",
           "linecolor": "white",
           "ticks": "",
           "title": {
            "standoff": 15
           },
           "zerolinecolor": "white",
           "zerolinewidth": 2
          },
          "yaxis": {
           "automargin": true,
           "gridcolor": "white",
           "linecolor": "white",
           "ticks": "",
           "title": {
            "standoff": 15
           },
           "zerolinecolor": "white",
           "zerolinewidth": 2
          }
         }
        },
        "title": {
         "text": "False negative (Nruns = 25)"
        },
        "width": 1096.3793066666667,
        "yaxis": {
         "title": {
          "text": "Counts"
         }
        }
       }
      },
      "text/html": [
       "<div>                            <div id=\"6f3ca6f4-af18-4a40-8e49-f4b35c0c2555\" class=\"plotly-graph-div\" style=\"height:407.3235447076888px; width:1096.3793066666667px;\"></div>            <script type=\"text/javascript\">                require([\"plotly\"], function(Plotly) {                    window.PLOTLYENV=window.PLOTLYENV || {};                                    if (document.getElementById(\"6f3ca6f4-af18-4a40-8e49-f4b35c0c2555\")) {                    Plotly.newPlot(                        \"6f3ca6f4-af18-4a40-8e49-f4b35c0c2555\",                        [{\"name\": \"LOG \", \"type\": \"bar\", \"x\": [\"Ba4Zn2Ge4S12O2\", \"Ba2Pd4S8\", \"Ba15Pt6O27\", \"Ba6Hf5S16\", \"Ca11Si4S1O18\", \"Ba12Ti10S30O2\", \"Sr8Pt8Pb2O22\", \"Ge9Pb15O33\", \"Mo2O6\", \"Mo12S12O72\", \"Ba4Ge4S24O84\", \"Ca1Ti4Pd3O12\", \"Zr4S4O24\", \"Sr25Ti39O103\", \"Sr5Ti7O19\"], \"y\": [2.0, 4.0, 2.0, 1.0, 1.0, 25.0, 3.0, 4.0, 1.0, 6.0, 8.0, 4.0, 2.0, 2.0, 1.0]}, {\"name\": \"DT \", \"type\": \"bar\", \"x\": [\"S6\", \"Se3\", \"Te3\", \"C4\", \"C2\", \"S32\", \"S32\", \"Ge12\", \"Se6\", \"Si2\", \"C2\", \"Ge3O6\", \"W2S4\", \"Ba2S6\", \"Hf4O8\", \"Ti2O4\", \"Ti4O8\", \"Ge2O4\", \"Te4O8\", \"Te4Mo2\", \"Pt1O2\", \"Ba2S4\", \"Sn4Se4\", \"Sn4O8\", \"Ge4Se4\", \"Se8O16\", \"Ge3O6\", \"Hf4O8\", \"Pt1S2\", \"Sn2O4\", \"Ca2C4\", \"Zr4O8\", \"Ba1Te1\", \"Sr1S1\", \"Ba1O2\", \"Pt1Se2\", \"Sn1S2\", \"Ba1Se1\", \"Mg1O1\", \"Pt2O4\", \"Ba1O1\", \"Sn2S2\", \"Ca1Se1\", \"Ti4O8\", \"Ba8Si16\", \"Ba1S1\", \"Ca1Te1\", \"Ca2C4\", \"Si2S4\", \"Mo2Se4\", \"Zr2Se6\", \"Ba1C2\", \"W2Se4\", \"Ti8O16\", \"Hf8O16\", \"Sn1Te1\", \"Sr2S4\", \"Sr1Te1\", \"Zn1O1\", \"Sn2O2\", \"Te8O16\", \"Ba8Ge16\", \"Zn1Te1\", \"Zn1O1\", \"Sn4S4\", \"Ge4S4\", \"Sr1O1\", \"Ca1C2\", \"Te2O6\", \"Mg4O8\", \"Ba1Te1\", \"Ca1O1\", \"Ge1Te1\", \"Sr1C2\", \"Ti2O4\", \"Sn1Se1\", \"Sr1O2\", \"Sr1Se1\", \"Mo2S4\", \"Zr4O8\", \"Mg8Si4O16\", \"Ca18Te18O54\", \"Ba4Si8O20\", \"Mg2Ge2O6\", \"Mg8Ge4O16\", \"Ca3S3O12\", \"Mg6Te2O12\", \"Ba4S4O16\", \"Ba2Ti8O18\", \"Ca2C2O6\", \"Sr2Te6O16\", \"Ba1S1O4\", \"Sr3Ti2O7\", \"Ba2Sn1O4\", \"Sr2Se2O6\", \"Ba8Ti4O16\", \"Mg8Si8O24\", \"Pb4S4O16\", \"Zn4Te6O16\", \"Zr4S4O4\", \"Ca2Ge4O10\", \"Sr2Hf2O6\", \"Mg2Ge2O6\", \"Mg2Ti2O6\", \"Zn12Si6O24\", \"Ba2Zr1S4\", \"Sr4C4O12\", \"Ba3Ge12O27\", \"Mg4Ge2O8\", \"Ca12Si8O28\", \"Ba3Ti6O15\", \"Ca2C2O6\", \"Ca4Ti4O12\", \"Sr4Se4O16\", \"Ca8Si4O16\", \"Ca2Sn2O6\", \"Ba3Zn3O6\", \"Sr4Te4O16\", \"Ca4Ge8O20\", \"Sr8Sn4O16\", \"Mg4Si4O12\", \"Zr4S8O32\", \"Ca2S2O8\", \"Ca6Si6O18\", \"Ca6Si6O18\", \"Ca8Si4O16\", \"Ca4Zr4O12\", \"Mg16Ge16O48\", \"Sr4Ge2S8\", \"Sr8Pt2O12\", \"Hf2Si2O8\", \"Ca4C4O12\", \"Pd2Se4O10\", \"Sr2Ti2O6\", \"Ca4Sn2O8\", \"Zr4Te12O32\", \"Ca2Pt2O6\", \"Mg4Ge4O12\", \"Mg4S4O16\", \"Ca4Te8O20\", \"Sn4Ge4S12\", \"Zn4S4O16\", \"Sr4Zr4S12\", \"Ti4Te12O32\", \"Ba6Si12O30\", \"Sr1Ti1O3\", \"Ca6Te2O12\", \"Sr4S4O16\", \"Zn8Se8O24\", \"Mg2C2O6\", \"Mg8Si4O16\", \"Ba2Te2O6\", \"Sr12Si4O20\", \"Ba4C4O12\", \"Sr2Ti1O4\", \"Ba8Zn4S12\", \"Sr4Zn4O8\", \"Mg4Si2O8\", \"Ca12Si12O36\", \"Mg4Te8O20\", \"Ba8Si4S16\", \"Zn12Ge6O24\", \"Mg2Si2O6\", \"Sr6Mg2Pt2O12\", \"Ca4Mg2Si4O14\", \"Ca4Ti4Si4O20\", \"Ca4Zn2Si4O14\", \"Ca2Ti2Si2O10\", \"Ca1Mg1C2O6\", \"Ca4Mg4Si4O16\", \"Ba1Mg1C2O6\", \"Ca1Mg3C4O12\", \"Sr4Mg2Si4O14\", \"Ca20Si8S4O48\", \"Ca2Zn2Si4O12\", \"Sr6Zn2Pt2O12\", \"Ca20Si8C8O52\", \"Ca2Mg2Si4O12\", \"Ca20Si8C4O44\", \"Ca2Si2Sn2O10\", \"Si3O6\", \"Si2O4\", \"Ba2Se2O6\", \"Ba4Si4O12\", \"Ba2O2\", \"Ba2Se4\", \"Ba2Se6\", \"Mg2S2O8\", \"Ge2S4\", \"Si2S4\", \"Ca4Zr4S12\", \"Hf4S4O4\", \"Ge4O8\", \"Mg4Si2O8\", \"Zr2Ge2O8\", \"Si1C1\", \"Ca4Ge4O12\", \"Zr2S2O2\", \"Ba2Te6\", \"Zn2Ge2O6\", \"Ba2Zr1O4\", \"Te4O8\", \"Ba12Zr8S28\", \"Ca2Si1O4\", \"Ca2Pt3O8\", \"Hf4Sn4S12\", \"Ba8Pt2O12\", \"Sn2Se2\", \"Ba3Zr2S7\", \"Ba2Hf1S4\", \"Ba4Mg2Si4O14\", \"Sr3Ge12O27\", \"Ba6Ti2S10\", \"Ca3Ge1O1\", \"Zn2C2O6\", \"Zr2S6\", \"Hf2S6\", \"Ge2Se4\", \"Ba2C4\", \"Ca8Pd2O12\", \"Sr1Ge1Te1O6\", \"Sr2C4\", \"Zn1S1\", \"Si8O16\", \"C2O4\", \"Zr2Si2O8\", \"Ba4Ge2Se8\", \"Ba4Se4O16\", \"Ba4Sn4S8\", \"Ca4Te4O16\", \"Sn4Te12O32\", \"Ca2Zn2Ge4O12\", \"Ca4S4O16\", \"Mg2Se2O8\", \"Si6O12\", \"Sr2Sn2O6\", \"O8\", \"Sn4O8\", \"Mg1Se1\", \"Mg1S1\", \"Mg1Te1\", \"Sr2Hf2O6\", \"Zn18Te6O36\", \"Ba2Sr1Te1O6\", \"Ca2Ge1O4\", \"Pd4S8\", \"Ba4Ge4O12\", \"Ti2Zn2O6\", \"Ba4Si2Se8\", \"Ba4Si2Te8\", \"Zn2Sn2O6\", \"Ca12Zn12Te8O48\", \"Ba4Zr3S10\", \"Ca12Hf4Si8O36\", \"Ca12Zr4Si8O36\", \"Ca12Si8Sn4O36\", \"Ca16Ti12O40\", \"Ca2Te6O16\", \"Hf2Se6\", \"Mg4Se8O20\", \"Zn8Te8O24\", \"Ba6Te4O18\", \"Ba4Zn2Ge4S12O2\", \"Si16O32\", \"Zr4Sn4S12\", \"Ba4Ca2Pd6O12\", \"Sr4Zn2Ge4O14\", \"Mg8Ge4S16\", \"Sr4Zr4Si8O28\", \"Ca6Si6O18\", \"Ba8Si4O16\", \"Ca6Ge6O18\", \"Sn4W4O16\", \"Ba8Ti4S16\", \"Ba8Zn4O12\", \"Sr8Ge8Se20\", \"Ba2Ca4Si6O18\", \"Ti4Sn8O16\", \"Sr6Si6O18\", \"Ba8Ge8Se20\", \"Hf4Te12O32\", \"Ba2Si6Sn2O18\", \"Sr8Si4O16\", \"Ba4Cr4O16\", \"Ca4Zn2Ge4O14\", \"Ba2Sr1W1O6\", \"Sr2Mo2O8\", \"Sr2Mg1W1O6\", \"Mo8O24\", \"Ba6W4O18\", \"Mg2W2O8\", \"Zn2W2O8\", \"Sr2Ca1Mo1O6\", \"Ba2Ca1W1O6\", \"Mg4Mo4O16\", \"Ba2W2O8\", \"Ba2Sr1W1O6\", \"Ba2Ca1W1O6\", \"Sr4Ca2Mo2O12\", \"Cr4Pb4O16\", \"Sr2W2O8\", \"Ca2Cr2O8\", \"Ba2Mo2O8\", \"Ca4Mg2W2O12\", \"Ca2Mo2O8\", \"Sr2Mg1W1O6\", \"Ca2W2O8\", \"Te8Mo4O28\", \"Te1Pb1\", \"Ti1Pb1O3\", \"Pb4C4O12\", \"Pb2O2\", \"C4O8\", \"Pb8O12\", \"Ca4Pb4O12\", \"Ba2Pb1O4\", \"Mg4Pb8W4O24\", \"Zr4Pb4S12\", \"Ca3Pb1O1\", \"Pb4S4O12\", \"Mo4O12\", \"Pb2Se2O6\", \"Pb4O4\", \"Sr4Pb2O8\", \"Ca4Pb2O8\", \"Mo2Pb4O10\", \"Pb2S2O6\", \"Mg1Te1Pb2O6\", \"Pb4S2O10\", \"Si12Pb12O36\", \"Si12Pb18O42\", \"Pb8S16O24\", \"Te18Pb12O48\", \"Pb6S2O12\", \"Hf4Pb4S12\", \"Mo2Pb2O8\", \"Pb4Se4O16\", \"Cr2Pb4O10\", \"Pb2W2O8\", \"Sn4Pb8O16\", \"Pb6S2O12\", \"Pb12O16\", \"Pb4W2O10\", \"Pb2C4O8\", \"Ca2Hf7O16\", \"Ba2Te4O12\", \"Mg28Ge10O48\", \"Se8O20\", \"Ba4Te4S12\", \"Se8O24\", \"Si4Pb8Se16\", \"Ba4Ti20O44\", \"Ba6Sn12S18\", \"Ba12Si4S20\", \"C1S14\", \"Zn8Ge12O32\", \"Ca8Se16O40\", \"Sn16S8O40\", \"Ba6Te8O22\", \"Mg2Ti4O10\", \"Ba4Ge8O20\", \"Sr4Se8O20\", \"Ca4Se6O16\", \"Ba4Se8O20\", \"Zr6S2O18\", \"Mg28Si10O48\", \"Ba4Ge8S20\", \"Mg4C6\", \"Pd2S2O8\", \"Ba2Pd4S8\", \"Ti12Zn8O32\", \"Ge24Pb8O56\", \"Ba8Si12O32\", \"Ba12Si20O52\", \"Ca3Sn1O1\", \"Ti2Se4O12\", \"Ca4Ge14O32\", \"Ba4Pt8S12\", \"Ba8Ti26O60\", \"Te6Se2O16\", \"Pt4Pb8O16\", \"Zn6Mo4O18\", \"Ca4Si8O20\", \"Sr8Pd2O12\", \"Ba15Pt6O27\", \"Sr6Te8O22\", \"C6S16\", \"Ti1Sn1Pt1\", \"Sr12Si4O4\", \"Sr12Ge4O4\", \"Zn6S4O18\", \"Sn4S8O16\", \"Sr4Ti3O10\", \"Ba32Sn16Se80\", \"Ti6Pb2O14\", \"Ba2Ti12O26\", \"Si4Pb8S16\", \"Ca4Si6Pb2O18\", \"Pb4W4O16\", \"Ti4S4O20\", \"Pb20S4O32\", \"Pb8C4O16\", \"Zr1Mo2O8\", \"Sr4Cr4O16\", \"Ge16Se32\", \"Ba2Sn2Ge6O18\", \"Ba4Zr4S12\", \"Ca8Ge4S16\", \"Ba8Ge4S16\", \"Ca4Mg12Si12O40\", \"Ge2Pd2S6\", \"Ba8Sn4S16\", \"Cr4Pb4O16\", \"Sr8Ge4O16\", \"Se32\", \"Se32\", \"Ti4Zn8O16\", \"Sn2C4O8\", \"Ba8W8O32\", \"Zr8Pb8O24\", \"Sn4S4O16\", \"Ba3Zn6Si4Te1O20\", \"Te12Pb12O36\", \"Pd2Se2O6\", \"Ca2O2\", \"Ba2C2O6\", \"W3O9\", \"Si4O8\", \"Sn4O4\", \"Pd2Se2O6\", \"Ba2Zn2S2O2\", \"Ba2Zn1W1O6\", \"Sn2O4\", \"Ba2Ca1Te1O6\", \"Sr2Hf2O6\", \"Ge12Pb12O36\", \"Ca4C4O12\", \"Si16O32\", \"Ca2Mg4S6O24\", \"Mg8Si8O24\", \"Ba6Zr4S14\", \"Ca8Zr32O72\", \"Ti4O8\", \"Ca16Ge16O48\", \"Sr6Mg2Si4O16\", \"Mg4Si2O8\", \"Ca2Ge4O10\", \"Ba6Hf5S16\", \"Ge6Pb6O18\", \"Sr12Ge12O36\", \"Ca4Zn4Si12O32\", \"Ti4S4O20\", \"Sr4Se4O12\", \"Sn12O24\", \"Ca11Si4S1O18\", \"Sn2Se4O12\", \"Sr4Zn4Se8O24\", \"Sr3Ge3O9\", \"Si8O16\", \"S9\", \"Ba12Ti10S30O2\", \"S72\", \"Ba12Te12O36\", \"C4O8\", \"Si8O16\", \"Zn4Si2O8\", \"Ca4C4O12\", \"Ba12Sn8S28\", \"Ba4S12\", \"Sr8Pt8Pb2O22\", \"Ba3Ca3C6O18\", \"Si18O36\", \"Zr12W24O96\", \"Ba12Ti34O80\", \"Ba4Mo4Se4O24\", \"Mg16Si16O48\", \"Ca16Si8O32\", \"Sn12W4O24\", \"Sn10W16O44\", \"Ba5Hf4S13\", \"Sr8Cr16O56\", \"Si4O8\", \"Si4O8\", \"S20\", \"S36\", \"S28\", \"Sn16W8O40\", \"Ge9Pb15O33\", \"Ca4Se4O12\", \"S24\", \"Ca12Mg4Si8O32\", \"Zn4Si2O8\", \"Ba4Ti8O20\", \"Ba16Ge32O80\", \"Ca12Mg4Si8O32\", \"Ca4Mg4Ge4O16\", \"Ca4C8O16\", \"Sr4Ti5Si4O22\", \"Ba12Pt24S36\", \"Ba4Zn2Si4O14\", \"Sr4Zr4S12\", \"Zn2Te2Mo2O12\", \"Ba8Ti4Pt2O20\", \"Zn16Si4Te4Pb4O40\", \"Ca8Mg4Si8O28\", \"Ca8Te8C8O40\", \"Pb6S2O12\", \"Hf2Mo4O16\", \"Sr2Ti2Si4O14\", \"Ca10Te6O28\", \"Si8O16\", \"Zn2C4O8\", \"Zr2Mo4O16\", \"Si8O16\", \"Si12O24\", \"Sr4Ti4Ge4O20\", \"Mg8Si4O16\", \"Ge4Pb8S16\", \"Sn8O16\", \"Ba2W2O8\", \"Ca8Ge4O16\", \"Mg4Se4O16\", \"Ba8Ti36O80\", \"Sr4Si8O20\", \"Si32O64\", \"Ca12Si12O36\", \"Te4O8\", \"S4O12\", \"Pd2Se2O8\", \"Sr8Si8O24\", \"Zn4Si4O12\", \"Ca4S4O16\", \"Ca2Mg2Si4O12\", \"Mo2O6\", \"Mo12S12O72\", 0, \"Te3\", \"Si2Se4\", \"Sr16Sn8Se40\", \"Ca2Te2\", \"C4\", \"C8\", \"C14\", \"Zn2Se2\", \"Ba28Sn12Se52\", \"Se64\", \"Ba4Ge2Te4Se4\", \"Sr16Sn8Se36\", \"Ba8Cr16O56\", \"Ge16S32\", \"S104\", \"Ge8Pb40O56\", \"Si64O128\", \"Mg4Si4O12\", \"Mg4Si4O12\", \"Si12O24\", \"Mg2W2O8\", \"Pb4O6\", \"C8\", \"C12\", \"C16\", \"Zn16Si16O48\", \"Pb4S4O16\", \"Ge4Pb4S12\", \"Pb8Se8O24\", \"Ca1O2\", \"Pb2W2O8\", \"Pb8W8O32\", \"Ca54Si18O90\", \"Zn8Si8O24\", \"Mg8Si8O24\", \"Ca2C4\", \"Ca2Si2Sn2O10\", \"Ca2Zr2Ge2O10\", \"C2O4\", \"Mg8Si8O24\", \"Sn4S4O16\", \"Sn4S4O16\", \"Sn4S4O16\", \"Mo8Pb40O64\", \"Mg16Si16O48\", \"Pb4Se8O20\", \"Si28O56\", \"Ca16Zr40Ti16O128\", \"Ba10Si16O42\", \"Ge18Pb66O102\", \"Si48O96\", \"Ca32Te40O112\", \"Si8O16\", \"Te4Pb4\", \"Zr6Mo12O48\", \"Cr8Pb40O64\", \"Sr24Te24O68\", \"Ba1Sr1O2\", \"Ti4O8\", \"Mg4Te6O16\", \"Ca10Ge6O22\", \"Ca8Sn4S16\", \"Si46\", \"Sr4Te4O12\", \"Sr4Mg2Ge4O14\", \"Mg4Sn2O8\", \"Sr1Ca3O4\", \"Ba1Sr3O4\", \"Hf1S2\", \"Ba1O2\", \"Ba2O2\", \"Ti1Ge1Pt1\", \"Mg1Te1\", \"Ca2Sn1\", \"Ca2Si1\", \"Ca2Ge1\", \"Ca2Pb1\", \"Mg2Te2\", \"Ba1Ca1O2\", \"Ti1Sn1O3\", \"Hf2O4\", \"Mo2Se4\", \"Mo2S4\", \"Te4W2\", \"Ba1Ca3O4\", \"Ba2Zr2O6\", \"Ba4Ge4S24O84\", \"Ba4Mg8Si8O28\", \"Ba2S8O26\", \"Ba1Sr2Mg1Si2O8\", \"Ca4Si2O8\", \"Ca32Si20O72\", \"Ca4Mg4Si8O24\", \"Ca4S12O40\", \"Mg8Si4O16\", \"Mg4Si8O20\", \"Mg2S4O14\", \"Mg16Si16O48\", \"Sr4S3O1\", \"Zr2Si2O8\", \"Zn8Si4O16\", \"Zn8Si4O16\", \"Sr4Si2S16O56\", \"Zn2Si2O6\", \"Zn16Si8O32\", \"Sr4Ge2S16O56\", \"Zn8Si4O16\", \"Zn8Si4O16\", \"Sn2S2\", \"Mg2O2\", \"Pb2S2\", \"Pb2S2\", \"Ge2S4\", \"C2O4\", \"Ba4Te2O2\", \"Ca1Zn1C2O6\", \"Sr2Mg1Mo1O6\", \"Pb4S4\", \"Pb4Se4\", \"Sr2Zn1W1O6\", \"Sr4S1O3\", \"Ba3Sr1O4\", \"Sr3Ca1O4\", \"Sr2Zn1Mo1O6\", \"Sr2Zr1Ti1O6\", \"Ca1Zn3Se4\", \"Pb4S4\", \"Ca2Se2O8\", \"Si12\", \"Si4S8\", \"Ba2W2O8\", \"Sn4S8\", \"Zn2Mo2O8\", \"Ti2Si2O8\", \"Zr1Mo2O8\", \"Mg6O6\", \"Te4O8\", \"Zn4S8\", \"Te4O8\", \"Ba1Ca2Mg1Si2O8\", \"Mg4Se8\", \"Mg4Si2O8\", \"Sr4Si2S8\", \"Ba4Hf4S12\", \"Pb4C4O12\", \"Te2Pb4O10\", \"Ca1Ti4Pd3O12\", \"W8O24\", \"Sr4O8\", \"Se4O12\", 0, \"Sr24Te24O72\", \"Mg8O8\", \"Ba4Sn4S12\", \"Sn4Pb4S12\", \"Ba4Hf3S10\", \"Te6O12\", \"Ca4Hf4S12\", \"Zr8O16\", \"Ca4Se4O16\", \"Ba8Zn4Te12\", \"Ca4W4O16\", \"Ba8Zn4Se12\", \"Mg12O12\", \"Ba4Mg2Ge4O14\", \"Ge8O16\", \"Ba4S4O16\", \"Ba4Cr4O16\", \"Ba8Zn4S12\", \"C8O16\", \"Ti8O16\", \"Ba4Zn2Ge4O14\", \"Sr8Zn4S12\", \"Sr4Zn2Si4O14\", \"Ba4Mg2Si4O14\", \"Mg12O12\", \"Mg12O12\", \"Mg12O12\", \"Ba4Ge4Pb4O16\", \"Mg8Ge4Se16\", \"Mg8Si4Se16\", \"Ba8Sn4Se16\", \"Sr4Ge4Pb4O16\", \"Ba2Hf2Si6O18\", \"Ca8Si4Se16\", \"Sr8Sn4O16\", \"Ca6C6O18\", \"Si12S24\", \"Ba4Te16O36\", \"Ba4Te12O28\", \"Ba8Ge8S24\", \"Ba24Sn24Se52\", \"Pb8C4S8O24\", \"Si40\", \"Mo4Pb4Se4O24\", \"Zr4S4O24\", \"Ca10C10O30\", \"Sr15Ti25O65\", \"W8O24\", \"Ge2Pb2S12O42\", \"Ca18C18O54\", \"Ge34\", \"Ca44Sn12C32\", \"Si12Pb44O68\", \"Ge2Pb4Se8O24\", \"Ba4Ti4S24O84\", \"Sr25Ti39O103\", \"Si82\", \"Sr24Te8O48\", \"Sr2Mo4Se4O22\", \"Ca8Zn12Si12Pb4O48\", \"Si16O32\", \"Ba12Ge4S20\", \"Si41\", \"Ba8Si8S48O168\", \"Si232\", \"Pb4Se8O24\", \"W4S8O36\", \"Ti16O32\", \"Te4Pb20O32\", \"Ba12Zr2Zn12S28\", \"Sr5Ti7O19\", \"W10O30\", \"Hf4S4O24\", \"Ba4Sn8S20\", \"Si58\", \"W8O24\", \"Te20Pb4O44\", \"Si68\", \"Ti4Pb4S24O84\", \"Si72O144\", \"Ge4Se8O24\", \"Mo4Pb2Se4O22\", \"Si46\", \"Ba12Sn14S40\", \"Ca2Ti2Ge2O10\", \"Ge2Se4O12\", \"Ba2Pd2Se4O12\", \"Zn2W2O8\", \"Ca4Ti4O12\", \"Ba2Mg2C4O12\", \"Ba4Zn4Se8O24\", \"Sr4Sn4S12\", \"Sr4Hf4S12\", \"Mg2Te2Mo2O12\"], \"y\": [2.0, 2.0, 1.0, 2.0, 2.0, 3.0, 2.0, 1.0, 1.0, 1.0, 5.0, 1.0, 5.0, 4.0, 2.0, 2.0, 9.0, 2.0, 1.0, 3.0, 4.0, 1.0, 1.0, 1.0, 1.0, 2.0, 1.0, 4.0, 1.0, 1.0, 3.0, 3.0, 2.0, 3.0, 2.0, 2.0, 1.0, 1.0, 2.0, 5.0, 4.0, 1.0, 1.0, 3.0, 5.0, 1.0, 1.0, 2.0, 4.0, 2.0, 10.0, 2.0, 2.0, 3.0, 2.0, 1.0, 5.0, 2.0, 8.0, 2.0, 3.0, 1.0, 1.0, 4.0, 1.0, 1.0, 1.0, 2.0, 2.0, 1.0, 3.0, 3.0, 1.0, 3.0, 1.0, 1.0, 2.0, 2.0, 4.0, 6.0, 2.0, 2.0, 3.0, 3.0, 2.0, 7.0, 1.0, 4.0, 2.0, 5.0, 3.0, 5.0, 3.0, 1.0, 4.0, 6.0, 2.0, 2.0, 3.0, 19.0, 2.0, 1.0, 4.0, 5.0, 7.0, 1.0, 3.0, 7.0, 2.0, 5.0, 7.0, 4.0, 1.0, 3.0, 7.0, 5.0, 7.0, 3.0, 5.0, 1.0, 2.0, 4.0, 2.0, 4.0, 2.0, 1.0, 1.0, 3.0, 4.0, 4.0, 2.0, 2.0, 7.0, 1.0, 7.0, 1.0, 8.0, 2.0, 8.0, 1.0, 6.0, 8.0, 3.0, 1.0, 3.0, 2.0, 2.0, 4.0, 4.0, 9.0, 1.0, 3.0, 4.0, 4.0, 2.0, 5.0, 8.0, 1.0, 3.0, 2.0, 4.0, 1.0, 5.0, 5.0, 5.0, 5.0, 5.0, 2.0, 4.0, 3.0, 5.0, 7.0, 1.0, 4.0, 3.0, 3.0, 7.0, 1.0, 8.0, 5.0, 1.0, 1.0, 2.0, 4.0, 1.0, 2.0, 10.0, 6.0, 3.0, 3.0, 5.0, 11.0, 4.0, 6.0, 1.0, 4.0, 1.0, 6.0, 1.0, 4.0, 1.0, 1.0, 1.0, 1.0, 5.0, 2.0, 6.0, 1.0, 1.0, 1.0, 2.0, 5.0, 4.0, 4.0, 5.0, 9.0, 9.0, 1.0, 2.0, 6.0, 3.0, 1.0, 2.0, 1.0, 2.0, 1.0, 2.0, 4.0, 3.0, 2.0, 2.0, 3.0, 3.0, 4.0, 1.0, 1.0, 3.0, 1.0, 1.0, 1.0, 1.0, 1.0, 9.0, 1.0, 2.0, 10.0, 7.0, 7.0, 6.0, 5.0, 3.0, 1.0, 1.0, 9.0, 5.0, 6.0, 2.0, 2.0, 8.0, 1.0, 2.0, 7.0, 9.0, 1.0, 2.0, 15.0, 5.0, 4.0, 6.0, 3.0, 1.0, 1.0, 1.0, 6.0, 8.0, 6.0, 10.0, 6.0, 8.0, 5.0, 1.0, 2.0, 4.0, 7.0, 5.0, 2.0, 1.0, 2.0, 3.0, 5.0, 4.0, 3.0, 2.0, 2.0, 1.0, 1.0, 2.0, 2.0, 1.0, 6.0, 1.0, 6.0, 3.0, 2.0, 4.0, 3.0, 2.0, 10.0, 1.0, 1.0, 4.0, 2.0, 1.0, 6.0, 1.0, 4.0, 4.0, 4.0, 2.0, 2.0, 11.0, 2.0, 4.0, 2.0, 8.0, 4.0, 4.0, 1.0, 3.0, 2.0, 3.0, 4.0, 1.0, 3.0, 3.0, 3.0, 3.0, 7.0, 3.0, 1.0, 5.0, 1.0, 5.0, 2.0, 1.0, 4.0, 3.0, 2.0, 8.0, 3.0, 3.0, 14.0, 6.0, 6.0, 4.0, 2.0, 1.0, 3.0, 3.0, 2.0, 3.0, 3.0, 4.0, 6.0, 7.0, 4.0, 4.0, 3.0, 7.0, 12.0, 3.0, 4.0, 4.0, 4.0, 2.0, 3.0, 2.0, 5.0, 6.0, 3.0, 8.0, 1.0, 5.0, 5.0, 10.0, 2.0, 6.0, 3.0, 5.0, 4.0, 4.0, 1.0, 2.0, 4.0, 4.0, 6.0, 3.0, 9.0, 7.0, 6.0, 6.0, 3.0, 2.0, 6.0, 5.0, 1.0, 7.0, 2.0, 4.0, 1.0, 6.0, 3.0, 10.0, 2.0, 4.0, 6.0, 5.0, 6.0, 4.0, 1.0, 3.0, 14.0, 2.0, 7.0, 4.0, 7.0, 1.0, 1.0, 1.0, 7.0, 9.0, 1.0, 1.0, 1.0, 1.0, 3.0, 1.0, 1.0, 5.0, 8.0, 2.0, 1.0, 2.0, 1.0, 1.0, 1.0, 2.0, 2.0, 4.0, 4.0, 7.0, 1.0, 7.0, 2.0, 1.0, 1.0, 3.0, 2.0, 1.0, 1.0, 14.0, 1.0, 4.0, 2.0, 3.0, 5.0, 3.0, 12.0, 3.0, 13.0, 11.0, 1.0, 2.0, 1.0, 15.0, 6.0, 5.0, 7.0, 9.0, 2.0, 11.0, 1.0, 1.0, 1.0, 1.0, 1.0, 4.0, 2.0, 1.0, 1.0, 6.0, 3.0, 4.0, 4.0, 10.0, 4.0, 11.0, 7.0, 8.0, 4.0, 9.0, 4.0, 6.0, 7.0, 4.0, 8.0, 2.0, 12.0, 1.0, 2.0, 1.0, 6.0, 5.0, 1.0, 2.0, 1.0, 4.0, 2.0, 5.0, 2.0, 2.0, 5.0, 5.0, 4.0, 2.0, 1.0, 3.0, 3.0, 5.0, 3.0, 4.0, 5.0, 2.0, 8.0, 12.0, 8.0, 2.0, 7.0, 3.0, 2.0, 4.0, 3.0, 5.0, 3.0, 3.0, 5.0, 4.0, 2.0, 10.0, 6.0, 2.0, 2.0, 1.0, 3.0, 1.0, 1.0, 2.0, 3.0, 4.0, 2.0, 2.0, 1.0, 2.0, 1.0, 1.0, 3.0, 3.0, 4.0, 4.0, 6.0, 4.0, 2.0, 3.0, 4.0, 1.0, 1.0, 3.0, 5.0, 2.0, 9.0, 5.0, 1.0, 1.0, 2.0, 5.0, 3.0, 1.0, 4.0, 1.0, 2.0, 3.0, 6.0, 5.0, 1.0, 6.0, 5.0, 4.0, 2.0, 1.0, 5.0, 3.0, 3.0, 3.0, 3.0, 1.0, 4.0, 1.0, 3.0, 1.0, 3.0, 2.0, 3.0, 2.0, 1.0, 2.0, 1.0, 1.0, 1.0, 8.0, 1.0, 3.0, 1.0, 9.0, 15.0, 11.0, 2.0, 2.0, 3.0, 5.0, 6.0, 12.0, 2.0, 3.0, 5.0, 6.0, 6.0, 6.0, 3.0, 9.0, 9.0, 3.0, 9.0, 5.0, 11.0, 4.0, 3.0, 2.0, 3.0, 2.0, 3.0, 7.0, 4.0, 1.0, 3.0, 2.0, 1.0, 2.0, 2.0, 1.0, 1.0, 1.0, 5.0, 2.0, 3.0, 2.0, 1.0, 1.0, 1.0, 2.0, 2.0, 2.0, 11.0, 1.0, 2.0, 6.0, 1.0, 1.0, 4.0, 2.0, 3.0, 4.0, 2.0, 9.0, 1.0, 3.0, 3.0, 2.0, 4.0, 3.0, 4.0, 5.0, 2.0, 5.0, 4.0, 4.0, 2.0, 5.0, 10.0, 2.0, 3.0, 4.0, 1.0, 4.0, 10.0, 3.0, 1.0, 3.0, 5.0, 5.0, 1.0, 3.0, 10.0, 2.0, 9.0, 5.0, 1.0, 3.0, 4.0, 2.0, 4.0, 4.0, 1.0, 2.0, 2.0, 1.0, 3.0, 3.0, 5.0, 3.0, 1.0, 6.0, 8.0, 6.0, 3.0, 1.0, 6.0, 7.0, 1.0, 7.0, 3.0, 3.0, 8.0, 6.0, 2.0, 5.0, 12.0, 7.0, 2.0, 4.0, 1.0, 8.0, 2.0, 2.0, 13.0, 2.0, 6.0, 14.0, 2.0, 1.0, 8.0, 5.0, 1.0, 1.0, 2.0, 2.0, 8.0, 4.0, 4.0, 11.0, 2.0, 7.0, 1.0, 5.0, 6.0, 2.0, 2.0, 5.0, 2.0, 3.0, 3.0, 7.0]}, {\"name\": \"RF \", \"type\": \"bar\", \"x\": [\"Zr4S4O4\", \"Hf4S4O4\", \"Ca2Te6O16\", \"Sr4Zr4Si8O28\", \"Te8Mo4O28\", \"Ba4Ti20O44\", \"Ba2Pd4S8\", \"Ti4S4O20\", \"Ba12Ti10S30O2\", \"Sr8Pt8Pb2O22\", \"Ba4Mo4Se4O24\", \"Ca4C8O16\", \"Sr4Ti5Si4O22\", \"Ba8Ti4Pt2O20\", \"Hf2Mo4O16\", \"Mo12S12O72\", \"Ti4O8\", \"Ba4Ge4S24O84\", \"Ba2S8O26\", \"Sr4Ge2S16O56\", \"Ca1Ti4Pd3O12\", \"Ca4W4O16\", \"Ba4Cr4O16\", \"Mg12O12\", \"Zr4S4O24\", \"Ge2Pb2S12O42\", \"Ba4Ti4S24O84\", \"Sr25Ti39O103\", \"Sr2Mo4Se4O22\", \"Ba12Zr2Zn12S28\", \"Si72O144\", \"Ba4Zn4Se8O24\"], \"y\": [2.0, 1.0, 1.0, 1.0, 1.0, 1.0, 2.0, 3.0, 8.0, 3.0, 2.0, 5.0, 1.0, 1.0, 1.0, 6.0, 1.0, 5.0, 4.0, 2.0, 1.0, 1.0, 1.0, 1.0, 1.0, 2.0, 2.0, 1.0, 3.0, 2.0, 1.0, 1.0]}, {\"name\": \"GB \", \"type\": \"bar\", \"x\": [\"Zn1O1\", \"Ca2C2O6\", \"Zr4S4O4\", \"Ba3Ge12O27\", \"Ba3Ti6O15\", \"Ba3Zn3O6\", \"Ba4C4O12\", \"Ca1Mg3C4O12\", \"Ca20Si8C4O44\", \"Si1C1\", \"Zr2S2O2\", \"Ca2Pt3O8\", \"Sr3Ge12O27\", \"Ca2Te6O16\", \"Ba4Zn2Ge4S12O2\", \"Ba4Ca2Pd6O12\", \"Sr4Zr4Si8O28\", \"Ba8Ti4S16\", \"Ti4Sn8O16\", \"Ca4Zn2Ge4O14\", \"Ca3Pb1O1\", \"Pd2S2O8\", \"Ba2Pd4S8\", \"Pt4Pb8O16\", \"C6S16\", \"Ti4S4O20\", \"Ge2Pd2S6\", \"Sn2C4O8\", \"Ba3Zn6Si4Te1O20\", \"Pd2Se2O6\", \"Ba6Hf5S16\", \"Ba12Ti10S30O2\", \"Sr8Pt8Pb2O22\", \"Ba3Ca3C6O18\", \"Zr12W24O96\", \"Ba4Mo4Se4O24\", \"Sn10W16O44\", \"Sr8Cr16O56\", \"Ca4C8O16\", \"Ba12Pt24S36\", \"Zn2Te2Mo2O12\", \"Ba8Ti4Pt2O20\", \"Hf2Mo4O16\", \"Pd2Se2O8\", \"Mo12S12O72\", \"C4\", \"C14\", \"Ba8Cr16O56\", \"Pb8W8O32\", \"Sr24Te24O68\", \"Ti4O8\", \"Ba4Ge4S24O84\", \"Ba2S8O26\", \"Mg4Si2O8\", \"Ca1Ti4Pd3O12\", \"Ca4W4O16\", \"Ba4Cr4O16\", \"Ba4Zn2Ge4O14\", \"Mg12O12\", \"Mo4Pb4Se4O24\", \"Zr4S4O24\", \"Ge34\", \"Ca44Sn12C32\", \"Ba4Ti4S24O84\", \"Sr25Ti39O103\", \"Sr2Mo4Se4O22\", \"W4S8O36\", \"Ba12Zr2Zn12S28\", \"Sr5Ti7O19\", \"Hf4S4O24\"], \"y\": [2.0, 1.0, 3.0, 1.0, 1.0, 2.0, 1.0, 1.0, 1.0, 1.0, 1.0, 1.0, 1.0, 1.0, 2.0, 3.0, 1.0, 1.0, 1.0, 1.0, 1.0, 1.0, 3.0, 1.0, 1.0, 3.0, 1.0, 1.0, 1.0, 1.0, 1.0, 5.0, 3.0, 1.0, 1.0, 2.0, 2.0, 1.0, 4.0, 1.0, 1.0, 1.0, 1.0, 1.0, 3.0, 1.0, 1.0, 2.0, 1.0, 1.0, 1.0, 3.0, 2.0, 1.0, 3.0, 3.0, 1.0, 1.0, 1.0, 2.0, 2.0, 1.0, 1.0, 1.0, 3.0, 1.0, 1.0, 1.0, 2.0, 2.0]}],                        {\"autosize\": false, \"barmode\": \"group\", \"font\": {\"color\": \"Black\", \"family\": \"Palatino\", \"size\": 12}, \"height\": 407.3235447076888, \"template\": {\"data\": {\"bar\": [{\"error_x\": {\"color\": \"#2a3f5f\"}, \"error_y\": {\"color\": \"#2a3f5f\"}, \"marker\": {\"line\": {\"color\": \"#E5ECF6\", \"width\": 0.5}}, \"type\": \"bar\"}], \"barpolar\": [{\"marker\": {\"line\": {\"color\": \"#E5ECF6\", \"width\": 0.5}}, \"type\": \"barpolar\"}], \"carpet\": [{\"aaxis\": {\"endlinecolor\": \"#2a3f5f\", \"gridcolor\": \"white\", \"linecolor\": \"white\", \"minorgridcolor\": \"white\", \"startlinecolor\": \"#2a3f5f\"}, \"baxis\": {\"endlinecolor\": \"#2a3f5f\", \"gridcolor\": \"white\", \"linecolor\": \"white\", \"minorgridcolor\": \"white\", \"startlinecolor\": \"#2a3f5f\"}, \"type\": \"carpet\"}], \"choropleth\": [{\"colorbar\": {\"outlinewidth\": 0, \"ticks\": \"\"}, \"type\": \"choropleth\"}], \"contour\": [{\"colorbar\": {\"outlinewidth\": 0, \"ticks\": \"\"}, \"colorscale\": [[0.0, \"#0d0887\"], [0.1111111111111111, \"#46039f\"], [0.2222222222222222, \"#7201a8\"], [0.3333333333333333, \"#9c179e\"], [0.4444444444444444, \"#bd3786\"], [0.5555555555555556, \"#d8576b\"], [0.6666666666666666, \"#ed7953\"], [0.7777777777777778, \"#fb9f3a\"], [0.8888888888888888, \"#fdca26\"], [1.0, \"#f0f921\"]], \"type\": \"contour\"}], \"contourcarpet\": [{\"colorbar\": {\"outlinewidth\": 0, \"ticks\": \"\"}, \"type\": \"contourcarpet\"}], \"heatmap\": [{\"colorbar\": {\"outlinewidth\": 0, \"ticks\": \"\"}, \"colorscale\": [[0.0, \"#0d0887\"], [0.1111111111111111, \"#46039f\"], [0.2222222222222222, \"#7201a8\"], [0.3333333333333333, \"#9c179e\"], [0.4444444444444444, \"#bd3786\"], [0.5555555555555556, \"#d8576b\"], [0.6666666666666666, \"#ed7953\"], [0.7777777777777778, \"#fb9f3a\"], [0.8888888888888888, \"#fdca26\"], [1.0, \"#f0f921\"]], \"type\": \"heatmap\"}], \"heatmapgl\": [{\"colorbar\": {\"outlinewidth\": 0, \"ticks\": \"\"}, \"colorscale\": [[0.0, \"#0d0887\"], [0.1111111111111111, \"#46039f\"], [0.2222222222222222, \"#7201a8\"], [0.3333333333333333, \"#9c179e\"], [0.4444444444444444, \"#bd3786\"], [0.5555555555555556, \"#d8576b\"], [0.6666666666666666, \"#ed7953\"], [0.7777777777777778, \"#fb9f3a\"], [0.8888888888888888, \"#fdca26\"], [1.0, \"#f0f921\"]], \"type\": \"heatmapgl\"}], \"histogram\": [{\"marker\": {\"colorbar\": {\"outlinewidth\": 0, \"ticks\": \"\"}}, \"type\": \"histogram\"}], \"histogram2d\": [{\"colorbar\": {\"outlinewidth\": 0, \"ticks\": \"\"}, \"colorscale\": [[0.0, \"#0d0887\"], [0.1111111111111111, \"#46039f\"], [0.2222222222222222, \"#7201a8\"], [0.3333333333333333, \"#9c179e\"], [0.4444444444444444, \"#bd3786\"], [0.5555555555555556, \"#d8576b\"], [0.6666666666666666, \"#ed7953\"], [0.7777777777777778, \"#fb9f3a\"], [0.8888888888888888, \"#fdca26\"], [1.0, \"#f0f921\"]], \"type\": \"histogram2d\"}], \"histogram2dcontour\": [{\"colorbar\": {\"outlinewidth\": 0, \"ticks\": \"\"}, \"colorscale\": [[0.0, \"#0d0887\"], [0.1111111111111111, \"#46039f\"], [0.2222222222222222, \"#7201a8\"], [0.3333333333333333, \"#9c179e\"], [0.4444444444444444, \"#bd3786\"], [0.5555555555555556, \"#d8576b\"], [0.6666666666666666, \"#ed7953\"], [0.7777777777777778, \"#fb9f3a\"], [0.8888888888888888, \"#fdca26\"], [1.0, \"#f0f921\"]], \"type\": \"histogram2dcontour\"}], \"mesh3d\": [{\"colorbar\": {\"outlinewidth\": 0, \"ticks\": \"\"}, \"type\": \"mesh3d\"}], \"parcoords\": [{\"line\": {\"colorbar\": {\"outlinewidth\": 0, \"ticks\": \"\"}}, \"type\": \"parcoords\"}], \"pie\": [{\"automargin\": true, \"type\": \"pie\"}], \"scatter\": [{\"marker\": {\"colorbar\": {\"outlinewidth\": 0, \"ticks\": \"\"}}, \"type\": \"scatter\"}], \"scatter3d\": [{\"line\": {\"colorbar\": {\"outlinewidth\": 0, \"ticks\": \"\"}}, \"marker\": {\"colorbar\": {\"outlinewidth\": 0, \"ticks\": \"\"}}, \"type\": \"scatter3d\"}], \"scattercarpet\": [{\"marker\": {\"colorbar\": {\"outlinewidth\": 0, \"ticks\": \"\"}}, \"type\": \"scattercarpet\"}], \"scattergeo\": [{\"marker\": {\"colorbar\": {\"outlinewidth\": 0, \"ticks\": \"\"}}, \"type\": \"scattergeo\"}], \"scattergl\": [{\"marker\": {\"colorbar\": {\"outlinewidth\": 0, \"ticks\": \"\"}}, \"type\": \"scattergl\"}], \"scattermapbox\": [{\"marker\": {\"colorbar\": {\"outlinewidth\": 0, \"ticks\": \"\"}}, \"type\": \"scattermapbox\"}], \"scatterpolar\": [{\"marker\": {\"colorbar\": {\"outlinewidth\": 0, \"ticks\": \"\"}}, \"type\": \"scatterpolar\"}], \"scatterpolargl\": [{\"marker\": {\"colorbar\": {\"outlinewidth\": 0, \"ticks\": \"\"}}, \"type\": \"scatterpolargl\"}], \"scatterternary\": [{\"marker\": {\"colorbar\": {\"outlinewidth\": 0, \"ticks\": \"\"}}, \"type\": \"scatterternary\"}], \"surface\": [{\"colorbar\": {\"outlinewidth\": 0, \"ticks\": \"\"}, \"colorscale\": [[0.0, \"#0d0887\"], [0.1111111111111111, \"#46039f\"], [0.2222222222222222, \"#7201a8\"], [0.3333333333333333, \"#9c179e\"], [0.4444444444444444, \"#bd3786\"], [0.5555555555555556, \"#d8576b\"], [0.6666666666666666, \"#ed7953\"], [0.7777777777777778, \"#fb9f3a\"], [0.8888888888888888, \"#fdca26\"], [1.0, \"#f0f921\"]], \"type\": \"surface\"}], \"table\": [{\"cells\": {\"fill\": {\"color\": \"#EBF0F8\"}, \"line\": {\"color\": \"white\"}}, \"header\": {\"fill\": {\"color\": \"#C8D4E3\"}, \"line\": {\"color\": \"white\"}}, \"type\": \"table\"}]}, \"layout\": {\"annotationdefaults\": {\"arrowcolor\": \"#2a3f5f\", \"arrowhead\": 0, \"arrowwidth\": 1}, \"autotypenumbers\": \"strict\", \"coloraxis\": {\"colorbar\": {\"outlinewidth\": 0, \"ticks\": \"\"}}, \"colorscale\": {\"diverging\": [[0, \"#8e0152\"], [0.1, \"#c51b7d\"], [0.2, \"#de77ae\"], [0.3, \"#f1b6da\"], [0.4, \"#fde0ef\"], [0.5, \"#f7f7f7\"], [0.6, \"#e6f5d0\"], [0.7, \"#b8e186\"], [0.8, \"#7fbc41\"], [0.9, \"#4d9221\"], [1, \"#276419\"]], \"sequential\": [[0.0, \"#0d0887\"], [0.1111111111111111, \"#46039f\"], [0.2222222222222222, \"#7201a8\"], [0.3333333333333333, \"#9c179e\"], [0.4444444444444444, \"#bd3786\"], [0.5555555555555556, \"#d8576b\"], [0.6666666666666666, \"#ed7953\"], [0.7777777777777778, \"#fb9f3a\"], [0.8888888888888888, \"#fdca26\"], [1.0, \"#f0f921\"]], \"sequentialminus\": [[0.0, \"#0d0887\"], [0.1111111111111111, \"#46039f\"], [0.2222222222222222, \"#7201a8\"], [0.3333333333333333, \"#9c179e\"], [0.4444444444444444, \"#bd3786\"], [0.5555555555555556, \"#d8576b\"], [0.6666666666666666, \"#ed7953\"], [0.7777777777777778, \"#fb9f3a\"], [0.8888888888888888, \"#fdca26\"], [1.0, \"#f0f921\"]]}, \"colorway\": [\"#636efa\", \"#EF553B\", \"#00cc96\", \"#ab63fa\", \"#FFA15A\", \"#19d3f3\", \"#FF6692\", \"#B6E880\", \"#FF97FF\", \"#FECB52\"], \"font\": {\"color\": \"#2a3f5f\"}, \"geo\": {\"bgcolor\": \"white\", \"lakecolor\": \"white\", \"landcolor\": \"#E5ECF6\", \"showlakes\": true, \"showland\": true, \"subunitcolor\": \"white\"}, \"hoverlabel\": {\"align\": \"left\"}, \"hovermode\": \"closest\", \"mapbox\": {\"style\": \"light\"}, \"paper_bgcolor\": \"white\", \"plot_bgcolor\": \"#E5ECF6\", \"polar\": {\"angularaxis\": {\"gridcolor\": \"white\", \"linecolor\": \"white\", \"ticks\": \"\"}, \"bgcolor\": \"#E5ECF6\", \"radialaxis\": {\"gridcolor\": \"white\", \"linecolor\": \"white\", \"ticks\": \"\"}}, \"scene\": {\"xaxis\": {\"backgroundcolor\": \"#E5ECF6\", \"gridcolor\": \"white\", \"gridwidth\": 2, \"linecolor\": \"white\", \"showbackground\": true, \"ticks\": \"\", \"zerolinecolor\": \"white\"}, \"yaxis\": {\"backgroundcolor\": \"#E5ECF6\", \"gridcolor\": \"white\", \"gridwidth\": 2, \"linecolor\": \"white\", \"showbackground\": true, \"ticks\": \"\", \"zerolinecolor\": \"white\"}, \"zaxis\": {\"backgroundcolor\": \"#E5ECF6\", \"gridcolor\": \"white\", \"gridwidth\": 2, \"linecolor\": \"white\", \"showbackground\": true, \"ticks\": \"\", \"zerolinecolor\": \"white\"}}, \"shapedefaults\": {\"line\": {\"color\": \"#2a3f5f\"}}, \"ternary\": {\"aaxis\": {\"gridcolor\": \"white\", \"linecolor\": \"white\", \"ticks\": \"\"}, \"baxis\": {\"gridcolor\": \"white\", \"linecolor\": \"white\", \"ticks\": \"\"}, \"bgcolor\": \"#E5ECF6\", \"caxis\": {\"gridcolor\": \"white\", \"linecolor\": \"white\", \"ticks\": \"\"}}, \"title\": {\"x\": 0.05}, \"xaxis\": {\"automargin\": true, \"gridcolor\": \"white\", \"linecolor\": \"white\", \"ticks\": \"\", \"title\": {\"standoff\": 15}, \"zerolinecolor\": \"white\", \"zerolinewidth\": 2}, \"yaxis\": {\"automargin\": true, \"gridcolor\": \"white\", \"linecolor\": \"white\", \"ticks\": \"\", \"title\": {\"standoff\": 15}, \"zerolinecolor\": \"white\", \"zerolinewidth\": 2}}}, \"title\": {\"text\": \"False negative (Nruns = 25)\"}, \"width\": 1096.3793066666667, \"yaxis\": {\"title\": {\"text\": \"Counts\"}}},                        {\"responsive\": true}                    ).then(function(){\n",
       "                            \n",
       "var gd = document.getElementById('6f3ca6f4-af18-4a40-8e49-f4b35c0c2555');\n",
       "var x = new MutationObserver(function (mutations, observer) {{\n",
       "        var display = window.getComputedStyle(gd).display;\n",
       "        if (!display || display === 'none') {{\n",
       "            console.log([gd, 'removed!']);\n",
       "            Plotly.purge(gd);\n",
       "            observer.disconnect();\n",
       "        }}\n",
       "}});\n",
       "\n",
       "// Listen for the removal of the full notebook cells\n",
       "var notebookContainer = gd.closest('#notebook-container');\n",
       "if (notebookContainer) {{\n",
       "    x.observe(notebookContainer, {childList: true});\n",
       "}}\n",
       "\n",
       "// Listen for the clearing of the current output cell\n",
       "var outputEl = gd.closest('.output');\n",
       "if (outputEl) {{\n",
       "    x.observe(outputEl, {childList: true});\n",
       "}}\n",
       "\n",
       "                        })                };                });            </script>        </div>"
      ]
     },
     "metadata": {},
     "output_type": "display_data"
    }
   ],
   "source": [
    "visualize.plot_confusion_metrics(SupervisedModels, prettyNames, trainingData,\n",
    "                                 k = numberSplits,\n",
    "                                 n = numberRuns, \n",
    "                       prettyNames = prettyNames,\n",
    "                             numPC = numberOfPrincipalComponents,\n",
    "                          approach = InsertApproach)"
   ]
  },
  {
   "cell_type": "code",
   "execution_count": 25,
   "metadata": {
    "scrolled": false
   },
   "outputs": [
    {
     "data": {
      "image/png": "[encoded data removed]",
      "text/plain": [
       "<Figure size 307.205x189.863 with 1 Axes>"
      ]
     },
     "metadata": {
      "needs_background": "light"
     },
     "output_type": "display_data"
    },
    {
     "data": {
      "image/png": "[encoded data removed]",
      "text/plain": [
       "<Figure size 307.205x189.863 with 1 Axes>"
      ]
     },
     "metadata": {
      "needs_background": "light"
     },
     "output_type": "display_data"
    },
    {
     "data": {
      "image/png": "[encoded data removed]",
      "text/plain": [
       "<Figure size 307.205x189.863 with 1 Axes>"
      ]
     },
     "metadata": {
      "needs_background": "light"
     },
     "output_type": "display_data"
    },
    {
     "data": {
      "image/png": "[encoded data removed]",
      "text/plain": [
       "<Figure size 307.205x189.863 with 1 Axes>"
      ]
     },
     "metadata": {
      "needs_background": "light"
     },
     "output_type": "display_data"
    }
   ],
   "source": [
    "visualize.confusion_matrixQT(SupervisedModels, trainingTarget,                      \n",
    "                             prettyNames = prettyNames,\n",
    "                           numPC = numberOfPrincipalComponents,\n",
    "                        approach = InsertApproach)"
   ]
  },
  {
   "cell_type": "code",
   "execution_count": null,
   "metadata": {},
   "outputs": [],
   "source": []
  },
  {
   "cell_type": "code",
   "execution_count": 26,
   "metadata": {},
   "outputs": [
    {
     "data": {
      "text/markdown": [
       "# Predicting solid-state qubit candidates\n",
       "\n",
       "It is time to make the prediction based on the best estimators and features possible. The information of each optimal estimator is stored within the algorithm as pipeline objects. \n"
      ],
      "text/plain": [
       "<IPython.core.display.Markdown object>"
      ]
     },
     "metadata": {},
     "output_type": "display_data"
    },
    {
     "data": {
      "text/html": [
       "\n",
       "        <script>\n",
       "            function code_toggle_7961034582609642206() {\n",
       "                $('div.cell.code_cell.rendered.selected').find('div.input').toggle();\n",
       "            }\n",
       "\n",
       "            \n",
       "        </script>\n",
       "\n",
       "        <a href=\"javascript:code_toggle_7961034582609642206()\">Toggle show/hide</a>\n",
       "    "
      ],
      "text/plain": [
       "<IPython.core.display.HTML object>"
      ]
     },
     "execution_count": 26,
     "metadata": {},
     "output_type": "execute_result"
    }
   ],
   "source": [
    "from IPython.display import display, Markdown\n",
    "\n",
    "with open(Path.cwd().parent.parent.parent / \"src\" / \"notebookcodesnippets\" / \"supervised\" / \"predictions.md\", 'r') as fh:\n",
    "    content = fh.read()\n",
    "\n",
    "display(Markdown(content))\n",
    "hide_toggle()"
   ]
  },
  {
   "cell_type": "code",
   "execution_count": 27,
   "metadata": {},
   "outputs": [
    {
     "name": "stderr",
     "output_type": "stream",
     "text": [
      "4it [00:23,  5.94s/it]\n"
     ]
    }
   ],
   "source": [
    "Summary                 = pd.DataFrame({}, dtype=\"string\")\n",
    "Summary[\"material_id\"]  = testSet[\"material_id\"]\n",
    "Summary[\"full_formula\"] = testSet[\"full_formula\"]\n",
    "Summary[\"pretty_formula\"] = testSet[\"pretty_formula\"]\n",
    "\n",
    "PredictedCandidates = pd.Series({}, dtype=\"string\")\n",
    "\n",
    "threshold = numberSplits*numberRuns/2 #50% when equal\n",
    "trainSet = trainingData.drop([\"material_id\", \"full_formula\"], axis=1)\n",
    "testData = testSet.drop([\"pretty_formula\", \"candidate\", \"full_formula\", \"material_id\"], axis=1)\n",
    "fittedAlgorithms = [] \n",
    "\n",
    "for i, algorithm in tqdm(enumerate(Algorithms)):\n",
    "    \n",
    "    # Train the final model with the best estimators\n",
    "    fittedAlgorithm = train_model.fitAlgorithm(algorithm, \n",
    "                                    trainingData   = trainSet,#trainSet[trainSet.columns[SupervisedModels[Abbreviations[i]][\"importantKeys\"]>threshold]],\\\n",
    "                                    trainingTarget = trainingTarget.values.reshape(-1,),)\n",
    "    \n",
    "    fittedAlgorithms.append(fittedAlgorithm)\n",
    "    \n",
    "    # Predict the final model on unseen data\n",
    "    PredictedCandidates[Abbreviations[i]],\\\n",
    "    PredictedCandidates[Abbreviations[i]+\"Prob\"] = predict_model.runPredictions(fittedAlgorithm,\\\n",
    "                                                        testData = testData)#[testData.columns[SupervisedModels[Abbreviations[i]][\"importantKeys\"]>threshold]])"
   ]
  },
  {
   "cell_type": "code",
   "execution_count": 28,
   "metadata": {},
   "outputs": [
    {
     "name": "stdout",
     "output_type": "stream",
     "text": [
      "LOG  predict the number of candidates as: 12380\n",
      "DT  predict the number of candidates as: 11315\n",
      "RF  predict the number of candidates as: 14278\n",
      "GB  predict the number of candidates as: 11835\n"
     ]
    }
   ],
   "source": [
    "for abbreviation in Abbreviations:\n",
    "    Summary[abbreviation]            = PredictedCandidates[abbreviation]\n",
    "    Summary[abbreviation + \"Prob\"]   = PredictedCandidates[abbreviation + \"Prob\"]\n",
    "    print(\"{} predict the number of candidates as: {}\".format(abbreviation, int(np.sum(PredictedCandidates[abbreviation]))))"
   ]
  },
  {
   "cell_type": "code",
   "execution_count": 29,
   "metadata": {},
   "outputs": [
    {
     "data": {
      "text/html": [
       "<div>\n",
       "<style scoped>\n",
       "    .dataframe tbody tr th:only-of-type {\n",
       "        vertical-align: middle;\n",
       "    }\n",
       "\n",
       "    .dataframe tbody tr th {\n",
       "        vertical-align: top;\n",
       "    }\n",
       "\n",
       "    .dataframe thead th {\n",
       "        text-align: right;\n",
       "    }\n",
       "</style>\n",
       "<table border=\"1\" class=\"dataframe\">\n",
       "  <thead>\n",
       "    <tr style=\"text-align: right;\">\n",
       "      <th></th>\n",
       "      <th>material_id</th>\n",
       "      <th>full_formula</th>\n",
       "      <th>pretty_formula</th>\n",
       "      <th>LOG</th>\n",
       "      <th>LOG Prob</th>\n",
       "      <th>DT</th>\n",
       "      <th>DT Prob</th>\n",
       "      <th>RF</th>\n",
       "      <th>RF Prob</th>\n",
       "      <th>GB</th>\n",
       "      <th>GB Prob</th>\n",
       "    </tr>\n",
       "  </thead>\n",
       "  <tbody>\n",
       "    <tr>\n",
       "      <th>1581</th>\n",
       "      <td>mvc-12905</td>\n",
       "      <td>Fe4O8</td>\n",
       "      <td>FeO2</td>\n",
       "      <td>1.0</td>\n",
       "      <td>0.597325</td>\n",
       "      <td>1.0</td>\n",
       "      <td>0.709677</td>\n",
       "      <td>1.0</td>\n",
       "      <td>0.630571</td>\n",
       "      <td>1.0</td>\n",
       "      <td>0.568050</td>\n",
       "    </tr>\n",
       "    <tr>\n",
       "      <th>1582</th>\n",
       "      <td>mp-24</td>\n",
       "      <td>C8</td>\n",
       "      <td>C</td>\n",
       "      <td>1.0</td>\n",
       "      <td>0.997700</td>\n",
       "      <td>1.0</td>\n",
       "      <td>1.000000</td>\n",
       "      <td>1.0</td>\n",
       "      <td>0.631594</td>\n",
       "      <td>1.0</td>\n",
       "      <td>0.635261</td>\n",
       "    </tr>\n",
       "    <tr>\n",
       "      <th>1583</th>\n",
       "      <td>mp-25</td>\n",
       "      <td>N8</td>\n",
       "      <td>N2</td>\n",
       "      <td>1.0</td>\n",
       "      <td>0.999925</td>\n",
       "      <td>1.0</td>\n",
       "      <td>1.000000</td>\n",
       "      <td>1.0</td>\n",
       "      <td>0.639430</td>\n",
       "      <td>1.0</td>\n",
       "      <td>0.867394</td>\n",
       "    </tr>\n",
       "    <tr>\n",
       "      <th>1584</th>\n",
       "      <td>mp-111</td>\n",
       "      <td>Ne1</td>\n",
       "      <td>Ne</td>\n",
       "      <td>1.0</td>\n",
       "      <td>1.000000</td>\n",
       "      <td>0.0</td>\n",
       "      <td>0.285714</td>\n",
       "      <td>1.0</td>\n",
       "      <td>0.725925</td>\n",
       "      <td>1.0</td>\n",
       "      <td>0.989346</td>\n",
       "    </tr>\n",
       "    <tr>\n",
       "      <th>1585</th>\n",
       "      <td>mp-118</td>\n",
       "      <td>P24</td>\n",
       "      <td>P</td>\n",
       "      <td>1.0</td>\n",
       "      <td>0.999405</td>\n",
       "      <td>1.0</td>\n",
       "      <td>0.944444</td>\n",
       "      <td>1.0</td>\n",
       "      <td>0.798340</td>\n",
       "      <td>1.0</td>\n",
       "      <td>0.906745</td>\n",
       "    </tr>\n",
       "    <tr>\n",
       "      <th>...</th>\n",
       "      <td>...</td>\n",
       "      <td>...</td>\n",
       "      <td>...</td>\n",
       "      <td>...</td>\n",
       "      <td>...</td>\n",
       "      <td>...</td>\n",
       "      <td>...</td>\n",
       "      <td>...</td>\n",
       "      <td>...</td>\n",
       "      <td>...</td>\n",
       "      <td>...</td>\n",
       "    </tr>\n",
       "    <tr>\n",
       "      <th>25199</th>\n",
       "      <td>mp-1304797</td>\n",
       "      <td>Sr12In4Ni4O24</td>\n",
       "      <td>Sr3InNiO6</td>\n",
       "      <td>1.0</td>\n",
       "      <td>0.963774</td>\n",
       "      <td>1.0</td>\n",
       "      <td>0.944444</td>\n",
       "      <td>1.0</td>\n",
       "      <td>0.822830</td>\n",
       "      <td>1.0</td>\n",
       "      <td>0.945229</td>\n",
       "    </tr>\n",
       "    <tr>\n",
       "      <th>25200</th>\n",
       "      <td>mp-1541522</td>\n",
       "      <td>Bi2P2O8</td>\n",
       "      <td>BiPO4</td>\n",
       "      <td>1.0</td>\n",
       "      <td>0.993755</td>\n",
       "      <td>1.0</td>\n",
       "      <td>0.937500</td>\n",
       "      <td>1.0</td>\n",
       "      <td>0.869584</td>\n",
       "      <td>1.0</td>\n",
       "      <td>0.985084</td>\n",
       "    </tr>\n",
       "    <tr>\n",
       "      <th>25201</th>\n",
       "      <td>mp-1541714</td>\n",
       "      <td>Cs3As2Cl9</td>\n",
       "      <td>Cs3As2Cl9</td>\n",
       "      <td>1.0</td>\n",
       "      <td>0.824289</td>\n",
       "      <td>0.0</td>\n",
       "      <td>0.099526</td>\n",
       "      <td>1.0</td>\n",
       "      <td>0.555974</td>\n",
       "      <td>1.0</td>\n",
       "      <td>0.656891</td>\n",
       "    </tr>\n",
       "    <tr>\n",
       "      <th>25202</th>\n",
       "      <td>mp-1542038</td>\n",
       "      <td>Cs2Sn2Se6</td>\n",
       "      <td>CsSnSe3</td>\n",
       "      <td>1.0</td>\n",
       "      <td>0.903751</td>\n",
       "      <td>1.0</td>\n",
       "      <td>0.941176</td>\n",
       "      <td>1.0</td>\n",
       "      <td>0.720311</td>\n",
       "      <td>1.0</td>\n",
       "      <td>0.912858</td>\n",
       "    </tr>\n",
       "    <tr>\n",
       "      <th>25203</th>\n",
       "      <td>mp-1542939</td>\n",
       "      <td>Ba1Mo1P2O8</td>\n",
       "      <td>BaMo(PO4)2</td>\n",
       "      <td>1.0</td>\n",
       "      <td>0.564533</td>\n",
       "      <td>0.0</td>\n",
       "      <td>0.000000</td>\n",
       "      <td>1.0</td>\n",
       "      <td>0.516990</td>\n",
       "      <td>0.0</td>\n",
       "      <td>0.296870</td>\n",
       "    </tr>\n",
       "  </tbody>\n",
       "</table>\n",
       "<p>23623 rows × 11 columns</p>\n",
       "</div>"
      ],
      "text/plain": [
       "      material_id   full_formula pretty_formula  LOG   LOG Prob  DT   \\\n",
       "1581    mvc-12905          Fe4O8           FeO2   1.0  0.597325  1.0   \n",
       "1582        mp-24             C8              C   1.0  0.997700  1.0   \n",
       "1583        mp-25             N8             N2   1.0  0.999925  1.0   \n",
       "1584       mp-111            Ne1             Ne   1.0  1.000000  0.0   \n",
       "1585       mp-118            P24              P   1.0  0.999405  1.0   \n",
       "...           ...            ...            ...   ...       ...  ...   \n",
       "25199  mp-1304797  Sr12In4Ni4O24      Sr3InNiO6   1.0  0.963774  1.0   \n",
       "25200  mp-1541522        Bi2P2O8          BiPO4   1.0  0.993755  1.0   \n",
       "25201  mp-1541714      Cs3As2Cl9      Cs3As2Cl9   1.0  0.824289  0.0   \n",
       "25202  mp-1542038      Cs2Sn2Se6        CsSnSe3   1.0  0.903751  1.0   \n",
       "25203  mp-1542939     Ba1Mo1P2O8     BaMo(PO4)2   1.0  0.564533  0.0   \n",
       "\n",
       "        DT Prob  RF    RF Prob  GB    GB Prob  \n",
       "1581   0.709677  1.0  0.630571  1.0  0.568050  \n",
       "1582   1.000000  1.0  0.631594  1.0  0.635261  \n",
       "1583   1.000000  1.0  0.639430  1.0  0.867394  \n",
       "1584   0.285714  1.0  0.725925  1.0  0.989346  \n",
       "1585   0.944444  1.0  0.798340  1.0  0.906745  \n",
       "...         ...  ...       ...  ...       ...  \n",
       "25199  0.944444  1.0  0.822830  1.0  0.945229  \n",
       "25200  0.937500  1.0  0.869584  1.0  0.985084  \n",
       "25201  0.099526  1.0  0.555974  1.0  0.656891  \n",
       "25202  0.941176  1.0  0.720311  1.0  0.912858  \n",
       "25203  0.000000  1.0  0.516990  0.0  0.296870  \n",
       "\n",
       "[23623 rows x 11 columns]"
      ]
     },
     "execution_count": 29,
     "metadata": {},
     "output_type": "execute_result"
    }
   ],
   "source": [
    "Summary"
   ]
  },
  {
   "cell_type": "code",
   "execution_count": 30,
   "metadata": {},
   "outputs": [
    {
     "data": {
      "text/markdown": [
       "## Save the summary and models\n"
      ],
      "text/plain": [
       "<IPython.core.display.Markdown object>"
      ]
     },
     "metadata": {},
     "output_type": "display_data"
    },
    {
     "data": {
      "text/html": [
       "\n",
       "        <script>\n",
       "            function code_toggle_15705495362859557243() {\n",
       "                $('div.cell.code_cell.rendered.selected').find('div.input').toggle();\n",
       "            }\n",
       "\n",
       "            \n",
       "        </script>\n",
       "\n",
       "        <a href=\"javascript:code_toggle_15705495362859557243()\">Toggle show/hide</a>\n",
       "    "
      ],
      "text/plain": [
       "<IPython.core.display.HTML object>"
      ]
     },
     "execution_count": 30,
     "metadata": {},
     "output_type": "execute_result"
    }
   ],
   "source": [
    "from IPython.display import display, Markdown\n",
    "\n",
    "with open(Path.cwd().parent.parent.parent / \"src\" / \"notebookcodesnippets\" / \"supervised\" / \"save.md\", 'r') as fh:\n",
    "    content = fh.read()\n",
    "\n",
    "display(Markdown(content))\n",
    "hide_toggle()"
   ]
  },
  {
   "cell_type": "code",
   "execution_count": 31,
   "metadata": {},
   "outputs": [
    {
     "name": "stderr",
     "output_type": "stream",
     "text": [
      "4it [00:00, 174.67it/s]\n"
     ]
    }
   ],
   "source": [
    "file_path = Path(models_dir / InsertApproach / \"trained-models\")\n",
    "Path(file_path).mkdir(parents=True, exist_ok=True)\n",
    "for i, fitted_algorithm in tqdm(enumerate(fittedAlgorithms)):\n",
    "    file_path = Path(models_dir / InsertApproach / \"trained-models\" / Path(\"PCA-\" + str(numberOfPrincipalComponents) + \"-\" + prettyNames[i] + \".pkl\"))\n",
    "    with file_path.open(\"wb\") as fp:\n",
    "        pickle.dump(fitted_algorithm, fp)\n",
    "        \n",
    "\n",
    "file_path = (models_dir / InsertApproach /  \"summary\")\n",
    "Path(Path(models_dir / InsertApproach /  \"summary\")).mkdir(parents=True, exist_ok=True)\n",
    "\n",
    "file_path = Path(models_dir / InsertApproach /  \"summary\" / Path(\"PCA-\" + str(numberOfPrincipalComponents) + \"-\" + \"summary.pkl\"))\n",
    "with file_path.open(\"wb\") as fp:\n",
    "        pickle.dump(Summary, fp)"
   ]
  },
  {
   "cell_type": "code",
   "execution_count": null,
   "metadata": {},
   "outputs": [],
   "source": []
  }
 ],
 "metadata": {
  "kernelspec": {
   "display_name": "Python 3",
   "language": "python",
   "name": "python3"
  },
  "language_info": {
   "codemirror_mode": {
    "name": "ipython",
    "version": 3
   },
   "file_extension": ".py",
   "mimetype": "text/x-python",
   "name": "python",
   "nbconvert_exporter": "python",
   "pygments_lexer": "ipython3",
   "version": "3.8.5"
  }
 },
 "nbformat": 4,
 "nbformat_minor": 4
}
