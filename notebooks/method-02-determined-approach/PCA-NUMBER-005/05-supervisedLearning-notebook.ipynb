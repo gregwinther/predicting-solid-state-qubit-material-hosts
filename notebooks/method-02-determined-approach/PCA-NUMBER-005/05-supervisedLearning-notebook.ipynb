{
 "cells": [
  {
   "cell_type": "code",
   "execution_count": 1,
   "metadata": {},
   "outputs": [
    {
     "data": {
      "text/html": [
       "\n",
       "        <script>\n",
       "            function code_toggle_1323764936970781540() {\n",
       "                $('div.cell.code_cell.rendered.selected').find('div.input').toggle();\n",
       "            }\n",
       "\n",
       "            \n",
       "        </script>\n",
       "\n",
       "        <a href=\"javascript:code_toggle_1323764936970781540()\">Toggle show/hide</a>\n",
       "    "
      ],
      "text/plain": [
       "<IPython.core.display.HTML object>"
      ]
     },
     "execution_count": 1,
     "metadata": {},
     "output_type": "execute_result"
    }
   ],
   "source": [
    "from pathlib import Path\n",
    "from src.notebookcodesnippets.hideInputs import hide_toggle \n",
    "\n",
    "hide_toggle()"
   ]
  },
  {
   "cell_type": "code",
   "execution_count": 2,
   "metadata": {},
   "outputs": [
    {
     "data": {
      "text/markdown": [
       "# 05-Supervised learning\n",
       "\n",
       "In this notebook we will train a model based on the previous 4 notebooks. This includes inspecting, finding the optimal hyperparameters (with many visualizations) and finally predict with the optimal model that has been found. This notebook is the same as every other supervised notebook in this project, but differs in training set, principal components and results. Therefore, to provide easy implementations, the notebook has been made modular to a certain degree, in particular for further implementation of other machine learning algorithms. It should be relatively straight forward to add more algorithms.\n",
       "\n",
       "## Table of contents\n",
       "\n",
       "- Imports and reading of data\n",
       "- Algorithms\n",
       "- Methods for finding optimal hyperparameters\n",
       "- Optimal hyperparameter search\n",
       "    - Visualizing the optimal parameters for dimensionality reduction\n",
       "    - Visualizing confusion metrics\n",
       "    - ROC-AUC  and precision recall curves\n",
       "    - Visualizing the cross-validated trained models\n",
       "    - Visualizing relevant features\n",
       "    - Falsely predicted entries\n",
       "- Predicting solid-state qubit candidates\n",
       "    - Save the summary and models\n",
       "\n",
       "The cell under provides the editorial difference between the different supervised notebooks in this project. \n"
      ],
      "text/plain": [
       "<IPython.core.display.Markdown object>"
      ]
     },
     "metadata": {},
     "output_type": "display_data"
    },
    {
     "data": {
      "text/html": [
       "\n",
       "        <script>\n",
       "            function code_toggle_18377155530233193325() {\n",
       "                $('div.cell.code_cell.rendered.selected').find('div.input').toggle();\n",
       "            }\n",
       "\n",
       "            \n",
       "        </script>\n",
       "\n",
       "        <a href=\"javascript:code_toggle_18377155530233193325()\">Toggle show/hide</a>\n",
       "    "
      ],
      "text/plain": [
       "<IPython.core.display.HTML object>"
      ]
     },
     "execution_count": 2,
     "metadata": {},
     "output_type": "execute_result"
    }
   ],
   "source": [
    "from IPython.display import display, Markdown\n",
    "\n",
    "with open(Path.cwd().parent.parent.parent / \"src\" / \"notebookcodesnippets\" / \"supervised\" / \"intro.md\", 'r') as fh:\n",
    "    content = fh.read()\n",
    "\n",
    "display(Markdown(content))\n",
    "hide_toggle()"
   ]
  },
  {
   "cell_type": "code",
   "execution_count": 3,
   "metadata": {},
   "outputs": [],
   "source": [
    "InsertApproach = \"02-determined-approach\"\n",
    "numberOfPrincipalComponents = 5"
   ]
  },
  {
   "cell_type": "markdown",
   "metadata": {},
   "source": [
    "# Imports and reading of data\n",
    "\n",
    "Most of the code used in this notebook is found in the src library."
   ]
  },
  {
   "cell_type": "code",
   "execution_count": 4,
   "metadata": {},
   "outputs": [
    {
     "data": {
      "text/html": [
       "\n",
       "        <script>\n",
       "            function code_toggle_8033180802069355584() {\n",
       "                $('div.cell.code_cell.rendered.selected').find('div.input').toggle();\n",
       "            }\n",
       "\n",
       "            \n",
       "        </script>\n",
       "\n",
       "        <a href=\"javascript:code_toggle_8033180802069355584()\">Toggle show/hide</a>\n",
       "    "
      ],
      "text/plain": [
       "<IPython.core.display.HTML object>"
      ]
     },
     "execution_count": 4,
     "metadata": {},
     "output_type": "execute_result"
    }
   ],
   "source": [
    "# Optional: Load the \"autoreload\" extension so that code can change\n",
    "%load_ext autoreload\n",
    "\n",
    "#OPTIONAL: Always reload modules so that as you change code in src, it gets loaded\n",
    "%autoreload 2\n",
    "\n",
    "hide_toggle()"
   ]
  },
  {
   "cell_type": "code",
   "execution_count": 5,
   "metadata": {},
   "outputs": [
    {
     "name": "stdout",
     "output_type": "stream",
     "text": [
      "Current data directory /home/oliver/Dokumenter/masterprosjekt/predicting-solid-state-qubit-candidates/data\n",
      "\n",
      "If you use the ChemEnv tool for your research, please consider citing the following reference(s) :\n",
      "==================================================================================================\n",
      "David Waroquiers, Xavier Gonze, Gian-Marco Rignanese, Cathrin Welker-Nieuwoudt, Frank Rosowski,\n",
      "Michael Goebel, Stephan Schenk, Peter Degelmann, Rute Andre, Robert Glaum, and Geoffroy Hautier,\n",
      "\"Statistical analysis of coordination environments in oxides\",\n",
      "Chem. Mater., 2017, 29 (19), pp 8346-8360,\n",
      "DOI: 10.1021/acs.chemmater.7b02766\n",
      "\n"
     ]
    },
    {
     "data": {
      "text/html": [
       "\n",
       "        <script>\n",
       "            function code_toggle_12539744461371650220() {\n",
       "                $('div.cell.code_cell.rendered.selected').find('div.input').toggle();\n",
       "            }\n",
       "\n",
       "            \n",
       "        </script>\n",
       "\n",
       "        <a href=\"javascript:code_toggle_12539744461371650220()\">Toggle show/hide</a>\n",
       "    "
      ],
      "text/plain": [
       "<IPython.core.display.HTML object>"
      ]
     },
     "execution_count": 5,
     "metadata": {},
     "output_type": "execute_result"
    }
   ],
   "source": [
    "import sys\n",
    "sys.path.insert(0, \"../\")\n",
    "\n",
    "data_dir = Path.cwd().parent.parent.parent / \"data\"\n",
    "print(\"Current data directory {}\".format(data_dir))\n",
    "models_dir = Path.cwd().parent.parent.parent / \"models\" \n",
    "\n",
    "# src\n",
    "from src.models import train_model, predict_model\n",
    "from src.features import build_features\n",
    "from src.visualization import visualize\n",
    "\n",
    "#Standard libraries\n",
    "import numpy as np\n",
    "import pandas as pd\n",
    "import pickle\n",
    "\n",
    "#Models\n",
    "from sklearn.ensemble import RandomForestClassifier, GradientBoostingClassifier\n",
    "from sklearn.linear_model import LogisticRegression\n",
    "from sklearn.tree import DecisionTreeClassifier\n",
    "\n",
    "# CV\n",
    "from sklearn.model_selection import RepeatedStratifiedKFold\n",
    "\n",
    "#visualizations\n",
    "import plotly.graph_objs as go\n",
    "from tqdm import tqdm\n",
    "\n",
    "# setting random seed for reproducibility\n",
    "random_state=1\n",
    "hide_toggle()"
   ]
  },
  {
   "cell_type": "code",
   "execution_count": 6,
   "metadata": {},
   "outputs": [
    {
     "data": {
      "text/html": [
       "<div>\n",
       "<style scoped>\n",
       "    .dataframe tbody tr th:only-of-type {\n",
       "        vertical-align: middle;\n",
       "    }\n",
       "\n",
       "    .dataframe tbody tr th {\n",
       "        vertical-align: top;\n",
       "    }\n",
       "\n",
       "    .dataframe thead th {\n",
       "        text-align: right;\n",
       "    }\n",
       "</style>\n",
       "<table border=\"1\" class=\"dataframe\">\n",
       "  <thead>\n",
       "    <tr style=\"text-align: right;\">\n",
       "      <th></th>\n",
       "      <th>material_id</th>\n",
       "      <th>full_formula</th>\n",
       "      <th>AtomicOrbitals|HOMO_character</th>\n",
       "      <th>AtomicOrbitals|HOMO_element</th>\n",
       "      <th>AtomicOrbitals|HOMO_energy</th>\n",
       "      <th>AtomicOrbitals|LUMO_character</th>\n",
       "      <th>AtomicOrbitals|LUMO_element</th>\n",
       "      <th>AtomicOrbitals|LUMO_energy</th>\n",
       "      <th>AtomicPackingEfficiency|dist from 1 clusters |APE| &lt; 0.010</th>\n",
       "      <th>AtomicPackingEfficiency|dist from 3 clusters |APE| &lt; 0.010</th>\n",
       "      <th>...</th>\n",
       "      <th>AFLOWML|ml_ael_bulk_modulus_vrh</th>\n",
       "      <th>AFLOWML|ml_ael_shear_modulus_vrh</th>\n",
       "      <th>AFLOWML|ml_agl_debye</th>\n",
       "      <th>AFLOWML|ml_agl_heat_capacity_Cp_300K</th>\n",
       "      <th>AFLOWML|ml_agl_heat_capacity_Cp_300K_per_atom</th>\n",
       "      <th>AFLOWML|ml_agl_heat_capacity_Cv_300K</th>\n",
       "      <th>AFLOWML|ml_agl_heat_capacity_Cv_300K_per_atom</th>\n",
       "      <th>AFLOWML|ml_agl_thermal_conductivity_300K</th>\n",
       "      <th>AFLOWML|ml_agl_thermal_expansion_300K</th>\n",
       "      <th>AFLOWML|ml_egap_type_Insulator</th>\n",
       "    </tr>\n",
       "  </thead>\n",
       "  <tbody>\n",
       "    <tr>\n",
       "      <th>0</th>\n",
       "      <td>mp-7</td>\n",
       "      <td>S6</td>\n",
       "      <td>2.0</td>\n",
       "      <td>16.0</td>\n",
       "      <td>-0.261676</td>\n",
       "      <td>2.0</td>\n",
       "      <td>16.0</td>\n",
       "      <td>-0.261676</td>\n",
       "      <td>1.000000</td>\n",
       "      <td>1.000000</td>\n",
       "      <td>...</td>\n",
       "      <td>3.790</td>\n",
       "      <td>3.930</td>\n",
       "      <td>377.683</td>\n",
       "      <td>16.791</td>\n",
       "      <td>2.886</td>\n",
       "      <td>17.163</td>\n",
       "      <td>2.762</td>\n",
       "      <td>3.440</td>\n",
       "      <td>0.000070</td>\n",
       "      <td>1.0</td>\n",
       "    </tr>\n",
       "    <tr>\n",
       "      <th>1</th>\n",
       "      <td>mp-14</td>\n",
       "      <td>Se3</td>\n",
       "      <td>2.0</td>\n",
       "      <td>34.0</td>\n",
       "      <td>-0.245806</td>\n",
       "      <td>2.0</td>\n",
       "      <td>34.0</td>\n",
       "      <td>-0.245806</td>\n",
       "      <td>1.000000</td>\n",
       "      <td>1.000000</td>\n",
       "      <td>...</td>\n",
       "      <td>28.294</td>\n",
       "      <td>6.569</td>\n",
       "      <td>146.767</td>\n",
       "      <td>9.680</td>\n",
       "      <td>3.106</td>\n",
       "      <td>8.771</td>\n",
       "      <td>2.926</td>\n",
       "      <td>3.010</td>\n",
       "      <td>0.000062</td>\n",
       "      <td>1.0</td>\n",
       "    </tr>\n",
       "    <tr>\n",
       "      <th>2</th>\n",
       "      <td>mp-19</td>\n",
       "      <td>Te3</td>\n",
       "      <td>2.0</td>\n",
       "      <td>52.0</td>\n",
       "      <td>-0.226594</td>\n",
       "      <td>2.0</td>\n",
       "      <td>52.0</td>\n",
       "      <td>-0.226594</td>\n",
       "      <td>1.000000</td>\n",
       "      <td>1.000000</td>\n",
       "      <td>...</td>\n",
       "      <td>31.893</td>\n",
       "      <td>6.225</td>\n",
       "      <td>121.481</td>\n",
       "      <td>10.146</td>\n",
       "      <td>3.089</td>\n",
       "      <td>9.237</td>\n",
       "      <td>2.954</td>\n",
       "      <td>3.166</td>\n",
       "      <td>0.000054</td>\n",
       "      <td>0.0</td>\n",
       "    </tr>\n",
       "    <tr>\n",
       "      <th>3</th>\n",
       "      <td>mp-24</td>\n",
       "      <td>C8</td>\n",
       "      <td>2.0</td>\n",
       "      <td>6.0</td>\n",
       "      <td>-0.199186</td>\n",
       "      <td>2.0</td>\n",
       "      <td>6.0</td>\n",
       "      <td>-0.199186</td>\n",
       "      <td>1.000000</td>\n",
       "      <td>1.000000</td>\n",
       "      <td>...</td>\n",
       "      <td>382.355</td>\n",
       "      <td>490.162</td>\n",
       "      <td>2012.191</td>\n",
       "      <td>4.036</td>\n",
       "      <td>0.679</td>\n",
       "      <td>4.262</td>\n",
       "      <td>0.634</td>\n",
       "      <td>3.043</td>\n",
       "      <td>0.000086</td>\n",
       "      <td>1.0</td>\n",
       "    </tr>\n",
       "    <tr>\n",
       "      <th>4</th>\n",
       "      <td>mp-25</td>\n",
       "      <td>N8</td>\n",
       "      <td>2.0</td>\n",
       "      <td>7.0</td>\n",
       "      <td>-0.266297</td>\n",
       "      <td>2.0</td>\n",
       "      <td>7.0</td>\n",
       "      <td>-0.266297</td>\n",
       "      <td>1.000000</td>\n",
       "      <td>1.000000</td>\n",
       "      <td>...</td>\n",
       "      <td>-4.641</td>\n",
       "      <td>0.572</td>\n",
       "      <td>537.473</td>\n",
       "      <td>21.673</td>\n",
       "      <td>2.667</td>\n",
       "      <td>21.106</td>\n",
       "      <td>2.612</td>\n",
       "      <td>3.211</td>\n",
       "      <td>0.000063</td>\n",
       "      <td>1.0</td>\n",
       "    </tr>\n",
       "    <tr>\n",
       "      <th>...</th>\n",
       "      <td>...</td>\n",
       "      <td>...</td>\n",
       "      <td>...</td>\n",
       "      <td>...</td>\n",
       "      <td>...</td>\n",
       "      <td>...</td>\n",
       "      <td>...</td>\n",
       "      <td>...</td>\n",
       "      <td>...</td>\n",
       "      <td>...</td>\n",
       "      <td>...</td>\n",
       "      <td>...</td>\n",
       "      <td>...</td>\n",
       "      <td>...</td>\n",
       "      <td>...</td>\n",
       "      <td>...</td>\n",
       "      <td>...</td>\n",
       "      <td>...</td>\n",
       "      <td>...</td>\n",
       "      <td>...</td>\n",
       "      <td>...</td>\n",
       "    </tr>\n",
       "    <tr>\n",
       "      <th>2695</th>\n",
       "      <td>mp-1205479</td>\n",
       "      <td>K44Sb22F110</td>\n",
       "      <td>2.0</td>\n",
       "      <td>9.0</td>\n",
       "      <td>-0.415606</td>\n",
       "      <td>2.0</td>\n",
       "      <td>51.0</td>\n",
       "      <td>-0.185623</td>\n",
       "      <td>0.766894</td>\n",
       "      <td>0.776966</td>\n",
       "      <td>...</td>\n",
       "      <td>17.025</td>\n",
       "      <td>15.204</td>\n",
       "      <td>353.636</td>\n",
       "      <td>171.967</td>\n",
       "      <td>2.959</td>\n",
       "      <td>158.072</td>\n",
       "      <td>2.816</td>\n",
       "      <td>2.830</td>\n",
       "      <td>0.000057</td>\n",
       "      <td>1.0</td>\n",
       "    </tr>\n",
       "    <tr>\n",
       "      <th>2696</th>\n",
       "      <td>mp-1208643</td>\n",
       "      <td>Sr4Hf4S12</td>\n",
       "      <td>2.0</td>\n",
       "      <td>16.0</td>\n",
       "      <td>-0.261676</td>\n",
       "      <td>1.0</td>\n",
       "      <td>72.0</td>\n",
       "      <td>-0.166465</td>\n",
       "      <td>0.042492</td>\n",
       "      <td>0.047693</td>\n",
       "      <td>...</td>\n",
       "      <td>54.991</td>\n",
       "      <td>28.548</td>\n",
       "      <td>286.198</td>\n",
       "      <td>57.439</td>\n",
       "      <td>2.915</td>\n",
       "      <td>55.820</td>\n",
       "      <td>2.851</td>\n",
       "      <td>2.398</td>\n",
       "      <td>0.000053</td>\n",
       "      <td>1.0</td>\n",
       "    </tr>\n",
       "    <tr>\n",
       "      <th>2697</th>\n",
       "      <td>mp-1210722</td>\n",
       "      <td>Mg2Te2Mo2O12</td>\n",
       "      <td>2.0</td>\n",
       "      <td>8.0</td>\n",
       "      <td>-0.338381</td>\n",
       "      <td>2.0</td>\n",
       "      <td>52.0</td>\n",
       "      <td>-0.226594</td>\n",
       "      <td>0.039247</td>\n",
       "      <td>0.039247</td>\n",
       "      <td>...</td>\n",
       "      <td>123.751</td>\n",
       "      <td>65.801</td>\n",
       "      <td>524.122</td>\n",
       "      <td>47.653</td>\n",
       "      <td>2.644</td>\n",
       "      <td>46.193</td>\n",
       "      <td>2.588</td>\n",
       "      <td>2.772</td>\n",
       "      <td>0.000060</td>\n",
       "      <td>1.0</td>\n",
       "    </tr>\n",
       "    <tr>\n",
       "      <th>2698</th>\n",
       "      <td>mp-1232407</td>\n",
       "      <td>Li6B6H32N4</td>\n",
       "      <td>1.0</td>\n",
       "      <td>1.0</td>\n",
       "      <td>-0.233471</td>\n",
       "      <td>1.0</td>\n",
       "      <td>1.0</td>\n",
       "      <td>-0.233471</td>\n",
       "      <td>0.770626</td>\n",
       "      <td>0.771690</td>\n",
       "      <td>...</td>\n",
       "      <td>26.975</td>\n",
       "      <td>31.478</td>\n",
       "      <td>939.500</td>\n",
       "      <td>105.901</td>\n",
       "      <td>2.005</td>\n",
       "      <td>97.757</td>\n",
       "      <td>1.853</td>\n",
       "      <td>3.605</td>\n",
       "      <td>0.000058</td>\n",
       "      <td>1.0</td>\n",
       "    </tr>\n",
       "    <tr>\n",
       "      <th>2699</th>\n",
       "      <td>mp-1238445</td>\n",
       "      <td>Be8H64N16F32</td>\n",
       "      <td>2.0</td>\n",
       "      <td>7.0</td>\n",
       "      <td>-0.266297</td>\n",
       "      <td>1.0</td>\n",
       "      <td>1.0</td>\n",
       "      <td>-0.233471</td>\n",
       "      <td>0.833583</td>\n",
       "      <td>0.861101</td>\n",
       "      <td>...</td>\n",
       "      <td>41.211</td>\n",
       "      <td>38.200</td>\n",
       "      <td>1025.182</td>\n",
       "      <td>136.843</td>\n",
       "      <td>1.884</td>\n",
       "      <td>126.720</td>\n",
       "      <td>1.769</td>\n",
       "      <td>3.390</td>\n",
       "      <td>0.000058</td>\n",
       "      <td>1.0</td>\n",
       "    </tr>\n",
       "  </tbody>\n",
       "</table>\n",
       "<p>2628 rows × 678 columns</p>\n",
       "</div>"
      ],
      "text/plain": [
       "     material_id  full_formula  AtomicOrbitals|HOMO_character  \\\n",
       "0           mp-7            S6                            2.0   \n",
       "1          mp-14           Se3                            2.0   \n",
       "2          mp-19           Te3                            2.0   \n",
       "3          mp-24            C8                            2.0   \n",
       "4          mp-25            N8                            2.0   \n",
       "...          ...           ...                            ...   \n",
       "2695  mp-1205479   K44Sb22F110                            2.0   \n",
       "2696  mp-1208643     Sr4Hf4S12                            2.0   \n",
       "2697  mp-1210722  Mg2Te2Mo2O12                            2.0   \n",
       "2698  mp-1232407    Li6B6H32N4                            1.0   \n",
       "2699  mp-1238445  Be8H64N16F32                            2.0   \n",
       "\n",
       "      AtomicOrbitals|HOMO_element  AtomicOrbitals|HOMO_energy  \\\n",
       "0                            16.0                   -0.261676   \n",
       "1                            34.0                   -0.245806   \n",
       "2                            52.0                   -0.226594   \n",
       "3                             6.0                   -0.199186   \n",
       "4                             7.0                   -0.266297   \n",
       "...                           ...                         ...   \n",
       "2695                          9.0                   -0.415606   \n",
       "2696                         16.0                   -0.261676   \n",
       "2697                          8.0                   -0.338381   \n",
       "2698                          1.0                   -0.233471   \n",
       "2699                          7.0                   -0.266297   \n",
       "\n",
       "      AtomicOrbitals|LUMO_character  AtomicOrbitals|LUMO_element  \\\n",
       "0                               2.0                         16.0   \n",
       "1                               2.0                         34.0   \n",
       "2                               2.0                         52.0   \n",
       "3                               2.0                          6.0   \n",
       "4                               2.0                          7.0   \n",
       "...                             ...                          ...   \n",
       "2695                            2.0                         51.0   \n",
       "2696                            1.0                         72.0   \n",
       "2697                            2.0                         52.0   \n",
       "2698                            1.0                          1.0   \n",
       "2699                            1.0                          1.0   \n",
       "\n",
       "      AtomicOrbitals|LUMO_energy  \\\n",
       "0                      -0.261676   \n",
       "1                      -0.245806   \n",
       "2                      -0.226594   \n",
       "3                      -0.199186   \n",
       "4                      -0.266297   \n",
       "...                          ...   \n",
       "2695                   -0.185623   \n",
       "2696                   -0.166465   \n",
       "2697                   -0.226594   \n",
       "2698                   -0.233471   \n",
       "2699                   -0.233471   \n",
       "\n",
       "      AtomicPackingEfficiency|dist from 1 clusters |APE| < 0.010  \\\n",
       "0                                              1.000000            \n",
       "1                                              1.000000            \n",
       "2                                              1.000000            \n",
       "3                                              1.000000            \n",
       "4                                              1.000000            \n",
       "...                                                 ...            \n",
       "2695                                           0.766894            \n",
       "2696                                           0.042492            \n",
       "2697                                           0.039247            \n",
       "2698                                           0.770626            \n",
       "2699                                           0.833583            \n",
       "\n",
       "      AtomicPackingEfficiency|dist from 3 clusters |APE| < 0.010  ...  \\\n",
       "0                                              1.000000           ...   \n",
       "1                                              1.000000           ...   \n",
       "2                                              1.000000           ...   \n",
       "3                                              1.000000           ...   \n",
       "4                                              1.000000           ...   \n",
       "...                                                 ...           ...   \n",
       "2695                                           0.776966           ...   \n",
       "2696                                           0.047693           ...   \n",
       "2697                                           0.039247           ...   \n",
       "2698                                           0.771690           ...   \n",
       "2699                                           0.861101           ...   \n",
       "\n",
       "      AFLOWML|ml_ael_bulk_modulus_vrh  AFLOWML|ml_ael_shear_modulus_vrh  \\\n",
       "0                               3.790                             3.930   \n",
       "1                              28.294                             6.569   \n",
       "2                              31.893                             6.225   \n",
       "3                             382.355                           490.162   \n",
       "4                              -4.641                             0.572   \n",
       "...                               ...                               ...   \n",
       "2695                           17.025                            15.204   \n",
       "2696                           54.991                            28.548   \n",
       "2697                          123.751                            65.801   \n",
       "2698                           26.975                            31.478   \n",
       "2699                           41.211                            38.200   \n",
       "\n",
       "      AFLOWML|ml_agl_debye  AFLOWML|ml_agl_heat_capacity_Cp_300K  \\\n",
       "0                  377.683                                16.791   \n",
       "1                  146.767                                 9.680   \n",
       "2                  121.481                                10.146   \n",
       "3                 2012.191                                 4.036   \n",
       "4                  537.473                                21.673   \n",
       "...                    ...                                   ...   \n",
       "2695               353.636                               171.967   \n",
       "2696               286.198                                57.439   \n",
       "2697               524.122                                47.653   \n",
       "2698               939.500                               105.901   \n",
       "2699              1025.182                               136.843   \n",
       "\n",
       "      AFLOWML|ml_agl_heat_capacity_Cp_300K_per_atom  \\\n",
       "0                                             2.886   \n",
       "1                                             3.106   \n",
       "2                                             3.089   \n",
       "3                                             0.679   \n",
       "4                                             2.667   \n",
       "...                                             ...   \n",
       "2695                                          2.959   \n",
       "2696                                          2.915   \n",
       "2697                                          2.644   \n",
       "2698                                          2.005   \n",
       "2699                                          1.884   \n",
       "\n",
       "      AFLOWML|ml_agl_heat_capacity_Cv_300K  \\\n",
       "0                                   17.163   \n",
       "1                                    8.771   \n",
       "2                                    9.237   \n",
       "3                                    4.262   \n",
       "4                                   21.106   \n",
       "...                                    ...   \n",
       "2695                               158.072   \n",
       "2696                                55.820   \n",
       "2697                                46.193   \n",
       "2698                                97.757   \n",
       "2699                               126.720   \n",
       "\n",
       "      AFLOWML|ml_agl_heat_capacity_Cv_300K_per_atom  \\\n",
       "0                                             2.762   \n",
       "1                                             2.926   \n",
       "2                                             2.954   \n",
       "3                                             0.634   \n",
       "4                                             2.612   \n",
       "...                                             ...   \n",
       "2695                                          2.816   \n",
       "2696                                          2.851   \n",
       "2697                                          2.588   \n",
       "2698                                          1.853   \n",
       "2699                                          1.769   \n",
       "\n",
       "      AFLOWML|ml_agl_thermal_conductivity_300K  \\\n",
       "0                                        3.440   \n",
       "1                                        3.010   \n",
       "2                                        3.166   \n",
       "3                                        3.043   \n",
       "4                                        3.211   \n",
       "...                                        ...   \n",
       "2695                                     2.830   \n",
       "2696                                     2.398   \n",
       "2697                                     2.772   \n",
       "2698                                     3.605   \n",
       "2699                                     3.390   \n",
       "\n",
       "      AFLOWML|ml_agl_thermal_expansion_300K  AFLOWML|ml_egap_type_Insulator  \n",
       "0                                  0.000070                             1.0  \n",
       "1                                  0.000062                             1.0  \n",
       "2                                  0.000054                             0.0  \n",
       "3                                  0.000086                             1.0  \n",
       "4                                  0.000063                             1.0  \n",
       "...                                     ...                             ...  \n",
       "2695                               0.000057                             1.0  \n",
       "2696                               0.000053                             1.0  \n",
       "2697                               0.000060                             1.0  \n",
       "2698                               0.000058                             1.0  \n",
       "2699                               0.000058                             1.0  \n",
       "\n",
       "[2628 rows x 678 columns]"
      ]
     },
     "execution_count": 6,
     "metadata": {},
     "output_type": "execute_result"
    }
   ],
   "source": [
    "data   = pd.read_pickle(data_dir / \"processed\" / \"processedData.pkl\")\n",
    "trainingData   = pd.read_pickle(data_dir / InsertApproach / \"processed\" / \"trainingData.pkl\")\n",
    "trainingTarget= pd.read_pickle(data_dir / InsertApproach / \"processed\" / \"trainingTarget.pkl\")\n",
    "testSet       = pd.read_pickle(data_dir / InsertApproach / \"processed\" / \"testSet.pkl\")\n",
    "\n",
    "trainingData"
   ]
  },
  {
   "cell_type": "code",
   "execution_count": 7,
   "metadata": {},
   "outputs": [
    {
     "data": {
      "text/html": [
       "<div>\n",
       "<style scoped>\n",
       "    .dataframe tbody tr th:only-of-type {\n",
       "        vertical-align: middle;\n",
       "    }\n",
       "\n",
       "    .dataframe tbody tr th {\n",
       "        vertical-align: top;\n",
       "    }\n",
       "\n",
       "    .dataframe thead th {\n",
       "        text-align: right;\n",
       "    }\n",
       "</style>\n",
       "<table border=\"1\" class=\"dataframe\">\n",
       "  <thead>\n",
       "    <tr style=\"text-align: right;\">\n",
       "      <th></th>\n",
       "      <th>material_id</th>\n",
       "      <th>pretty_formula</th>\n",
       "      <th>full_formula</th>\n",
       "      <th>candidate</th>\n",
       "      <th>AtomicOrbitals|HOMO_character</th>\n",
       "      <th>AtomicOrbitals|HOMO_element</th>\n",
       "      <th>AtomicOrbitals|HOMO_energy</th>\n",
       "      <th>AtomicOrbitals|LUMO_character</th>\n",
       "      <th>AtomicOrbitals|LUMO_element</th>\n",
       "      <th>AtomicOrbitals|LUMO_energy</th>\n",
       "      <th>...</th>\n",
       "      <th>AFLOWML|ml_ael_bulk_modulus_vrh</th>\n",
       "      <th>AFLOWML|ml_ael_shear_modulus_vrh</th>\n",
       "      <th>AFLOWML|ml_agl_debye</th>\n",
       "      <th>AFLOWML|ml_agl_heat_capacity_Cp_300K</th>\n",
       "      <th>AFLOWML|ml_agl_heat_capacity_Cp_300K_per_atom</th>\n",
       "      <th>AFLOWML|ml_agl_heat_capacity_Cv_300K</th>\n",
       "      <th>AFLOWML|ml_agl_heat_capacity_Cv_300K_per_atom</th>\n",
       "      <th>AFLOWML|ml_agl_thermal_conductivity_300K</th>\n",
       "      <th>AFLOWML|ml_agl_thermal_expansion_300K</th>\n",
       "      <th>AFLOWML|ml_egap_type_Insulator</th>\n",
       "    </tr>\n",
       "  </thead>\n",
       "  <tbody>\n",
       "    <tr>\n",
       "      <th>2700</th>\n",
       "      <td>mvc-12905</td>\n",
       "      <td>FeO2</td>\n",
       "      <td>Fe4O8</td>\n",
       "      <td>NaN</td>\n",
       "      <td>3.0</td>\n",
       "      <td>26.0</td>\n",
       "      <td>-0.295049</td>\n",
       "      <td>3.0</td>\n",
       "      <td>26.0</td>\n",
       "      <td>-0.295049</td>\n",
       "      <td>...</td>\n",
       "      <td>131.745</td>\n",
       "      <td>74.980</td>\n",
       "      <td>559.793</td>\n",
       "      <td>29.522</td>\n",
       "      <td>2.614</td>\n",
       "      <td>29.011</td>\n",
       "      <td>2.488</td>\n",
       "      <td>2.762</td>\n",
       "      <td>0.000060</td>\n",
       "      <td>1.0</td>\n",
       "    </tr>\n",
       "    <tr>\n",
       "      <th>2701</th>\n",
       "      <td>mp-111</td>\n",
       "      <td>Ne</td>\n",
       "      <td>Ne1</td>\n",
       "      <td>NaN</td>\n",
       "      <td>-1.0</td>\n",
       "      <td>-1.0</td>\n",
       "      <td>0.000000</td>\n",
       "      <td>-1.0</td>\n",
       "      <td>-1.0</td>\n",
       "      <td>0.000000</td>\n",
       "      <td>...</td>\n",
       "      <td>13.058</td>\n",
       "      <td>10.432</td>\n",
       "      <td>218.421</td>\n",
       "      <td>4.198</td>\n",
       "      <td>3.562</td>\n",
       "      <td>3.189</td>\n",
       "      <td>2.889</td>\n",
       "      <td>4.094</td>\n",
       "      <td>0.000061</td>\n",
       "      <td>1.0</td>\n",
       "    </tr>\n",
       "    <tr>\n",
       "      <th>2702</th>\n",
       "      <td>mp-157</td>\n",
       "      <td>P</td>\n",
       "      <td>P4</td>\n",
       "      <td>NaN</td>\n",
       "      <td>2.0</td>\n",
       "      <td>15.0</td>\n",
       "      <td>-0.206080</td>\n",
       "      <td>2.0</td>\n",
       "      <td>15.0</td>\n",
       "      <td>-0.206080</td>\n",
       "      <td>...</td>\n",
       "      <td>71.812</td>\n",
       "      <td>47.394</td>\n",
       "      <td>513.061</td>\n",
       "      <td>10.517</td>\n",
       "      <td>2.742</td>\n",
       "      <td>9.932</td>\n",
       "      <td>2.622</td>\n",
       "      <td>3.320</td>\n",
       "      <td>0.000070</td>\n",
       "      <td>1.0</td>\n",
       "    </tr>\n",
       "    <tr>\n",
       "      <th>2703</th>\n",
       "      <td>mp-181</td>\n",
       "      <td>KGa3</td>\n",
       "      <td>K3Ga9</td>\n",
       "      <td>NaN</td>\n",
       "      <td>2.0</td>\n",
       "      <td>31.0</td>\n",
       "      <td>-0.101634</td>\n",
       "      <td>2.0</td>\n",
       "      <td>31.0</td>\n",
       "      <td>-0.101634</td>\n",
       "      <td>...</td>\n",
       "      <td>30.936</td>\n",
       "      <td>18.081</td>\n",
       "      <td>228.150</td>\n",
       "      <td>32.692</td>\n",
       "      <td>3.205</td>\n",
       "      <td>29.290</td>\n",
       "      <td>2.921</td>\n",
       "      <td>2.953</td>\n",
       "      <td>0.000062</td>\n",
       "      <td>0.0</td>\n",
       "    </tr>\n",
       "    <tr>\n",
       "      <th>2704</th>\n",
       "      <td>mp-189</td>\n",
       "      <td>SiRu</td>\n",
       "      <td>Si4Ru4</td>\n",
       "      <td>NaN</td>\n",
       "      <td>3.0</td>\n",
       "      <td>44.0</td>\n",
       "      <td>-0.210375</td>\n",
       "      <td>2.0</td>\n",
       "      <td>14.0</td>\n",
       "      <td>-0.153293</td>\n",
       "      <td>...</td>\n",
       "      <td>214.796</td>\n",
       "      <td>108.020</td>\n",
       "      <td>521.374</td>\n",
       "      <td>21.093</td>\n",
       "      <td>2.623</td>\n",
       "      <td>20.705</td>\n",
       "      <td>2.592</td>\n",
       "      <td>2.559</td>\n",
       "      <td>0.000061</td>\n",
       "      <td>1.0</td>\n",
       "    </tr>\n",
       "    <tr>\n",
       "      <th>...</th>\n",
       "      <td>...</td>\n",
       "      <td>...</td>\n",
       "      <td>...</td>\n",
       "      <td>...</td>\n",
       "      <td>...</td>\n",
       "      <td>...</td>\n",
       "      <td>...</td>\n",
       "      <td>...</td>\n",
       "      <td>...</td>\n",
       "      <td>...</td>\n",
       "      <td>...</td>\n",
       "      <td>...</td>\n",
       "      <td>...</td>\n",
       "      <td>...</td>\n",
       "      <td>...</td>\n",
       "      <td>...</td>\n",
       "      <td>...</td>\n",
       "      <td>...</td>\n",
       "      <td>...</td>\n",
       "      <td>...</td>\n",
       "      <td>...</td>\n",
       "    </tr>\n",
       "    <tr>\n",
       "      <th>25271</th>\n",
       "      <td>mp-1539137</td>\n",
       "      <td>RbCr5S8</td>\n",
       "      <td>Rb1Cr5S8</td>\n",
       "      <td>NaN</td>\n",
       "      <td>3.0</td>\n",
       "      <td>24.0</td>\n",
       "      <td>-0.118123</td>\n",
       "      <td>3.0</td>\n",
       "      <td>24.0</td>\n",
       "      <td>-0.118123</td>\n",
       "      <td>...</td>\n",
       "      <td>62.446</td>\n",
       "      <td>31.222</td>\n",
       "      <td>322.497</td>\n",
       "      <td>39.483</td>\n",
       "      <td>2.957</td>\n",
       "      <td>38.302</td>\n",
       "      <td>2.773</td>\n",
       "      <td>2.708</td>\n",
       "      <td>0.000061</td>\n",
       "      <td>1.0</td>\n",
       "    </tr>\n",
       "    <tr>\n",
       "      <th>25272</th>\n",
       "      <td>mp-1541522</td>\n",
       "      <td>BiPO4</td>\n",
       "      <td>Bi2P2O8</td>\n",
       "      <td>NaN</td>\n",
       "      <td>2.0</td>\n",
       "      <td>8.0</td>\n",
       "      <td>-0.338381</td>\n",
       "      <td>2.0</td>\n",
       "      <td>8.0</td>\n",
       "      <td>-0.338381</td>\n",
       "      <td>...</td>\n",
       "      <td>130.120</td>\n",
       "      <td>48.373</td>\n",
       "      <td>427.679</td>\n",
       "      <td>30.488</td>\n",
       "      <td>2.796</td>\n",
       "      <td>29.473</td>\n",
       "      <td>2.710</td>\n",
       "      <td>2.576</td>\n",
       "      <td>0.000052</td>\n",
       "      <td>1.0</td>\n",
       "    </tr>\n",
       "    <tr>\n",
       "      <th>25273</th>\n",
       "      <td>mp-1541714</td>\n",
       "      <td>Cs3As2Cl9</td>\n",
       "      <td>Cs3As2Cl9</td>\n",
       "      <td>NaN</td>\n",
       "      <td>2.0</td>\n",
       "      <td>17.0</td>\n",
       "      <td>-0.320380</td>\n",
       "      <td>2.0</td>\n",
       "      <td>33.0</td>\n",
       "      <td>-0.197497</td>\n",
       "      <td>...</td>\n",
       "      <td>8.625</td>\n",
       "      <td>4.178</td>\n",
       "      <td>184.421</td>\n",
       "      <td>41.898</td>\n",
       "      <td>3.269</td>\n",
       "      <td>40.290</td>\n",
       "      <td>2.963</td>\n",
       "      <td>3.284</td>\n",
       "      <td>0.000049</td>\n",
       "      <td>1.0</td>\n",
       "    </tr>\n",
       "    <tr>\n",
       "      <th>25274</th>\n",
       "      <td>mp-1542038</td>\n",
       "      <td>CsSnSe3</td>\n",
       "      <td>Cs2Sn2Se6</td>\n",
       "      <td>NaN</td>\n",
       "      <td>2.0</td>\n",
       "      <td>34.0</td>\n",
       "      <td>-0.245806</td>\n",
       "      <td>2.0</td>\n",
       "      <td>34.0</td>\n",
       "      <td>-0.245806</td>\n",
       "      <td>...</td>\n",
       "      <td>19.554</td>\n",
       "      <td>11.324</td>\n",
       "      <td>154.514</td>\n",
       "      <td>30.391</td>\n",
       "      <td>3.139</td>\n",
       "      <td>28.917</td>\n",
       "      <td>2.938</td>\n",
       "      <td>2.698</td>\n",
       "      <td>0.000047</td>\n",
       "      <td>1.0</td>\n",
       "    </tr>\n",
       "    <tr>\n",
       "      <th>25275</th>\n",
       "      <td>mp-1542939</td>\n",
       "      <td>BaMo(PO4)2</td>\n",
       "      <td>Ba1Mo1P2O8</td>\n",
       "      <td>NaN</td>\n",
       "      <td>2.0</td>\n",
       "      <td>8.0</td>\n",
       "      <td>-0.338381</td>\n",
       "      <td>2.0</td>\n",
       "      <td>8.0</td>\n",
       "      <td>-0.338381</td>\n",
       "      <td>...</td>\n",
       "      <td>123.648</td>\n",
       "      <td>69.069</td>\n",
       "      <td>521.900</td>\n",
       "      <td>30.666</td>\n",
       "      <td>2.645</td>\n",
       "      <td>30.733</td>\n",
       "      <td>2.620</td>\n",
       "      <td>2.728</td>\n",
       "      <td>0.000052</td>\n",
       "      <td>1.0</td>\n",
       "    </tr>\n",
       "  </tbody>\n",
       "</table>\n",
       "<p>22576 rows × 680 columns</p>\n",
       "</div>"
      ],
      "text/plain": [
       "      material_id pretty_formula full_formula  candidate  \\\n",
       "2700    mvc-12905           FeO2        Fe4O8        NaN   \n",
       "2701       mp-111             Ne          Ne1        NaN   \n",
       "2702       mp-157              P           P4        NaN   \n",
       "2703       mp-181           KGa3        K3Ga9        NaN   \n",
       "2704       mp-189           SiRu       Si4Ru4        NaN   \n",
       "...           ...            ...          ...        ...   \n",
       "25271  mp-1539137        RbCr5S8     Rb1Cr5S8        NaN   \n",
       "25272  mp-1541522          BiPO4      Bi2P2O8        NaN   \n",
       "25273  mp-1541714      Cs3As2Cl9    Cs3As2Cl9        NaN   \n",
       "25274  mp-1542038        CsSnSe3    Cs2Sn2Se6        NaN   \n",
       "25275  mp-1542939     BaMo(PO4)2   Ba1Mo1P2O8        NaN   \n",
       "\n",
       "       AtomicOrbitals|HOMO_character  AtomicOrbitals|HOMO_element  \\\n",
       "2700                             3.0                         26.0   \n",
       "2701                            -1.0                         -1.0   \n",
       "2702                             2.0                         15.0   \n",
       "2703                             2.0                         31.0   \n",
       "2704                             3.0                         44.0   \n",
       "...                              ...                          ...   \n",
       "25271                            3.0                         24.0   \n",
       "25272                            2.0                          8.0   \n",
       "25273                            2.0                         17.0   \n",
       "25274                            2.0                         34.0   \n",
       "25275                            2.0                          8.0   \n",
       "\n",
       "       AtomicOrbitals|HOMO_energy  AtomicOrbitals|LUMO_character  \\\n",
       "2700                    -0.295049                            3.0   \n",
       "2701                     0.000000                           -1.0   \n",
       "2702                    -0.206080                            2.0   \n",
       "2703                    -0.101634                            2.0   \n",
       "2704                    -0.210375                            2.0   \n",
       "...                           ...                            ...   \n",
       "25271                   -0.118123                            3.0   \n",
       "25272                   -0.338381                            2.0   \n",
       "25273                   -0.320380                            2.0   \n",
       "25274                   -0.245806                            2.0   \n",
       "25275                   -0.338381                            2.0   \n",
       "\n",
       "       AtomicOrbitals|LUMO_element  AtomicOrbitals|LUMO_energy  ...  \\\n",
       "2700                          26.0                   -0.295049  ...   \n",
       "2701                          -1.0                    0.000000  ...   \n",
       "2702                          15.0                   -0.206080  ...   \n",
       "2703                          31.0                   -0.101634  ...   \n",
       "2704                          14.0                   -0.153293  ...   \n",
       "...                            ...                         ...  ...   \n",
       "25271                         24.0                   -0.118123  ...   \n",
       "25272                          8.0                   -0.338381  ...   \n",
       "25273                         33.0                   -0.197497  ...   \n",
       "25274                         34.0                   -0.245806  ...   \n",
       "25275                          8.0                   -0.338381  ...   \n",
       "\n",
       "       AFLOWML|ml_ael_bulk_modulus_vrh  AFLOWML|ml_ael_shear_modulus_vrh  \\\n",
       "2700                           131.745                            74.980   \n",
       "2701                            13.058                            10.432   \n",
       "2702                            71.812                            47.394   \n",
       "2703                            30.936                            18.081   \n",
       "2704                           214.796                           108.020   \n",
       "...                                ...                               ...   \n",
       "25271                           62.446                            31.222   \n",
       "25272                          130.120                            48.373   \n",
       "25273                            8.625                             4.178   \n",
       "25274                           19.554                            11.324   \n",
       "25275                          123.648                            69.069   \n",
       "\n",
       "       AFLOWML|ml_agl_debye  AFLOWML|ml_agl_heat_capacity_Cp_300K  \\\n",
       "2700                559.793                                29.522   \n",
       "2701                218.421                                 4.198   \n",
       "2702                513.061                                10.517   \n",
       "2703                228.150                                32.692   \n",
       "2704                521.374                                21.093   \n",
       "...                     ...                                   ...   \n",
       "25271               322.497                                39.483   \n",
       "25272               427.679                                30.488   \n",
       "25273               184.421                                41.898   \n",
       "25274               154.514                                30.391   \n",
       "25275               521.900                                30.666   \n",
       "\n",
       "       AFLOWML|ml_agl_heat_capacity_Cp_300K_per_atom  \\\n",
       "2700                                           2.614   \n",
       "2701                                           3.562   \n",
       "2702                                           2.742   \n",
       "2703                                           3.205   \n",
       "2704                                           2.623   \n",
       "...                                              ...   \n",
       "25271                                          2.957   \n",
       "25272                                          2.796   \n",
       "25273                                          3.269   \n",
       "25274                                          3.139   \n",
       "25275                                          2.645   \n",
       "\n",
       "       AFLOWML|ml_agl_heat_capacity_Cv_300K  \\\n",
       "2700                                 29.011   \n",
       "2701                                  3.189   \n",
       "2702                                  9.932   \n",
       "2703                                 29.290   \n",
       "2704                                 20.705   \n",
       "...                                     ...   \n",
       "25271                                38.302   \n",
       "25272                                29.473   \n",
       "25273                                40.290   \n",
       "25274                                28.917   \n",
       "25275                                30.733   \n",
       "\n",
       "       AFLOWML|ml_agl_heat_capacity_Cv_300K_per_atom  \\\n",
       "2700                                           2.488   \n",
       "2701                                           2.889   \n",
       "2702                                           2.622   \n",
       "2703                                           2.921   \n",
       "2704                                           2.592   \n",
       "...                                              ...   \n",
       "25271                                          2.773   \n",
       "25272                                          2.710   \n",
       "25273                                          2.963   \n",
       "25274                                          2.938   \n",
       "25275                                          2.620   \n",
       "\n",
       "       AFLOWML|ml_agl_thermal_conductivity_300K  \\\n",
       "2700                                      2.762   \n",
       "2701                                      4.094   \n",
       "2702                                      3.320   \n",
       "2703                                      2.953   \n",
       "2704                                      2.559   \n",
       "...                                         ...   \n",
       "25271                                     2.708   \n",
       "25272                                     2.576   \n",
       "25273                                     3.284   \n",
       "25274                                     2.698   \n",
       "25275                                     2.728   \n",
       "\n",
       "       AFLOWML|ml_agl_thermal_expansion_300K  AFLOWML|ml_egap_type_Insulator  \n",
       "2700                                0.000060                             1.0  \n",
       "2701                                0.000061                             1.0  \n",
       "2702                                0.000070                             1.0  \n",
       "2703                                0.000062                             0.0  \n",
       "2704                                0.000061                             1.0  \n",
       "...                                      ...                             ...  \n",
       "25271                               0.000061                             1.0  \n",
       "25272                               0.000052                             1.0  \n",
       "25273                               0.000049                             1.0  \n",
       "25274                               0.000047                             1.0  \n",
       "25275                               0.000052                             1.0  \n",
       "\n",
       "[22576 rows x 680 columns]"
      ]
     },
     "execution_count": 7,
     "metadata": {},
     "output_type": "execute_result"
    }
   ],
   "source": [
    "testSet"
   ]
  },
  {
   "cell_type": "code",
   "execution_count": 8,
   "metadata": {},
   "outputs": [
    {
     "data": {
      "text/markdown": [
       "# Algorithms\n",
       "Below we define the algorithm to use and its abbreviation. Parameters that are optional to tune are the parameters to the algorithms, with the default value as their optimised value. Another parameter to tune is how many cross-validations one wants to iterate through for the analysis. In addition, one has to find the best features for a new algorithm which will be added further down in the notebook.\n"
      ],
      "text/plain": [
       "<IPython.core.display.Markdown object>"
      ]
     },
     "metadata": {},
     "output_type": "display_data"
    },
    {
     "data": {
      "text/html": [
       "\n",
       "        <script>\n",
       "            function code_toggle_7963368984359301219() {\n",
       "                $('div.cell.code_cell.rendered.selected').find('div.input').toggle();\n",
       "            }\n",
       "\n",
       "            \n",
       "        </script>\n",
       "\n",
       "        <a href=\"javascript:code_toggle_7963368984359301219()\">Toggle show/hide</a>\n",
       "    "
      ],
      "text/plain": [
       "<IPython.core.display.HTML object>"
      ]
     },
     "execution_count": 8,
     "metadata": {},
     "output_type": "execute_result"
    }
   ],
   "source": [
    "from IPython.display import display, Markdown\n",
    "\n",
    "with open(Path.cwd().parent.parent.parent / \"src\" / \"notebookcodesnippets\" / \"supervised\" / \"algorithms.md\", 'r') as fh:\n",
    "    content = fh.read()\n",
    "\n",
    "display(Markdown(content))\n",
    "hide_toggle()"
   ]
  },
  {
   "cell_type": "code",
   "execution_count": 9,
   "metadata": {},
   "outputs": [],
   "source": [
    "InsertAlgorithms    = [LogisticRegression        (random_state = random_state, max_iter=200),\n",
    "                       DecisionTreeClassifier    (random_state = random_state, max_features = \"auto\"),\n",
    "                       RandomForestClassifier    (random_state = random_state, max_features = \"auto\", max_depth=6),\\\n",
    "                       GradientBoostingClassifier(random_state = random_state, max_features = \"auto\")]\n",
    "InsertAbbreviations = [\"LOG\", \"DT\", \"RF\", \"GB\"]\n",
    "InsertprettyNames   = [\"Logistic regression\", \"Decision Tree\", \"Random Forest\", \"Gradient Boost\"]"
   ]
  },
  {
   "cell_type": "code",
   "execution_count": 10,
   "metadata": {},
   "outputs": [
    {
     "data": {
      "text/markdown": [
       "# Methods for finding optimal hyperparameters\n",
       "\n",
       "### Cross-validation\n",
       "\n",
       "Cross-validation is a technique to evaluate predictive models by partitioning the original sample into a training set to train the model, and a test set to evaluate it. It is crucial that we avoid at all cost to fit anything to the test data, since this will introduce bias in the model and might reduce the generalization potential of a model.\n",
       "\n",
       "### k-fold cross-validation\n",
       "\n",
       "In k-fold cross-validation, the sample is partioned into k equal sized subsamples. Of the k samples, a single sample is used as validation set while the remaining k-1 samples are used as training data. The process is then repeated k-times, such that each of the k-th subsample is used as validation set exactly one time. Therefore, all observations are used for both training and validation, and each observation is used for validation exactly once. The k results from the folds can then be averaged to produce an estimate.\n",
       "\n",
       "### Stratified k-fold cross-validation\n",
       "\n",
       "In stratified k-fold cross validation, the fold that is selected contains roughly the same proportions of existing class labels.\n",
       "\n",
       "### n-repeated stratified k-fold cross-validation\n",
       "\n",
       "In n-repeated stratified k-fold cross-validation, the stratified k-fold cross-validation is repeated n times, which yields n random partitions of the original sample. The n results can be averaged to produce a single estimation.\n",
       "\n",
       "## Sample size\n",
       "To not discrimate a class, we make sure that each class is equally represented in the subsamples. Underneath shows a brief overview of the different methods involved to deal with this challenge.\n",
       "\n",
       "### Random oversampling of minority class\n",
       "\n",
       "Random oversampling can be achived by randomly duplicating examples from the minority class and adding them to the training dataset.\n",
       "\n",
       "The approach can be effective to algorithms that are vulnerable to a skewed dsitribution, however, it can also affect algorithms to overfit the minority class.\n",
       "\n",
       "### Random Undersampling of majority class\n",
       "\n",
       "Random undersampling involves randomly selecting examples from the majority class to delete from the training dataset.\n",
       "\n",
       "This can prove problematic, since the loss of data can make the decision boundary between minority and majority instances harder to learn. Additionally, there is a chance that the model might loose valuable information.\n",
       "\n",
       "### Both oversampling and undersampling\n",
       "\n",
       "A third option might be to combine the two of them.\n",
       "\n",
       "\n",
       "# Optimal hyperparameters search\n",
       "\n",
       "In this section we will find the optimal parameters used for the various algorithms. We will use imblearn's Pipeline to provide the option of implementing sampling such as SMOTE and RandomUnderSampler. The advantage of using imblearn instead of sklearn, is that sklearn's pipeline will fit the samplers to the validation data as well, while imblearn only fit the resamplers to the training data. We store the best estimators and use them again under this section.\n",
       "\n",
       "It is possible to have a large search over a wide amount of properties, but that is indeed extremely cpu-demanding. Therefore, we restrict ourself to the standard choice of some properties, but include a search for properties that can reduce the variance.\n",
       "\n",
       "## Standardscaler and principal component analysis\n",
       "Since we will scale the data, it is neccessary to combine the target and training data and scale it together. We fit the standardscaler to the training data, and then transform the test data with the same scaling as we fitted from the training data. Thereafter, we will apply a principal component analysis to potentially reduce the dimensions of the data.\n"
      ],
      "text/plain": [
       "<IPython.core.display.Markdown object>"
      ]
     },
     "metadata": {},
     "output_type": "display_data"
    },
    {
     "data": {
      "text/html": [
       "\n",
       "        <script>\n",
       "            function code_toggle_2823267851294851978() {\n",
       "                $('div.cell.code_cell.rendered.selected').find('div.input').toggle();\n",
       "            }\n",
       "\n",
       "            \n",
       "        </script>\n",
       "\n",
       "        <a href=\"javascript:code_toggle_2823267851294851978()\">Toggle show/hide</a>\n",
       "    "
      ],
      "text/plain": [
       "<IPython.core.display.HTML object>"
      ]
     },
     "execution_count": 10,
     "metadata": {},
     "output_type": "execute_result"
    }
   ],
   "source": [
    "from IPython.display import display, Markdown\n",
    "\n",
    "with open(Path.cwd().parent.parent.parent / \"src\" / \"notebookcodesnippets\" / \"supervised\" / \"optimalparameters.md\", 'r') as fh:\n",
    "    content = fh.read()\n",
    "\n",
    "display(Markdown(content))\n",
    "hide_toggle()"
   ]
  },
  {
   "cell_type": "code",
   "execution_count": 11,
   "metadata": {},
   "outputs": [],
   "source": [
    "# Optional to include any sampling method. Default is none. \n",
    "includeSampleMethods = [\"\"]#, \"under\", \"over\", \"both\"]"
   ]
  },
  {
   "cell_type": "code",
   "execution_count": 12,
   "metadata": {},
   "outputs": [],
   "source": [
    "numberRuns   = 5\n",
    "numberSplits = 5\n",
    "\n",
    "rskfold = RepeatedStratifiedKFold(n_splits=numberSplits, n_repeats=numberRuns, random_state=random_state)"
   ]
  },
  {
   "cell_type": "code",
   "execution_count": 13,
   "metadata": {
    "scrolled": false
   },
   "outputs": [
    {
     "name": "stderr",
     "output_type": "stream",
     "text": [
      "\r",
      "0it [00:00, ?it/s]"
     ]
    },
    {
     "name": "stdout",
     "output_type": "stream",
     "text": [
      "Finding best params for: LOG \n",
      "Fitting 25 folds for each of 5 candidates, totalling 125 fits\n"
     ]
    },
    {
     "name": "stderr",
     "output_type": "stream",
     "text": [
      "\r",
      "1it [00:08,  8.97s/it]"
     ]
    },
    {
     "name": "stdout",
     "output_type": "stream",
     "text": [
      "Pipeline(steps=[('scale', StandardScaler()),\n",
      "                ('pca', PCA(n_components=3, svd_solver='randomized')),\n",
      "                ('model', LogisticRegression(max_iter=200, random_state=1))])\n",
      "Finding best params for: DT \n",
      "Fitting 25 folds for each of 15 candidates, totalling 375 fits\n"
     ]
    },
    {
     "name": "stderr",
     "output_type": "stream",
     "text": [
      "\r",
      "2it [00:33, 17.99s/it]"
     ]
    },
    {
     "name": "stdout",
     "output_type": "stream",
     "text": [
      "Pipeline(steps=[('scale', StandardScaler()),\n",
      "                ('pca', PCA(n_components=2, svd_solver='randomized')),\n",
      "                ('model',\n",
      "                 DecisionTreeClassifier(max_depth=2, max_features='sqrt',\n",
      "                                        random_state=1))])\n",
      "Finding best params for: RF \n",
      "Fitting 25 folds for each of 35 candidates, totalling 875 fits\n"
     ]
    },
    {
     "name": "stderr",
     "output_type": "stream",
     "text": [
      "\r",
      "3it [02:36, 65.85s/it]"
     ]
    },
    {
     "name": "stdout",
     "output_type": "stream",
     "text": [
      "Pipeline(steps=[('scale', StandardScaler()),\n",
      "                ('pca', PCA(n_components=4, svd_solver='randomized')),\n",
      "                ('model', RandomForestClassifier(max_depth=7, random_state=1))])\n",
      "Finding best params for: GB \n",
      "Fitting 25 folds for each of 35 candidates, totalling 875 fits\n"
     ]
    },
    {
     "name": "stderr",
     "output_type": "stream",
     "text": [
      "4it [04:59, 74.88s/it]"
     ]
    },
    {
     "name": "stdout",
     "output_type": "stream",
     "text": [
      "Pipeline(steps=[('scale', StandardScaler()),\n",
      "                ('pca', PCA(n_components=5, svd_solver='randomized')),\n",
      "                ('model',\n",
      "                 GradientBoostingClassifier(max_depth=6, max_features='auto',\n",
      "                                            random_state=1))])\n"
     ]
    },
    {
     "name": "stderr",
     "output_type": "stream",
     "text": [
      "\n"
     ]
    }
   ],
   "source": [
    "ModelsBestParams = pd.Series({}, dtype=\"string\")\n",
    "\n",
    "Abbreviations = []\n",
    "prettyNames   = []\n",
    "Algorithms = []\n",
    "\n",
    "for i, algorithm in tqdm(enumerate(InsertAlgorithms)):\n",
    "    for method in includeSampleMethods:\n",
    "        print(\"Finding best params for: {}\".format(InsertAbbreviations[i] + \" \" + method))\n",
    "        bestEstimator, ModelsBestParams[InsertAbbreviations[i] + \" \" + method] = train_model.applyGridSearch(\n",
    "                                                                             X = trainingData.drop([\"material_id\", \"full_formula\"], axis=1), \n",
    "                                                                             y = trainingTarget.values.reshape(-1,),\n",
    "                                                                        model = algorithm, \n",
    "                                                                           cv = rskfold,\n",
    "                                                                        numPC = numberOfPrincipalComponents,\n",
    "                                                                 sampleMethod = method)\n",
    "        Abbreviations.append(InsertAbbreviations[i] + \" \" + method)\n",
    "        prettyNames.append(InsertAbbreviations[i] + \" \" + method)\n",
    "        Algorithms.append(bestEstimator)"
   ]
  },
  {
   "cell_type": "code",
   "execution_count": 14,
   "metadata": {},
   "outputs": [
    {
     "data": {
      "text/markdown": [
       "## Visualizing the optimal parameters for dimensionality reduction\n"
      ],
      "text/plain": [
       "<IPython.core.display.Markdown object>"
      ]
     },
     "metadata": {},
     "output_type": "display_data"
    },
    {
     "data": {
      "text/html": [
       "\n",
       "        <script>\n",
       "            function code_toggle_14716469152473574402() {\n",
       "                $('div.cell.code_cell.rendered.selected').find('div.input').toggle();\n",
       "            }\n",
       "\n",
       "            \n",
       "        </script>\n",
       "\n",
       "        <a href=\"javascript:code_toggle_14716469152473574402()\">Toggle show/hide</a>\n",
       "    "
      ],
      "text/plain": [
       "<IPython.core.display.HTML object>"
      ]
     },
     "execution_count": 14,
     "metadata": {},
     "output_type": "execute_result"
    }
   ],
   "source": [
    "from IPython.display import display, Markdown\n",
    "\n",
    "with open(Path.cwd().parent.parent.parent / \"src\" / \"notebookcodesnippets\" / \"supervised\" / \"visualoptimalparameters.md\", 'r') as fh:\n",
    "    content = fh.read()\n",
    "\n",
    "display(Markdown(content))\n",
    "hide_toggle()"
   ]
  },
  {
   "cell_type": "code",
   "execution_count": 15,
   "metadata": {
    "scrolled": false
   },
   "outputs": [
    {
     "name": "stdout",
     "output_type": "stream",
     "text": [
      "GridSearchCV(cv=RepeatedStratifiedKFold(n_repeats=5, n_splits=5, random_state=1),\n",
      "             estimator=Pipeline(steps=[('scale', StandardScaler()),\n",
      "                                       ('pca', PCA(svd_solver='randomized')),\n",
      "                                       ('model',\n",
      "                                        LogisticRegression(max_iter=200,\n",
      "                                                           random_state=1))]),\n",
      "             n_jobs=-1,\n",
      "             param_grid={'model__max_iter': [200], 'model__penalty': ['l2'],\n",
      "                         'pca__n_components': range(1, 6)},\n",
      "             refit='f1', return_train_score=True,\n",
      "             scoring={'accuracy': make_scorer(accuracy_score),\n",
      "                      'f1': make_scorer(f1_score),\n",
      "                      'precision': make_scorer(precision_score),\n",
      "                      'recall': make_scorer(recall_score)},\n",
      "             verbose=2)\n",
      "Pipeline(steps=[('scale', StandardScaler()),\n",
      "                ('pca', PCA(n_components=3, svd_solver='randomized')),\n",
      "                ('model', LogisticRegression(max_iter=200, random_state=1))])\n",
      "PCA(n_components=3, svd_solver='randomized')\n",
      "3\n"
     ]
    },
    {
     "name": "stderr",
     "output_type": "stream",
     "text": [
      "findfont: Font family ['Palatino'] not found. Falling back to DejaVu Sans.\n",
      "findfont: Font family ['Palatino'] not found. Falling back to DejaVu Sans.\n"
     ]
    },
    {
     "data": {
      "image/png": "[encoded data removed]",
      "text/plain": [
       "<Figure size 409.606x506.301 with 2 Axes>"
      ]
     },
     "metadata": {
      "needs_background": "light"
     },
     "output_type": "display_data"
    },
    {
     "name": "stdout",
     "output_type": "stream",
     "text": [
      "GridSearchCV(cv=RepeatedStratifiedKFold(n_repeats=5, n_splits=5, random_state=1),\n",
      "             estimator=Pipeline(steps=[('scale', StandardScaler()),\n",
      "                                       ('pca', PCA(svd_solver='randomized')),\n",
      "                                       ('model',\n",
      "                                        DecisionTreeClassifier(max_features='auto',\n",
      "                                                               random_state=1))]),\n",
      "             n_jobs=-1,\n",
      "             param_grid={'model__max_depth': array([1, 2, 3]),\n",
      "                         'model__max_features': ['sqrt'],\n",
      "                         'pca__n_components': range(1, 6)},\n",
      "             refit='f1', return_train_score=True,\n",
      "             scoring={'accuracy': make_scorer(accuracy_score),\n",
      "                      'f1': make_scorer(f1_score),\n",
      "                      'precision': make_scorer(precision_score),\n",
      "                      'recall': make_scorer(recall_score)},\n",
      "             verbose=2)\n",
      "Pipeline(steps=[('scale', StandardScaler()),\n",
      "                ('pca', PCA(n_components=2, svd_solver='randomized')),\n",
      "                ('model',\n",
      "                 DecisionTreeClassifier(max_depth=2, max_features='sqrt',\n",
      "                                        random_state=1))])\n",
      "PCA(n_components=2, svd_solver='randomized')\n",
      "2\n"
     ]
    },
    {
     "data": {
      "image/png": "[encoded data removed]",
      "text/plain": [
       "<Figure size 409.606x506.301 with 2 Axes>"
      ]
     },
     "metadata": {
      "needs_background": "light"
     },
     "output_type": "display_data"
    },
    {
     "name": "stdout",
     "output_type": "stream",
     "text": [
      "GridSearchCV(cv=RepeatedStratifiedKFold(n_repeats=5, n_splits=5, random_state=1),\n",
      "             estimator=Pipeline(steps=[('scale', StandardScaler()),\n",
      "                                       ('pca', PCA(svd_solver='randomized')),\n",
      "                                       ('model',\n",
      "                                        RandomForestClassifier(max_depth=6,\n",
      "                                                               random_state=1))]),\n",
      "             n_jobs=-1,\n",
      "             param_grid={'model__max_depth': array([1, 2, 3, 4, 5, 6, 7]),\n",
      "                         'model__max_features': ['auto'],\n",
      "                         'pca__n_components': range(1, 6)},\n",
      "             refit='f1', return_train_score=True,\n",
      "             scoring={'accuracy': make_scorer(accuracy_score),\n",
      "                      'f1': make_scorer(f1_score),\n",
      "                      'precision': make_scorer(precision_score),\n",
      "                      'recall': make_scorer(recall_score)},\n",
      "             verbose=2)\n",
      "Pipeline(steps=[('scale', StandardScaler()),\n",
      "                ('pca', PCA(n_components=4, svd_solver='randomized')),\n",
      "                ('model', RandomForestClassifier(max_depth=7, random_state=1))])\n",
      "PCA(n_components=4, svd_solver='randomized')\n",
      "4\n"
     ]
    },
    {
     "data": {
      "image/png": "[encoded data removed]",
      "text/plain": [
       "<Figure size 409.606x506.301 with 2 Axes>"
      ]
     },
     "metadata": {
      "needs_background": "light"
     },
     "output_type": "display_data"
    },
    {
     "name": "stdout",
     "output_type": "stream",
     "text": [
      "GridSearchCV(cv=RepeatedStratifiedKFold(n_repeats=5, n_splits=5, random_state=1),\n",
      "             estimator=Pipeline(steps=[('scale', StandardScaler()),\n",
      "                                       ('pca', PCA(svd_solver='randomized')),\n",
      "                                       ('model',\n",
      "                                        GradientBoostingClassifier(max_features='auto',\n",
      "                                                                   random_state=1))]),\n",
      "             n_jobs=-1,\n",
      "             param_grid={'model__max_depth': array([1, 2, 3, 4, 5, 6, 7]),\n",
      "                         'model__max_features': ['auto'],\n",
      "                         'pca__n_components': range(1, 6)},\n",
      "             refit='f1', return_train_score=True,\n",
      "             scoring={'accuracy': make_scorer(accuracy_score),\n",
      "                      'f1': make_scorer(f1_score),\n",
      "                      'precision': make_scorer(precision_score),\n",
      "                      'recall': make_scorer(recall_score)},\n",
      "             verbose=2)\n",
      "Pipeline(steps=[('scale', StandardScaler()),\n",
      "                ('pca', PCA(n_components=5, svd_solver='randomized')),\n",
      "                ('model',\n",
      "                 GradientBoostingClassifier(max_depth=6, max_features='auto',\n",
      "                                            random_state=1))])\n",
      "PCA(n_components=5, svd_solver='randomized')\n",
      "5\n"
     ]
    },
    {
     "data": {
      "image/png": "[encoded data removed]",
      "text/plain": [
       "<Figure size 409.606x506.301 with 2 Axes>"
      ]
     },
     "metadata": {
      "needs_background": "light"
     },
     "output_type": "display_data"
    }
   ],
   "source": [
    "visualize.principalComponentsVSscores(X = trainingData.drop([\"material_id\", \"full_formula\"], axis=1),\n",
    "                                     ModelsBestParams = ModelsBestParams,\n",
    "                                     prettyNames = prettyNames,\n",
    "                                     numPC = numberOfPrincipalComponents,\n",
    "                                     approach = InsertApproach)"
   ]
  },
  {
   "cell_type": "code",
   "execution_count": 16,
   "metadata": {},
   "outputs": [
    {
     "data": {
      "text/markdown": [
       "## ROC-AUC and precision recall curves\n"
      ],
      "text/plain": [
       "<IPython.core.display.Markdown object>"
      ]
     },
     "metadata": {},
     "output_type": "display_data"
    },
    {
     "data": {
      "text/html": [
       "\n",
       "        <script>\n",
       "            function code_toggle_2907740236196558896() {\n",
       "                $('div.cell.code_cell.rendered.selected').find('div.input').toggle();\n",
       "            }\n",
       "\n",
       "            \n",
       "        </script>\n",
       "\n",
       "        <a href=\"javascript:code_toggle_2907740236196558896()\">Toggle show/hide</a>\n",
       "    "
      ],
      "text/plain": [
       "<IPython.core.display.HTML object>"
      ]
     },
     "execution_count": 16,
     "metadata": {},
     "output_type": "execute_result"
    }
   ],
   "source": [
    "from IPython.display import display, Markdown\n",
    "\n",
    "with open(Path.cwd().parent.parent.parent / \"src\" / \"notebookcodesnippets\" / \"supervised\" / \"roc-auc.md\", 'r') as fh:\n",
    "    content = fh.read()\n",
    "\n",
    "display(Markdown(content))\n",
    "hide_toggle() "
   ]
  },
  {
   "cell_type": "code",
   "execution_count": null,
   "metadata": {
    "scrolled": false
   },
   "outputs": [
    {
     "name": "stderr",
     "output_type": "stream",
     "text": [
      "\r",
      "0it [00:00, ?it/s]"
     ]
    },
    {
     "name": "stdout",
     "output_type": "stream",
     "text": [
      "Current training algorithm: LOG \n"
     ]
    },
    {
     "name": "stderr",
     "output_type": "stream",
     "text": [
      "25it [00:07,  3.32it/s]\n"
     ]
    },
    {
     "data": {
      "image/png": "[encoded data removed]",
      "text/plain": [
       "<Figure size 409.606x409.606 with 1 Axes>"
      ]
     },
     "metadata": {
      "needs_background": "light"
     },
     "output_type": "display_data"
    },
    {
     "data": {
      "image/png": "[encoded data removed]",
      "text/plain": [
       "<Figure size 409.606x409.606 with 1 Axes>"
      ]
     },
     "metadata": {
      "needs_background": "light"
     },
     "output_type": "display_data"
    },
    {
     "name": "stderr",
     "output_type": "stream",
     "text": [
      "\r",
      "0it [00:00, ?it/s]"
     ]
    },
    {
     "name": "stdout",
     "output_type": "stream",
     "text": [
      "Mean accuracy:0.91195\n",
      "Standard deviation:0.00711\n",
      "f1-score:0.95000\n",
      "Current training algorithm: DT \n"
     ]
    },
    {
     "name": "stderr",
     "output_type": "stream",
     "text": [
      "25it [00:08,  3.00it/s]\n"
     ]
    },
    {
     "data": {
      "image/png": "[encoded data removed]",
      "text/plain": [
       "<Figure size 409.606x409.606 with 1 Axes>"
      ]
     },
     "metadata": {
      "needs_background": "light"
     },
     "output_type": "display_data"
    },
    {
     "data": {
      "image/png": "[encoded data removed]",
      "text/plain": [
       "<Figure size 409.606x409.606 with 1 Axes>"
      ]
     },
     "metadata": {
      "needs_background": "light"
     },
     "output_type": "display_data"
    },
    {
     "name": "stderr",
     "output_type": "stream",
     "text": [
      "\r",
      "0it [00:00, ?it/s]"
     ]
    },
    {
     "name": "stdout",
     "output_type": "stream",
     "text": [
      "Mean accuracy:0.91735\n",
      "Standard deviation:0.00939\n",
      "f1-score:0.94704\n",
      "Current training algorithm: RF \n"
     ]
    },
    {
     "name": "stderr",
     "output_type": "stream",
     "text": [
      "25it [00:57,  2.29s/it]\n"
     ]
    },
    {
     "data": {
      "image/png": "[encoded data removed]",
      "text/plain": [
       "<Figure size 409.606x409.606 with 1 Axes>"
      ]
     },
     "metadata": {
      "needs_background": "light"
     },
     "output_type": "display_data"
    },
    {
     "data": {
      "image/png": "[encoded data removed]",
      "text/plain": [
       "<Figure size 409.606x409.606 with 1 Axes>"
      ]
     },
     "metadata": {
      "needs_background": "light"
     },
     "output_type": "display_data"
    },
    {
     "name": "stderr",
     "output_type": "stream",
     "text": [
      "\r",
      "0it [00:00, ?it/s]"
     ]
    },
    {
     "name": "stdout",
     "output_type": "stream",
     "text": [
      "Mean accuracy:0.92869\n",
      "Standard deviation:0.00745\n",
      "f1-score:0.95698\n",
      "Current training algorithm: GB \n"
     ]
    },
    {
     "name": "stderr",
     "output_type": "stream",
     "text": [
      "13it [10:13, 46.83s/it]"
     ]
    }
   ],
   "source": [
    "SupervisedModels = pd.Series({}, dtype=\"string\")\n",
    "\n",
    "for i, algorithm in enumerate(Algorithms): \n",
    "    print(\"Current training algorithm: {}\".format(prettyNames[i]))\n",
    "    SupervisedModels[Abbreviations[i]] = (\n",
    "        visualize.evaluatePrecisionRecallMetrics(classifier  = algorithm, \n",
    "                                     X = trainingData.drop([\"material_id\", \"full_formula\"], axis=1), \n",
    "                                     y = trainingTarget.values.reshape(-1,),\n",
    "                                     k = numberSplits,\n",
    "                                     n = numberRuns,\n",
    "                                    cv = rskfold,\n",
    "                     featureImportance = True,\n",
    "                                 title = prettyNames[i],\n",
    "                                 numPC = numberOfPrincipalComponents,\n",
    "                              approach = InsertApproach )\n",
    "    )"
   ]
  },
  {
   "cell_type": "code",
   "execution_count": null,
   "metadata": {},
   "outputs": [],
   "source": [
    "from IPython.display import display, Markdown\n",
    "\n",
    "with open(Path.cwd().parent.parent.parent / \"src\" / \"notebookcodesnippets\" / \"supervised\" / \"visualize-cv.md\", 'r') as fh:\n",
    "    content = fh.read()\n",
    "\n",
    "display(Markdown(content))\n",
    "hide_toggle()"
   ]
  },
  {
   "cell_type": "code",
   "execution_count": null,
   "metadata": {
    "scrolled": false
   },
   "outputs": [],
   "source": [
    "visualize.plot_accuracy(SupervisedModels, prettyNames,                                       \n",
    "                     prettyNames = prettyNames,\n",
    "                           numPC = numberOfPrincipalComponents,\n",
    "                        approach = InsertApproach)"
   ]
  },
  {
   "cell_type": "code",
   "execution_count": null,
   "metadata": {},
   "outputs": [],
   "source": [
    "from IPython.display import display, Markdown\n",
    "\n",
    "with open(Path.cwd().parent.parent.parent / \"src\" / \"notebookcodesnippets\" / \"supervised\" / \"visualizerelevant.md\", 'r') as fh:\n",
    "    content = fh.read()\n",
    "\n",
    "display(Markdown(content))\n",
    "hide_toggle()"
   ]
  },
  {
   "cell_type": "code",
   "execution_count": null,
   "metadata": {
    "scrolled": false
   },
   "outputs": [],
   "source": [
    "visualize.plot_important_features(SupervisedModels,\n",
    "                               X = trainingData.drop([\"material_id\", \"full_formula\"], axis=1),\n",
    "                               k = numberSplits, \n",
    "                               n = numberRuns,                                      \n",
    "                     prettyNames = prettyNames,\n",
    "                           numPC = numberOfPrincipalComponents,\n",
    "                        approach = InsertApproach)"
   ]
  },
  {
   "cell_type": "code",
   "execution_count": null,
   "metadata": {},
   "outputs": [],
   "source": [
    "from IPython.display import display, Markdown\n",
    "\n",
    "with open(Path.cwd().parent.parent.parent / \"src\" / \"notebookcodesnippets\" / \"supervised\" / \"falselypredicted.md\", 'r') as fh:\n",
    "    content = fh.read()\n",
    "\n",
    "display(Markdown(content))\n",
    "hide_toggle()"
   ]
  },
  {
   "cell_type": "code",
   "execution_count": null,
   "metadata": {
    "scrolled": false
   },
   "outputs": [],
   "source": [
    "visualize.plot_confusion_metrics(SupervisedModels, prettyNames, trainingData,\n",
    "                                 k = numberSplits,\n",
    "                                 n = numberRuns, \n",
    "                       prettyNames = prettyNames,\n",
    "                             numPC = numberOfPrincipalComponents,\n",
    "                          approach = InsertApproach)"
   ]
  },
  {
   "cell_type": "code",
   "execution_count": null,
   "metadata": {
    "scrolled": false
   },
   "outputs": [],
   "source": [
    "visualize.confusion_matrixQT(SupervisedModels, trainingTarget,                      \n",
    "                             prettyNames = prettyNames,\n",
    "                           numPC = numberOfPrincipalComponents,\n",
    "                        approach = InsertApproach)"
   ]
  },
  {
   "cell_type": "code",
   "execution_count": null,
   "metadata": {},
   "outputs": [],
   "source": []
  },
  {
   "cell_type": "code",
   "execution_count": null,
   "metadata": {},
   "outputs": [],
   "source": [
    "from IPython.display import display, Markdown\n",
    "\n",
    "with open(Path.cwd().parent.parent.parent / \"src\" / \"notebookcodesnippets\" / \"supervised\" / \"predictions.md\", 'r') as fh:\n",
    "    content = fh.read()\n",
    "\n",
    "display(Markdown(content))\n",
    "hide_toggle()"
   ]
  },
  {
   "cell_type": "code",
   "execution_count": null,
   "metadata": {},
   "outputs": [],
   "source": [
    "Summary                 = pd.DataFrame({}, dtype=\"string\")\n",
    "Summary[\"material_id\"]  = testSet[\"material_id\"]\n",
    "Summary[\"full_formula\"] = testSet[\"full_formula\"]\n",
    "Summary[\"pretty_formula\"] = testSet[\"pretty_formula\"]\n",
    "\n",
    "PredictedCandidates = pd.Series({}, dtype=\"string\")\n",
    "\n",
    "threshold = numberSplits*numberRuns/2 #50% when equal\n",
    "trainSet = trainingData.drop([\"material_id\", \"full_formula\"], axis=1)\n",
    "testData = testSet.drop([\"pretty_formula\", \"candidate\", \"full_formula\", \"material_id\"], axis=1)\n",
    "fittedAlgorithms = [] \n",
    "\n",
    "for i, algorithm in tqdm(enumerate(Algorithms)):\n",
    "    \n",
    "    # Train the final model with the best estimators\n",
    "    fittedAlgorithm = train_model.fitAlgorithm(algorithm, \n",
    "                                    trainingData   = trainSet,#trainSet[trainSet.columns[SupervisedModels[Abbreviations[i]][\"importantKeys\"]>threshold]],\\\n",
    "                                    trainingTarget = trainingTarget.values.reshape(-1,),)\n",
    "    \n",
    "    fittedAlgorithms.append(fittedAlgorithm)\n",
    "    \n",
    "    # Predict the final model on unseen data\n",
    "    PredictedCandidates[Abbreviations[i]],\\\n",
    "    PredictedCandidates[Abbreviations[i]+\"Prob\"] = predict_model.runPredictions(fittedAlgorithm,\\\n",
    "                                                        testData = testData)#[testData.columns[SupervisedModels[Abbreviations[i]][\"importantKeys\"]>threshold]])"
   ]
  },
  {
   "cell_type": "code",
   "execution_count": null,
   "metadata": {},
   "outputs": [],
   "source": [
    "for abbreviation in Abbreviations:\n",
    "    Summary[abbreviation]            = PredictedCandidates[abbreviation]\n",
    "    Summary[abbreviation + \"Prob\"]   = PredictedCandidates[abbreviation + \"Prob\"]\n",
    "    print(\"{} predict the number of candidates as: {}\".format(abbreviation, int(np.sum(PredictedCandidates[abbreviation]))))"
   ]
  },
  {
   "cell_type": "code",
   "execution_count": null,
   "metadata": {},
   "outputs": [],
   "source": [
    "Summary"
   ]
  },
  {
   "cell_type": "code",
   "execution_count": null,
   "metadata": {},
   "outputs": [],
   "source": [
    "from IPython.display import display, Markdown\n",
    "\n",
    "with open(Path.cwd().parent.parent.parent / \"src\" / \"notebookcodesnippets\" / \"supervised\" / \"save.md\", 'r') as fh:\n",
    "    content = fh.read()\n",
    "\n",
    "display(Markdown(content))\n",
    "hide_toggle()"
   ]
  },
  {
   "cell_type": "code",
   "execution_count": null,
   "metadata": {},
   "outputs": [],
   "source": [
    "for i, fitted_algorithm in tqdm(enumerate(fittedAlgorithms)):\n",
    "    file_path = Path(models_dir / InsertApproach / \"trained-models\" / Path(\"PCA-\" + str(numberOfPrincipalComponents) + \"-\" + prettyNames[i] + \".pkl\"))\n",
    "    with file_path.open(\"wb\") as fp:\n",
    "        pickle.dump(fitted_algorithm, fp)\n",
    "        \n",
    "file_path = Path(models_dir / InsertApproach /  \"summary\" / Path(\"PCA-\" + str(numberOfPrincipalComponents) + \"-\" + \"summary.pkl\"))\n",
    "with file_path.open(\"wb\") as fp:\n",
    "        pickle.dump(Summary, fp)"
   ]
  },
  {
   "cell_type": "code",
   "execution_count": null,
   "metadata": {},
   "outputs": [],
   "source": []
  }
 ],
 "metadata": {
  "kernelspec": {
   "display_name": "Python 3",
   "language": "python",
   "name": "python3"
  },
  "language_info": {
   "codemirror_mode": {
    "name": "ipython",
    "version": 3
   },
   "file_extension": ".py",
   "mimetype": "text/x-python",
   "name": "python",
   "nbconvert_exporter": "python",
   "pygments_lexer": "ipython3",
   "version": "3.8.5"
  }
 },
 "nbformat": 4,
 "nbformat_minor": 4
}
