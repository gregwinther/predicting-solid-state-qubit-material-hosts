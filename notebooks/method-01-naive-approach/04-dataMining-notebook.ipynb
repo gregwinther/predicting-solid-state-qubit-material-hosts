{
 "cells": [
  {
   "cell_type": "markdown",
   "metadata": {},
   "source": [
    "# Data mining of semiconductor materials\n",
    "\n",
    "This notebook will initially serve as an example in how to extract information of the database Materials Project [1]. \n",
    "In total, there are 126335 entries in the materials project whereas 48644 of them, roughly 39%, are deemed to be structurally similar from an experimental ICSD entry according to pymatgen's StructureMatcher algorithm. Additionally, a total of 65783 entries have been calculated to have a band gap larger than $0.1$ eV. These two have an overlap of 25271 entries, which is our starting point. \n",
    "\n",
    "The notebook will consist of 4 stages, and is strongly inspired from Ferrenti et al [2]. However, we diverge at stage 3 where we have moved the extraction of other databases out before we attend this notebook. \n",
    "\n",
    "Additionally, we will use the datamining process to find fitting and unfitting candidates. The process can be described by following some given criteria for good candidates, resulting in the label $1$. Then, we will use the complete opposite criteria to find unfitted candidates, resulting in the label $0$. \n",
    " \n",
    " \n",
    "### Contents\n",
    "  #### Fitting candidates\n",
    "    - Stage 1\n",
    "        - $50\\% + l = 0$ isotopes\n",
    "        - Calculated non-magnetic\n",
    "        - Has experimental ICSD entry\n",
    "        - Crystallize in non-polar space groups\n",
    "    - Stage 2\n",
    "        - No Th, U, Cd, Hg\n",
    "        - No noble gases or rare-earth elements\n",
    "    - Stage 3\n",
    "        - bandgap restriction\n",
    "        \n",
    "  #### Unfitted candidates\n",
    "    - Stage 1\n",
    "        - $50\\% + l != 0$ isotopes\n",
    "        - Calculated magnetic\n",
    "        - Has experimental ICSD entry\n",
    "        - Crystallize in polar space groups\n",
    "    - Stage 2\n",
    "        - Include Th, U, Cd, Hg\n",
    "        - Include noble gases or rare-earth elements    \n",
    "    - Stage 3\n",
    "        - bandgap restriction\n",
    "        \n",
    "   #### Summarize bandgaps and other properties\n",
    "\n",
    "[1] Ong, S. P.; Cholia, S.; Jain, A.; Brafman, M.; Gunter, D.; Ceder, G.; \n",
    "Persson, K. a. The Materials Application Programming Interface (API): A \n",
    "simple, flexible and efficient API for materials data based on\n",
    "REpresentational State Transfer (REST) principles, Comput. Mater. Sci.,\n",
    "2015, 97, 209–215. doi:10.1016/j.commatsci.2014.10.037.\n",
    "\n",
    "[2] Ferrenti, A.M., de Leon, N.P., Thompson, J.D. et al. Identifying candidate hosts for quantum defects via data mining. npj Comput Mater 6, 126 (2020). https://doi.org/10.1038/s41524-020-00391-7\n",
    "\n",
    "Initially, we start of with some imports. "
   ]
  },
  {
   "cell_type": "code",
   "execution_count": 1,
   "metadata": {},
   "outputs": [],
   "source": [
    "# Optional: Load the \"autoreload\" extension so that code can change\n",
    "%load_ext autoreload\n",
    "\n",
    "#OPTIONAL: Always reload modules so that as you change code in src, it gets loaded\n",
    "%autoreload 2"
   ]
  },
  {
   "cell_type": "code",
   "execution_count": 2,
   "metadata": {},
   "outputs": [],
   "source": [
    "from pathlib import Path\n",
    "data_dir = Path.cwd().parent.parent / \"data\" \n",
    "print(\"Current data directory {}\".format(data_dir))"
   ]
  },
  {
   "cell_type": "code",
   "execution_count": 3,
   "metadata": {},
   "outputs": [],
   "source": [
    "# Tools for query of data\n",
    "from pymatgen import MPRester, Composition\n",
    "\n",
    "# Finding correct use of polar groups\n",
    "from src.data.utils import polarGroupUsedInMP, sortByMPID, filterIDs\n",
    "\n",
    "# pandas\n",
    "import pandas as pd\n",
    "import numpy as np\n",
    "\n",
    "from tqdm import tqdm\n",
    "\n",
    "# Ignore warnings from nan-values in  \n",
    "np.warnings.filterwarnings('ignore')"
   ]
  },
  {
   "cell_type": "code",
   "execution_count": 4,
   "metadata": {},
   "outputs": [],
   "source": [
    "InsertApproach = \"01-naive-approach\""
   ]
  },
  {
   "cell_type": "markdown",
   "metadata": {},
   "source": [
    "# Fitted candidates\n",
    "## Stage 1\n",
    "Thereafter, we need to find out what elements we want to include. The article mentioned above have some strict restrictions that are as follows: \n",
    "- $50\\% + l = 0$ isotopes\n",
    "- Calculated non-magnetic\n",
    "- Has experimental ICSD entry\n",
    "- Crystallize in non-polar space groups\n",
    "\n",
    "This stage will be done entirely through a query to pymatgen, however, the restrictions need to be set properly first. "
   ]
  },
  {
   "cell_type": "code",
   "execution_count": 5,
   "metadata": {},
   "outputs": [
    {
     "name": "stdout",
     "output_type": "stream",
     "text": [
      "Number of excluded periodic-elements from isotopes: 51\n"
     ]
    }
   ],
   "source": [
    "spin_zero_isotopes = [\n",
    "    \"H\", \"Li\", \"Be\", \"B\", \"N\", \"F\", \"Na\", \"Al\", \"P\", \"Cl\", \"K\", \"Sc\",\n",
    "    \"V\", \"Mn\", \"Co\", \"Cu\", \"Ga\", \"As\", \"Br\", \"Rb\", \"Y\", \"Nb\", \"Tc\", \n",
    "    \"Rh\", \"Ag\", \"In\", \"Sb\", \"I\", \"Cs\", \"Lu\", \"Ta\", \"Re\", \"Ir\", \"Au\",\n",
    "    \"Tl\", \"Bi\", \"Po\", \"At\", \"Rn\", \"La\",\"Pr\", \"Pm\", \"Eu\", \"Tb\", \"Ho\",\n",
    "    \"Tm\", \"Ac\", \"Pa\", \"Np\", \"Pu\", \"Am\"]  #(51)\n",
    "\n",
    "print(\"Number of excluded periodic-elements from isotopes: {}\".format(len(spin_zero_isotopes)))"
   ]
  },
  {
   "cell_type": "code",
   "execution_count": 6,
   "metadata": {},
   "outputs": [
    {
     "name": "stdout",
     "output_type": "stream",
     "text": [
      "Number of point groups denoted in pymatgen: 40\n",
      "Number of point groups in conventional notation: 32\n",
      "Number of polar spacegroups: 68\n"
     ]
    }
   ],
   "source": [
    "polar_spacegroups = polarGroupUsedInMP()"
   ]
  },
  {
   "cell_type": "code",
   "execution_count": null,
   "metadata": {},
   "outputs": [],
   "source": []
  },
  {
   "cell_type": "markdown",
   "metadata": {},
   "source": [
    "### Query"
   ]
  },
  {
   "cell_type": "code",
   "execution_count": 7,
   "metadata": {
    "scrolled": false
   },
   "outputs": [
    {
     "data": {
      "application/vnd.jupyter.widget-view+json": {
       "model_id": "b073bd0e56414433aaaaa7fec4dcd866",
       "version_major": 2,
       "version_minor": 0
      },
      "text/plain": [
       "  0%|          | 0/4347 [00:00<?, ?it/s]"
      ]
     },
     "metadata": {},
     "output_type": "display_data"
    },
    {
     "name": "stdout",
     "output_type": "stream",
     "text": [
      "Number of entries after query: 4347\n"
     ]
    }
   ],
   "source": [
    "with MPRester(\"b7RtVfJTsUg6TK8E\") as mpr:\n",
    "    \n",
    "    criteria = {'elements':{\"$nin\": spin_zero_isotopes}, #not included\n",
    "                    'icsd_ids': {'$gte': 0}, #All compounds deemed similar to a structure in ICSD\n",
    "                    \"magnetic_type\": {\"$eq\": \"NM\"}, #non-magnetic\n",
    "                    \"spacegroup.number\": {\"$nin\": polar_spacegroups}\n",
    "                    }\n",
    "\n",
    "    props = [\"material_id\",\"full_formula\", \"spacegroup\", \"band_gap\"]\n",
    "    fitted_entries = pd.DataFrame(mpr.query(criteria=criteria, properties=props))    \n",
    "        \n",
    "print(\"Number of entries after query: {}\".format(len(fitted_entries)))"
   ]
  },
  {
   "cell_type": "code",
   "execution_count": null,
   "metadata": {},
   "outputs": [],
   "source": []
  },
  {
   "cell_type": "code",
   "execution_count": null,
   "metadata": {},
   "outputs": [],
   "source": []
  },
  {
   "cell_type": "markdown",
   "metadata": {},
   "source": [
    "By comparing to the work of Ferrenti et al, they have at this stage $3363$ compounds against our $4405$ compounds. "
   ]
  },
  {
   "cell_type": "code",
   "execution_count": 8,
   "metadata": {
    "scrolled": false
   },
   "outputs": [
    {
     "name": "stdout",
     "output_type": "stream",
     "text": [
      "Polar group test passed.\n"
     ]
    }
   ],
   "source": [
    "def polarGroupUnitTest(entries):\n",
    "    # Unit tests for polar groups. \n",
    "    ###############################\n",
    "    # Remove all entries with polar space groups\n",
    "    exclude_polar_space_groups =  {\n",
    "         \"triclinic\":   [\"1\"], \n",
    "         \"monoclinic\":  [\"2\", \"m\"],\n",
    "         \"orthorhombic\":[\"mm2\"],\n",
    "         \"tetragonal\":  [\"4\", \"4mm\"],\n",
    "         \"trigonal\":    [\"3\", \"3m\"],\n",
    "         \"hexagonal\":   [\"6\", \"6mm\"]\n",
    "        }\n",
    "\n",
    "    #remove polar spacegroups\n",
    "    deleteEntries = []\n",
    "    for i, entry in entries.iterrows():\n",
    "        #else: \n",
    "        if (entry[\"spacegroup\"][\"crystal_system\"]) in exclude_polar_space_groups.keys():\n",
    "            if entry[\"spacegroup\"][\"point_group\"] in exclude_polar_space_groups[entry[\"spacegroup\"][\"crystal_system\"]]:\n",
    "                deleteEntries.append(i)\n",
    "                \n",
    "    #Every delete will return a smaller dict\n",
    "    numberDeleted = 0\n",
    "    for deleteEntry in deleteEntries: \n",
    "        del entries[deleteEntry-numberDeleted]\n",
    "        numberDeleted += 1\n",
    "    if numberDeleted > 0:\n",
    "        print(\"Test not passed, polar groups could be wrong\")\n",
    "    else:\n",
    "        print(\"Polar group test passed.\")\n",
    "polarGroupUnitTest(fitted_entries)\n",
    "\n",
    "#fitted_entries.to_csv(\"data/stage_1/fitted_MP_data_stage_1.csv\", sep=\",\", index = False)"
   ]
  },
  {
   "cell_type": "markdown",
   "metadata": {},
   "source": [
    "## Stage 2\n",
    "\n",
    "Here, we ensure our data does not contain the following.\n",
    "- No Th, U, Cd, Hg\n",
    "- No noble gases or rare-earth elements"
   ]
  },
  {
   "cell_type": "code",
   "execution_count": 9,
   "metadata": {},
   "outputs": [],
   "source": [
    "#Not include the following elements:\n",
    "exclude_elements = [ \n",
    "    \"Th\", \"U\", \"Cd\", \"Hg\", #restriction nr 1 above (4)\n",
    "    \"He\", \"Ne\", \"Ar\", \"Kr\", \"Xe\", \"Rn\", \"Og\", #no noble gases (7)\n",
    "    \"Sc\", \"Y\", \"La\", \"Ce\", \"Pr\", \"Nd\", \"Pm\", \"Sm\", \"Eu\", \"Gd\",\n",
    "     \"Tb\", \"Dy\", \"Ho\", \"Er\", \"Tm\", \"Yb\", \"Lu\"]  # No rare-earth elements (17)\n",
    "\n",
    "exclude_elements.extend(spin_zero_isotopes)\n",
    "exclude_elements = list(set(exclude_elements))"
   ]
  },
  {
   "cell_type": "markdown",
   "metadata": {},
   "source": [
    "### Query"
   ]
  },
  {
   "cell_type": "code",
   "execution_count": 10,
   "metadata": {},
   "outputs": [
    {
     "data": {
      "application/vnd.jupyter.widget-view+json": {
       "model_id": "70cacb4ac32d47858438700420a141fa",
       "version_major": 2,
       "version_minor": 0
      },
      "text/plain": [
       "  0%|          | 0/2644 [00:00<?, ?it/s]"
      ]
     },
     "metadata": {},
     "output_type": "display_data"
    },
    {
     "name": "stdout",
     "output_type": "stream",
     "text": [
      "Number of entries after query: 2644\n"
     ]
    },
    {
     "data": {
      "text/html": [
       "<div>\n",
       "<style scoped>\n",
       "    .dataframe tbody tr th:only-of-type {\n",
       "        vertical-align: middle;\n",
       "    }\n",
       "\n",
       "    .dataframe tbody tr th {\n",
       "        vertical-align: top;\n",
       "    }\n",
       "\n",
       "    .dataframe thead th {\n",
       "        text-align: right;\n",
       "    }\n",
       "</style>\n",
       "<table border=\"1\" class=\"dataframe\">\n",
       "  <thead>\n",
       "    <tr style=\"text-align: right;\">\n",
       "      <th></th>\n",
       "      <th>material_id</th>\n",
       "      <th>full_formula</th>\n",
       "      <th>spacegroup</th>\n",
       "      <th>band_gap</th>\n",
       "    </tr>\n",
       "  </thead>\n",
       "  <tbody>\n",
       "    <tr>\n",
       "      <th>0</th>\n",
       "      <td>mp-100</td>\n",
       "      <td>Hf1</td>\n",
       "      <td>{'symprec': 0.1, 'source': 'spglib', 'symbol':...</td>\n",
       "      <td>0.0000</td>\n",
       "    </tr>\n",
       "    <tr>\n",
       "      <th>1</th>\n",
       "      <td>mp-1000</td>\n",
       "      <td>Ba1Te1</td>\n",
       "      <td>{'symprec': 0.1, 'source': 'spglib', 'symbol':...</td>\n",
       "      <td>1.8555</td>\n",
       "    </tr>\n",
       "    <tr>\n",
       "      <th>2</th>\n",
       "      <td>mp-10000</td>\n",
       "      <td>Hf4S2</td>\n",
       "      <td>{'symprec': 0.1, 'source': 'spglib', 'symbol':...</td>\n",
       "      <td>0.0000</td>\n",
       "    </tr>\n",
       "    <tr>\n",
       "      <th>3</th>\n",
       "      <td>mp-10008</td>\n",
       "      <td>Ca7Ge1</td>\n",
       "      <td>{'symprec': 0.1, 'source': 'spglib', 'symbol':...</td>\n",
       "      <td>0.0000</td>\n",
       "    </tr>\n",
       "    <tr>\n",
       "      <th>4</th>\n",
       "      <td>mp-10013</td>\n",
       "      <td>Sn1S1</td>\n",
       "      <td>{'symprec': 0.1, 'source': 'spglib', 'symbol':...</td>\n",
       "      <td>0.2371</td>\n",
       "    </tr>\n",
       "    <tr>\n",
       "      <th>...</th>\n",
       "      <td>...</td>\n",
       "      <td>...</td>\n",
       "      <td>...</td>\n",
       "      <td>...</td>\n",
       "    </tr>\n",
       "    <tr>\n",
       "      <th>2639</th>\n",
       "      <td>mp-999192</td>\n",
       "      <td>Si2Ni2</td>\n",
       "      <td>{'symprec': 0.1, 'source': 'spglib', 'symbol':...</td>\n",
       "      <td>0.0000</td>\n",
       "    </tr>\n",
       "    <tr>\n",
       "      <th>2640</th>\n",
       "      <td>mp-999200</td>\n",
       "      <td>Si4</td>\n",
       "      <td>{'symprec': 0.1, 'source': 'spglib', 'symbol':...</td>\n",
       "      <td>0.4517</td>\n",
       "    </tr>\n",
       "    <tr>\n",
       "      <th>2641</th>\n",
       "      <td>mp-999259</td>\n",
       "      <td>Ru2C2</td>\n",
       "      <td>{'symprec': 0.1, 'source': 'spglib', 'symbol':...</td>\n",
       "      <td>0.0000</td>\n",
       "    </tr>\n",
       "    <tr>\n",
       "      <th>2642</th>\n",
       "      <td>mp-999308</td>\n",
       "      <td>Os2C2</td>\n",
       "      <td>{'symprec': 0.1, 'source': 'spglib', 'symbol':...</td>\n",
       "      <td>0.0000</td>\n",
       "    </tr>\n",
       "    <tr>\n",
       "      <th>2643</th>\n",
       "      <td>mp-999502</td>\n",
       "      <td>Mo2Pt2</td>\n",
       "      <td>{'symprec': 0.1, 'source': 'spglib', 'symbol':...</td>\n",
       "      <td>0.0000</td>\n",
       "    </tr>\n",
       "  </tbody>\n",
       "</table>\n",
       "<p>2644 rows × 4 columns</p>\n",
       "</div>"
      ],
      "text/plain": [
       "     material_id full_formula  \\\n",
       "0         mp-100          Hf1   \n",
       "1        mp-1000       Ba1Te1   \n",
       "2       mp-10000        Hf4S2   \n",
       "3       mp-10008       Ca7Ge1   \n",
       "4       mp-10013        Sn1S1   \n",
       "...          ...          ...   \n",
       "2639   mp-999192       Si2Ni2   \n",
       "2640   mp-999200          Si4   \n",
       "2641   mp-999259        Ru2C2   \n",
       "2642   mp-999308        Os2C2   \n",
       "2643   mp-999502       Mo2Pt2   \n",
       "\n",
       "                                             spacegroup  band_gap  \n",
       "0     {'symprec': 0.1, 'source': 'spglib', 'symbol':...    0.0000  \n",
       "1     {'symprec': 0.1, 'source': 'spglib', 'symbol':...    1.8555  \n",
       "2     {'symprec': 0.1, 'source': 'spglib', 'symbol':...    0.0000  \n",
       "3     {'symprec': 0.1, 'source': 'spglib', 'symbol':...    0.0000  \n",
       "4     {'symprec': 0.1, 'source': 'spglib', 'symbol':...    0.2371  \n",
       "...                                                 ...       ...  \n",
       "2639  {'symprec': 0.1, 'source': 'spglib', 'symbol':...    0.0000  \n",
       "2640  {'symprec': 0.1, 'source': 'spglib', 'symbol':...    0.4517  \n",
       "2641  {'symprec': 0.1, 'source': 'spglib', 'symbol':...    0.0000  \n",
       "2642  {'symprec': 0.1, 'source': 'spglib', 'symbol':...    0.0000  \n",
       "2643  {'symprec': 0.1, 'source': 'spglib', 'symbol':...    0.0000  \n",
       "\n",
       "[2644 rows x 4 columns]"
      ]
     },
     "execution_count": 10,
     "metadata": {},
     "output_type": "execute_result"
    }
   ],
   "source": [
    "with MPRester(\"b7RtVfJTsUg6TK8E\") as mpr:\n",
    "    \n",
    "    criteria = {\"elements\":{\"$nin\": exclude_elements}, #not included\n",
    "                    \"task_id\":{\"$in\": fitted_entries[\"material_id\"].values.tolist()},\n",
    "                    \"icsd_ids\": {\"$gt\": 0}, #All compounds deemed similar to a structure in ICSD\n",
    "                    \"magnetic_type\": {\"$eq\": \"NM\"}, #non-magnetic\n",
    "                    \"spacegroup.number\": {\"$nin\": polar_spacegroups}\n",
    "                    }\n",
    "\n",
    "    props = [\"material_id\",\"full_formula\", \"spacegroup\", \"band_gap\"]\n",
    "    fitted_entries = pd.DataFrame(mpr.query(criteria=criteria, properties=props))\n",
    "        \n",
    "print(\"Number of entries after query: {}\".format(len(fitted_entries)))\n",
    "fitted_entries"
   ]
  },
  {
   "cell_type": "code",
   "execution_count": null,
   "metadata": {},
   "outputs": [],
   "source": []
  },
  {
   "cell_type": "markdown",
   "metadata": {},
   "source": [
    "By comparing to the work of Ferrenti et al, they have at this stage $1993$ compounds against our $2661$ compounds. \n",
    "\n",
    "# Stage 3\n",
    "\n",
    "The functional GGA is commonly known to underestimate the band gap of materials, thus we will in this stage try to find as many predictions as possible and compare it to experimental data. \n",
    "\n",
    "We will only use inputs in Materials Project that has a band gap larger than $1.1$ eV since we are looking for semiconductors such as Si. "
   ]
  },
  {
   "cell_type": "code",
   "execution_count": 11,
   "metadata": {},
   "outputs": [
    {
     "data": {
      "text/html": [
       "<div>\n",
       "<style scoped>\n",
       "    .dataframe tbody tr th:only-of-type {\n",
       "        vertical-align: middle;\n",
       "    }\n",
       "\n",
       "    .dataframe tbody tr th {\n",
       "        vertical-align: top;\n",
       "    }\n",
       "\n",
       "    .dataframe thead th {\n",
       "        text-align: right;\n",
       "    }\n",
       "</style>\n",
       "<table border=\"1\" class=\"dataframe\">\n",
       "  <thead>\n",
       "    <tr style=\"text-align: right;\">\n",
       "      <th></th>\n",
       "      <th>material_id</th>\n",
       "      <th>full_formula</th>\n",
       "      <th>spacegroup</th>\n",
       "      <th>band_gap</th>\n",
       "    </tr>\n",
       "  </thead>\n",
       "  <tbody>\n",
       "    <tr>\n",
       "      <th>1</th>\n",
       "      <td>mp-1000</td>\n",
       "      <td>Ba1Te1</td>\n",
       "      <td>{'symprec': 0.1, 'source': 'spglib', 'symbol':...</td>\n",
       "      <td>1.8555</td>\n",
       "    </tr>\n",
       "    <tr>\n",
       "      <th>8</th>\n",
       "      <td>mp-1002124</td>\n",
       "      <td>Hf1C1</td>\n",
       "      <td>{'symprec': 0.1, 'source': 'spglib', 'symbol':...</td>\n",
       "      <td>0.5774</td>\n",
       "    </tr>\n",
       "    <tr>\n",
       "      <th>9</th>\n",
       "      <td>mp-1002164</td>\n",
       "      <td>Ge1C1</td>\n",
       "      <td>{'symprec': 0.1, 'source': 'spglib', 'symbol':...</td>\n",
       "      <td>1.8486</td>\n",
       "    </tr>\n",
       "    <tr>\n",
       "      <th>16</th>\n",
       "      <td>mp-10064</td>\n",
       "      <td>Si1O2</td>\n",
       "      <td>{'symprec': 0.1, 'source': 'spglib', 'symbol':...</td>\n",
       "      <td>1.9997</td>\n",
       "    </tr>\n",
       "    <tr>\n",
       "      <th>17</th>\n",
       "      <td>mp-1006878</td>\n",
       "      <td>Ba1O2</td>\n",
       "      <td>{'symprec': 0.1, 'source': 'spglib', 'symbol':...</td>\n",
       "      <td>2.3433</td>\n",
       "    </tr>\n",
       "    <tr>\n",
       "      <th>...</th>\n",
       "      <td>...</td>\n",
       "      <td>...</td>\n",
       "      <td>...</td>\n",
       "      <td>...</td>\n",
       "    </tr>\n",
       "    <tr>\n",
       "      <th>2620</th>\n",
       "      <td>mp-985829</td>\n",
       "      <td>Hf1S2</td>\n",
       "      <td>{'symprec': 0.1, 'source': 'spglib', 'symbol':...</td>\n",
       "      <td>1.2325</td>\n",
       "    </tr>\n",
       "    <tr>\n",
       "      <th>2621</th>\n",
       "      <td>mp-985831</td>\n",
       "      <td>Hf1Se2</td>\n",
       "      <td>{'symprec': 0.1, 'source': 'spglib', 'symbol':...</td>\n",
       "      <td>0.5549</td>\n",
       "    </tr>\n",
       "    <tr>\n",
       "      <th>2624</th>\n",
       "      <td>mp-9921</td>\n",
       "      <td>Zr2S6</td>\n",
       "      <td>{'symprec': 0.1, 'source': 'spglib', 'symbol':...</td>\n",
       "      <td>1.0948</td>\n",
       "    </tr>\n",
       "    <tr>\n",
       "      <th>2625</th>\n",
       "      <td>mp-9922</td>\n",
       "      <td>Hf2S6</td>\n",
       "      <td>{'symprec': 0.1, 'source': 'spglib', 'symbol':...</td>\n",
       "      <td>1.1361</td>\n",
       "    </tr>\n",
       "    <tr>\n",
       "      <th>2640</th>\n",
       "      <td>mp-999200</td>\n",
       "      <td>Si4</td>\n",
       "      <td>{'symprec': 0.1, 'source': 'spglib', 'symbol':...</td>\n",
       "      <td>0.4517</td>\n",
       "    </tr>\n",
       "  </tbody>\n",
       "</table>\n",
       "<p>1281 rows × 4 columns</p>\n",
       "</div>"
      ],
      "text/plain": [
       "     material_id full_formula  \\\n",
       "1        mp-1000       Ba1Te1   \n",
       "8     mp-1002124        Hf1C1   \n",
       "9     mp-1002164        Ge1C1   \n",
       "16      mp-10064        Si1O2   \n",
       "17    mp-1006878        Ba1O2   \n",
       "...          ...          ...   \n",
       "2620   mp-985829        Hf1S2   \n",
       "2621   mp-985831       Hf1Se2   \n",
       "2624     mp-9921        Zr2S6   \n",
       "2625     mp-9922        Hf2S6   \n",
       "2640   mp-999200          Si4   \n",
       "\n",
       "                                             spacegroup  band_gap  \n",
       "1     {'symprec': 0.1, 'source': 'spglib', 'symbol':...    1.8555  \n",
       "8     {'symprec': 0.1, 'source': 'spglib', 'symbol':...    0.5774  \n",
       "9     {'symprec': 0.1, 'source': 'spglib', 'symbol':...    1.8486  \n",
       "16    {'symprec': 0.1, 'source': 'spglib', 'symbol':...    1.9997  \n",
       "17    {'symprec': 0.1, 'source': 'spglib', 'symbol':...    2.3433  \n",
       "...                                                 ...       ...  \n",
       "2620  {'symprec': 0.1, 'source': 'spglib', 'symbol':...    1.2325  \n",
       "2621  {'symprec': 0.1, 'source': 'spglib', 'symbol':...    0.5549  \n",
       "2624  {'symprec': 0.1, 'source': 'spglib', 'symbol':...    1.0948  \n",
       "2625  {'symprec': 0.1, 'source': 'spglib', 'symbol':...    1.1361  \n",
       "2640  {'symprec': 0.1, 'source': 'spglib', 'symbol':...    0.4517  \n",
       "\n",
       "[1281 rows x 4 columns]"
      ]
     },
     "execution_count": 11,
     "metadata": {},
     "output_type": "execute_result"
    }
   ],
   "source": [
    "lowerBandGapLimit = 0.4\n",
    "\n",
    "fitted_entries = fitted_entries[fitted_entries[\"band_gap\"] >= lowerBandGapLimit]\n",
    "#fitted_entries.to_csv(\"data/stage_3/fitted_MP_data_stage_3.csv\", sep=\",\", index = False)\n",
    "\n",
    "fitted_entries"
   ]
  },
  {
   "cell_type": "code",
   "execution_count": 12,
   "metadata": {},
   "outputs": [],
   "source": [
    "fitted_entries[\"candidate\"] = np.ones(len(fitted_entries))"
   ]
  },
  {
   "cell_type": "markdown",
   "metadata": {},
   "source": [
    "# Unfitted candidates\n",
    "## Stage 1 + 2\n",
    "To find unfitted candidates, we will begin with using the opposite criteria for which elements to include based on stable zero nuclear spin isotopes, while we will remove the magnetic and the polar space group criteria.\n",
    "\n",
    "- $50\\% + l != 0$ isotopes\n",
    "- Calculated magnetic\n",
    "- Has experimental ICSD entry\n",
    "- Crystallize in polar space groups\n",
    "\n",
    "Additionally, we will here make include stage 2 into this step (or else we would widen the search from stage 1 to stage 2). That means we include all the elements we excluded in stage 1 and stage 2. \n",
    "- Include Th, U, Cd, Hg\n",
    "- Include noble gases or rare-earth elements"
   ]
  },
  {
   "cell_type": "code",
   "execution_count": 13,
   "metadata": {},
   "outputs": [
    {
     "data": {
      "text/plain": [
       "27"
      ]
     },
     "execution_count": 13,
     "metadata": {},
     "output_type": "execute_result"
    }
   ],
   "source": [
    "spin_isotopes = [\"He\",\"C\", \"O\", \"Ne\", \"Mg\", \"Si\", \"S\", \"Ar\",\n",
    "                \"Ca\", \"Ti\", \"Cr\", \"Fe\", \"Ni\", \"Zn\", \"Ge\", \"Se\",\n",
    "                \"Se\", \"Kr\", \"Sr\", \"Zr\", \"Mo\", \"Ru\", \"Pd\", \"Cd\",\n",
    "                \"Sn\", \"Te\", \"Xe\", \"Ba\", \"Hf\", \"W\", \"Os\", \"Pt\",\n",
    "                \"Hg\", \"Pb\", \"Ce\", \"Nd\", \"Sm\", \"Gd\", \"Dy\", \"Er\",\n",
    "                \"Yb\", \"Th\", \"U\"] #43\n",
    "\n",
    "#Not include the following elements:\n",
    "include_elements = [ \n",
    "    \"Th\", \"U\", \"Cd\", \"Hg\", #restriction nr 1 above (4)\n",
    "    \"He\", \"Ne\", \"Ar\", \"Kr\", \"Xe\", \"Rn\", \"Og\", #no noble gases (7)\n",
    "    \"Sc\", \"Y\", \"La\", \"Ce\", \"Pr\", \"Nd\", \"Pm\", \"Sm\", \"Eu\", \"Gd\",\n",
    "     \"Tb\", \"Dy\", \"Ho\", \"Er\", \"Tm\", \"Yb\", \"Lu\"]\n",
    "    # No rare-earth elements (17)\n",
    "\n",
    "indices = []\n",
    "for i, spin in enumerate(spin_isotopes): \n",
    "    for ele in include_elements:\n",
    "        if spin == ele:\n",
    "            indices.append(i)\n",
    "            \n",
    "for i in sorted(indices, reverse=True):\n",
    "    del spin_isotopes[i]\n",
    "\n",
    "len(spin_isotopes)"
   ]
  },
  {
   "cell_type": "code",
   "execution_count": 14,
   "metadata": {},
   "outputs": [],
   "source": [
    "#spin_isotopes"
   ]
  },
  {
   "cell_type": "code",
   "execution_count": null,
   "metadata": {},
   "outputs": [],
   "source": []
  },
  {
   "cell_type": "markdown",
   "metadata": {},
   "source": [
    "### Query\n",
    "\n",
    "Here we find that a strict criteria is the polar space group together with magnetic type, since this reduces the amount of entries to $52$. However, if we remove the spacegroup restriction, we end up with $1683$ entries, or by removing magnetic type ; $486$. Thus, it is clear that the amount of negative non-magnetic calculations is limited."
   ]
  },
  {
   "cell_type": "code",
   "execution_count": 15,
   "metadata": {
    "scrolled": false
   },
   "outputs": [
    {
     "data": {
      "application/vnd.jupyter.widget-view+json": {
       "model_id": "2fc00d16ac964beca08d045f4c8223cf",
       "version_major": 2,
       "version_minor": 0
      },
      "text/plain": [
       "  0%|          | 0/526 [00:00<?, ?it/s]"
      ]
     },
     "metadata": {},
     "output_type": "display_data"
    },
    {
     "name": "stdout",
     "output_type": "stream",
     "text": [
      "Number of entries after query: 526\n"
     ]
    }
   ],
   "source": [
    "\n",
    "with MPRester(\"b7RtVfJTsUg6TK8E\") as mpr:\n",
    "    \n",
    "    criteria = {'elements':{\"$nin\": spin_isotopes}, #not included\n",
    "                'icsd_ids': {'$gte': 0}, #All compounds deemed similar to a structure in ICSD\n",
    "                #\"magnetic_type\": {\"$ne\": \"NM\"}, #non-magnetic not equal\n",
    "                \"spacegroup.number\": {\"$in\": polar_spacegroups}\n",
    "                }\n",
    "\n",
    "    props = [\"material_id\",\"full_formula\", \"spacegroup\", \"band_gap\"]\n",
    "    unfitted_entries = pd.DataFrame(mpr.query(criteria=criteria, properties=props))    \n",
    "        \n",
    "print(\"Number of entries after query: {}\".format(len(unfitted_entries)))"
   ]
  },
  {
   "cell_type": "code",
   "execution_count": null,
   "metadata": {
    "scrolled": false
   },
   "outputs": [],
   "source": []
  },
  {
   "cell_type": "markdown",
   "metadata": {},
   "source": [
    "# Stage 3\n",
    "\n",
    "For consistency we are only looking at semiconductors. Thus, we will maintain a lower band gap limit for unfitted candidates, since the features we are generating are based on that a material has a band gap. "
   ]
  },
  {
   "cell_type": "code",
   "execution_count": 16,
   "metadata": {},
   "outputs": [
    {
     "data": {
      "text/html": [
       "<div>\n",
       "<style scoped>\n",
       "    .dataframe tbody tr th:only-of-type {\n",
       "        vertical-align: middle;\n",
       "    }\n",
       "\n",
       "    .dataframe tbody tr th {\n",
       "        vertical-align: top;\n",
       "    }\n",
       "\n",
       "    .dataframe thead th {\n",
       "        text-align: right;\n",
       "    }\n",
       "</style>\n",
       "<table border=\"1\" class=\"dataframe\">\n",
       "  <thead>\n",
       "    <tr style=\"text-align: right;\">\n",
       "      <th></th>\n",
       "      <th>material_id</th>\n",
       "      <th>full_formula</th>\n",
       "      <th>spacegroup</th>\n",
       "      <th>band_gap</th>\n",
       "    </tr>\n",
       "  </thead>\n",
       "  <tbody>\n",
       "    <tr>\n",
       "      <th>3</th>\n",
       "      <td>mp-1008559</td>\n",
       "      <td>B2P2</td>\n",
       "      <td>{'symprec': 0.1, 'source': 'spglib', 'symbol':...</td>\n",
       "      <td>1.0759</td>\n",
       "    </tr>\n",
       "    <tr>\n",
       "      <th>4</th>\n",
       "      <td>mp-1018100</td>\n",
       "      <td>Al2Sb2</td>\n",
       "      <td>{'symprec': 0.1, 'source': 'spglib', 'symbol':...</td>\n",
       "      <td>0.9121</td>\n",
       "    </tr>\n",
       "    <tr>\n",
       "      <th>6</th>\n",
       "      <td>mp-1019323</td>\n",
       "      <td>Th2H1N3</td>\n",
       "      <td>{'symprec': 0.1, 'source': 'spglib', 'symbol':...</td>\n",
       "      <td>1.5488</td>\n",
       "    </tr>\n",
       "    <tr>\n",
       "      <th>7</th>\n",
       "      <td>mp-10419</td>\n",
       "      <td>Na8Re2N6</td>\n",
       "      <td>{'symprec': 0.1, 'source': 'spglib', 'symbol':...</td>\n",
       "      <td>2.4466</td>\n",
       "    </tr>\n",
       "    <tr>\n",
       "      <th>11</th>\n",
       "      <td>mp-1064952</td>\n",
       "      <td>Na1N3</td>\n",
       "      <td>{'symprec': 0.1, 'source': 'spglib', 'symbol':...</td>\n",
       "      <td>4.0425</td>\n",
       "    </tr>\n",
       "    <tr>\n",
       "      <th>...</th>\n",
       "      <td>...</td>\n",
       "      <td>...</td>\n",
       "      <td>...</td>\n",
       "      <td>...</td>\n",
       "    </tr>\n",
       "    <tr>\n",
       "      <th>517</th>\n",
       "      <td>mp-570089</td>\n",
       "      <td>Cd12I24</td>\n",
       "      <td>{'symprec': 0.1, 'source': 'spglib', 'symbol':...</td>\n",
       "      <td>2.4122</td>\n",
       "    </tr>\n",
       "    <tr>\n",
       "      <th>521</th>\n",
       "      <td>mp-696998</td>\n",
       "      <td>K12Bi2H6Cl16F8</td>\n",
       "      <td>{'symprec': 0.1, 'source': 'spglib', 'symbol':...</td>\n",
       "      <td>4.1881</td>\n",
       "    </tr>\n",
       "    <tr>\n",
       "      <th>522</th>\n",
       "      <td>mp-866663</td>\n",
       "      <td>K6Ta2F16</td>\n",
       "      <td>{'symprec': 0.1, 'source': 'spglib', 'symbol':...</td>\n",
       "      <td>3.8500</td>\n",
       "    </tr>\n",
       "    <tr>\n",
       "      <th>523</th>\n",
       "      <td>mp-8880</td>\n",
       "      <td>Al2P2</td>\n",
       "      <td>{'symprec': 0.1, 'source': 'spglib', 'symbol':...</td>\n",
       "      <td>2.0228</td>\n",
       "    </tr>\n",
       "    <tr>\n",
       "      <th>524</th>\n",
       "      <td>mp-966800</td>\n",
       "      <td>In2P2</td>\n",
       "      <td>{'symprec': 0.1, 'source': 'spglib', 'symbol':...</td>\n",
       "      <td>0.5138</td>\n",
       "    </tr>\n",
       "  </tbody>\n",
       "</table>\n",
       "<p>371 rows × 4 columns</p>\n",
       "</div>"
      ],
      "text/plain": [
       "    material_id    full_formula  \\\n",
       "3    mp-1008559            B2P2   \n",
       "4    mp-1018100          Al2Sb2   \n",
       "6    mp-1019323         Th2H1N3   \n",
       "7      mp-10419        Na8Re2N6   \n",
       "11   mp-1064952           Na1N3   \n",
       "..          ...             ...   \n",
       "517   mp-570089         Cd12I24   \n",
       "521   mp-696998  K12Bi2H6Cl16F8   \n",
       "522   mp-866663        K6Ta2F16   \n",
       "523     mp-8880           Al2P2   \n",
       "524   mp-966800           In2P2   \n",
       "\n",
       "                                            spacegroup  band_gap  \n",
       "3    {'symprec': 0.1, 'source': 'spglib', 'symbol':...    1.0759  \n",
       "4    {'symprec': 0.1, 'source': 'spglib', 'symbol':...    0.9121  \n",
       "6    {'symprec': 0.1, 'source': 'spglib', 'symbol':...    1.5488  \n",
       "7    {'symprec': 0.1, 'source': 'spglib', 'symbol':...    2.4466  \n",
       "11   {'symprec': 0.1, 'source': 'spglib', 'symbol':...    4.0425  \n",
       "..                                                 ...       ...  \n",
       "517  {'symprec': 0.1, 'source': 'spglib', 'symbol':...    2.4122  \n",
       "521  {'symprec': 0.1, 'source': 'spglib', 'symbol':...    4.1881  \n",
       "522  {'symprec': 0.1, 'source': 'spglib', 'symbol':...    3.8500  \n",
       "523  {'symprec': 0.1, 'source': 'spglib', 'symbol':...    2.0228  \n",
       "524  {'symprec': 0.1, 'source': 'spglib', 'symbol':...    0.5138  \n",
       "\n",
       "[371 rows x 4 columns]"
      ]
     },
     "execution_count": 16,
     "metadata": {},
     "output_type": "execute_result"
    }
   ],
   "source": [
    "lowerBandGapLimit = 0.1\n",
    "\n",
    "unfitted_entries = unfitted_entries[unfitted_entries[\"band_gap\"] >= lowerBandGapLimit]\n",
    "unfitted_entries"
   ]
  },
  {
   "cell_type": "code",
   "execution_count": 17,
   "metadata": {
    "scrolled": false
   },
   "outputs": [],
   "source": [
    "unfitted_entries[\"candidate\"] = np.zeros(len(unfitted_entries))"
   ]
  },
  {
   "cell_type": "markdown",
   "metadata": {},
   "source": [
    "# Combine data and create training and test set"
   ]
  },
  {
   "cell_type": "code",
   "execution_count": 18,
   "metadata": {},
   "outputs": [],
   "source": [
    "assert unfitted_entries[unfitted_entries[\"material_id\"].isin(fitted_entries[\"material_id\"])].shape[0]==0\n",
    "assert fitted_entries[fitted_entries[\"material_id\"].isin(unfitted_entries[\"material_id\"])].shape[0]==0"
   ]
  },
  {
   "cell_type": "code",
   "execution_count": 19,
   "metadata": {
    "scrolled": false
   },
   "outputs": [
    {
     "name": "stdout",
     "output_type": "stream",
     "text": [
      "A total of 43 MPIDs are inconsistent with the rest.\n",
      "A total of 43 MPIDs were dropped from the dataset provided.\n"
     ]
    },
    {
     "data": {
      "text/html": [
       "<div>\n",
       "<style scoped>\n",
       "    .dataframe tbody tr th:only-of-type {\n",
       "        vertical-align: middle;\n",
       "    }\n",
       "\n",
       "    .dataframe tbody tr th {\n",
       "        vertical-align: top;\n",
       "    }\n",
       "\n",
       "    .dataframe thead th {\n",
       "        text-align: right;\n",
       "    }\n",
       "</style>\n",
       "<table border=\"1\" class=\"dataframe\">\n",
       "  <thead>\n",
       "    <tr style=\"text-align: right;\">\n",
       "      <th></th>\n",
       "      <th>material_id</th>\n",
       "      <th>full_formula</th>\n",
       "      <th>spacegroup</th>\n",
       "      <th>band_gap</th>\n",
       "      <th>candidate</th>\n",
       "    </tr>\n",
       "  </thead>\n",
       "  <tbody>\n",
       "    <tr>\n",
       "      <th>0</th>\n",
       "      <td>mp-7</td>\n",
       "      <td>S6</td>\n",
       "      <td>{'symprec': 0.1, 'source': 'spglib', 'symbol':...</td>\n",
       "      <td>2.4881</td>\n",
       "      <td>1.0</td>\n",
       "    </tr>\n",
       "    <tr>\n",
       "      <th>1</th>\n",
       "      <td>mp-14</td>\n",
       "      <td>Se3</td>\n",
       "      <td>{'symprec': 0.1, 'source': 'spglib', 'symbol':...</td>\n",
       "      <td>1.0119</td>\n",
       "      <td>1.0</td>\n",
       "    </tr>\n",
       "    <tr>\n",
       "      <th>2</th>\n",
       "      <td>mp-19</td>\n",
       "      <td>Te3</td>\n",
       "      <td>{'symprec': 0.1, 'source': 'spglib', 'symbol':...</td>\n",
       "      <td>0.5752</td>\n",
       "      <td>1.0</td>\n",
       "    </tr>\n",
       "    <tr>\n",
       "      <th>3</th>\n",
       "      <td>mp-24</td>\n",
       "      <td>C8</td>\n",
       "      <td>{'symprec': 0.1, 'source': 'spglib', 'symbol':...</td>\n",
       "      <td>2.7785</td>\n",
       "      <td>1.0</td>\n",
       "    </tr>\n",
       "    <tr>\n",
       "      <th>4</th>\n",
       "      <td>mp-47</td>\n",
       "      <td>C4</td>\n",
       "      <td>{'symprec': 0.1, 'source': 'spglib', 'symbol':...</td>\n",
       "      <td>3.3395</td>\n",
       "      <td>1.0</td>\n",
       "    </tr>\n",
       "    <tr>\n",
       "      <th>...</th>\n",
       "      <td>...</td>\n",
       "      <td>...</td>\n",
       "      <td>...</td>\n",
       "      <td>...</td>\n",
       "      <td>...</td>\n",
       "    </tr>\n",
       "    <tr>\n",
       "      <th>1644</th>\n",
       "      <td>mp-1205479</td>\n",
       "      <td>K44Sb22F110</td>\n",
       "      <td>{'symprec': 0.1, 'source': 'spglib', 'symbol':...</td>\n",
       "      <td>4.7325</td>\n",
       "      <td>0.0</td>\n",
       "    </tr>\n",
       "    <tr>\n",
       "      <th>1645</th>\n",
       "      <td>mp-1208643</td>\n",
       "      <td>Sr4Hf4S12</td>\n",
       "      <td>{'symprec': 0.1, 'source': 'spglib', 'symbol':...</td>\n",
       "      <td>2.0461</td>\n",
       "      <td>1.0</td>\n",
       "    </tr>\n",
       "    <tr>\n",
       "      <th>1646</th>\n",
       "      <td>mp-1210722</td>\n",
       "      <td>Mg2Te2Mo2O12</td>\n",
       "      <td>{'symprec': 0.1, 'source': 'spglib', 'symbol':...</td>\n",
       "      <td>3.2147</td>\n",
       "      <td>1.0</td>\n",
       "    </tr>\n",
       "    <tr>\n",
       "      <th>1647</th>\n",
       "      <td>mp-1232407</td>\n",
       "      <td>Li6B6H32N4</td>\n",
       "      <td>{'symprec': 0.1, 'source': 'spglib', 'symbol':...</td>\n",
       "      <td>5.9610</td>\n",
       "      <td>0.0</td>\n",
       "    </tr>\n",
       "    <tr>\n",
       "      <th>1648</th>\n",
       "      <td>mp-1238445</td>\n",
       "      <td>Be8H64N16F32</td>\n",
       "      <td>{'symprec': 0.1, 'source': 'spglib', 'symbol':...</td>\n",
       "      <td>6.5561</td>\n",
       "      <td>0.0</td>\n",
       "    </tr>\n",
       "  </tbody>\n",
       "</table>\n",
       "<p>1649 rows × 5 columns</p>\n",
       "</div>"
      ],
      "text/plain": [
       "     material_id  full_formula  \\\n",
       "0           mp-7            S6   \n",
       "1          mp-14           Se3   \n",
       "2          mp-19           Te3   \n",
       "3          mp-24            C8   \n",
       "4          mp-47            C4   \n",
       "...          ...           ...   \n",
       "1644  mp-1205479   K44Sb22F110   \n",
       "1645  mp-1208643     Sr4Hf4S12   \n",
       "1646  mp-1210722  Mg2Te2Mo2O12   \n",
       "1647  mp-1232407    Li6B6H32N4   \n",
       "1648  mp-1238445  Be8H64N16F32   \n",
       "\n",
       "                                             spacegroup  band_gap  candidate  \n",
       "0     {'symprec': 0.1, 'source': 'spglib', 'symbol':...    2.4881        1.0  \n",
       "1     {'symprec': 0.1, 'source': 'spglib', 'symbol':...    1.0119        1.0  \n",
       "2     {'symprec': 0.1, 'source': 'spglib', 'symbol':...    0.5752        1.0  \n",
       "3     {'symprec': 0.1, 'source': 'spglib', 'symbol':...    2.7785        1.0  \n",
       "4     {'symprec': 0.1, 'source': 'spglib', 'symbol':...    3.3395        1.0  \n",
       "...                                                 ...       ...        ...  \n",
       "1644  {'symprec': 0.1, 'source': 'spglib', 'symbol':...    4.7325        0.0  \n",
       "1645  {'symprec': 0.1, 'source': 'spglib', 'symbol':...    2.0461        1.0  \n",
       "1646  {'symprec': 0.1, 'source': 'spglib', 'symbol':...    3.2147        1.0  \n",
       "1647  {'symprec': 0.1, 'source': 'spglib', 'symbol':...    5.9610        0.0  \n",
       "1648  {'symprec': 0.1, 'source': 'spglib', 'symbol':...    6.5561        0.0  \n",
       "\n",
       "[1649 rows x 5 columns]"
      ]
     },
     "execution_count": 19,
     "metadata": {},
     "output_type": "execute_result"
    }
   ],
   "source": [
    "trainingTargets = pd.concat([fitted_entries,unfitted_entries]).reset_index(drop=True)\n",
    "\n",
    "trainingTargets = sortByMPID(trainingTargets)\n",
    "trainingTargets = filterIDs(trainingTargets)\n",
    "trainingTargets"
   ]
  },
  {
   "cell_type": "code",
   "execution_count": 20,
   "metadata": {},
   "outputs": [],
   "source": [
    "drop_columns =  [\"full_formula\", \"spacegroup\", \"band_gap\"]\n",
    "trainingTargets = trainingTargets.drop(drop_columns, axis=1)"
   ]
  },
  {
   "cell_type": "code",
   "execution_count": 21,
   "metadata": {},
   "outputs": [
    {
     "data": {
      "text/html": [
       "<div>\n",
       "<style scoped>\n",
       "    .dataframe tbody tr th:only-of-type {\n",
       "        vertical-align: middle;\n",
       "    }\n",
       "\n",
       "    .dataframe tbody tr th {\n",
       "        vertical-align: top;\n",
       "    }\n",
       "\n",
       "    .dataframe thead th {\n",
       "        text-align: right;\n",
       "    }\n",
       "</style>\n",
       "<table border=\"1\" class=\"dataframe\">\n",
       "  <thead>\n",
       "    <tr style=\"text-align: right;\">\n",
       "      <th></th>\n",
       "      <th>material_id</th>\n",
       "      <th>candidate</th>\n",
       "    </tr>\n",
       "  </thead>\n",
       "  <tbody>\n",
       "    <tr>\n",
       "      <th>0</th>\n",
       "      <td>mp-7</td>\n",
       "      <td>1.0</td>\n",
       "    </tr>\n",
       "    <tr>\n",
       "      <th>1</th>\n",
       "      <td>mp-14</td>\n",
       "      <td>1.0</td>\n",
       "    </tr>\n",
       "    <tr>\n",
       "      <th>2</th>\n",
       "      <td>mp-19</td>\n",
       "      <td>1.0</td>\n",
       "    </tr>\n",
       "    <tr>\n",
       "      <th>3</th>\n",
       "      <td>mp-24</td>\n",
       "      <td>1.0</td>\n",
       "    </tr>\n",
       "    <tr>\n",
       "      <th>4</th>\n",
       "      <td>mp-47</td>\n",
       "      <td>1.0</td>\n",
       "    </tr>\n",
       "    <tr>\n",
       "      <th>...</th>\n",
       "      <td>...</td>\n",
       "      <td>...</td>\n",
       "    </tr>\n",
       "    <tr>\n",
       "      <th>1644</th>\n",
       "      <td>mp-1205479</td>\n",
       "      <td>0.0</td>\n",
       "    </tr>\n",
       "    <tr>\n",
       "      <th>1645</th>\n",
       "      <td>mp-1208643</td>\n",
       "      <td>1.0</td>\n",
       "    </tr>\n",
       "    <tr>\n",
       "      <th>1646</th>\n",
       "      <td>mp-1210722</td>\n",
       "      <td>1.0</td>\n",
       "    </tr>\n",
       "    <tr>\n",
       "      <th>1647</th>\n",
       "      <td>mp-1232407</td>\n",
       "      <td>0.0</td>\n",
       "    </tr>\n",
       "    <tr>\n",
       "      <th>1648</th>\n",
       "      <td>mp-1238445</td>\n",
       "      <td>0.0</td>\n",
       "    </tr>\n",
       "  </tbody>\n",
       "</table>\n",
       "<p>1649 rows × 2 columns</p>\n",
       "</div>"
      ],
      "text/plain": [
       "     material_id  candidate\n",
       "0           mp-7        1.0\n",
       "1          mp-14        1.0\n",
       "2          mp-19        1.0\n",
       "3          mp-24        1.0\n",
       "4          mp-47        1.0\n",
       "...          ...        ...\n",
       "1644  mp-1205479        0.0\n",
       "1645  mp-1208643        1.0\n",
       "1646  mp-1210722        1.0\n",
       "1647  mp-1232407        0.0\n",
       "1648  mp-1238445        0.0\n",
       "\n",
       "[1649 rows x 2 columns]"
      ]
     },
     "execution_count": 21,
     "metadata": {},
     "output_type": "execute_result"
    }
   ],
   "source": [
    "trainingTargets"
   ]
  },
  {
   "cell_type": "code",
   "execution_count": 22,
   "metadata": {},
   "outputs": [],
   "source": [
    "#Path(data_dir / InsertApproach / \"processed\").mkdir(parents=True, exist_ok=True)\n",
    "#training_data.to_pickle(data_dir / InsertApproach / \"processed\" / \"trainingCombo.pkl\")"
   ]
  },
  {
   "cell_type": "markdown",
   "metadata": {},
   "source": [
    "# Distribution of entries in the data\n",
    "How is the distribution of entries in the different features? \n",
    "## Elements"
   ]
  },
  {
   "cell_type": "code",
   "execution_count": 23,
   "metadata": {},
   "outputs": [
    {
     "data": {
      "text/html": [
       "<div>\n",
       "<style scoped>\n",
       "    .dataframe tbody tr th:only-of-type {\n",
       "        vertical-align: middle;\n",
       "    }\n",
       "\n",
       "    .dataframe tbody tr th {\n",
       "        vertical-align: top;\n",
       "    }\n",
       "\n",
       "    .dataframe thead th {\n",
       "        text-align: right;\n",
       "    }\n",
       "</style>\n",
       "<table border=\"1\" class=\"dataframe\">\n",
       "  <thead>\n",
       "    <tr style=\"text-align: right;\">\n",
       "      <th></th>\n",
       "      <th>material_id</th>\n",
       "      <th>candidate</th>\n",
       "    </tr>\n",
       "  </thead>\n",
       "  <tbody>\n",
       "    <tr>\n",
       "      <th>0</th>\n",
       "      <td>mp-7</td>\n",
       "      <td>1.0</td>\n",
       "    </tr>\n",
       "    <tr>\n",
       "      <th>1</th>\n",
       "      <td>mp-14</td>\n",
       "      <td>1.0</td>\n",
       "    </tr>\n",
       "    <tr>\n",
       "      <th>2</th>\n",
       "      <td>mp-19</td>\n",
       "      <td>1.0</td>\n",
       "    </tr>\n",
       "    <tr>\n",
       "      <th>3</th>\n",
       "      <td>mp-24</td>\n",
       "      <td>1.0</td>\n",
       "    </tr>\n",
       "    <tr>\n",
       "      <th>4</th>\n",
       "      <td>mp-47</td>\n",
       "      <td>1.0</td>\n",
       "    </tr>\n",
       "    <tr>\n",
       "      <th>...</th>\n",
       "      <td>...</td>\n",
       "      <td>...</td>\n",
       "    </tr>\n",
       "    <tr>\n",
       "      <th>1644</th>\n",
       "      <td>mp-1205479</td>\n",
       "      <td>0.0</td>\n",
       "    </tr>\n",
       "    <tr>\n",
       "      <th>1645</th>\n",
       "      <td>mp-1208643</td>\n",
       "      <td>1.0</td>\n",
       "    </tr>\n",
       "    <tr>\n",
       "      <th>1646</th>\n",
       "      <td>mp-1210722</td>\n",
       "      <td>1.0</td>\n",
       "    </tr>\n",
       "    <tr>\n",
       "      <th>1647</th>\n",
       "      <td>mp-1232407</td>\n",
       "      <td>0.0</td>\n",
       "    </tr>\n",
       "    <tr>\n",
       "      <th>1648</th>\n",
       "      <td>mp-1238445</td>\n",
       "      <td>0.0</td>\n",
       "    </tr>\n",
       "  </tbody>\n",
       "</table>\n",
       "<p>1649 rows × 2 columns</p>\n",
       "</div>"
      ],
      "text/plain": [
       "     material_id  candidate\n",
       "0           mp-7        1.0\n",
       "1          mp-14        1.0\n",
       "2          mp-19        1.0\n",
       "3          mp-24        1.0\n",
       "4          mp-47        1.0\n",
       "...          ...        ...\n",
       "1644  mp-1205479        0.0\n",
       "1645  mp-1208643        1.0\n",
       "1646  mp-1210722        1.0\n",
       "1647  mp-1232407        0.0\n",
       "1648  mp-1238445        0.0\n",
       "\n",
       "[1649 rows x 2 columns]"
      ]
     },
     "execution_count": 23,
     "metadata": {},
     "output_type": "execute_result"
    }
   ],
   "source": [
    "trainingTargets"
   ]
  },
  {
   "cell_type": "code",
   "execution_count": 24,
   "metadata": {},
   "outputs": [],
   "source": [
    "#trainingTargets = pd.read_pickle(data_dir / InsertApproach / \"processed\" / \"trainingCombo.pkl\")\n",
    "generatedData = pd.read_pickle(data_dir / \"interim\" / \"featurized\" / \"featurized-19-03-2021.pkl\")"
   ]
  },
  {
   "cell_type": "code",
   "execution_count": 25,
   "metadata": {},
   "outputs": [],
   "source": [
    "testSet = (\n",
    "    trainingTargets.merge(generatedData, \n",
    "              on='material_id', \n",
    "              how='outer', \n",
    "              indicator=True)\n",
    "    .query('_merge != \"both\"')\n",
    "    .drop(columns='_merge')\n",
    ")\n",
    "trainingSet = (\n",
    "    trainingTargets.merge(generatedData,\n",
    "                on=\"material_id\",\n",
    "                indicator=False,\n",
    "                how=\"left\",\n",
    "                suffixes=(False, False))\n",
    ")"
   ]
  },
  {
   "cell_type": "code",
   "execution_count": 26,
   "metadata": {},
   "outputs": [
    {
     "name": "stdout",
     "output_type": "stream",
     "text": [
      "(23655, 4872)\n",
      "(1649, 4872)\n"
     ]
    }
   ],
   "source": [
    "print(testSet.shape)\n",
    "print(trainingSet.shape)"
   ]
  },
  {
   "cell_type": "code",
   "execution_count": 27,
   "metadata": {},
   "outputs": [
    {
     "name": "stdout",
     "output_type": "stream",
     "text": [
      "The amount of good qubit host candidates: 1278, or 0.7750%\n",
      "The amount of bad qubit host candidates: 371, or 0.2250%\n"
     ]
    }
   ],
   "source": [
    "print(\"The amount of good qubit host candidates: {}, or {:0.4f}%\".format(trainingSet[trainingTargets.values==1].shape[0], trainingSet[trainingTargets.values==1].shape[0]/trainingSet.shape[0]))\n",
    "print(\"The amount of bad qubit host candidates: {}, or {:0.4f}%\".format(trainingSet[trainingTargets.values==0].shape[0], trainingSet[trainingTargets.values==0].shape[0]/trainingSet.shape[0]))"
   ]
  },
  {
   "cell_type": "code",
   "execution_count": 59,
   "metadata": {},
   "outputs": [
    {
     "name": "stdout",
     "output_type": "stream",
     "text": [
      "Information about elements in compoounds are given in the interval:\n",
      "4702 4795\n",
      "93\n"
     ]
    },
    {
     "data": {
      "application/vnd.plotly.v1+json": {
       "config": {
        "plotlyServerURL": "https://plot.ly"
       },
       "data": [
        {
         "name": "Fitted candidates",
         "text": [
          "H",
          "He",
          "Li",
          "Be",
          "B",
          "C",
          "N",
          "O",
          "F",
          "Ne",
          "Na",
          "Mg",
          "Al",
          "Si",
          "P",
          "S",
          "Cl",
          "Ar",
          "K",
          "Ca",
          "Sc",
          "Ti",
          "V",
          "Cr",
          "Mn",
          "Fe",
          "Co",
          "Ni",
          "Cu",
          "Zn",
          "Ga",
          "Ge",
          "As",
          "Se",
          "Br",
          "Kr",
          "Rb",
          "Sr",
          "Y",
          "Zr",
          "Nb",
          "Mo",
          "Tc",
          "Ru",
          "Rh",
          "Pd",
          "Ag",
          "Cd",
          "In",
          "Sn",
          "Sb",
          "Te",
          "I",
          "Xe",
          "Cs",
          "Ba",
          "La",
          "Ce",
          "Pr",
          "Nd",
          "Pm",
          "Sm",
          "Eu",
          "Gd",
          "Tb",
          "Dy",
          "Ho",
          "Er",
          "Tm",
          "Yb",
          "Lu",
          "Hf",
          "Ta",
          "W",
          "Re",
          "Os",
          "Ir",
          "Pt",
          "Au",
          "Hg",
          "Tl",
          "Pb",
          "Bi",
          "Po",
          "At",
          "Rn",
          "Fr",
          "Ra",
          "Ac",
          "Th",
          "Pa",
          "U",
          "Np"
         ],
         "type": "bar",
         "x": [
          "H",
          "He",
          "Li",
          "Be",
          "B",
          "C",
          "N",
          "O",
          "F",
          "Ne",
          "Na",
          "Mg",
          "Al",
          "Si",
          "P",
          "S",
          "Cl",
          "Ar",
          "K",
          "Ca",
          "Sc",
          "Ti",
          "V",
          "Cr",
          "Mn",
          "Fe",
          "Co",
          "Ni",
          "Cu",
          "Zn",
          "Ga",
          "Ge",
          "As",
          "Se",
          "Br",
          "Kr",
          "Rb",
          "Sr",
          "Y",
          "Zr",
          "Nb",
          "Mo",
          "Tc",
          "Ru",
          "Rh",
          "Pd",
          "Ag",
          "Cd",
          "In",
          "Sn",
          "Sb",
          "Te",
          "I",
          "Xe",
          "Cs",
          "Ba",
          "La",
          "Ce",
          "Pr",
          "Nd",
          "Pm",
          "Sm",
          "Eu",
          "Gd",
          "Tb",
          "Dy",
          "Ho",
          "Er",
          "Tm",
          "Yb",
          "Lu",
          "Hf",
          "Ta",
          "W",
          "Re",
          "Os",
          "Ir",
          "Pt",
          "Au",
          "Hg",
          "Tl",
          "Pb",
          "Bi",
          "Po",
          "At",
          "Rn",
          "Fr",
          "Ra",
          "Ac",
          "Th",
          "Pa",
          "U",
          "Np"
         ],
         "y": [
          0,
          0,
          0,
          0,
          0,
          157,
          0,
          950,
          0,
          0,
          0,
          122,
          0,
          350,
          0,
          208,
          0,
          0,
          0,
          184,
          0,
          81,
          0,
          14,
          0,
          25,
          0,
          8,
          0,
          88,
          0,
          114,
          0,
          120,
          0,
          0,
          0,
          146,
          0,
          60,
          0,
          44,
          0,
          20,
          0,
          14,
          0,
          0,
          0,
          93,
          0,
          98,
          0,
          0,
          0,
          189,
          0,
          0,
          0,
          0,
          0,
          0,
          0,
          0,
          0,
          0,
          0,
          0,
          0,
          0,
          0,
          41,
          0,
          71,
          0,
          27,
          0,
          20,
          0,
          0,
          0,
          110,
          0,
          0,
          0,
          0,
          0,
          0,
          0,
          0,
          0,
          0,
          0
         ]
        },
        {
         "name": "Unfitted candidates",
         "text": [
          "H",
          "He",
          "Li",
          "Be",
          "B",
          "C",
          "N",
          "O",
          "F",
          "Ne",
          "Na",
          "Mg",
          "Al",
          "Si",
          "P",
          "S",
          "Cl",
          "Ar",
          "K",
          "Ca",
          "Sc",
          "Ti",
          "V",
          "Cr",
          "Mn",
          "Fe",
          "Co",
          "Ni",
          "Cu",
          "Zn",
          "Ga",
          "Ge",
          "As",
          "Se",
          "Br",
          "Kr",
          "Rb",
          "Sr",
          "Y",
          "Zr",
          "Nb",
          "Mo",
          "Tc",
          "Ru",
          "Rh",
          "Pd",
          "Ag",
          "Cd",
          "In",
          "Sn",
          "Sb",
          "Te",
          "I",
          "Xe",
          "Cs",
          "Ba",
          "La",
          "Ce",
          "Pr",
          "Nd",
          "Pm",
          "Sm",
          "Eu",
          "Gd",
          "Tb",
          "Dy",
          "Ho",
          "Er",
          "Tm",
          "Yb",
          "Lu",
          "Hf",
          "Ta",
          "W",
          "Re",
          "Os",
          "Ir",
          "Pt",
          "Au",
          "Hg",
          "Tl",
          "Pb",
          "Bi",
          "Po",
          "At",
          "Rn",
          "Fr",
          "Ra",
          "Ac",
          "Th",
          "Pa",
          "U",
          "Np"
         ],
         "type": "bar",
         "x": [
          "H",
          "He",
          "Li",
          "Be",
          "B",
          "C",
          "N",
          "O",
          "F",
          "Ne",
          "Na",
          "Mg",
          "Al",
          "Si",
          "P",
          "S",
          "Cl",
          "Ar",
          "K",
          "Ca",
          "Sc",
          "Ti",
          "V",
          "Cr",
          "Mn",
          "Fe",
          "Co",
          "Ni",
          "Cu",
          "Zn",
          "Ga",
          "Ge",
          "As",
          "Se",
          "Br",
          "Kr",
          "Rb",
          "Sr",
          "Y",
          "Zr",
          "Nb",
          "Mo",
          "Tc",
          "Ru",
          "Rh",
          "Pd",
          "Ag",
          "Cd",
          "In",
          "Sn",
          "Sb",
          "Te",
          "I",
          "Xe",
          "Cs",
          "Ba",
          "La",
          "Ce",
          "Pr",
          "Nd",
          "Pm",
          "Sm",
          "Eu",
          "Gd",
          "Tb",
          "Dy",
          "Ho",
          "Er",
          "Tm",
          "Yb",
          "Lu",
          "Hf",
          "Ta",
          "W",
          "Re",
          "Os",
          "Ir",
          "Pt",
          "Au",
          "Hg",
          "Tl",
          "Pb",
          "Bi",
          "Po",
          "At",
          "Rn",
          "Fr",
          "Ra",
          "Ac",
          "Th",
          "Pa",
          "U",
          "Np"
         ],
         "y": [
          56,
          0,
          34,
          15,
          31,
          0,
          65,
          0,
          79,
          0,
          20,
          0,
          19,
          0,
          30,
          0,
          46,
          0,
          29,
          0,
          0,
          0,
          3,
          0,
          6,
          0,
          3,
          0,
          5,
          0,
          18,
          0,
          17,
          0,
          24,
          0,
          15,
          0,
          3,
          0,
          5,
          0,
          2,
          0,
          0,
          0,
          3,
          118,
          9,
          0,
          27,
          0,
          139,
          8,
          17,
          0,
          4,
          0,
          1,
          2,
          0,
          0,
          0,
          0,
          0,
          0,
          2,
          4,
          1,
          7,
          0,
          0,
          3,
          0,
          4,
          0,
          2,
          0,
          4,
          16,
          4,
          0,
          9,
          0,
          0,
          0,
          0,
          0,
          0,
          4,
          0,
          1,
          0
         ]
        }
       ],
       "layout": {
        "autosize": false,
        "font": {
         "color": "Black",
         "family": "Palatino",
         "size": 12
        },
        "height": 274.0948266666667,
        "paper_bgcolor": "rgba(0, 0, 0, 0)",
        "plot_bgcolor": "rgba(0, 0, 0, 0)",
        "template": {
         "data": {
          "bar": [
           {
            "error_x": {
             "color": "#2a3f5f"
            },
            "error_y": {
             "color": "#2a3f5f"
            },
            "marker": {
             "line": {
              "color": "#E5ECF6",
              "width": 0.5
             }
            },
            "type": "bar"
           }
          ],
          "barpolar": [
           {
            "marker": {
             "line": {
              "color": "#E5ECF6",
              "width": 0.5
             }
            },
            "type": "barpolar"
           }
          ],
          "carpet": [
           {
            "aaxis": {
             "endlinecolor": "#2a3f5f",
             "gridcolor": "white",
             "linecolor": "white",
             "minorgridcolor": "white",
             "startlinecolor": "#2a3f5f"
            },
            "baxis": {
             "endlinecolor": "#2a3f5f",
             "gridcolor": "white",
             "linecolor": "white",
             "minorgridcolor": "white",
             "startlinecolor": "#2a3f5f"
            },
            "type": "carpet"
           }
          ],
          "choropleth": [
           {
            "colorbar": {
             "outlinewidth": 0,
             "ticks": ""
            },
            "type": "choropleth"
           }
          ],
          "contour": [
           {
            "colorbar": {
             "outlinewidth": 0,
             "ticks": ""
            },
            "colorscale": [
             [
              0,
              "#0d0887"
             ],
             [
              0.1111111111111111,
              "#46039f"
             ],
             [
              0.2222222222222222,
              "#7201a8"
             ],
             [
              0.3333333333333333,
              "#9c179e"
             ],
             [
              0.4444444444444444,
              "#bd3786"
             ],
             [
              0.5555555555555556,
              "#d8576b"
             ],
             [
              0.6666666666666666,
              "#ed7953"
             ],
             [
              0.7777777777777778,
              "#fb9f3a"
             ],
             [
              0.8888888888888888,
              "#fdca26"
             ],
             [
              1,
              "#f0f921"
             ]
            ],
            "type": "contour"
           }
          ],
          "contourcarpet": [
           {
            "colorbar": {
             "outlinewidth": 0,
             "ticks": ""
            },
            "type": "contourcarpet"
           }
          ],
          "heatmap": [
           {
            "colorbar": {
             "outlinewidth": 0,
             "ticks": ""
            },
            "colorscale": [
             [
              0,
              "#0d0887"
             ],
             [
              0.1111111111111111,
              "#46039f"
             ],
             [
              0.2222222222222222,
              "#7201a8"
             ],
             [
              0.3333333333333333,
              "#9c179e"
             ],
             [
              0.4444444444444444,
              "#bd3786"
             ],
             [
              0.5555555555555556,
              "#d8576b"
             ],
             [
              0.6666666666666666,
              "#ed7953"
             ],
             [
              0.7777777777777778,
              "#fb9f3a"
             ],
             [
              0.8888888888888888,
              "#fdca26"
             ],
             [
              1,
              "#f0f921"
             ]
            ],
            "type": "heatmap"
           }
          ],
          "heatmapgl": [
           {
            "colorbar": {
             "outlinewidth": 0,
             "ticks": ""
            },
            "colorscale": [
             [
              0,
              "#0d0887"
             ],
             [
              0.1111111111111111,
              "#46039f"
             ],
             [
              0.2222222222222222,
              "#7201a8"
             ],
             [
              0.3333333333333333,
              "#9c179e"
             ],
             [
              0.4444444444444444,
              "#bd3786"
             ],
             [
              0.5555555555555556,
              "#d8576b"
             ],
             [
              0.6666666666666666,
              "#ed7953"
             ],
             [
              0.7777777777777778,
              "#fb9f3a"
             ],
             [
              0.8888888888888888,
              "#fdca26"
             ],
             [
              1,
              "#f0f921"
             ]
            ],
            "type": "heatmapgl"
           }
          ],
          "histogram": [
           {
            "marker": {
             "colorbar": {
              "outlinewidth": 0,
              "ticks": ""
             }
            },
            "type": "histogram"
           }
          ],
          "histogram2d": [
           {
            "colorbar": {
             "outlinewidth": 0,
             "ticks": ""
            },
            "colorscale": [
             [
              0,
              "#0d0887"
             ],
             [
              0.1111111111111111,
              "#46039f"
             ],
             [
              0.2222222222222222,
              "#7201a8"
             ],
             [
              0.3333333333333333,
              "#9c179e"
             ],
             [
              0.4444444444444444,
              "#bd3786"
             ],
             [
              0.5555555555555556,
              "#d8576b"
             ],
             [
              0.6666666666666666,
              "#ed7953"
             ],
             [
              0.7777777777777778,
              "#fb9f3a"
             ],
             [
              0.8888888888888888,
              "#fdca26"
             ],
             [
              1,
              "#f0f921"
             ]
            ],
            "type": "histogram2d"
           }
          ],
          "histogram2dcontour": [
           {
            "colorbar": {
             "outlinewidth": 0,
             "ticks": ""
            },
            "colorscale": [
             [
              0,
              "#0d0887"
             ],
             [
              0.1111111111111111,
              "#46039f"
             ],
             [
              0.2222222222222222,
              "#7201a8"
             ],
             [
              0.3333333333333333,
              "#9c179e"
             ],
             [
              0.4444444444444444,
              "#bd3786"
             ],
             [
              0.5555555555555556,
              "#d8576b"
             ],
             [
              0.6666666666666666,
              "#ed7953"
             ],
             [
              0.7777777777777778,
              "#fb9f3a"
             ],
             [
              0.8888888888888888,
              "#fdca26"
             ],
             [
              1,
              "#f0f921"
             ]
            ],
            "type": "histogram2dcontour"
           }
          ],
          "mesh3d": [
           {
            "colorbar": {
             "outlinewidth": 0,
             "ticks": ""
            },
            "type": "mesh3d"
           }
          ],
          "parcoords": [
           {
            "line": {
             "colorbar": {
              "outlinewidth": 0,
              "ticks": ""
             }
            },
            "type": "parcoords"
           }
          ],
          "pie": [
           {
            "automargin": true,
            "type": "pie"
           }
          ],
          "scatter": [
           {
            "marker": {
             "colorbar": {
              "outlinewidth": 0,
              "ticks": ""
             }
            },
            "type": "scatter"
           }
          ],
          "scatter3d": [
           {
            "line": {
             "colorbar": {
              "outlinewidth": 0,
              "ticks": ""
             }
            },
            "marker": {
             "colorbar": {
              "outlinewidth": 0,
              "ticks": ""
             }
            },
            "type": "scatter3d"
           }
          ],
          "scattercarpet": [
           {
            "marker": {
             "colorbar": {
              "outlinewidth": 0,
              "ticks": ""
             }
            },
            "type": "scattercarpet"
           }
          ],
          "scattergeo": [
           {
            "marker": {
             "colorbar": {
              "outlinewidth": 0,
              "ticks": ""
             }
            },
            "type": "scattergeo"
           }
          ],
          "scattergl": [
           {
            "marker": {
             "colorbar": {
              "outlinewidth": 0,
              "ticks": ""
             }
            },
            "type": "scattergl"
           }
          ],
          "scattermapbox": [
           {
            "marker": {
             "colorbar": {
              "outlinewidth": 0,
              "ticks": ""
             }
            },
            "type": "scattermapbox"
           }
          ],
          "scatterpolar": [
           {
            "marker": {
             "colorbar": {
              "outlinewidth": 0,
              "ticks": ""
             }
            },
            "type": "scatterpolar"
           }
          ],
          "scatterpolargl": [
           {
            "marker": {
             "colorbar": {
              "outlinewidth": 0,
              "ticks": ""
             }
            },
            "type": "scatterpolargl"
           }
          ],
          "scatterternary": [
           {
            "marker": {
             "colorbar": {
              "outlinewidth": 0,
              "ticks": ""
             }
            },
            "type": "scatterternary"
           }
          ],
          "surface": [
           {
            "colorbar": {
             "outlinewidth": 0,
             "ticks": ""
            },
            "colorscale": [
             [
              0,
              "#0d0887"
             ],
             [
              0.1111111111111111,
              "#46039f"
             ],
             [
              0.2222222222222222,
              "#7201a8"
             ],
             [
              0.3333333333333333,
              "#9c179e"
             ],
             [
              0.4444444444444444,
              "#bd3786"
             ],
             [
              0.5555555555555556,
              "#d8576b"
             ],
             [
              0.6666666666666666,
              "#ed7953"
             ],
             [
              0.7777777777777778,
              "#fb9f3a"
             ],
             [
              0.8888888888888888,
              "#fdca26"
             ],
             [
              1,
              "#f0f921"
             ]
            ],
            "type": "surface"
           }
          ],
          "table": [
           {
            "cells": {
             "fill": {
              "color": "#EBF0F8"
             },
             "line": {
              "color": "white"
             }
            },
            "header": {
             "fill": {
              "color": "#C8D4E3"
             },
             "line": {
              "color": "white"
             }
            },
            "type": "table"
           }
          ]
         },
         "layout": {
          "annotationdefaults": {
           "arrowcolor": "#2a3f5f",
           "arrowhead": 0,
           "arrowwidth": 1
          },
          "autotypenumbers": "strict",
          "coloraxis": {
           "colorbar": {
            "outlinewidth": 0,
            "ticks": ""
           }
          },
          "colorscale": {
           "diverging": [
            [
             0,
             "#8e0152"
            ],
            [
             0.1,
             "#c51b7d"
            ],
            [
             0.2,
             "#de77ae"
            ],
            [
             0.3,
             "#f1b6da"
            ],
            [
             0.4,
             "#fde0ef"
            ],
            [
             0.5,
             "#f7f7f7"
            ],
            [
             0.6,
             "#e6f5d0"
            ],
            [
             0.7,
             "#b8e186"
            ],
            [
             0.8,
             "#7fbc41"
            ],
            [
             0.9,
             "#4d9221"
            ],
            [
             1,
             "#276419"
            ]
           ],
           "sequential": [
            [
             0,
             "#0d0887"
            ],
            [
             0.1111111111111111,
             "#46039f"
            ],
            [
             0.2222222222222222,
             "#7201a8"
            ],
            [
             0.3333333333333333,
             "#9c179e"
            ],
            [
             0.4444444444444444,
             "#bd3786"
            ],
            [
             0.5555555555555556,
             "#d8576b"
            ],
            [
             0.6666666666666666,
             "#ed7953"
            ],
            [
             0.7777777777777778,
             "#fb9f3a"
            ],
            [
             0.8888888888888888,
             "#fdca26"
            ],
            [
             1,
             "#f0f921"
            ]
           ],
           "sequentialminus": [
            [
             0,
             "#0d0887"
            ],
            [
             0.1111111111111111,
             "#46039f"
            ],
            [
             0.2222222222222222,
             "#7201a8"
            ],
            [
             0.3333333333333333,
             "#9c179e"
            ],
            [
             0.4444444444444444,
             "#bd3786"
            ],
            [
             0.5555555555555556,
             "#d8576b"
            ],
            [
             0.6666666666666666,
             "#ed7953"
            ],
            [
             0.7777777777777778,
             "#fb9f3a"
            ],
            [
             0.8888888888888888,
             "#fdca26"
            ],
            [
             1,
             "#f0f921"
            ]
           ]
          },
          "colorway": [
           "#636efa",
           "#EF553B",
           "#00cc96",
           "#ab63fa",
           "#FFA15A",
           "#19d3f3",
           "#FF6692",
           "#B6E880",
           "#FF97FF",
           "#FECB52"
          ],
          "font": {
           "color": "#2a3f5f"
          },
          "geo": {
           "bgcolor": "white",
           "lakecolor": "white",
           "landcolor": "#E5ECF6",
           "showlakes": true,
           "showland": true,
           "subunitcolor": "white"
          },
          "hoverlabel": {
           "align": "left"
          },
          "hovermode": "closest",
          "mapbox": {
           "style": "light"
          },
          "paper_bgcolor": "white",
          "plot_bgcolor": "#E5ECF6",
          "polar": {
           "angularaxis": {
            "gridcolor": "white",
            "linecolor": "white",
            "ticks": ""
           },
           "bgcolor": "#E5ECF6",
           "radialaxis": {
            "gridcolor": "white",
            "linecolor": "white",
            "ticks": ""
           }
          },
          "scene": {
           "xaxis": {
            "backgroundcolor": "#E5ECF6",
            "gridcolor": "white",
            "gridwidth": 2,
            "linecolor": "white",
            "showbackground": true,
            "ticks": "",
            "zerolinecolor": "white"
           },
           "yaxis": {
            "backgroundcolor": "#E5ECF6",
            "gridcolor": "white",
            "gridwidth": 2,
            "linecolor": "white",
            "showbackground": true,
            "ticks": "",
            "zerolinecolor": "white"
           },
           "zaxis": {
            "backgroundcolor": "#E5ECF6",
            "gridcolor": "white",
            "gridwidth": 2,
            "linecolor": "white",
            "showbackground": true,
            "ticks": "",
            "zerolinecolor": "white"
           }
          },
          "shapedefaults": {
           "line": {
            "color": "#2a3f5f"
           }
          },
          "ternary": {
           "aaxis": {
            "gridcolor": "white",
            "linecolor": "white",
            "ticks": ""
           },
           "baxis": {
            "gridcolor": "white",
            "linecolor": "white",
            "ticks": ""
           },
           "bgcolor": "#E5ECF6",
           "caxis": {
            "gridcolor": "white",
            "linecolor": "white",
            "ticks": ""
           }
          },
          "title": {
           "x": 0.05
          },
          "xaxis": {
           "automargin": true,
           "gridcolor": "white",
           "linecolor": "white",
           "ticks": "",
           "title": {
            "standoff": 15
           },
           "zerolinecolor": "white",
           "zerolinewidth": 2
          },
          "yaxis": {
           "automargin": true,
           "gridcolor": "white",
           "linecolor": "white",
           "ticks": "",
           "title": {
            "standoff": 15
           },
           "zerolinecolor": "white",
           "zerolinewidth": 2
          }
         }
        },
        "title": {
         "text": "Distribution of elements in training data"
        },
        "width": 822.28448,
        "xaxis": {
         "tickangle": -90,
         "title": {
          "text": "Elements"
         }
        },
        "yaxis": {
         "title": {
          "text": "Number"
         }
        }
       }
      },
      "text/html": [
       "<div>                            <div id=\"d7f5c6a4-eb2a-497a-9ee8-4f878b135598\" class=\"plotly-graph-div\" style=\"height:274.0948266666667px; width:822.28448px;\"></div>            <script type=\"text/javascript\">                require([\"plotly\"], function(Plotly) {                    window.PLOTLYENV=window.PLOTLYENV || {};                                    if (document.getElementById(\"d7f5c6a4-eb2a-497a-9ee8-4f878b135598\")) {                    Plotly.newPlot(                        \"d7f5c6a4-eb2a-497a-9ee8-4f878b135598\",                        [{\"name\": \"Fitted candidates\", \"text\": [\"H\", \"He\", \"Li\", \"Be\", \"B\", \"C\", \"N\", \"O\", \"F\", \"Ne\", \"Na\", \"Mg\", \"Al\", \"Si\", \"P\", \"S\", \"Cl\", \"Ar\", \"K\", \"Ca\", \"Sc\", \"Ti\", \"V\", \"Cr\", \"Mn\", \"Fe\", \"Co\", \"Ni\", \"Cu\", \"Zn\", \"Ga\", \"Ge\", \"As\", \"Se\", \"Br\", \"Kr\", \"Rb\", \"Sr\", \"Y\", \"Zr\", \"Nb\", \"Mo\", \"Tc\", \"Ru\", \"Rh\", \"Pd\", \"Ag\", \"Cd\", \"In\", \"Sn\", \"Sb\", \"Te\", \"I\", \"Xe\", \"Cs\", \"Ba\", \"La\", \"Ce\", \"Pr\", \"Nd\", \"Pm\", \"Sm\", \"Eu\", \"Gd\", \"Tb\", \"Dy\", \"Ho\", \"Er\", \"Tm\", \"Yb\", \"Lu\", \"Hf\", \"Ta\", \"W\", \"Re\", \"Os\", \"Ir\", \"Pt\", \"Au\", \"Hg\", \"Tl\", \"Pb\", \"Bi\", \"Po\", \"At\", \"Rn\", \"Fr\", \"Ra\", \"Ac\", \"Th\", \"Pa\", \"U\", \"Np\"], \"type\": \"bar\", \"x\": [\"H\", \"He\", \"Li\", \"Be\", \"B\", \"C\", \"N\", \"O\", \"F\", \"Ne\", \"Na\", \"Mg\", \"Al\", \"Si\", \"P\", \"S\", \"Cl\", \"Ar\", \"K\", \"Ca\", \"Sc\", \"Ti\", \"V\", \"Cr\", \"Mn\", \"Fe\", \"Co\", \"Ni\", \"Cu\", \"Zn\", \"Ga\", \"Ge\", \"As\", \"Se\", \"Br\", \"Kr\", \"Rb\", \"Sr\", \"Y\", \"Zr\", \"Nb\", \"Mo\", \"Tc\", \"Ru\", \"Rh\", \"Pd\", \"Ag\", \"Cd\", \"In\", \"Sn\", \"Sb\", \"Te\", \"I\", \"Xe\", \"Cs\", \"Ba\", \"La\", \"Ce\", \"Pr\", \"Nd\", \"Pm\", \"Sm\", \"Eu\", \"Gd\", \"Tb\", \"Dy\", \"Ho\", \"Er\", \"Tm\", \"Yb\", \"Lu\", \"Hf\", \"Ta\", \"W\", \"Re\", \"Os\", \"Ir\", \"Pt\", \"Au\", \"Hg\", \"Tl\", \"Pb\", \"Bi\", \"Po\", \"At\", \"Rn\", \"Fr\", \"Ra\", \"Ac\", \"Th\", \"Pa\", \"U\", \"Np\"], \"y\": [0, 0, 0, 0, 0, 157, 0, 950, 0, 0, 0, 122, 0, 350, 0, 208, 0, 0, 0, 184, 0, 81, 0, 14, 0, 25, 0, 8, 0, 88, 0, 114, 0, 120, 0, 0, 0, 146, 0, 60, 0, 44, 0, 20, 0, 14, 0, 0, 0, 93, 0, 98, 0, 0, 0, 189, 0, 0, 0, 0, 0, 0, 0, 0, 0, 0, 0, 0, 0, 0, 0, 41, 0, 71, 0, 27, 0, 20, 0, 0, 0, 110, 0, 0, 0, 0, 0, 0, 0, 0, 0, 0, 0]}, {\"name\": \"Unfitted candidates\", \"text\": [\"H\", \"He\", \"Li\", \"Be\", \"B\", \"C\", \"N\", \"O\", \"F\", \"Ne\", \"Na\", \"Mg\", \"Al\", \"Si\", \"P\", \"S\", \"Cl\", \"Ar\", \"K\", \"Ca\", \"Sc\", \"Ti\", \"V\", \"Cr\", \"Mn\", \"Fe\", \"Co\", \"Ni\", \"Cu\", \"Zn\", \"Ga\", \"Ge\", \"As\", \"Se\", \"Br\", \"Kr\", \"Rb\", \"Sr\", \"Y\", \"Zr\", \"Nb\", \"Mo\", \"Tc\", \"Ru\", \"Rh\", \"Pd\", \"Ag\", \"Cd\", \"In\", \"Sn\", \"Sb\", \"Te\", \"I\", \"Xe\", \"Cs\", \"Ba\", \"La\", \"Ce\", \"Pr\", \"Nd\", \"Pm\", \"Sm\", \"Eu\", \"Gd\", \"Tb\", \"Dy\", \"Ho\", \"Er\", \"Tm\", \"Yb\", \"Lu\", \"Hf\", \"Ta\", \"W\", \"Re\", \"Os\", \"Ir\", \"Pt\", \"Au\", \"Hg\", \"Tl\", \"Pb\", \"Bi\", \"Po\", \"At\", \"Rn\", \"Fr\", \"Ra\", \"Ac\", \"Th\", \"Pa\", \"U\", \"Np\"], \"type\": \"bar\", \"x\": [\"H\", \"He\", \"Li\", \"Be\", \"B\", \"C\", \"N\", \"O\", \"F\", \"Ne\", \"Na\", \"Mg\", \"Al\", \"Si\", \"P\", \"S\", \"Cl\", \"Ar\", \"K\", \"Ca\", \"Sc\", \"Ti\", \"V\", \"Cr\", \"Mn\", \"Fe\", \"Co\", \"Ni\", \"Cu\", \"Zn\", \"Ga\", \"Ge\", \"As\", \"Se\", \"Br\", \"Kr\", \"Rb\", \"Sr\", \"Y\", \"Zr\", \"Nb\", \"Mo\", \"Tc\", \"Ru\", \"Rh\", \"Pd\", \"Ag\", \"Cd\", \"In\", \"Sn\", \"Sb\", \"Te\", \"I\", \"Xe\", \"Cs\", \"Ba\", \"La\", \"Ce\", \"Pr\", \"Nd\", \"Pm\", \"Sm\", \"Eu\", \"Gd\", \"Tb\", \"Dy\", \"Ho\", \"Er\", \"Tm\", \"Yb\", \"Lu\", \"Hf\", \"Ta\", \"W\", \"Re\", \"Os\", \"Ir\", \"Pt\", \"Au\", \"Hg\", \"Tl\", \"Pb\", \"Bi\", \"Po\", \"At\", \"Rn\", \"Fr\", \"Ra\", \"Ac\", \"Th\", \"Pa\", \"U\", \"Np\"], \"y\": [56, 0, 34, 15, 31, 0, 65, 0, 79, 0, 20, 0, 19, 0, 30, 0, 46, 0, 29, 0, 0, 0, 3, 0, 6, 0, 3, 0, 5, 0, 18, 0, 17, 0, 24, 0, 15, 0, 3, 0, 5, 0, 2, 0, 0, 0, 3, 118, 9, 0, 27, 0, 139, 8, 17, 0, 4, 0, 1, 2, 0, 0, 0, 0, 0, 0, 2, 4, 1, 7, 0, 0, 3, 0, 4, 0, 2, 0, 4, 16, 4, 0, 9, 0, 0, 0, 0, 0, 0, 4, 0, 1, 0]}],                        {\"autosize\": false, \"font\": {\"color\": \"Black\", \"family\": \"Palatino\", \"size\": 12}, \"height\": 274.0948266666667, \"paper_bgcolor\": \"rgba(0, 0, 0, 0)\", \"plot_bgcolor\": \"rgba(0, 0, 0, 0)\", \"template\": {\"data\": {\"bar\": [{\"error_x\": {\"color\": \"#2a3f5f\"}, \"error_y\": {\"color\": \"#2a3f5f\"}, \"marker\": {\"line\": {\"color\": \"#E5ECF6\", \"width\": 0.5}}, \"type\": \"bar\"}], \"barpolar\": [{\"marker\": {\"line\": {\"color\": \"#E5ECF6\", \"width\": 0.5}}, \"type\": \"barpolar\"}], \"carpet\": [{\"aaxis\": {\"endlinecolor\": \"#2a3f5f\", \"gridcolor\": \"white\", \"linecolor\": \"white\", \"minorgridcolor\": \"white\", \"startlinecolor\": \"#2a3f5f\"}, \"baxis\": {\"endlinecolor\": \"#2a3f5f\", \"gridcolor\": \"white\", \"linecolor\": \"white\", \"minorgridcolor\": \"white\", \"startlinecolor\": \"#2a3f5f\"}, \"type\": \"carpet\"}], \"choropleth\": [{\"colorbar\": {\"outlinewidth\": 0, \"ticks\": \"\"}, \"type\": \"choropleth\"}], \"contour\": [{\"colorbar\": {\"outlinewidth\": 0, \"ticks\": \"\"}, \"colorscale\": [[0.0, \"#0d0887\"], [0.1111111111111111, \"#46039f\"], [0.2222222222222222, \"#7201a8\"], [0.3333333333333333, \"#9c179e\"], [0.4444444444444444, \"#bd3786\"], [0.5555555555555556, \"#d8576b\"], [0.6666666666666666, \"#ed7953\"], [0.7777777777777778, \"#fb9f3a\"], [0.8888888888888888, \"#fdca26\"], [1.0, \"#f0f921\"]], \"type\": \"contour\"}], \"contourcarpet\": [{\"colorbar\": {\"outlinewidth\": 0, \"ticks\": \"\"}, \"type\": \"contourcarpet\"}], \"heatmap\": [{\"colorbar\": {\"outlinewidth\": 0, \"ticks\": \"\"}, \"colorscale\": [[0.0, \"#0d0887\"], [0.1111111111111111, \"#46039f\"], [0.2222222222222222, \"#7201a8\"], [0.3333333333333333, \"#9c179e\"], [0.4444444444444444, \"#bd3786\"], [0.5555555555555556, \"#d8576b\"], [0.6666666666666666, \"#ed7953\"], [0.7777777777777778, \"#fb9f3a\"], [0.8888888888888888, \"#fdca26\"], [1.0, \"#f0f921\"]], \"type\": \"heatmap\"}], \"heatmapgl\": [{\"colorbar\": {\"outlinewidth\": 0, \"ticks\": \"\"}, \"colorscale\": [[0.0, \"#0d0887\"], [0.1111111111111111, \"#46039f\"], [0.2222222222222222, \"#7201a8\"], [0.3333333333333333, \"#9c179e\"], [0.4444444444444444, \"#bd3786\"], [0.5555555555555556, \"#d8576b\"], [0.6666666666666666, \"#ed7953\"], [0.7777777777777778, \"#fb9f3a\"], [0.8888888888888888, \"#fdca26\"], [1.0, \"#f0f921\"]], \"type\": \"heatmapgl\"}], \"histogram\": [{\"marker\": {\"colorbar\": {\"outlinewidth\": 0, \"ticks\": \"\"}}, \"type\": \"histogram\"}], \"histogram2d\": [{\"colorbar\": {\"outlinewidth\": 0, \"ticks\": \"\"}, \"colorscale\": [[0.0, \"#0d0887\"], [0.1111111111111111, \"#46039f\"], [0.2222222222222222, \"#7201a8\"], [0.3333333333333333, \"#9c179e\"], [0.4444444444444444, \"#bd3786\"], [0.5555555555555556, \"#d8576b\"], [0.6666666666666666, \"#ed7953\"], [0.7777777777777778, \"#fb9f3a\"], [0.8888888888888888, \"#fdca26\"], [1.0, \"#f0f921\"]], \"type\": \"histogram2d\"}], \"histogram2dcontour\": [{\"colorbar\": {\"outlinewidth\": 0, \"ticks\": \"\"}, \"colorscale\": [[0.0, \"#0d0887\"], [0.1111111111111111, \"#46039f\"], [0.2222222222222222, \"#7201a8\"], [0.3333333333333333, \"#9c179e\"], [0.4444444444444444, \"#bd3786\"], [0.5555555555555556, \"#d8576b\"], [0.6666666666666666, \"#ed7953\"], [0.7777777777777778, \"#fb9f3a\"], [0.8888888888888888, \"#fdca26\"], [1.0, \"#f0f921\"]], \"type\": \"histogram2dcontour\"}], \"mesh3d\": [{\"colorbar\": {\"outlinewidth\": 0, \"ticks\": \"\"}, \"type\": \"mesh3d\"}], \"parcoords\": [{\"line\": {\"colorbar\": {\"outlinewidth\": 0, \"ticks\": \"\"}}, \"type\": \"parcoords\"}], \"pie\": [{\"automargin\": true, \"type\": \"pie\"}], \"scatter\": [{\"marker\": {\"colorbar\": {\"outlinewidth\": 0, \"ticks\": \"\"}}, \"type\": \"scatter\"}], \"scatter3d\": [{\"line\": {\"colorbar\": {\"outlinewidth\": 0, \"ticks\": \"\"}}, \"marker\": {\"colorbar\": {\"outlinewidth\": 0, \"ticks\": \"\"}}, \"type\": \"scatter3d\"}], \"scattercarpet\": [{\"marker\": {\"colorbar\": {\"outlinewidth\": 0, \"ticks\": \"\"}}, \"type\": \"scattercarpet\"}], \"scattergeo\": [{\"marker\": {\"colorbar\": {\"outlinewidth\": 0, \"ticks\": \"\"}}, \"type\": \"scattergeo\"}], \"scattergl\": [{\"marker\": {\"colorbar\": {\"outlinewidth\": 0, \"ticks\": \"\"}}, \"type\": \"scattergl\"}], \"scattermapbox\": [{\"marker\": {\"colorbar\": {\"outlinewidth\": 0, \"ticks\": \"\"}}, \"type\": \"scattermapbox\"}], \"scatterpolar\": [{\"marker\": {\"colorbar\": {\"outlinewidth\": 0, \"ticks\": \"\"}}, \"type\": \"scatterpolar\"}], \"scatterpolargl\": [{\"marker\": {\"colorbar\": {\"outlinewidth\": 0, \"ticks\": \"\"}}, \"type\": \"scatterpolargl\"}], \"scatterternary\": [{\"marker\": {\"colorbar\": {\"outlinewidth\": 0, \"ticks\": \"\"}}, \"type\": \"scatterternary\"}], \"surface\": [{\"colorbar\": {\"outlinewidth\": 0, \"ticks\": \"\"}, \"colorscale\": [[0.0, \"#0d0887\"], [0.1111111111111111, \"#46039f\"], [0.2222222222222222, \"#7201a8\"], [0.3333333333333333, \"#9c179e\"], [0.4444444444444444, \"#bd3786\"], [0.5555555555555556, \"#d8576b\"], [0.6666666666666666, \"#ed7953\"], [0.7777777777777778, \"#fb9f3a\"], [0.8888888888888888, \"#fdca26\"], [1.0, \"#f0f921\"]], \"type\": \"surface\"}], \"table\": [{\"cells\": {\"fill\": {\"color\": \"#EBF0F8\"}, \"line\": {\"color\": \"white\"}}, \"header\": {\"fill\": {\"color\": \"#C8D4E3\"}, \"line\": {\"color\": \"white\"}}, \"type\": \"table\"}]}, \"layout\": {\"annotationdefaults\": {\"arrowcolor\": \"#2a3f5f\", \"arrowhead\": 0, \"arrowwidth\": 1}, \"autotypenumbers\": \"strict\", \"coloraxis\": {\"colorbar\": {\"outlinewidth\": 0, \"ticks\": \"\"}}, \"colorscale\": {\"diverging\": [[0, \"#8e0152\"], [0.1, \"#c51b7d\"], [0.2, \"#de77ae\"], [0.3, \"#f1b6da\"], [0.4, \"#fde0ef\"], [0.5, \"#f7f7f7\"], [0.6, \"#e6f5d0\"], [0.7, \"#b8e186\"], [0.8, \"#7fbc41\"], [0.9, \"#4d9221\"], [1, \"#276419\"]], \"sequential\": [[0.0, \"#0d0887\"], [0.1111111111111111, \"#46039f\"], [0.2222222222222222, \"#7201a8\"], [0.3333333333333333, \"#9c179e\"], [0.4444444444444444, \"#bd3786\"], [0.5555555555555556, \"#d8576b\"], [0.6666666666666666, \"#ed7953\"], [0.7777777777777778, \"#fb9f3a\"], [0.8888888888888888, \"#fdca26\"], [1.0, \"#f0f921\"]], \"sequentialminus\": [[0.0, \"#0d0887\"], [0.1111111111111111, \"#46039f\"], [0.2222222222222222, \"#7201a8\"], [0.3333333333333333, \"#9c179e\"], [0.4444444444444444, \"#bd3786\"], [0.5555555555555556, \"#d8576b\"], [0.6666666666666666, \"#ed7953\"], [0.7777777777777778, \"#fb9f3a\"], [0.8888888888888888, \"#fdca26\"], [1.0, \"#f0f921\"]]}, \"colorway\": [\"#636efa\", \"#EF553B\", \"#00cc96\", \"#ab63fa\", \"#FFA15A\", \"#19d3f3\", \"#FF6692\", \"#B6E880\", \"#FF97FF\", \"#FECB52\"], \"font\": {\"color\": \"#2a3f5f\"}, \"geo\": {\"bgcolor\": \"white\", \"lakecolor\": \"white\", \"landcolor\": \"#E5ECF6\", \"showlakes\": true, \"showland\": true, \"subunitcolor\": \"white\"}, \"hoverlabel\": {\"align\": \"left\"}, \"hovermode\": \"closest\", \"mapbox\": {\"style\": \"light\"}, \"paper_bgcolor\": \"white\", \"plot_bgcolor\": \"#E5ECF6\", \"polar\": {\"angularaxis\": {\"gridcolor\": \"white\", \"linecolor\": \"white\", \"ticks\": \"\"}, \"bgcolor\": \"#E5ECF6\", \"radialaxis\": {\"gridcolor\": \"white\", \"linecolor\": \"white\", \"ticks\": \"\"}}, \"scene\": {\"xaxis\": {\"backgroundcolor\": \"#E5ECF6\", \"gridcolor\": \"white\", \"gridwidth\": 2, \"linecolor\": \"white\", \"showbackground\": true, \"ticks\": \"\", \"zerolinecolor\": \"white\"}, \"yaxis\": {\"backgroundcolor\": \"#E5ECF6\", \"gridcolor\": \"white\", \"gridwidth\": 2, \"linecolor\": \"white\", \"showbackground\": true, \"ticks\": \"\", \"zerolinecolor\": \"white\"}, \"zaxis\": {\"backgroundcolor\": \"#E5ECF6\", \"gridcolor\": \"white\", \"gridwidth\": 2, \"linecolor\": \"white\", \"showbackground\": true, \"ticks\": \"\", \"zerolinecolor\": \"white\"}}, \"shapedefaults\": {\"line\": {\"color\": \"#2a3f5f\"}}, \"ternary\": {\"aaxis\": {\"gridcolor\": \"white\", \"linecolor\": \"white\", \"ticks\": \"\"}, \"baxis\": {\"gridcolor\": \"white\", \"linecolor\": \"white\", \"ticks\": \"\"}, \"bgcolor\": \"#E5ECF6\", \"caxis\": {\"gridcolor\": \"white\", \"linecolor\": \"white\", \"ticks\": \"\"}}, \"title\": {\"x\": 0.05}, \"xaxis\": {\"automargin\": true, \"gridcolor\": \"white\", \"linecolor\": \"white\", \"ticks\": \"\", \"title\": {\"standoff\": 15}, \"zerolinecolor\": \"white\", \"zerolinewidth\": 2}, \"yaxis\": {\"automargin\": true, \"gridcolor\": \"white\", \"linecolor\": \"white\", \"ticks\": \"\", \"title\": {\"standoff\": 15}, \"zerolinecolor\": \"white\", \"zerolinewidth\": 2}}}, \"title\": {\"text\": \"Distribution of elements in training data\"}, \"width\": 822.28448, \"xaxis\": {\"tickangle\": -90, \"title\": {\"text\": \"Elements\"}}, \"yaxis\": {\"title\": {\"text\": \"Number\"}}},                        {\"responsive\": true}                    ).then(function(){\n",
       "                            \n",
       "var gd = document.getElementById('d7f5c6a4-eb2a-497a-9ee8-4f878b135598');\n",
       "var x = new MutationObserver(function (mutations, observer) {{\n",
       "        var display = window.getComputedStyle(gd).display;\n",
       "        if (!display || display === 'none') {{\n",
       "            console.log([gd, 'removed!']);\n",
       "            Plotly.purge(gd);\n",
       "            observer.disconnect();\n",
       "        }}\n",
       "}});\n",
       "\n",
       "// Listen for the removal of the full notebook cells\n",
       "var notebookContainer = gd.closest('#notebook-container');\n",
       "if (notebookContainer) {{\n",
       "    x.observe(notebookContainer, {childList: true});\n",
       "}}\n",
       "\n",
       "// Listen for the clearing of the current output cell\n",
       "var outputEl = gd.closest('.output');\n",
       "if (outputEl) {{\n",
       "    x.observe(outputEl, {childList: true});\n",
       "}}\n",
       "\n",
       "                        })                };                });            </script>        </div>"
      ]
     },
     "metadata": {},
     "output_type": "display_data"
    }
   ],
   "source": [
    "print(\"Information about elements in compoounds are given in the interval:\")\n",
    "print(np.where(generatedData.columns==\"H\")[0][0],np.where(generatedData.columns==\"Pu\")[0][0])\n",
    "# plotting \n",
    "import plotly.graph_objects as go\n",
    "elements = generatedData.columns[\n",
    "    np.where(generatedData.columns==\"H\")[0][0]:np.where(generatedData.columns==\"Pu\")[0][0]\n",
    "].values\n",
    "print(len(elements))\n",
    "fig = go.Figure( \n",
    "    layout = go.Layout (\n",
    "        title=go.layout.Title(text=\"Distribution of elements in training data\"),\n",
    "        yaxis=dict(title='Number'),\n",
    "        xaxis=dict(title='Elements'),\n",
    "        xaxis_tickangle=-90\n",
    "        )\n",
    "    )\n",
    "width_plotly = 548.1896533333334\n",
    "\n",
    "fittedCounts = trainingSet[elements][trainingTargets.values==1].fillna(0).astype(bool).sum(axis=0)\n",
    "unFittedCounts   = trainingSet[elements][trainingTargets.values==0].fillna(0).astype(bool).sum(axis=0)\n",
    "\n",
    "fig.add_traces(go.Bar(name = \"Fitted candidates\",#prettyNames[i], \n",
    "                        x = trainingSet[elements].columns,\n",
    "                        y = fittedCounts,\n",
    "                        text = trainingSet[elements].columns,\n",
    "                        )\n",
    "                )\n",
    "fig.add_traces(go.Bar(name = \"Unfitted candidates\",#prettyNames[i], \n",
    "                        x = trainingSet[elements].columns,\n",
    "                        y = unFittedCounts,\n",
    "                        text = trainingSet[elements].columns,\n",
    "                        )\n",
    "                )\n",
    "fig.update_layout(\n",
    "                    {\"plot_bgcolor\": \"rgba(0, 0, 0, 0)\",\n",
    "                       \"paper_bgcolor\": \"rgba(0, 0, 0, 0)\",\n",
    "                      },\n",
    "                      font=dict(\n",
    "                        family=\"Palatino\",\n",
    "                        color=\"Black\",\n",
    "                        size=12),\n",
    "                      autosize=False,\n",
    "                      width=width_plotly*1.5,\n",
    "                      height=width_plotly/2,\n",
    "                     )\n",
    "fig.write_image(str(Path.cwd().parent.parent / \n",
    "                                    \"reports\" / \"figures\"  / \"buildingFeatures\" \n",
    "                                    / \"-normalized-elements-histogram.pdf\"))\n",
    "fig.show()"
   ]
  },
  {
   "cell_type": "code",
   "execution_count": 60,
   "metadata": {},
   "outputs": [
    {
     "data": {
      "application/vnd.plotly.v1+json": {
       "config": {
        "plotlyServerURL": "https://plot.ly"
       },
       "data": [
        {
         "name": "Fitted candidates",
         "text": [
          "H",
          "He",
          "Li",
          "Be",
          "B",
          "C",
          "N",
          "O",
          "F",
          "Ne",
          "Na",
          "Mg",
          "Al",
          "Si",
          "P",
          "S",
          "Cl",
          "Ar",
          "K",
          "Ca",
          "Sc",
          "Ti",
          "V",
          "Cr",
          "Mn",
          "Fe",
          "Co",
          "Ni",
          "Cu",
          "Zn",
          "Ga",
          "Ge",
          "As",
          "Se",
          "Br",
          "Kr",
          "Rb",
          "Sr",
          "Y",
          "Zr",
          "Nb",
          "Mo",
          "Tc",
          "Ru",
          "Rh",
          "Pd",
          "Ag",
          "Cd",
          "In",
          "Sn",
          "Sb",
          "Te",
          "I",
          "Xe",
          "Cs",
          "Ba",
          "La",
          "Ce",
          "Pr",
          "Nd",
          "Pm",
          "Sm",
          "Eu",
          "Gd",
          "Tb",
          "Dy",
          "Ho",
          "Er",
          "Tm",
          "Yb",
          "Lu",
          "Hf",
          "Ta",
          "W",
          "Re",
          "Os",
          "Ir",
          "Pt",
          "Au",
          "Hg",
          "Tl",
          "Pb",
          "Bi",
          "Po",
          "At",
          "Rn",
          "Fr",
          "Ra",
          "Ac",
          "Th",
          "Pa",
          "U",
          "Np"
         ],
         "type": "bar",
         "x": [
          "H",
          "He",
          "Li",
          "Be",
          "B",
          "C",
          "N",
          "O",
          "F",
          "Ne",
          "Na",
          "Mg",
          "Al",
          "Si",
          "P",
          "S",
          "Cl",
          "Ar",
          "K",
          "Ca",
          "Sc",
          "Ti",
          "V",
          "Cr",
          "Mn",
          "Fe",
          "Co",
          "Ni",
          "Cu",
          "Zn",
          "Ga",
          "Ge",
          "As",
          "Se",
          "Br",
          "Kr",
          "Rb",
          "Sr",
          "Y",
          "Zr",
          "Nb",
          "Mo",
          "Tc",
          "Ru",
          "Rh",
          "Pd",
          "Ag",
          "Cd",
          "In",
          "Sn",
          "Sb",
          "Te",
          "I",
          "Xe",
          "Cs",
          "Ba",
          "La",
          "Ce",
          "Pr",
          "Nd",
          "Pm",
          "Sm",
          "Eu",
          "Gd",
          "Tb",
          "Dy",
          "Ho",
          "Er",
          "Tm",
          "Yb",
          "Lu",
          "Hf",
          "Ta",
          "W",
          "Re",
          "Os",
          "Ir",
          "Pt",
          "Au",
          "Hg",
          "Tl",
          "Pb",
          "Bi",
          "Po",
          "At",
          "Rn",
          "Fr",
          "Ra",
          "Ac",
          "Th",
          "Pa",
          "U",
          "Np"
         ],
         "y": [
          0,
          0,
          0,
          0,
          0,
          0.0468097793679189,
          0,
          0.28324388789505067,
          0,
          0,
          0,
          0.03637447823494335,
          0,
          0.10435301132975551,
          0,
          0.06201550387596899,
          0,
          0,
          0,
          0.054859868813357186,
          0,
          0.024150268336314847,
          0,
          0.0041741204531902205,
          0,
          0.007453786523553965,
          0,
          0.002385211687537269,
          0,
          0.02623732856290996,
          0,
          0.03398926654740608,
          0,
          0.03577817531305903,
          0,
          0,
          0,
          0.043530113297555156,
          0,
          0.017889087656529516,
          0,
          0.01311866428145498,
          0,
          0.005963029218843173,
          0,
          0.0041741204531902205,
          0,
          0,
          0,
          0.027728085867620753,
          0,
          0.029218843172331546,
          0,
          0,
          0,
          0.05635062611806798,
          0,
          0,
          0,
          0,
          0,
          0,
          0,
          0,
          0,
          0,
          0,
          0,
          0,
          0,
          0,
          0.012224209898628503,
          0,
          0.021168753726893263,
          0,
          0.008050089445438283,
          0,
          0.005963029218843173,
          0,
          0,
          0,
          0.032796660703637445,
          0,
          0,
          0,
          0,
          0,
          0,
          0,
          0,
          0,
          0,
          0
         ]
        },
        {
         "name": "Unfitted candidates",
         "text": [
          "H",
          "He",
          "Li",
          "Be",
          "B",
          "C",
          "N",
          "O",
          "F",
          "Ne",
          "Na",
          "Mg",
          "Al",
          "Si",
          "P",
          "S",
          "Cl",
          "Ar",
          "K",
          "Ca",
          "Sc",
          "Ti",
          "V",
          "Cr",
          "Mn",
          "Fe",
          "Co",
          "Ni",
          "Cu",
          "Zn",
          "Ga",
          "Ge",
          "As",
          "Se",
          "Br",
          "Kr",
          "Rb",
          "Sr",
          "Y",
          "Zr",
          "Nb",
          "Mo",
          "Tc",
          "Ru",
          "Rh",
          "Pd",
          "Ag",
          "Cd",
          "In",
          "Sn",
          "Sb",
          "Te",
          "I",
          "Xe",
          "Cs",
          "Ba",
          "La",
          "Ce",
          "Pr",
          "Nd",
          "Pm",
          "Sm",
          "Eu",
          "Gd",
          "Tb",
          "Dy",
          "Ho",
          "Er",
          "Tm",
          "Yb",
          "Lu",
          "Hf",
          "Ta",
          "W",
          "Re",
          "Os",
          "Ir",
          "Pt",
          "Au",
          "Hg",
          "Tl",
          "Pb",
          "Bi",
          "Po",
          "At",
          "Rn",
          "Fr",
          "Ra",
          "Ac",
          "Th",
          "Pa",
          "U",
          "Np"
         ],
         "type": "bar",
         "x": [
          "H",
          "He",
          "Li",
          "Be",
          "B",
          "C",
          "N",
          "O",
          "F",
          "Ne",
          "Na",
          "Mg",
          "Al",
          "Si",
          "P",
          "S",
          "Cl",
          "Ar",
          "K",
          "Ca",
          "Sc",
          "Ti",
          "V",
          "Cr",
          "Mn",
          "Fe",
          "Co",
          "Ni",
          "Cu",
          "Zn",
          "Ga",
          "Ge",
          "As",
          "Se",
          "Br",
          "Kr",
          "Rb",
          "Sr",
          "Y",
          "Zr",
          "Nb",
          "Mo",
          "Tc",
          "Ru",
          "Rh",
          "Pd",
          "Ag",
          "Cd",
          "In",
          "Sn",
          "Sb",
          "Te",
          "I",
          "Xe",
          "Cs",
          "Ba",
          "La",
          "Ce",
          "Pr",
          "Nd",
          "Pm",
          "Sm",
          "Eu",
          "Gd",
          "Tb",
          "Dy",
          "Ho",
          "Er",
          "Tm",
          "Yb",
          "Lu",
          "Hf",
          "Ta",
          "W",
          "Re",
          "Os",
          "Ir",
          "Pt",
          "Au",
          "Hg",
          "Tl",
          "Pb",
          "Bi",
          "Po",
          "At",
          "Rn",
          "Fr",
          "Ra",
          "Ac",
          "Th",
          "Pa",
          "U",
          "Np"
         ],
         "y": [
          0.061269146608315096,
          0,
          0.037199124726477024,
          0.016411378555798686,
          0.03391684901531729,
          0,
          0.0711159737417943,
          0,
          0.08643326039387308,
          0,
          0.02188183807439825,
          0,
          0.020787746170678335,
          0,
          0.03282275711159737,
          0,
          0.05032822757111598,
          0,
          0.03172866520787746,
          0,
          0,
          0,
          0.0032822757111597373,
          0,
          0.006564551422319475,
          0,
          0.0032822757111597373,
          0,
          0.005470459518599562,
          0,
          0.019693654266958426,
          0,
          0.018599562363238512,
          0,
          0.0262582056892779,
          0,
          0.016411378555798686,
          0,
          0.0032822757111597373,
          0,
          0.005470459518599562,
          0,
          0.002188183807439825,
          0,
          0,
          0,
          0.0032822757111597373,
          0.12910284463894967,
          0.009846827133479213,
          0,
          0.02954048140043764,
          0,
          0.15207877461706784,
          0.0087527352297593,
          0.018599562363238512,
          0,
          0.00437636761487965,
          0,
          0.0010940919037199124,
          0.002188183807439825,
          0,
          0,
          0,
          0,
          0,
          0,
          0.002188183807439825,
          0.00437636761487965,
          0.0010940919037199124,
          0.007658643326039387,
          0,
          0,
          0.0032822757111597373,
          0,
          0.00437636761487965,
          0,
          0.002188183807439825,
          0,
          0.00437636761487965,
          0.0175054704595186,
          0.00437636761487965,
          0,
          0.009846827133479213,
          0,
          0,
          0,
          0,
          0,
          0,
          0.00437636761487965,
          0,
          0.0010940919037199124,
          0
         ]
        }
       ],
       "layout": {
        "autosize": false,
        "font": {
         "color": "Black",
         "family": "Palatino",
         "size": 12
        },
        "height": 407.3235447076888,
        "paper_bgcolor": "rgba(0, 0, 0, 0)",
        "plot_bgcolor": "rgba(0, 0, 0, 0)",
        "template": {
         "data": {
          "bar": [
           {
            "error_x": {
             "color": "#2a3f5f"
            },
            "error_y": {
             "color": "#2a3f5f"
            },
            "marker": {
             "line": {
              "color": "#E5ECF6",
              "width": 0.5
             }
            },
            "type": "bar"
           }
          ],
          "barpolar": [
           {
            "marker": {
             "line": {
              "color": "#E5ECF6",
              "width": 0.5
             }
            },
            "type": "barpolar"
           }
          ],
          "carpet": [
           {
            "aaxis": {
             "endlinecolor": "#2a3f5f",
             "gridcolor": "white",
             "linecolor": "white",
             "minorgridcolor": "white",
             "startlinecolor": "#2a3f5f"
            },
            "baxis": {
             "endlinecolor": "#2a3f5f",
             "gridcolor": "white",
             "linecolor": "white",
             "minorgridcolor": "white",
             "startlinecolor": "#2a3f5f"
            },
            "type": "carpet"
           }
          ],
          "choropleth": [
           {
            "colorbar": {
             "outlinewidth": 0,
             "ticks": ""
            },
            "type": "choropleth"
           }
          ],
          "contour": [
           {
            "colorbar": {
             "outlinewidth": 0,
             "ticks": ""
            },
            "colorscale": [
             [
              0,
              "#0d0887"
             ],
             [
              0.1111111111111111,
              "#46039f"
             ],
             [
              0.2222222222222222,
              "#7201a8"
             ],
             [
              0.3333333333333333,
              "#9c179e"
             ],
             [
              0.4444444444444444,
              "#bd3786"
             ],
             [
              0.5555555555555556,
              "#d8576b"
             ],
             [
              0.6666666666666666,
              "#ed7953"
             ],
             [
              0.7777777777777778,
              "#fb9f3a"
             ],
             [
              0.8888888888888888,
              "#fdca26"
             ],
             [
              1,
              "#f0f921"
             ]
            ],
            "type": "contour"
           }
          ],
          "contourcarpet": [
           {
            "colorbar": {
             "outlinewidth": 0,
             "ticks": ""
            },
            "type": "contourcarpet"
           }
          ],
          "heatmap": [
           {
            "colorbar": {
             "outlinewidth": 0,
             "ticks": ""
            },
            "colorscale": [
             [
              0,
              "#0d0887"
             ],
             [
              0.1111111111111111,
              "#46039f"
             ],
             [
              0.2222222222222222,
              "#7201a8"
             ],
             [
              0.3333333333333333,
              "#9c179e"
             ],
             [
              0.4444444444444444,
              "#bd3786"
             ],
             [
              0.5555555555555556,
              "#d8576b"
             ],
             [
              0.6666666666666666,
              "#ed7953"
             ],
             [
              0.7777777777777778,
              "#fb9f3a"
             ],
             [
              0.8888888888888888,
              "#fdca26"
             ],
             [
              1,
              "#f0f921"
             ]
            ],
            "type": "heatmap"
           }
          ],
          "heatmapgl": [
           {
            "colorbar": {
             "outlinewidth": 0,
             "ticks": ""
            },
            "colorscale": [
             [
              0,
              "#0d0887"
             ],
             [
              0.1111111111111111,
              "#46039f"
             ],
             [
              0.2222222222222222,
              "#7201a8"
             ],
             [
              0.3333333333333333,
              "#9c179e"
             ],
             [
              0.4444444444444444,
              "#bd3786"
             ],
             [
              0.5555555555555556,
              "#d8576b"
             ],
             [
              0.6666666666666666,
              "#ed7953"
             ],
             [
              0.7777777777777778,
              "#fb9f3a"
             ],
             [
              0.8888888888888888,
              "#fdca26"
             ],
             [
              1,
              "#f0f921"
             ]
            ],
            "type": "heatmapgl"
           }
          ],
          "histogram": [
           {
            "marker": {
             "colorbar": {
              "outlinewidth": 0,
              "ticks": ""
             }
            },
            "type": "histogram"
           }
          ],
          "histogram2d": [
           {
            "colorbar": {
             "outlinewidth": 0,
             "ticks": ""
            },
            "colorscale": [
             [
              0,
              "#0d0887"
             ],
             [
              0.1111111111111111,
              "#46039f"
             ],
             [
              0.2222222222222222,
              "#7201a8"
             ],
             [
              0.3333333333333333,
              "#9c179e"
             ],
             [
              0.4444444444444444,
              "#bd3786"
             ],
             [
              0.5555555555555556,
              "#d8576b"
             ],
             [
              0.6666666666666666,
              "#ed7953"
             ],
             [
              0.7777777777777778,
              "#fb9f3a"
             ],
             [
              0.8888888888888888,
              "#fdca26"
             ],
             [
              1,
              "#f0f921"
             ]
            ],
            "type": "histogram2d"
           }
          ],
          "histogram2dcontour": [
           {
            "colorbar": {
             "outlinewidth": 0,
             "ticks": ""
            },
            "colorscale": [
             [
              0,
              "#0d0887"
             ],
             [
              0.1111111111111111,
              "#46039f"
             ],
             [
              0.2222222222222222,
              "#7201a8"
             ],
             [
              0.3333333333333333,
              "#9c179e"
             ],
             [
              0.4444444444444444,
              "#bd3786"
             ],
             [
              0.5555555555555556,
              "#d8576b"
             ],
             [
              0.6666666666666666,
              "#ed7953"
             ],
             [
              0.7777777777777778,
              "#fb9f3a"
             ],
             [
              0.8888888888888888,
              "#fdca26"
             ],
             [
              1,
              "#f0f921"
             ]
            ],
            "type": "histogram2dcontour"
           }
          ],
          "mesh3d": [
           {
            "colorbar": {
             "outlinewidth": 0,
             "ticks": ""
            },
            "type": "mesh3d"
           }
          ],
          "parcoords": [
           {
            "line": {
             "colorbar": {
              "outlinewidth": 0,
              "ticks": ""
             }
            },
            "type": "parcoords"
           }
          ],
          "pie": [
           {
            "automargin": true,
            "type": "pie"
           }
          ],
          "scatter": [
           {
            "marker": {
             "colorbar": {
              "outlinewidth": 0,
              "ticks": ""
             }
            },
            "type": "scatter"
           }
          ],
          "scatter3d": [
           {
            "line": {
             "colorbar": {
              "outlinewidth": 0,
              "ticks": ""
             }
            },
            "marker": {
             "colorbar": {
              "outlinewidth": 0,
              "ticks": ""
             }
            },
            "type": "scatter3d"
           }
          ],
          "scattercarpet": [
           {
            "marker": {
             "colorbar": {
              "outlinewidth": 0,
              "ticks": ""
             }
            },
            "type": "scattercarpet"
           }
          ],
          "scattergeo": [
           {
            "marker": {
             "colorbar": {
              "outlinewidth": 0,
              "ticks": ""
             }
            },
            "type": "scattergeo"
           }
          ],
          "scattergl": [
           {
            "marker": {
             "colorbar": {
              "outlinewidth": 0,
              "ticks": ""
             }
            },
            "type": "scattergl"
           }
          ],
          "scattermapbox": [
           {
            "marker": {
             "colorbar": {
              "outlinewidth": 0,
              "ticks": ""
             }
            },
            "type": "scattermapbox"
           }
          ],
          "scatterpolar": [
           {
            "marker": {
             "colorbar": {
              "outlinewidth": 0,
              "ticks": ""
             }
            },
            "type": "scatterpolar"
           }
          ],
          "scatterpolargl": [
           {
            "marker": {
             "colorbar": {
              "outlinewidth": 0,
              "ticks": ""
             }
            },
            "type": "scatterpolargl"
           }
          ],
          "scatterternary": [
           {
            "marker": {
             "colorbar": {
              "outlinewidth": 0,
              "ticks": ""
             }
            },
            "type": "scatterternary"
           }
          ],
          "surface": [
           {
            "colorbar": {
             "outlinewidth": 0,
             "ticks": ""
            },
            "colorscale": [
             [
              0,
              "#0d0887"
             ],
             [
              0.1111111111111111,
              "#46039f"
             ],
             [
              0.2222222222222222,
              "#7201a8"
             ],
             [
              0.3333333333333333,
              "#9c179e"
             ],
             [
              0.4444444444444444,
              "#bd3786"
             ],
             [
              0.5555555555555556,
              "#d8576b"
             ],
             [
              0.6666666666666666,
              "#ed7953"
             ],
             [
              0.7777777777777778,
              "#fb9f3a"
             ],
             [
              0.8888888888888888,
              "#fdca26"
             ],
             [
              1,
              "#f0f921"
             ]
            ],
            "type": "surface"
           }
          ],
          "table": [
           {
            "cells": {
             "fill": {
              "color": "#EBF0F8"
             },
             "line": {
              "color": "white"
             }
            },
            "header": {
             "fill": {
              "color": "#C8D4E3"
             },
             "line": {
              "color": "white"
             }
            },
            "type": "table"
           }
          ]
         },
         "layout": {
          "annotationdefaults": {
           "arrowcolor": "#2a3f5f",
           "arrowhead": 0,
           "arrowwidth": 1
          },
          "autotypenumbers": "strict",
          "coloraxis": {
           "colorbar": {
            "outlinewidth": 0,
            "ticks": ""
           }
          },
          "colorscale": {
           "diverging": [
            [
             0,
             "#8e0152"
            ],
            [
             0.1,
             "#c51b7d"
            ],
            [
             0.2,
             "#de77ae"
            ],
            [
             0.3,
             "#f1b6da"
            ],
            [
             0.4,
             "#fde0ef"
            ],
            [
             0.5,
             "#f7f7f7"
            ],
            [
             0.6,
             "#e6f5d0"
            ],
            [
             0.7,
             "#b8e186"
            ],
            [
             0.8,
             "#7fbc41"
            ],
            [
             0.9,
             "#4d9221"
            ],
            [
             1,
             "#276419"
            ]
           ],
           "sequential": [
            [
             0,
             "#0d0887"
            ],
            [
             0.1111111111111111,
             "#46039f"
            ],
            [
             0.2222222222222222,
             "#7201a8"
            ],
            [
             0.3333333333333333,
             "#9c179e"
            ],
            [
             0.4444444444444444,
             "#bd3786"
            ],
            [
             0.5555555555555556,
             "#d8576b"
            ],
            [
             0.6666666666666666,
             "#ed7953"
            ],
            [
             0.7777777777777778,
             "#fb9f3a"
            ],
            [
             0.8888888888888888,
             "#fdca26"
            ],
            [
             1,
             "#f0f921"
            ]
           ],
           "sequentialminus": [
            [
             0,
             "#0d0887"
            ],
            [
             0.1111111111111111,
             "#46039f"
            ],
            [
             0.2222222222222222,
             "#7201a8"
            ],
            [
             0.3333333333333333,
             "#9c179e"
            ],
            [
             0.4444444444444444,
             "#bd3786"
            ],
            [
             0.5555555555555556,
             "#d8576b"
            ],
            [
             0.6666666666666666,
             "#ed7953"
            ],
            [
             0.7777777777777778,
             "#fb9f3a"
            ],
            [
             0.8888888888888888,
             "#fdca26"
            ],
            [
             1,
             "#f0f921"
            ]
           ]
          },
          "colorway": [
           "#636efa",
           "#EF553B",
           "#00cc96",
           "#ab63fa",
           "#FFA15A",
           "#19d3f3",
           "#FF6692",
           "#B6E880",
           "#FF97FF",
           "#FECB52"
          ],
          "font": {
           "color": "#2a3f5f"
          },
          "geo": {
           "bgcolor": "white",
           "lakecolor": "white",
           "landcolor": "#E5ECF6",
           "showlakes": true,
           "showland": true,
           "subunitcolor": "white"
          },
          "hoverlabel": {
           "align": "left"
          },
          "hovermode": "closest",
          "mapbox": {
           "style": "light"
          },
          "paper_bgcolor": "white",
          "plot_bgcolor": "#E5ECF6",
          "polar": {
           "angularaxis": {
            "gridcolor": "white",
            "linecolor": "white",
            "ticks": ""
           },
           "bgcolor": "#E5ECF6",
           "radialaxis": {
            "gridcolor": "white",
            "linecolor": "white",
            "ticks": ""
           }
          },
          "scene": {
           "xaxis": {
            "backgroundcolor": "#E5ECF6",
            "gridcolor": "white",
            "gridwidth": 2,
            "linecolor": "white",
            "showbackground": true,
            "ticks": "",
            "zerolinecolor": "white"
           },
           "yaxis": {
            "backgroundcolor": "#E5ECF6",
            "gridcolor": "white",
            "gridwidth": 2,
            "linecolor": "white",
            "showbackground": true,
            "ticks": "",
            "zerolinecolor": "white"
           },
           "zaxis": {
            "backgroundcolor": "#E5ECF6",
            "gridcolor": "white",
            "gridwidth": 2,
            "linecolor": "white",
            "showbackground": true,
            "ticks": "",
            "zerolinecolor": "white"
           }
          },
          "shapedefaults": {
           "line": {
            "color": "#2a3f5f"
           }
          },
          "ternary": {
           "aaxis": {
            "gridcolor": "white",
            "linecolor": "white",
            "ticks": ""
           },
           "baxis": {
            "gridcolor": "white",
            "linecolor": "white",
            "ticks": ""
           },
           "bgcolor": "#E5ECF6",
           "caxis": {
            "gridcolor": "white",
            "linecolor": "white",
            "ticks": ""
           }
          },
          "title": {
           "x": 0.05
          },
          "xaxis": {
           "automargin": true,
           "gridcolor": "white",
           "linecolor": "white",
           "ticks": "",
           "title": {
            "standoff": 15
           },
           "zerolinecolor": "white",
           "zerolinewidth": 2
          },
          "yaxis": {
           "automargin": true,
           "gridcolor": "white",
           "linecolor": "white",
           "ticks": "",
           "title": {
            "standoff": 15
           },
           "zerolinecolor": "white",
           "zerolinewidth": 2
          }
         }
        },
        "title": {
         "text": "Normal adjusted counts of elements in training data"
        },
        "width": 548.1896533333334,
        "xaxis": {
         "tickangle": -45,
         "title": {
          "text": "Elements"
         }
        },
        "yaxis": {
         "title": {
          "text": "Normal adjusted counts"
         }
        }
       }
      },
      "text/html": [
       "<div>                            <div id=\"8e37b9b0-5d3b-4e3c-93a8-3ef1dfbe0b7d\" class=\"plotly-graph-div\" style=\"height:407.3235447076888px; width:548.1896533333334px;\"></div>            <script type=\"text/javascript\">                require([\"plotly\"], function(Plotly) {                    window.PLOTLYENV=window.PLOTLYENV || {};                                    if (document.getElementById(\"8e37b9b0-5d3b-4e3c-93a8-3ef1dfbe0b7d\")) {                    Plotly.newPlot(                        \"8e37b9b0-5d3b-4e3c-93a8-3ef1dfbe0b7d\",                        [{\"name\": \"Fitted candidates\", \"text\": [\"H\", \"He\", \"Li\", \"Be\", \"B\", \"C\", \"N\", \"O\", \"F\", \"Ne\", \"Na\", \"Mg\", \"Al\", \"Si\", \"P\", \"S\", \"Cl\", \"Ar\", \"K\", \"Ca\", \"Sc\", \"Ti\", \"V\", \"Cr\", \"Mn\", \"Fe\", \"Co\", \"Ni\", \"Cu\", \"Zn\", \"Ga\", \"Ge\", \"As\", \"Se\", \"Br\", \"Kr\", \"Rb\", \"Sr\", \"Y\", \"Zr\", \"Nb\", \"Mo\", \"Tc\", \"Ru\", \"Rh\", \"Pd\", \"Ag\", \"Cd\", \"In\", \"Sn\", \"Sb\", \"Te\", \"I\", \"Xe\", \"Cs\", \"Ba\", \"La\", \"Ce\", \"Pr\", \"Nd\", \"Pm\", \"Sm\", \"Eu\", \"Gd\", \"Tb\", \"Dy\", \"Ho\", \"Er\", \"Tm\", \"Yb\", \"Lu\", \"Hf\", \"Ta\", \"W\", \"Re\", \"Os\", \"Ir\", \"Pt\", \"Au\", \"Hg\", \"Tl\", \"Pb\", \"Bi\", \"Po\", \"At\", \"Rn\", \"Fr\", \"Ra\", \"Ac\", \"Th\", \"Pa\", \"U\", \"Np\"], \"type\": \"bar\", \"x\": [\"H\", \"He\", \"Li\", \"Be\", \"B\", \"C\", \"N\", \"O\", \"F\", \"Ne\", \"Na\", \"Mg\", \"Al\", \"Si\", \"P\", \"S\", \"Cl\", \"Ar\", \"K\", \"Ca\", \"Sc\", \"Ti\", \"V\", \"Cr\", \"Mn\", \"Fe\", \"Co\", \"Ni\", \"Cu\", \"Zn\", \"Ga\", \"Ge\", \"As\", \"Se\", \"Br\", \"Kr\", \"Rb\", \"Sr\", \"Y\", \"Zr\", \"Nb\", \"Mo\", \"Tc\", \"Ru\", \"Rh\", \"Pd\", \"Ag\", \"Cd\", \"In\", \"Sn\", \"Sb\", \"Te\", \"I\", \"Xe\", \"Cs\", \"Ba\", \"La\", \"Ce\", \"Pr\", \"Nd\", \"Pm\", \"Sm\", \"Eu\", \"Gd\", \"Tb\", \"Dy\", \"Ho\", \"Er\", \"Tm\", \"Yb\", \"Lu\", \"Hf\", \"Ta\", \"W\", \"Re\", \"Os\", \"Ir\", \"Pt\", \"Au\", \"Hg\", \"Tl\", \"Pb\", \"Bi\", \"Po\", \"At\", \"Rn\", \"Fr\", \"Ra\", \"Ac\", \"Th\", \"Pa\", \"U\", \"Np\"], \"y\": [0.0, 0.0, 0.0, 0.0, 0.0, 0.0468097793679189, 0.0, 0.28324388789505067, 0.0, 0.0, 0.0, 0.03637447823494335, 0.0, 0.10435301132975551, 0.0, 0.06201550387596899, 0.0, 0.0, 0.0, 0.054859868813357186, 0.0, 0.024150268336314847, 0.0, 0.0041741204531902205, 0.0, 0.007453786523553965, 0.0, 0.002385211687537269, 0.0, 0.02623732856290996, 0.0, 0.03398926654740608, 0.0, 0.03577817531305903, 0.0, 0.0, 0.0, 0.043530113297555156, 0.0, 0.017889087656529516, 0.0, 0.01311866428145498, 0.0, 0.005963029218843173, 0.0, 0.0041741204531902205, 0.0, 0.0, 0.0, 0.027728085867620753, 0.0, 0.029218843172331546, 0.0, 0.0, 0.0, 0.05635062611806798, 0.0, 0.0, 0.0, 0.0, 0.0, 0.0, 0.0, 0.0, 0.0, 0.0, 0.0, 0.0, 0.0, 0.0, 0.0, 0.012224209898628503, 0.0, 0.021168753726893263, 0.0, 0.008050089445438283, 0.0, 0.005963029218843173, 0.0, 0.0, 0.0, 0.032796660703637445, 0.0, 0.0, 0.0, 0.0, 0.0, 0.0, 0.0, 0.0, 0.0, 0.0, 0.0]}, {\"name\": \"Unfitted candidates\", \"text\": [\"H\", \"He\", \"Li\", \"Be\", \"B\", \"C\", \"N\", \"O\", \"F\", \"Ne\", \"Na\", \"Mg\", \"Al\", \"Si\", \"P\", \"S\", \"Cl\", \"Ar\", \"K\", \"Ca\", \"Sc\", \"Ti\", \"V\", \"Cr\", \"Mn\", \"Fe\", \"Co\", \"Ni\", \"Cu\", \"Zn\", \"Ga\", \"Ge\", \"As\", \"Se\", \"Br\", \"Kr\", \"Rb\", \"Sr\", \"Y\", \"Zr\", \"Nb\", \"Mo\", \"Tc\", \"Ru\", \"Rh\", \"Pd\", \"Ag\", \"Cd\", \"In\", \"Sn\", \"Sb\", \"Te\", \"I\", \"Xe\", \"Cs\", \"Ba\", \"La\", \"Ce\", \"Pr\", \"Nd\", \"Pm\", \"Sm\", \"Eu\", \"Gd\", \"Tb\", \"Dy\", \"Ho\", \"Er\", \"Tm\", \"Yb\", \"Lu\", \"Hf\", \"Ta\", \"W\", \"Re\", \"Os\", \"Ir\", \"Pt\", \"Au\", \"Hg\", \"Tl\", \"Pb\", \"Bi\", \"Po\", \"At\", \"Rn\", \"Fr\", \"Ra\", \"Ac\", \"Th\", \"Pa\", \"U\", \"Np\"], \"type\": \"bar\", \"x\": [\"H\", \"He\", \"Li\", \"Be\", \"B\", \"C\", \"N\", \"O\", \"F\", \"Ne\", \"Na\", \"Mg\", \"Al\", \"Si\", \"P\", \"S\", \"Cl\", \"Ar\", \"K\", \"Ca\", \"Sc\", \"Ti\", \"V\", \"Cr\", \"Mn\", \"Fe\", \"Co\", \"Ni\", \"Cu\", \"Zn\", \"Ga\", \"Ge\", \"As\", \"Se\", \"Br\", \"Kr\", \"Rb\", \"Sr\", \"Y\", \"Zr\", \"Nb\", \"Mo\", \"Tc\", \"Ru\", \"Rh\", \"Pd\", \"Ag\", \"Cd\", \"In\", \"Sn\", \"Sb\", \"Te\", \"I\", \"Xe\", \"Cs\", \"Ba\", \"La\", \"Ce\", \"Pr\", \"Nd\", \"Pm\", \"Sm\", \"Eu\", \"Gd\", \"Tb\", \"Dy\", \"Ho\", \"Er\", \"Tm\", \"Yb\", \"Lu\", \"Hf\", \"Ta\", \"W\", \"Re\", \"Os\", \"Ir\", \"Pt\", \"Au\", \"Hg\", \"Tl\", \"Pb\", \"Bi\", \"Po\", \"At\", \"Rn\", \"Fr\", \"Ra\", \"Ac\", \"Th\", \"Pa\", \"U\", \"Np\"], \"y\": [0.061269146608315096, 0.0, 0.037199124726477024, 0.016411378555798686, 0.03391684901531729, 0.0, 0.0711159737417943, 0.0, 0.08643326039387308, 0.0, 0.02188183807439825, 0.0, 0.020787746170678335, 0.0, 0.03282275711159737, 0.0, 0.05032822757111598, 0.0, 0.03172866520787746, 0.0, 0.0, 0.0, 0.0032822757111597373, 0.0, 0.006564551422319475, 0.0, 0.0032822757111597373, 0.0, 0.005470459518599562, 0.0, 0.019693654266958426, 0.0, 0.018599562363238512, 0.0, 0.0262582056892779, 0.0, 0.016411378555798686, 0.0, 0.0032822757111597373, 0.0, 0.005470459518599562, 0.0, 0.002188183807439825, 0.0, 0.0, 0.0, 0.0032822757111597373, 0.12910284463894967, 0.009846827133479213, 0.0, 0.02954048140043764, 0.0, 0.15207877461706784, 0.0087527352297593, 0.018599562363238512, 0.0, 0.00437636761487965, 0.0, 0.0010940919037199124, 0.002188183807439825, 0.0, 0.0, 0.0, 0.0, 0.0, 0.0, 0.002188183807439825, 0.00437636761487965, 0.0010940919037199124, 0.007658643326039387, 0.0, 0.0, 0.0032822757111597373, 0.0, 0.00437636761487965, 0.0, 0.002188183807439825, 0.0, 0.00437636761487965, 0.0175054704595186, 0.00437636761487965, 0.0, 0.009846827133479213, 0.0, 0.0, 0.0, 0.0, 0.0, 0.0, 0.00437636761487965, 0.0, 0.0010940919037199124, 0.0]}],                        {\"autosize\": false, \"font\": {\"color\": \"Black\", \"family\": \"Palatino\", \"size\": 12}, \"height\": 407.3235447076888, \"paper_bgcolor\": \"rgba(0, 0, 0, 0)\", \"plot_bgcolor\": \"rgba(0, 0, 0, 0)\", \"template\": {\"data\": {\"bar\": [{\"error_x\": {\"color\": \"#2a3f5f\"}, \"error_y\": {\"color\": \"#2a3f5f\"}, \"marker\": {\"line\": {\"color\": \"#E5ECF6\", \"width\": 0.5}}, \"type\": \"bar\"}], \"barpolar\": [{\"marker\": {\"line\": {\"color\": \"#E5ECF6\", \"width\": 0.5}}, \"type\": \"barpolar\"}], \"carpet\": [{\"aaxis\": {\"endlinecolor\": \"#2a3f5f\", \"gridcolor\": \"white\", \"linecolor\": \"white\", \"minorgridcolor\": \"white\", \"startlinecolor\": \"#2a3f5f\"}, \"baxis\": {\"endlinecolor\": \"#2a3f5f\", \"gridcolor\": \"white\", \"linecolor\": \"white\", \"minorgridcolor\": \"white\", \"startlinecolor\": \"#2a3f5f\"}, \"type\": \"carpet\"}], \"choropleth\": [{\"colorbar\": {\"outlinewidth\": 0, \"ticks\": \"\"}, \"type\": \"choropleth\"}], \"contour\": [{\"colorbar\": {\"outlinewidth\": 0, \"ticks\": \"\"}, \"colorscale\": [[0.0, \"#0d0887\"], [0.1111111111111111, \"#46039f\"], [0.2222222222222222, \"#7201a8\"], [0.3333333333333333, \"#9c179e\"], [0.4444444444444444, \"#bd3786\"], [0.5555555555555556, \"#d8576b\"], [0.6666666666666666, \"#ed7953\"], [0.7777777777777778, \"#fb9f3a\"], [0.8888888888888888, \"#fdca26\"], [1.0, \"#f0f921\"]], \"type\": \"contour\"}], \"contourcarpet\": [{\"colorbar\": {\"outlinewidth\": 0, \"ticks\": \"\"}, \"type\": \"contourcarpet\"}], \"heatmap\": [{\"colorbar\": {\"outlinewidth\": 0, \"ticks\": \"\"}, \"colorscale\": [[0.0, \"#0d0887\"], [0.1111111111111111, \"#46039f\"], [0.2222222222222222, \"#7201a8\"], [0.3333333333333333, \"#9c179e\"], [0.4444444444444444, \"#bd3786\"], [0.5555555555555556, \"#d8576b\"], [0.6666666666666666, \"#ed7953\"], [0.7777777777777778, \"#fb9f3a\"], [0.8888888888888888, \"#fdca26\"], [1.0, \"#f0f921\"]], \"type\": \"heatmap\"}], \"heatmapgl\": [{\"colorbar\": {\"outlinewidth\": 0, \"ticks\": \"\"}, \"colorscale\": [[0.0, \"#0d0887\"], [0.1111111111111111, \"#46039f\"], [0.2222222222222222, \"#7201a8\"], [0.3333333333333333, \"#9c179e\"], [0.4444444444444444, \"#bd3786\"], [0.5555555555555556, \"#d8576b\"], [0.6666666666666666, \"#ed7953\"], [0.7777777777777778, \"#fb9f3a\"], [0.8888888888888888, \"#fdca26\"], [1.0, \"#f0f921\"]], \"type\": \"heatmapgl\"}], \"histogram\": [{\"marker\": {\"colorbar\": {\"outlinewidth\": 0, \"ticks\": \"\"}}, \"type\": \"histogram\"}], \"histogram2d\": [{\"colorbar\": {\"outlinewidth\": 0, \"ticks\": \"\"}, \"colorscale\": [[0.0, \"#0d0887\"], [0.1111111111111111, \"#46039f\"], [0.2222222222222222, \"#7201a8\"], [0.3333333333333333, \"#9c179e\"], [0.4444444444444444, \"#bd3786\"], [0.5555555555555556, \"#d8576b\"], [0.6666666666666666, \"#ed7953\"], [0.7777777777777778, \"#fb9f3a\"], [0.8888888888888888, \"#fdca26\"], [1.0, \"#f0f921\"]], \"type\": \"histogram2d\"}], \"histogram2dcontour\": [{\"colorbar\": {\"outlinewidth\": 0, \"ticks\": \"\"}, \"colorscale\": [[0.0, \"#0d0887\"], [0.1111111111111111, \"#46039f\"], [0.2222222222222222, \"#7201a8\"], [0.3333333333333333, \"#9c179e\"], [0.4444444444444444, \"#bd3786\"], [0.5555555555555556, \"#d8576b\"], [0.6666666666666666, \"#ed7953\"], [0.7777777777777778, \"#fb9f3a\"], [0.8888888888888888, \"#fdca26\"], [1.0, \"#f0f921\"]], \"type\": \"histogram2dcontour\"}], \"mesh3d\": [{\"colorbar\": {\"outlinewidth\": 0, \"ticks\": \"\"}, \"type\": \"mesh3d\"}], \"parcoords\": [{\"line\": {\"colorbar\": {\"outlinewidth\": 0, \"ticks\": \"\"}}, \"type\": \"parcoords\"}], \"pie\": [{\"automargin\": true, \"type\": \"pie\"}], \"scatter\": [{\"marker\": {\"colorbar\": {\"outlinewidth\": 0, \"ticks\": \"\"}}, \"type\": \"scatter\"}], \"scatter3d\": [{\"line\": {\"colorbar\": {\"outlinewidth\": 0, \"ticks\": \"\"}}, \"marker\": {\"colorbar\": {\"outlinewidth\": 0, \"ticks\": \"\"}}, \"type\": \"scatter3d\"}], \"scattercarpet\": [{\"marker\": {\"colorbar\": {\"outlinewidth\": 0, \"ticks\": \"\"}}, \"type\": \"scattercarpet\"}], \"scattergeo\": [{\"marker\": {\"colorbar\": {\"outlinewidth\": 0, \"ticks\": \"\"}}, \"type\": \"scattergeo\"}], \"scattergl\": [{\"marker\": {\"colorbar\": {\"outlinewidth\": 0, \"ticks\": \"\"}}, \"type\": \"scattergl\"}], \"scattermapbox\": [{\"marker\": {\"colorbar\": {\"outlinewidth\": 0, \"ticks\": \"\"}}, \"type\": \"scattermapbox\"}], \"scatterpolar\": [{\"marker\": {\"colorbar\": {\"outlinewidth\": 0, \"ticks\": \"\"}}, \"type\": \"scatterpolar\"}], \"scatterpolargl\": [{\"marker\": {\"colorbar\": {\"outlinewidth\": 0, \"ticks\": \"\"}}, \"type\": \"scatterpolargl\"}], \"scatterternary\": [{\"marker\": {\"colorbar\": {\"outlinewidth\": 0, \"ticks\": \"\"}}, \"type\": \"scatterternary\"}], \"surface\": [{\"colorbar\": {\"outlinewidth\": 0, \"ticks\": \"\"}, \"colorscale\": [[0.0, \"#0d0887\"], [0.1111111111111111, \"#46039f\"], [0.2222222222222222, \"#7201a8\"], [0.3333333333333333, \"#9c179e\"], [0.4444444444444444, \"#bd3786\"], [0.5555555555555556, \"#d8576b\"], [0.6666666666666666, \"#ed7953\"], [0.7777777777777778, \"#fb9f3a\"], [0.8888888888888888, \"#fdca26\"], [1.0, \"#f0f921\"]], \"type\": \"surface\"}], \"table\": [{\"cells\": {\"fill\": {\"color\": \"#EBF0F8\"}, \"line\": {\"color\": \"white\"}}, \"header\": {\"fill\": {\"color\": \"#C8D4E3\"}, \"line\": {\"color\": \"white\"}}, \"type\": \"table\"}]}, \"layout\": {\"annotationdefaults\": {\"arrowcolor\": \"#2a3f5f\", \"arrowhead\": 0, \"arrowwidth\": 1}, \"autotypenumbers\": \"strict\", \"coloraxis\": {\"colorbar\": {\"outlinewidth\": 0, \"ticks\": \"\"}}, \"colorscale\": {\"diverging\": [[0, \"#8e0152\"], [0.1, \"#c51b7d\"], [0.2, \"#de77ae\"], [0.3, \"#f1b6da\"], [0.4, \"#fde0ef\"], [0.5, \"#f7f7f7\"], [0.6, \"#e6f5d0\"], [0.7, \"#b8e186\"], [0.8, \"#7fbc41\"], [0.9, \"#4d9221\"], [1, \"#276419\"]], \"sequential\": [[0.0, \"#0d0887\"], [0.1111111111111111, \"#46039f\"], [0.2222222222222222, \"#7201a8\"], [0.3333333333333333, \"#9c179e\"], [0.4444444444444444, \"#bd3786\"], [0.5555555555555556, \"#d8576b\"], [0.6666666666666666, \"#ed7953\"], [0.7777777777777778, \"#fb9f3a\"], [0.8888888888888888, \"#fdca26\"], [1.0, \"#f0f921\"]], \"sequentialminus\": [[0.0, \"#0d0887\"], [0.1111111111111111, \"#46039f\"], [0.2222222222222222, \"#7201a8\"], [0.3333333333333333, \"#9c179e\"], [0.4444444444444444, \"#bd3786\"], [0.5555555555555556, \"#d8576b\"], [0.6666666666666666, \"#ed7953\"], [0.7777777777777778, \"#fb9f3a\"], [0.8888888888888888, \"#fdca26\"], [1.0, \"#f0f921\"]]}, \"colorway\": [\"#636efa\", \"#EF553B\", \"#00cc96\", \"#ab63fa\", \"#FFA15A\", \"#19d3f3\", \"#FF6692\", \"#B6E880\", \"#FF97FF\", \"#FECB52\"], \"font\": {\"color\": \"#2a3f5f\"}, \"geo\": {\"bgcolor\": \"white\", \"lakecolor\": \"white\", \"landcolor\": \"#E5ECF6\", \"showlakes\": true, \"showland\": true, \"subunitcolor\": \"white\"}, \"hoverlabel\": {\"align\": \"left\"}, \"hovermode\": \"closest\", \"mapbox\": {\"style\": \"light\"}, \"paper_bgcolor\": \"white\", \"plot_bgcolor\": \"#E5ECF6\", \"polar\": {\"angularaxis\": {\"gridcolor\": \"white\", \"linecolor\": \"white\", \"ticks\": \"\"}, \"bgcolor\": \"#E5ECF6\", \"radialaxis\": {\"gridcolor\": \"white\", \"linecolor\": \"white\", \"ticks\": \"\"}}, \"scene\": {\"xaxis\": {\"backgroundcolor\": \"#E5ECF6\", \"gridcolor\": \"white\", \"gridwidth\": 2, \"linecolor\": \"white\", \"showbackground\": true, \"ticks\": \"\", \"zerolinecolor\": \"white\"}, \"yaxis\": {\"backgroundcolor\": \"#E5ECF6\", \"gridcolor\": \"white\", \"gridwidth\": 2, \"linecolor\": \"white\", \"showbackground\": true, \"ticks\": \"\", \"zerolinecolor\": \"white\"}, \"zaxis\": {\"backgroundcolor\": \"#E5ECF6\", \"gridcolor\": \"white\", \"gridwidth\": 2, \"linecolor\": \"white\", \"showbackground\": true, \"ticks\": \"\", \"zerolinecolor\": \"white\"}}, \"shapedefaults\": {\"line\": {\"color\": \"#2a3f5f\"}}, \"ternary\": {\"aaxis\": {\"gridcolor\": \"white\", \"linecolor\": \"white\", \"ticks\": \"\"}, \"baxis\": {\"gridcolor\": \"white\", \"linecolor\": \"white\", \"ticks\": \"\"}, \"bgcolor\": \"#E5ECF6\", \"caxis\": {\"gridcolor\": \"white\", \"linecolor\": \"white\", \"ticks\": \"\"}}, \"title\": {\"x\": 0.05}, \"xaxis\": {\"automargin\": true, \"gridcolor\": \"white\", \"linecolor\": \"white\", \"ticks\": \"\", \"title\": {\"standoff\": 15}, \"zerolinecolor\": \"white\", \"zerolinewidth\": 2}, \"yaxis\": {\"automargin\": true, \"gridcolor\": \"white\", \"linecolor\": \"white\", \"ticks\": \"\", \"title\": {\"standoff\": 15}, \"zerolinecolor\": \"white\", \"zerolinewidth\": 2}}}, \"title\": {\"text\": \"Normal adjusted counts of elements in training data\"}, \"width\": 548.1896533333334, \"xaxis\": {\"tickangle\": -45, \"title\": {\"text\": \"Elements\"}}, \"yaxis\": {\"title\": {\"text\": \"Normal adjusted counts\"}}},                        {\"responsive\": true}                    ).then(function(){\n",
       "                            \n",
       "var gd = document.getElementById('8e37b9b0-5d3b-4e3c-93a8-3ef1dfbe0b7d');\n",
       "var x = new MutationObserver(function (mutations, observer) {{\n",
       "        var display = window.getComputedStyle(gd).display;\n",
       "        if (!display || display === 'none') {{\n",
       "            console.log([gd, 'removed!']);\n",
       "            Plotly.purge(gd);\n",
       "            observer.disconnect();\n",
       "        }}\n",
       "}});\n",
       "\n",
       "// Listen for the removal of the full notebook cells\n",
       "var notebookContainer = gd.closest('#notebook-container');\n",
       "if (notebookContainer) {{\n",
       "    x.observe(notebookContainer, {childList: true});\n",
       "}}\n",
       "\n",
       "// Listen for the clearing of the current output cell\n",
       "var outputEl = gd.closest('.output');\n",
       "if (outputEl) {{\n",
       "    x.observe(outputEl, {childList: true});\n",
       "}}\n",
       "\n",
       "                        })                };                });            </script>        </div>"
      ]
     },
     "metadata": {},
     "output_type": "display_data"
    }
   ],
   "source": [
    "fig = go.Figure( \n",
    "    layout = go.Layout (\n",
    "        title=go.layout.Title(text=\"Normal adjusted counts of elements in training data\"),\n",
    "        yaxis=dict(title='Normal adjusted counts'),\n",
    "        xaxis=dict(title='Elements'),\n",
    "        xaxis_tickangle=-45\n",
    "        )\n",
    "    )\n",
    "\n",
    "fig.add_traces(\n",
    "    go.Bar(name = \"Fitted candidates\",#prettyNames[i], \n",
    "                   x =    trainingSet[elements].columns,\n",
    "                   y =    fittedCounts/np.sum(fittedCounts),\n",
    "                   text = trainingSet[elements].columns,\n",
    "                    )\n",
    "                )\n",
    "fig.add_traces(go.Bar(name = \"Unfitted candidates\",#prettyNames[i], \n",
    "                    x = trainingSet[elements].columns,\n",
    "                    y = unFittedCounts/np.sum(unFittedCounts),\n",
    "                    text = trainingSet[elements].columns,\n",
    "                    )\n",
    "                )\n",
    "fig.update_layout(\n",
    "                    {\"plot_bgcolor\": \"rgba(0, 0, 0, 0)\",\n",
    "                       \"paper_bgcolor\": \"rgba(0, 0, 0, 0)\",\n",
    "                      },\n",
    "                      font=dict(\n",
    "                        family=\"Palatino\",\n",
    "                        color=\"Black\",\n",
    "                        size=12),\n",
    "                      autosize=False,\n",
    "                      width=width_plotly,\n",
    "                      height=height_plotly,\n",
    "                     )\n",
    "fig.show()"
   ]
  },
  {
   "cell_type": "markdown",
   "metadata": {},
   "source": [
    "## Known candidates \n",
    "\n",
    "How are the known candidates already doing in the datamining process? SiC, etc. "
   ]
  },
  {
   "cell_type": "code",
   "execution_count": null,
   "metadata": {},
   "outputs": [],
   "source": [
    "feat = [\"material_id\",\"MP_Eg\",\"pretty_formula\",\"full_formula\"]\n",
    "\n",
    "#generatedData[feat][generatedData[\"pretty_formula\"]==\"SiC\"]"
   ]
  },
  {
   "cell_type": "code",
   "execution_count": null,
   "metadata": {},
   "outputs": [],
   "source": [
    "#generatedData[feat][generatedData[\"pretty_formula\"]==\"C\"]"
   ]
  },
  {
   "cell_type": "code",
   "execution_count": null,
   "metadata": {},
   "outputs": [],
   "source": [
    "feat = [\"material_id\",\"MP_Eg\",\"pretty_formula\",\"full_formula\", \"candidate\"]\n",
    "\n",
    "trainingSet[feat][(trainingSet[\"pretty_formula\"]==\"SiC\")]"
   ]
  },
  {
   "cell_type": "code",
   "execution_count": null,
   "metadata": {},
   "outputs": [],
   "source": [
    "trainingSet[feat][(trainingSet[\"pretty_formula\"]==\"C\")]"
   ]
  },
  {
   "cell_type": "markdown",
   "metadata": {},
   "source": [
    "## Combine training targets with preprocessed data"
   ]
  },
  {
   "cell_type": "code",
   "execution_count": null,
   "metadata": {},
   "outputs": [],
   "source": [
    "PCAGeneratedData = pd.read_pickle(data_dir / \"processed\" / \"processedData.pkl\")\n",
    "PCAGeneratedData.shape"
   ]
  },
  {
   "cell_type": "code",
   "execution_count": null,
   "metadata": {},
   "outputs": [],
   "source": [
    "trainingSet = (\n",
    "    trainingTargets.merge(PCAGeneratedData,\n",
    "                on=\"material_id\",\n",
    "                indicator=False,\n",
    "                how=\"left\",\n",
    "                suffixes=(False, False))\n",
    ")\n",
    "trainingSet.shape"
   ]
  },
  {
   "cell_type": "code",
   "execution_count": null,
   "metadata": {},
   "outputs": [],
   "source": [
    "# Drop new candidates that might have been added to MP after featurization \n",
    "trainingSet = trainingSet[trainingSet[\"material_id\"].isin(PCAGeneratedData[\"material_id\"])]\n",
    "trainingSet.shape"
   ]
  },
  {
   "cell_type": "code",
   "execution_count": null,
   "metadata": {},
   "outputs": [],
   "source": [
    "testSet = (\n",
    "    trainingTargets.merge(PCAGeneratedData, \n",
    "              on='material_id', \n",
    "              how='outer', \n",
    "              indicator=True)\n",
    "    .query('_merge != \"both\"')\n",
    "    .drop(columns='_merge')\n",
    ")\n",
    "testSet.shape"
   ]
  },
  {
   "cell_type": "code",
   "execution_count": null,
   "metadata": {},
   "outputs": [],
   "source": [
    "# Drop new candidates that might have been added to MP after featurization \n",
    "testSet = testSet[testSet[\"material_id\"].isin(PCAGeneratedData[\"material_id\"])]\n",
    "\n",
    "# Change column order\n",
    "trainingSet.insert(1, 'full_formula', trainingSet.pop(\"full_formula\"))\n",
    "testSet    .insert(1, 'full_formula', testSet    .pop(\"full_formula\"))\n",
    "testSet    .insert(1, 'pretty_formula', testSet    .pop(\"pretty_formula\"))"
   ]
  },
  {
   "cell_type": "code",
   "execution_count": null,
   "metadata": {},
   "outputs": [],
   "source": []
  },
  {
   "cell_type": "markdown",
   "metadata": {},
   "source": [
    "### Write to file"
   ]
  },
  {
   "cell_type": "code",
   "execution_count": null,
   "metadata": {},
   "outputs": [],
   "source": [
    "trainingSet = trainingSet.drop([\"pretty_formula\"], axis=1)\n",
    "trainingTarget = trainingSet.pop(\"candidate\")\n",
    "\n",
    "Path(data_dir / InsertApproach / \"processed\").mkdir(parents=True, exist_ok=True)\n",
    "trainingSet   .to_pickle(data_dir / InsertApproach /\"processed\" / \"trainingData.pkl\")\n",
    "trainingTarget.to_pickle(data_dir / InsertApproach / \"processed\" / \"trainingTarget.pkl\")\n",
    "testSet       .to_pickle(data_dir / InsertApproach / \"processed\" / \"testSet.pkl\")"
   ]
  },
  {
   "cell_type": "code",
   "execution_count": null,
   "metadata": {},
   "outputs": [],
   "source": [
    "testSet"
   ]
  },
  {
   "cell_type": "code",
   "execution_count": null,
   "metadata": {},
   "outputs": [],
   "source": []
  },
  {
   "cell_type": "code",
   "execution_count": null,
   "metadata": {},
   "outputs": [],
   "source": []
  },
  {
   "cell_type": "code",
   "execution_count": null,
   "metadata": {},
   "outputs": [],
   "source": []
  }
 ],
 "metadata": {
  "kernelspec": {
   "display_name": "Python 3",
   "language": "python",
   "name": "python3"
  },
  "language_info": {
   "codemirror_mode": {
    "name": "ipython",
    "version": 3
   },
   "file_extension": ".py",
   "mimetype": "text/x-python",
   "name": "python",
   "nbconvert_exporter": "python",
   "pygments_lexer": "ipython3",
   "version": "3.8.5"
  }
 },
 "nbformat": 4,
 "nbformat_minor": 4
}
