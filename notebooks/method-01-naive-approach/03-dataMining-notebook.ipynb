{
 "cells": [
  {
   "cell_type": "markdown",
   "metadata": {},
   "source": [
    "# Data mining of semiconductor materials\n",
    "\n",
    "This notebook will initially serve as an example in how to extract information of the database Materials Project [1]. \n",
    "In total, there are 126335 entries in the materials project whereas 48644 of them, roughly 39%, are deemed to be structurally similar from an experimental ICSD entry according to pymatgen's StructureMatcher algorithm. Additionally, a total of 65783 entries have been calculated to have a band gap larger than $0.1$ eV. These two have an overlap of 25271 entries, which is our starting point. \n",
    "\n",
    "The notebook will consist of 4 stages, and is strongly inspired from Ferrenti et al [2]. However, we diverge at stage 3 where we have moved the extraction of other databases out before we attend this notebook. \n",
    "\n",
    "Additionally, we will use the datamining process to find fitting and unfitting candidates. The process can be described by following some given criteria for good candidates, resulting in the label $1$. Then, we will use the complete opposite criteria to find unfitted candidates, resulting in the label $0$. \n",
    " \n",
    " \n",
    "### Contents\n",
    "  #### Fitting candidates\n",
    "    - Stage 1\n",
    "        - $50\\% + l = 0$ isotopes\n",
    "        - Calculated non-magnetic\n",
    "        - Has experimental ICSD entry\n",
    "        - Crystallize in non-polar space groups\n",
    "    - Stage 2\n",
    "        - No Th, U, Cd, Hg\n",
    "        - No noble gases or rare-earth elements\n",
    "    - Stage 3\n",
    "        - bandgap restriction\n",
    "    - Stage 4\n",
    "        - thermodynamically unstable compounds\n",
    "        \n",
    "  #### Unfitted candidates\n",
    "    - Stage 1\n",
    "        - Query\n",
    "    - Stage 2\n",
    "        - Query\n",
    "    - Stage 3\n",
    "        - bandgap restriction\n",
    "        - Summarize bandgaps and other properties\n",
    "    - Stage 4\n",
    "        - thermodynamically unstable compounds\n",
    "\n",
    "[1] Ong, S. P.; Cholia, S.; Jain, A.; Brafman, M.; Gunter, D.; Ceder, G.; \n",
    "Persson, K. a. The Materials Application Programming Interface (API): A \n",
    "simple, flexible and efficient API for materials data based on\n",
    "REpresentational State Transfer (REST) principles, Comput. Mater. Sci.,\n",
    "2015, 97, 209–215. doi:10.1016/j.commatsci.2014.10.037.\n",
    "\n",
    "[2] Ferrenti, A.M., de Leon, N.P., Thompson, J.D. et al. Identifying candidate hosts for quantum defects via data mining. npj Comput Mater 6, 126 (2020). https://doi.org/10.1038/s41524-020-00391-7\n",
    "\n",
    "Initially, we start of with some imports. "
   ]
  },
  {
   "cell_type": "code",
   "execution_count": 1,
   "metadata": {},
   "outputs": [],
   "source": [
    "# Optional: Load the \"autoreload\" extension so that code can change\n",
    "%load_ext autoreload\n",
    "\n",
    "#OPTIONAL: Always reload modules so that as you change code in src, it gets loaded\n",
    "%autoreload 2"
   ]
  },
  {
   "cell_type": "code",
   "execution_count": 2,
   "metadata": {},
   "outputs": [
    {
     "name": "stdout",
     "output_type": "stream",
     "text": [
      "Current data directory /home/oliver/Dokumenter/masterprosjekt/predicting-solid-state-qubit-candidates-v2/data\n"
     ]
    }
   ],
   "source": [
    "from pathlib import Path\n",
    "data_dir = Path.cwd().parent.parent / \"data\" \n",
    "print(\"Current data directory {}\".format(data_dir))"
   ]
  },
  {
   "cell_type": "code",
   "execution_count": 3,
   "metadata": {},
   "outputs": [],
   "source": [
    "# Tools for query of data\n",
    "from pymatgen import MPRester, Composition\n",
    "\n",
    "# Finding correct use of polar groups\n",
    "from pymatgen.symmetry.groups import SYMM_DATA, sg_symbol_from_int_number\n",
    "\n",
    "# pandas\n",
    "import pandas as pd\n",
    "import numpy as np\n",
    "\n",
    "from tqdm import tqdm\n",
    "\n",
    "# Ignore warnings from nan-values in  \n",
    "np.warnings.filterwarnings('ignore')"
   ]
  },
  {
   "cell_type": "code",
   "execution_count": 4,
   "metadata": {},
   "outputs": [],
   "source": [
    "InsertApproach = \"01-naive-approach\""
   ]
  },
  {
   "cell_type": "markdown",
   "metadata": {},
   "source": [
    "# Fitted candidates\n",
    "## Stage 1\n",
    "Thereafter, we need to find out what elements we want to include. The article mentioned above have some strict restrictions that are as follows: \n",
    "- $50\\% + l = 0$ isotopes\n",
    "- Calculated non-magnetic\n",
    "- Has experimental ICSD entry\n",
    "- Crystallize in non-polar space groups\n",
    "\n",
    "This stage will be done entirely through a query to pymatgen, however, the restrictions need to be set properly first. "
   ]
  },
  {
   "cell_type": "code",
   "execution_count": 5,
   "metadata": {},
   "outputs": [
    {
     "name": "stdout",
     "output_type": "stream",
     "text": [
      "Number of excluded periodic-elements from isotopes: 51\n"
     ]
    }
   ],
   "source": [
    "spin_zero_isotopes = [\n",
    "    \"H\", \"Li\", \"Be\", \"B\", \"N\", \"F\", \"Na\", \"Al\", \"P\", \"Cl\", \"K\", \"Sc\",\n",
    "    \"V\", \"Mn\", \"Co\", \"Cu\", \"Ga\", \"As\", \"Br\", \"Rb\", \"Y\", \"Nb\", \"Tc\", \n",
    "    \"Rh\", \"Ag\", \"In\", \"Sb\", \"I\", \"Cs\", \"Lu\", \"Ta\", \"Re\", \"Ir\", \"Au\",\n",
    "    \"Tl\", \"Bi\", \"Po\", \"At\", \"Rn\", \"La\",\"Pr\", \"Pm\", \"Eu\", \"Tb\", \"Ho\",\n",
    "    \"Tm\", \"Ac\", \"Pa\", \"Np\", \"Pu\", \"Am\"]  #(51)\n",
    "\n",
    "print(\"Number of excluded periodic-elements from isotopes: {}\".format(len(spin_zero_isotopes)))"
   ]
  },
  {
   "cell_type": "code",
   "execution_count": 6,
   "metadata": {},
   "outputs": [
    {
     "name": "stdout",
     "output_type": "stream",
     "text": [
      "Number of point groups denoted in pymatgen: 40\n",
      "Number of point groups in conventional notation: 32\n",
      "Number of polar spacegroups: 68\n"
     ]
    }
   ],
   "source": [
    "# This is a list of the point groups as noted in pymatgen\n",
    "point_groups = []\n",
    "for i in range(1,231):\n",
    "    symbol = sg_symbol_from_int_number(i)\n",
    "    point_groups.append(SYMM_DATA['space_group_encoding'][symbol]['point_group'])\n",
    "\n",
    "# Note that there are 40 of them, rather than 32.\n",
    "print(\"Number of point groups denoted in pymatgen: {}\".format(len(set(point_groups))))\n",
    "\n",
    "# This is because multiple conventions are used for the same point group.\n",
    "# This dictionary can be used to convert between them.\n",
    "point_group_conv = {'321' :'32', '312': '32', '3m1' :'3m', '31m': '3m',\n",
    "                    '-3m1' : '-3m', '-31m': '-3m', '-4m2': '-42m', '-62m': '-6m2' }\n",
    "\n",
    "# Using this dictionary we can correct to the standard point group notation.\n",
    "corrected_point_groups = [point_group_conv.get(pg, pg) for pg in point_groups]\n",
    "# Which produces the correct number of point groups. 32.\n",
    "print(\"Number of point groups in conventional notation: {}\".format(len(set(corrected_point_groups))))\n",
    "\n",
    "# There are 10 polar point groups\n",
    "polar_point_groups = ['1', '2', 'm', 'mm2', '4', '4mm', '3', '3m', '6', '6mm']\n",
    "\n",
    "# Polar spacegroups have polar point groups.\n",
    "polar_spacegroups = []\n",
    "\n",
    "# There are 230 spacegroups\n",
    "for i in range(1,231):\n",
    "    symbol = sg_symbol_from_int_number(i)\n",
    "    pg = SYMM_DATA['space_group_encoding'][symbol]['point_group']\n",
    "    if point_group_conv.get(pg, pg) in polar_point_groups:\n",
    "        polar_spacegroups.append(i)\n",
    "        \n",
    "# 68 of the 230 spacegroups are polar.\n",
    "print(\"Number of polar spacegroups: {}\".format(len(polar_spacegroups)))"
   ]
  },
  {
   "cell_type": "code",
   "execution_count": null,
   "metadata": {},
   "outputs": [],
   "source": []
  },
  {
   "cell_type": "markdown",
   "metadata": {},
   "source": [
    "### Query"
   ]
  },
  {
   "cell_type": "code",
   "execution_count": 7,
   "metadata": {
    "scrolled": false
   },
   "outputs": [
    {
     "data": {
      "application/vnd.jupyter.widget-view+json": {
       "model_id": "d26dcfdfa8d640c497190bd98292c006",
       "version_major": 2,
       "version_minor": 0
      },
      "text/plain": [
       "  0%|          | 0/4405 [00:00<?, ?it/s]"
      ]
     },
     "metadata": {},
     "output_type": "display_data"
    },
    {
     "name": "stdout",
     "output_type": "stream",
     "text": [
      "Number of entries after query: 4405\n"
     ]
    }
   ],
   "source": [
    "with MPRester(\"b7RtVfJTsUg6TK8E\") as mpr:\n",
    "    \n",
    "    criteria = {'elements':{\"$nin\": spin_zero_isotopes}, #not included\n",
    "                    'icsd_ids': {'$gte': 0}, #All compounds deemed similar to a structure in ICSD\n",
    "                    \"magnetic_type\": {\"$eq\": \"NM\"}, #non-magnetic\n",
    "                    \"spacegroup.number\": {\"$nin\": polar_spacegroups}\n",
    "                    }\n",
    "\n",
    "    props = [\"material_id\",\"full_formula\", \"spacegroup\", \"band_gap\"]\n",
    "    fitted_entries = pd.DataFrame(mpr.query(criteria=criteria, properties=props))    \n",
    "        \n",
    "print(\"Number of entries after query: {}\".format(len(fitted_entries)))"
   ]
  },
  {
   "cell_type": "code",
   "execution_count": null,
   "metadata": {},
   "outputs": [],
   "source": []
  },
  {
   "cell_type": "code",
   "execution_count": null,
   "metadata": {},
   "outputs": [],
   "source": []
  },
  {
   "cell_type": "markdown",
   "metadata": {},
   "source": [
    "By comparing to the work of Ferrenti et al, they have at this stage $3363$ compounds against our $4511$ compounds. "
   ]
  },
  {
   "cell_type": "code",
   "execution_count": 8,
   "metadata": {
    "scrolled": false
   },
   "outputs": [
    {
     "name": "stdout",
     "output_type": "stream",
     "text": [
      "Polar group test passed.\n"
     ]
    }
   ],
   "source": [
    "def polarGroupUnitTest(entries):\n",
    "    # Unit tests for polar groups. \n",
    "    ###############################\n",
    "    # Remove all entries with polar space groups\n",
    "    exclude_polar_space_groups =  {\n",
    "         \"triclinic\":   [\"1\"], \n",
    "         \"monoclinic\":  [\"2\", \"m\"],\n",
    "         \"orthorhombic\":[\"mm2\"],\n",
    "         \"tetragonal\":  [\"4\", \"4mm\"],\n",
    "         \"trigonal\":    [\"3\", \"3m\"],\n",
    "         \"hexagonal\":   [\"6\", \"6mm\"]\n",
    "        }\n",
    "\n",
    "    #remove polar spacegroups\n",
    "    deleteEntries = []\n",
    "    for i, entry in entries.iterrows():\n",
    "        \"\"\"\n",
    "        if os.path.exists('data/stage_1/fitted_MP_data_stage_1.csv'):\n",
    "            if dict(eval(entry[\"spacegroup\"]))[\"crystal_system\"] in exclude_polar_space_groups.keys():\n",
    "                if dict(eval(entry[\"spacegroup\"]))[\"point_group\"] in exclude_polar_space_groups[dict(eval(entry[\"spacegroup\"]))[\"crystal_system\"]]:\n",
    "                    deleteEntries.append(i)\n",
    "        \"\"\"\n",
    "        #else: \n",
    "        if (entry[\"spacegroup\"][\"crystal_system\"]) in exclude_polar_space_groups.keys():\n",
    "            if entry[\"spacegroup\"][\"point_group\"] in exclude_polar_space_groups[entry[\"spacegroup\"][\"crystal_system\"]]:\n",
    "                deleteEntries.append(i)\n",
    "                \n",
    "    #Every delete will return a smaller dict\n",
    "    numberDeleted = 0\n",
    "    for deleteEntry in deleteEntries: \n",
    "        del entries[deleteEntry-numberDeleted]\n",
    "        numberDeleted += 1\n",
    "    if numberDeleted > 0:\n",
    "        print(\"Test not passed, polar groups could be wrong\")\n",
    "    else:\n",
    "        print(\"Polar group test passed.\")\n",
    "polarGroupUnitTest(fitted_entries)\n",
    "\n",
    "#fitted_entries.to_csv(\"data/stage_1/fitted_MP_data_stage_1.csv\", sep=\",\", index = False)"
   ]
  },
  {
   "cell_type": "markdown",
   "metadata": {},
   "source": [
    "## Stage 2\n",
    "\n",
    "Here, we ensure our data does not contain the following.\n",
    "- No Th, U, Cd, Hg\n",
    "- No noble gases or rare-earth elements"
   ]
  },
  {
   "cell_type": "code",
   "execution_count": 9,
   "metadata": {},
   "outputs": [],
   "source": [
    "#Not include the following elements:\n",
    "exclude_elements = [ \n",
    "    \"Th\", \"U\", \"Cd\", \"Hg\", #restriction nr 1 above (4)\n",
    "    \"He\", \"Ne\", \"Ar\", \"Kr\", \"Xe\", \"Rn\", \"Og\", #no noble gases (7)\n",
    "    \"Sc\", \"Y\", \"La\", \"Ce\", \"Pr\", \"Nd\", \"Pm\", \"Sm\", \"Eu\", \"Gd\",\n",
    "     \"Tb\", \"Dy\", \"Ho\", \"Er\", \"Tm\", \"Yb\", \"Lu\"]  # No rare-earth elements (17)\n",
    "\n",
    "exclude_elements.extend(spin_zero_isotopes)\n",
    "exclude_elements = list(set(exclude_elements))"
   ]
  },
  {
   "cell_type": "markdown",
   "metadata": {},
   "source": [
    "### Query"
   ]
  },
  {
   "cell_type": "code",
   "execution_count": 10,
   "metadata": {},
   "outputs": [
    {
     "data": {
      "application/vnd.jupyter.widget-view+json": {
       "model_id": "91af40ce711c4c219567bedbc6d3ef70",
       "version_major": 2,
       "version_minor": 0
      },
      "text/plain": [
       "  0%|          | 0/2661 [00:00<?, ?it/s]"
      ]
     },
     "metadata": {},
     "output_type": "display_data"
    },
    {
     "name": "stdout",
     "output_type": "stream",
     "text": [
      "Number of entries after query: 2661\n"
     ]
    },
    {
     "data": {
      "text/html": [
       "<div>\n",
       "<style scoped>\n",
       "    .dataframe tbody tr th:only-of-type {\n",
       "        vertical-align: middle;\n",
       "    }\n",
       "\n",
       "    .dataframe tbody tr th {\n",
       "        vertical-align: top;\n",
       "    }\n",
       "\n",
       "    .dataframe thead th {\n",
       "        text-align: right;\n",
       "    }\n",
       "</style>\n",
       "<table border=\"1\" class=\"dataframe\">\n",
       "  <thead>\n",
       "    <tr style=\"text-align: right;\">\n",
       "      <th></th>\n",
       "      <th>material_id</th>\n",
       "      <th>full_formula</th>\n",
       "      <th>spacegroup</th>\n",
       "      <th>band_gap</th>\n",
       "    </tr>\n",
       "  </thead>\n",
       "  <tbody>\n",
       "    <tr>\n",
       "      <th>0</th>\n",
       "      <td>mp-100</td>\n",
       "      <td>Hf1</td>\n",
       "      <td>{'symprec': 0.1, 'source': 'spglib', 'symbol':...</td>\n",
       "      <td>0.0000</td>\n",
       "    </tr>\n",
       "    <tr>\n",
       "      <th>1</th>\n",
       "      <td>mp-1000</td>\n",
       "      <td>Ba1Te1</td>\n",
       "      <td>{'symprec': 0.1, 'source': 'spglib', 'symbol':...</td>\n",
       "      <td>1.8555</td>\n",
       "    </tr>\n",
       "    <tr>\n",
       "      <th>2</th>\n",
       "      <td>mp-10000</td>\n",
       "      <td>Hf4S2</td>\n",
       "      <td>{'symprec': 0.1, 'source': 'spglib', 'symbol':...</td>\n",
       "      <td>0.0000</td>\n",
       "    </tr>\n",
       "    <tr>\n",
       "      <th>3</th>\n",
       "      <td>mp-10008</td>\n",
       "      <td>Ca7Ge1</td>\n",
       "      <td>{'symprec': 0.1, 'source': 'spglib', 'symbol':...</td>\n",
       "      <td>0.0000</td>\n",
       "    </tr>\n",
       "    <tr>\n",
       "      <th>4</th>\n",
       "      <td>mp-10013</td>\n",
       "      <td>Sn1S1</td>\n",
       "      <td>{'symprec': 0.1, 'source': 'spglib', 'symbol':...</td>\n",
       "      <td>0.2371</td>\n",
       "    </tr>\n",
       "    <tr>\n",
       "      <th>...</th>\n",
       "      <td>...</td>\n",
       "      <td>...</td>\n",
       "      <td>...</td>\n",
       "      <td>...</td>\n",
       "    </tr>\n",
       "    <tr>\n",
       "      <th>2656</th>\n",
       "      <td>mp-999192</td>\n",
       "      <td>Si2Ni2</td>\n",
       "      <td>{'symprec': 0.1, 'source': 'spglib', 'symbol':...</td>\n",
       "      <td>0.0000</td>\n",
       "    </tr>\n",
       "    <tr>\n",
       "      <th>2657</th>\n",
       "      <td>mp-999200</td>\n",
       "      <td>Si4</td>\n",
       "      <td>{'symprec': 0.1, 'source': 'spglib', 'symbol':...</td>\n",
       "      <td>0.4517</td>\n",
       "    </tr>\n",
       "    <tr>\n",
       "      <th>2658</th>\n",
       "      <td>mp-999259</td>\n",
       "      <td>Ru2C2</td>\n",
       "      <td>{'symprec': 0.1, 'source': 'spglib', 'symbol':...</td>\n",
       "      <td>0.0000</td>\n",
       "    </tr>\n",
       "    <tr>\n",
       "      <th>2659</th>\n",
       "      <td>mp-999308</td>\n",
       "      <td>Os2C2</td>\n",
       "      <td>{'symprec': 0.1, 'source': 'spglib', 'symbol':...</td>\n",
       "      <td>0.0000</td>\n",
       "    </tr>\n",
       "    <tr>\n",
       "      <th>2660</th>\n",
       "      <td>mp-999502</td>\n",
       "      <td>Mo2Pt2</td>\n",
       "      <td>{'symprec': 0.1, 'source': 'spglib', 'symbol':...</td>\n",
       "      <td>0.0000</td>\n",
       "    </tr>\n",
       "  </tbody>\n",
       "</table>\n",
       "<p>2661 rows × 4 columns</p>\n",
       "</div>"
      ],
      "text/plain": [
       "     material_id full_formula  \\\n",
       "0         mp-100          Hf1   \n",
       "1        mp-1000       Ba1Te1   \n",
       "2       mp-10000        Hf4S2   \n",
       "3       mp-10008       Ca7Ge1   \n",
       "4       mp-10013        Sn1S1   \n",
       "...          ...          ...   \n",
       "2656   mp-999192       Si2Ni2   \n",
       "2657   mp-999200          Si4   \n",
       "2658   mp-999259        Ru2C2   \n",
       "2659   mp-999308        Os2C2   \n",
       "2660   mp-999502       Mo2Pt2   \n",
       "\n",
       "                                             spacegroup  band_gap  \n",
       "0     {'symprec': 0.1, 'source': 'spglib', 'symbol':...    0.0000  \n",
       "1     {'symprec': 0.1, 'source': 'spglib', 'symbol':...    1.8555  \n",
       "2     {'symprec': 0.1, 'source': 'spglib', 'symbol':...    0.0000  \n",
       "3     {'symprec': 0.1, 'source': 'spglib', 'symbol':...    0.0000  \n",
       "4     {'symprec': 0.1, 'source': 'spglib', 'symbol':...    0.2371  \n",
       "...                                                 ...       ...  \n",
       "2656  {'symprec': 0.1, 'source': 'spglib', 'symbol':...    0.0000  \n",
       "2657  {'symprec': 0.1, 'source': 'spglib', 'symbol':...    0.4517  \n",
       "2658  {'symprec': 0.1, 'source': 'spglib', 'symbol':...    0.0000  \n",
       "2659  {'symprec': 0.1, 'source': 'spglib', 'symbol':...    0.0000  \n",
       "2660  {'symprec': 0.1, 'source': 'spglib', 'symbol':...    0.0000  \n",
       "\n",
       "[2661 rows x 4 columns]"
      ]
     },
     "execution_count": 10,
     "metadata": {},
     "output_type": "execute_result"
    }
   ],
   "source": [
    "with MPRester(\"b7RtVfJTsUg6TK8E\") as mpr:\n",
    "    \n",
    "    criteria = {\"elements\":{\"$nin\": exclude_elements}, #not included\n",
    "                    \"task_id\":{\"$in\": fitted_entries[\"material_id\"].values.tolist()},\n",
    "                    \"icsd_ids\": {\"$gt\": 0}, #All compounds deemed similar to a structure in ICSD\n",
    "                    \"magnetic_type\": {\"$eq\": \"NM\"}, #non-magnetic\n",
    "                    \"spacegroup.number\": {\"$nin\": polar_spacegroups}\n",
    "                    }\n",
    "\n",
    "    props = [\"material_id\",\"full_formula\", \"spacegroup\", \"band_gap\"]\n",
    "    fitted_entries = pd.DataFrame(mpr.query(criteria=criteria, properties=props))\n",
    "        \n",
    "print(\"Number of entries after query: {}\".format(len(fitted_entries)))\n",
    "fitted_entries"
   ]
  },
  {
   "cell_type": "code",
   "execution_count": null,
   "metadata": {},
   "outputs": [],
   "source": []
  },
  {
   "cell_type": "markdown",
   "metadata": {},
   "source": [
    "By comparing to the work of Ferrenti et al, they have at this stage $1993$ compounds against our $2730$ compounds. \n",
    "\n",
    "# Stage 3\n",
    "\n",
    "The functional GGA is commonly known to underestimate the band gap of materials, thus we will in this stage try to find as many predictions as possible and compare it to experimental data. \n",
    "\n",
    "We will only use inputs in Materials Project that has a band gap larger than $1.1$ eV since we are looking for semiconductors such as Si. "
   ]
  },
  {
   "cell_type": "code",
   "execution_count": 11,
   "metadata": {},
   "outputs": [
    {
     "data": {
      "text/html": [
       "<div>\n",
       "<style scoped>\n",
       "    .dataframe tbody tr th:only-of-type {\n",
       "        vertical-align: middle;\n",
       "    }\n",
       "\n",
       "    .dataframe tbody tr th {\n",
       "        vertical-align: top;\n",
       "    }\n",
       "\n",
       "    .dataframe thead th {\n",
       "        text-align: right;\n",
       "    }\n",
       "</style>\n",
       "<table border=\"1\" class=\"dataframe\">\n",
       "  <thead>\n",
       "    <tr style=\"text-align: right;\">\n",
       "      <th></th>\n",
       "      <th>material_id</th>\n",
       "      <th>full_formula</th>\n",
       "      <th>spacegroup</th>\n",
       "      <th>band_gap</th>\n",
       "    </tr>\n",
       "  </thead>\n",
       "  <tbody>\n",
       "    <tr>\n",
       "      <th>1</th>\n",
       "      <td>mp-1000</td>\n",
       "      <td>Ba1Te1</td>\n",
       "      <td>{'symprec': 0.1, 'source': 'spglib', 'symbol':...</td>\n",
       "      <td>1.8555</td>\n",
       "    </tr>\n",
       "    <tr>\n",
       "      <th>8</th>\n",
       "      <td>mp-1002124</td>\n",
       "      <td>Hf1C1</td>\n",
       "      <td>{'symprec': 0.1, 'source': 'spglib', 'symbol':...</td>\n",
       "      <td>0.5774</td>\n",
       "    </tr>\n",
       "    <tr>\n",
       "      <th>9</th>\n",
       "      <td>mp-1002164</td>\n",
       "      <td>Ge1C1</td>\n",
       "      <td>{'symprec': 0.1, 'source': 'spglib', 'symbol':...</td>\n",
       "      <td>1.8486</td>\n",
       "    </tr>\n",
       "    <tr>\n",
       "      <th>16</th>\n",
       "      <td>mp-10064</td>\n",
       "      <td>Si1O2</td>\n",
       "      <td>{'symprec': 0.1, 'source': 'spglib', 'symbol':...</td>\n",
       "      <td>1.9997</td>\n",
       "    </tr>\n",
       "    <tr>\n",
       "      <th>17</th>\n",
       "      <td>mp-1006878</td>\n",
       "      <td>Ba1O2</td>\n",
       "      <td>{'symprec': 0.1, 'source': 'spglib', 'symbol':...</td>\n",
       "      <td>2.3433</td>\n",
       "    </tr>\n",
       "    <tr>\n",
       "      <th>...</th>\n",
       "      <td>...</td>\n",
       "      <td>...</td>\n",
       "      <td>...</td>\n",
       "      <td>...</td>\n",
       "    </tr>\n",
       "    <tr>\n",
       "      <th>2637</th>\n",
       "      <td>mp-985829</td>\n",
       "      <td>Hf1S2</td>\n",
       "      <td>{'symprec': 0.1, 'source': 'spglib', 'symbol':...</td>\n",
       "      <td>1.2325</td>\n",
       "    </tr>\n",
       "    <tr>\n",
       "      <th>2638</th>\n",
       "      <td>mp-985831</td>\n",
       "      <td>Hf1Se2</td>\n",
       "      <td>{'symprec': 0.1, 'source': 'spglib', 'symbol':...</td>\n",
       "      <td>0.5549</td>\n",
       "    </tr>\n",
       "    <tr>\n",
       "      <th>2641</th>\n",
       "      <td>mp-9921</td>\n",
       "      <td>Zr2S6</td>\n",
       "      <td>{'symprec': 0.1, 'source': 'spglib', 'symbol':...</td>\n",
       "      <td>1.0948</td>\n",
       "    </tr>\n",
       "    <tr>\n",
       "      <th>2642</th>\n",
       "      <td>mp-9922</td>\n",
       "      <td>Hf2S6</td>\n",
       "      <td>{'symprec': 0.1, 'source': 'spglib', 'symbol':...</td>\n",
       "      <td>1.1361</td>\n",
       "    </tr>\n",
       "    <tr>\n",
       "      <th>2657</th>\n",
       "      <td>mp-999200</td>\n",
       "      <td>Si4</td>\n",
       "      <td>{'symprec': 0.1, 'source': 'spglib', 'symbol':...</td>\n",
       "      <td>0.4517</td>\n",
       "    </tr>\n",
       "  </tbody>\n",
       "</table>\n",
       "<p>1269 rows × 4 columns</p>\n",
       "</div>"
      ],
      "text/plain": [
       "     material_id full_formula  \\\n",
       "1        mp-1000       Ba1Te1   \n",
       "8     mp-1002124        Hf1C1   \n",
       "9     mp-1002164        Ge1C1   \n",
       "16      mp-10064        Si1O2   \n",
       "17    mp-1006878        Ba1O2   \n",
       "...          ...          ...   \n",
       "2637   mp-985829        Hf1S2   \n",
       "2638   mp-985831       Hf1Se2   \n",
       "2641     mp-9921        Zr2S6   \n",
       "2642     mp-9922        Hf2S6   \n",
       "2657   mp-999200          Si4   \n",
       "\n",
       "                                             spacegroup  band_gap  \n",
       "1     {'symprec': 0.1, 'source': 'spglib', 'symbol':...    1.8555  \n",
       "8     {'symprec': 0.1, 'source': 'spglib', 'symbol':...    0.5774  \n",
       "9     {'symprec': 0.1, 'source': 'spglib', 'symbol':...    1.8486  \n",
       "16    {'symprec': 0.1, 'source': 'spglib', 'symbol':...    1.9997  \n",
       "17    {'symprec': 0.1, 'source': 'spglib', 'symbol':...    2.3433  \n",
       "...                                                 ...       ...  \n",
       "2637  {'symprec': 0.1, 'source': 'spglib', 'symbol':...    1.2325  \n",
       "2638  {'symprec': 0.1, 'source': 'spglib', 'symbol':...    0.5549  \n",
       "2641  {'symprec': 0.1, 'source': 'spglib', 'symbol':...    1.0948  \n",
       "2642  {'symprec': 0.1, 'source': 'spglib', 'symbol':...    1.1361  \n",
       "2657  {'symprec': 0.1, 'source': 'spglib', 'symbol':...    0.4517  \n",
       "\n",
       "[1269 rows x 4 columns]"
      ]
     },
     "execution_count": 11,
     "metadata": {},
     "output_type": "execute_result"
    }
   ],
   "source": [
    "lowerBandGapLimit = 0.4\n",
    "\n",
    "fitted_entries = fitted_entries[fitted_entries[\"band_gap\"] >= lowerBandGapLimit]\n",
    "#fitted_entries.to_csv(\"data/stage_3/fitted_MP_data_stage_3.csv\", sep=\",\", index = False)\n",
    "\n",
    "fitted_entries"
   ]
  },
  {
   "cell_type": "markdown",
   "metadata": {},
   "source": [
    "# Stage 4\n",
    "\n",
    "In the last stage we will reject all E Above Hull values over 0.2 eV, since larger E Above Hull values are indicative of a thermodynamically unstable material. We will use the values calculated in Materials Project for this prospect. "
   ]
  },
  {
   "cell_type": "code",
   "execution_count": 12,
   "metadata": {},
   "outputs": [],
   "source": [
    "EAboveHullLimit = 0.2\n",
    "\n",
    "#bandGaps    = bandGaps   [entries[\"e_above_hull\"] < EAboveHullLimit].reset_index(drop=True)\n",
    "#spaceGroups = spaceGroups[entries[\"e_above_hull\"] < EAboveHullLimit].reset_index(drop=True)\n",
    "#icsdIDs     = icsdIDs    [entries[\"e_above_hull\"] < EAboveHullLimit].reset_index(drop=True)\n",
    "#entries     = entries    [entries[\"e_above_hull\"] < EAboveHullLimit].reset_index(drop=True)"
   ]
  },
  {
   "cell_type": "code",
   "execution_count": 13,
   "metadata": {
    "scrolled": false
   },
   "outputs": [],
   "source": [
    "fitted_entries[\"candidate\"] = np.ones(len(fitted_entries))\n",
    "#fitted_entries.to_csv    (\"data/stage_4/fitted_MP_data_stage_4.csv\",     sep=\",\", index = False)\n",
    "\n",
    "#bandGaps.to_csv   (\"data/stage_4/bandgaps_stage_4.csv\",    sep=\",\", index = False)\n",
    "#spaceGroups.to_csv(\"data/stage_4/spaceGroups_stage_4.csv\", sep=\",\", index = False)\n",
    "\n"
   ]
  },
  {
   "cell_type": "markdown",
   "metadata": {},
   "source": []
  },
  {
   "cell_type": "markdown",
   "metadata": {},
   "source": [
    "# Unfitted candidates\n",
    "## Stage 1 + 2\n",
    "To find unfitted candidates, we will begin with using the opposite criteria for which elements to include based on stable zero nuclear spin isotopes, while we will remove the magnetic and the polar space group criteria.\n",
    "\n",
    "- $50\\% + l != 0$ isotopes\n",
    "- Calculated magnetic\n",
    "- Has experimental ICSD entry\n",
    "- Crystallize in polar space groups\n",
    "\n",
    "Additionally, we will here make include stage 2 into this step (or else we would widen the search from stage 1 to stage 2). That means we include all the elements we excluded in stage 1 and stage 2. \n",
    "- Include Th, U, Cd, Hg\n",
    "- Include noble gases or rare-earth elements"
   ]
  },
  {
   "cell_type": "code",
   "execution_count": 14,
   "metadata": {},
   "outputs": [
    {
     "data": {
      "text/plain": [
       "27"
      ]
     },
     "execution_count": 14,
     "metadata": {},
     "output_type": "execute_result"
    }
   ],
   "source": [
    "spin_isotopes = [\"He\",\"C\", \"O\", \"Ne\", \"Mg\", \"Si\", \"S\", \"Ar\",\n",
    "                \"Ca\", \"Ti\", \"Cr\", \"Fe\", \"Ni\", \"Zn\", \"Ge\", \"Se\",\n",
    "                \"Se\", \"Kr\", \"Sr\", \"Zr\", \"Mo\", \"Ru\", \"Pd\", \"Cd\",\n",
    "                \"Sn\", \"Te\", \"Xe\", \"Ba\", \"Hf\", \"W\", \"Os\", \"Pt\",\n",
    "                \"Hg\", \"Pb\", \"Ce\", \"Nd\", \"Sm\", \"Gd\", \"Dy\", \"Er\",\n",
    "                \"Yb\", \"Th\", \"U\"] #43\n",
    "\n",
    "#Not include the following elements:\n",
    "include_elements = [ \n",
    "    \"Th\", \"U\", \"Cd\", \"Hg\", #restriction nr 1 above (4)\n",
    "    \"He\", \"Ne\", \"Ar\", \"Kr\", \"Xe\", \"Rn\", \"Og\", #no noble gases (7)\n",
    "    \"Sc\", \"Y\", \"La\", \"Ce\", \"Pr\", \"Nd\", \"Pm\", \"Sm\", \"Eu\", \"Gd\",\n",
    "     \"Tb\", \"Dy\", \"Ho\", \"Er\", \"Tm\", \"Yb\", \"Lu\"]\n",
    "    # No rare-earth elements (17)\n",
    "\n",
    "indices = []\n",
    "for i, spin in enumerate(spin_isotopes): \n",
    "    for ele in include_elements:\n",
    "        if spin == ele:\n",
    "            indices.append(i)\n",
    "            \n",
    "for i in sorted(indices, reverse=True):\n",
    "    del spin_isotopes[i]\n",
    "\n",
    "len(spin_isotopes)"
   ]
  },
  {
   "cell_type": "code",
   "execution_count": null,
   "metadata": {},
   "outputs": [],
   "source": []
  },
  {
   "cell_type": "code",
   "execution_count": null,
   "metadata": {},
   "outputs": [],
   "source": []
  },
  {
   "cell_type": "markdown",
   "metadata": {},
   "source": [
    "### Query\n",
    "\n",
    "Here we find that a strict criteria is the polar space group together with magnetic type, since this reduces the amount of entries to $52$. However, if we remove the spacegroup restriction, we end up with $1683$ entries, or by removing magnetic type ; $486$. Thus, it is clear that the amount of negative non-magnetic calculations is limited."
   ]
  },
  {
   "cell_type": "code",
   "execution_count": 15,
   "metadata": {
    "scrolled": false
   },
   "outputs": [
    {
     "name": "stdout",
     "output_type": "stream",
     "text": [
      "Number of entries after query: 486\n"
     ]
    }
   ],
   "source": [
    "\n",
    "with MPRester(\"b7RtVfJTsUg6TK8E\") as mpr:\n",
    "    \n",
    "    criteria = {'elements':{\"$nin\": spin_isotopes}, #not included\n",
    "                'icsd_ids': {'$gte': 0}, #All compounds deemed similar to a structure in ICSD\n",
    "                #\"magnetic_type\": {\"$ne\": \"NM\"}, #non-magnetic not equal\n",
    "                \"spacegroup.number\": {\"$in\": polar_spacegroups}\n",
    "                }\n",
    "\n",
    "    props = [\"material_id\",\"full_formula\", \"spacegroup\", \"band_gap\"]\n",
    "    unfitted_entries = pd.DataFrame(mpr.query(criteria=criteria, properties=props))    \n",
    "        \n",
    "print(\"Number of entries after query: {}\".format(len(unfitted_entries)))"
   ]
  },
  {
   "cell_type": "code",
   "execution_count": null,
   "metadata": {
    "scrolled": false
   },
   "outputs": [],
   "source": []
  },
  {
   "cell_type": "markdown",
   "metadata": {},
   "source": [
    "# Stage 3\n",
    "\n",
    "For consistency we are only looking at semiconductors. Thus, we will maintain a lower band gap limit for unfitted candidates, since the features we are generating are based on that a material has a band gap. "
   ]
  },
  {
   "cell_type": "code",
   "execution_count": 16,
   "metadata": {},
   "outputs": [
    {
     "data": {
      "text/html": [
       "<div>\n",
       "<style scoped>\n",
       "    .dataframe tbody tr th:only-of-type {\n",
       "        vertical-align: middle;\n",
       "    }\n",
       "\n",
       "    .dataframe tbody tr th {\n",
       "        vertical-align: top;\n",
       "    }\n",
       "\n",
       "    .dataframe thead th {\n",
       "        text-align: right;\n",
       "    }\n",
       "</style>\n",
       "<table border=\"1\" class=\"dataframe\">\n",
       "  <thead>\n",
       "    <tr style=\"text-align: right;\">\n",
       "      <th></th>\n",
       "      <th>material_id</th>\n",
       "      <th>full_formula</th>\n",
       "      <th>spacegroup</th>\n",
       "      <th>band_gap</th>\n",
       "    </tr>\n",
       "  </thead>\n",
       "  <tbody>\n",
       "    <tr>\n",
       "      <th>0</th>\n",
       "      <td>mp-696736</td>\n",
       "      <td>Rb1Be2F5</td>\n",
       "      <td>{'symprec': 0.1, 'source': 'spglib', 'symbol':...</td>\n",
       "      <td>7.3021</td>\n",
       "    </tr>\n",
       "    <tr>\n",
       "      <th>1</th>\n",
       "      <td>mp-707160</td>\n",
       "      <td>H4N4F8</td>\n",
       "      <td>{'symprec': 0.1, 'source': 'spglib', 'symbol':...</td>\n",
       "      <td>1.5844</td>\n",
       "    </tr>\n",
       "    <tr>\n",
       "      <th>7</th>\n",
       "      <td>mp-1079049</td>\n",
       "      <td>Ir1N4Cl4</td>\n",
       "      <td>{'symprec': 0.1, 'source': 'spglib', 'symbol':...</td>\n",
       "      <td>0.4762</td>\n",
       "    </tr>\n",
       "    <tr>\n",
       "      <th>9</th>\n",
       "      <td>mp-27935</td>\n",
       "      <td>Al2I2Cl12</td>\n",
       "      <td>{'symprec': 0.1, 'source': 'spglib', 'symbol':...</td>\n",
       "      <td>2.2907</td>\n",
       "    </tr>\n",
       "    <tr>\n",
       "      <th>10</th>\n",
       "      <td>mp-1205479</td>\n",
       "      <td>K44Sb22F110</td>\n",
       "      <td>{'symprec': 0.1, 'source': 'spglib', 'symbol':...</td>\n",
       "      <td>4.7325</td>\n",
       "    </tr>\n",
       "    <tr>\n",
       "      <th>...</th>\n",
       "      <td>...</td>\n",
       "      <td>...</td>\n",
       "      <td>...</td>\n",
       "      <td>...</td>\n",
       "    </tr>\n",
       "    <tr>\n",
       "      <th>477</th>\n",
       "      <td>mp-555932</td>\n",
       "      <td>Rb4Er12F40</td>\n",
       "      <td>{'symprec': 0.1, 'source': 'spglib', 'symbol':...</td>\n",
       "      <td>7.2820</td>\n",
       "    </tr>\n",
       "    <tr>\n",
       "      <th>478</th>\n",
       "      <td>mp-696998</td>\n",
       "      <td>K12Bi2H6Cl16F8</td>\n",
       "      <td>{'symprec': 0.1, 'source': 'spglib', 'symbol':...</td>\n",
       "      <td>4.1881</td>\n",
       "    </tr>\n",
       "    <tr>\n",
       "      <th>479</th>\n",
       "      <td>mp-9575</td>\n",
       "      <td>Li2Be2Sb2</td>\n",
       "      <td>{'symprec': 0.1, 'source': 'spglib', 'symbol':...</td>\n",
       "      <td>0.9076</td>\n",
       "    </tr>\n",
       "    <tr>\n",
       "      <th>481</th>\n",
       "      <td>mp-2653</td>\n",
       "      <td>B2N2</td>\n",
       "      <td>{'symprec': 0.1, 'source': 'spglib', 'symbol':...</td>\n",
       "      <td>5.3630</td>\n",
       "    </tr>\n",
       "    <tr>\n",
       "      <th>483</th>\n",
       "      <td>mp-8883</td>\n",
       "      <td>Ga2As2</td>\n",
       "      <td>{'symprec': 0.1, 'source': 'spglib', 'symbol':...</td>\n",
       "      <td>0.1925</td>\n",
       "    </tr>\n",
       "  </tbody>\n",
       "</table>\n",
       "<p>349 rows × 4 columns</p>\n",
       "</div>"
      ],
      "text/plain": [
       "    material_id    full_formula  \\\n",
       "0     mp-696736        Rb1Be2F5   \n",
       "1     mp-707160          H4N4F8   \n",
       "7    mp-1079049        Ir1N4Cl4   \n",
       "9      mp-27935       Al2I2Cl12   \n",
       "10   mp-1205479     K44Sb22F110   \n",
       "..          ...             ...   \n",
       "477   mp-555932      Rb4Er12F40   \n",
       "478   mp-696998  K12Bi2H6Cl16F8   \n",
       "479     mp-9575       Li2Be2Sb2   \n",
       "481     mp-2653            B2N2   \n",
       "483     mp-8883          Ga2As2   \n",
       "\n",
       "                                            spacegroup  band_gap  \n",
       "0    {'symprec': 0.1, 'source': 'spglib', 'symbol':...    7.3021  \n",
       "1    {'symprec': 0.1, 'source': 'spglib', 'symbol':...    1.5844  \n",
       "7    {'symprec': 0.1, 'source': 'spglib', 'symbol':...    0.4762  \n",
       "9    {'symprec': 0.1, 'source': 'spglib', 'symbol':...    2.2907  \n",
       "10   {'symprec': 0.1, 'source': 'spglib', 'symbol':...    4.7325  \n",
       "..                                                 ...       ...  \n",
       "477  {'symprec': 0.1, 'source': 'spglib', 'symbol':...    7.2820  \n",
       "478  {'symprec': 0.1, 'source': 'spglib', 'symbol':...    4.1881  \n",
       "479  {'symprec': 0.1, 'source': 'spglib', 'symbol':...    0.9076  \n",
       "481  {'symprec': 0.1, 'source': 'spglib', 'symbol':...    5.3630  \n",
       "483  {'symprec': 0.1, 'source': 'spglib', 'symbol':...    0.1925  \n",
       "\n",
       "[349 rows x 4 columns]"
      ]
     },
     "execution_count": 16,
     "metadata": {},
     "output_type": "execute_result"
    }
   ],
   "source": [
    "lowerBandGapLimit = 0.1\n",
    "\n",
    "unfitted_entries = unfitted_entries[unfitted_entries[\"band_gap\"] >= lowerBandGapLimit]\n",
    "unfitted_entries"
   ]
  },
  {
   "cell_type": "markdown",
   "metadata": {},
   "source": [
    "# Stage 4\n",
    "\n",
    "In the last stage we will reject all E Above Hull values over 0.2 eV, since larger E Above Hull values are indicative of a thermodynamically unstable material. We will use the values calculated in Materials Project for this prospect. "
   ]
  },
  {
   "cell_type": "code",
   "execution_count": 17,
   "metadata": {},
   "outputs": [],
   "source": [
    "#EAboveHullLimit = 0.2\n",
    "\n",
    "#bandGaps    = bandGaps   [entries[\"e_above_hull\"] < EAboveHullLimit].reset_index(drop=True)\n",
    "#spaceGroups = spaceGroups[entries[\"e_above_hull\"] < EAboveHullLimit].reset_index(drop=True)\n",
    "#icsdIDs     = icsdIDs    [entries[\"e_above_hull\"] < EAboveHullLimit].reset_index(drop=True)\n",
    "#entries     = entries    [entries[\"e_above_hull\"] < EAboveHullLimit].reset_index(drop=True)"
   ]
  },
  {
   "cell_type": "code",
   "execution_count": 18,
   "metadata": {
    "scrolled": false
   },
   "outputs": [],
   "source": [
    "unfitted_entries[\"candidate\"] = np.zeros(len(unfitted_entries))"
   ]
  },
  {
   "cell_type": "code",
   "execution_count": null,
   "metadata": {},
   "outputs": [],
   "source": []
  },
  {
   "cell_type": "markdown",
   "metadata": {},
   "source": [
    "# Combine data and create training and test set\n",
    "\n",
    "In this section we will combine the data we have extracted, both from the Generated Data notebook, and the labels from the previous dataMining section. "
   ]
  },
  {
   "cell_type": "code",
   "execution_count": 19,
   "metadata": {
    "scrolled": true
   },
   "outputs": [
    {
     "data": {
      "text/html": [
       "<div>\n",
       "<style scoped>\n",
       "    .dataframe tbody tr th:only-of-type {\n",
       "        vertical-align: middle;\n",
       "    }\n",
       "\n",
       "    .dataframe tbody tr th {\n",
       "        vertical-align: top;\n",
       "    }\n",
       "\n",
       "    .dataframe thead th {\n",
       "        text-align: right;\n",
       "    }\n",
       "</style>\n",
       "<table border=\"1\" class=\"dataframe\">\n",
       "  <thead>\n",
       "    <tr style=\"text-align: right;\">\n",
       "      <th></th>\n",
       "      <th>material_id</th>\n",
       "      <th>full_formula</th>\n",
       "      <th>spacegroup</th>\n",
       "      <th>band_gap</th>\n",
       "      <th>candidate</th>\n",
       "    </tr>\n",
       "  </thead>\n",
       "  <tbody>\n",
       "    <tr>\n",
       "      <th>0</th>\n",
       "      <td>mp-7</td>\n",
       "      <td>S6</td>\n",
       "      <td>{'symprec': 0.1, 'source': 'spglib', 'symbol':...</td>\n",
       "      <td>2.4881</td>\n",
       "      <td>1.0</td>\n",
       "    </tr>\n",
       "    <tr>\n",
       "      <th>1</th>\n",
       "      <td>mp-14</td>\n",
       "      <td>Se3</td>\n",
       "      <td>{'symprec': 0.1, 'source': 'spglib', 'symbol':...</td>\n",
       "      <td>1.0119</td>\n",
       "      <td>1.0</td>\n",
       "    </tr>\n",
       "    <tr>\n",
       "      <th>2</th>\n",
       "      <td>mp-19</td>\n",
       "      <td>Te3</td>\n",
       "      <td>{'symprec': 0.1, 'source': 'spglib', 'symbol':...</td>\n",
       "      <td>0.5752</td>\n",
       "      <td>1.0</td>\n",
       "    </tr>\n",
       "    <tr>\n",
       "      <th>3</th>\n",
       "      <td>mp-24</td>\n",
       "      <td>C8</td>\n",
       "      <td>{'symprec': 0.1, 'source': 'spglib', 'symbol':...</td>\n",
       "      <td>2.7785</td>\n",
       "      <td>1.0</td>\n",
       "    </tr>\n",
       "    <tr>\n",
       "      <th>4</th>\n",
       "      <td>mp-47</td>\n",
       "      <td>C4</td>\n",
       "      <td>{'symprec': 0.1, 'source': 'spglib', 'symbol':...</td>\n",
       "      <td>3.3395</td>\n",
       "      <td>1.0</td>\n",
       "    </tr>\n",
       "    <tr>\n",
       "      <th>...</th>\n",
       "      <td>...</td>\n",
       "      <td>...</td>\n",
       "      <td>...</td>\n",
       "      <td>...</td>\n",
       "      <td>...</td>\n",
       "    </tr>\n",
       "    <tr>\n",
       "      <th>1613</th>\n",
       "      <td>mp-1205479</td>\n",
       "      <td>K44Sb22F110</td>\n",
       "      <td>{'symprec': 0.1, 'source': 'spglib', 'symbol':...</td>\n",
       "      <td>4.7325</td>\n",
       "      <td>0.0</td>\n",
       "    </tr>\n",
       "    <tr>\n",
       "      <th>1614</th>\n",
       "      <td>mp-1208643</td>\n",
       "      <td>Sr4Hf4S12</td>\n",
       "      <td>{'symprec': 0.1, 'source': 'spglib', 'symbol':...</td>\n",
       "      <td>2.0461</td>\n",
       "      <td>1.0</td>\n",
       "    </tr>\n",
       "    <tr>\n",
       "      <th>1615</th>\n",
       "      <td>mp-1210722</td>\n",
       "      <td>Mg2Te2Mo2O12</td>\n",
       "      <td>{'symprec': 0.1, 'source': 'spglib', 'symbol':...</td>\n",
       "      <td>3.2147</td>\n",
       "      <td>1.0</td>\n",
       "    </tr>\n",
       "    <tr>\n",
       "      <th>1616</th>\n",
       "      <td>mp-1232407</td>\n",
       "      <td>Li6B6H32N4</td>\n",
       "      <td>{'symprec': 0.1, 'source': 'spglib', 'symbol':...</td>\n",
       "      <td>5.9434</td>\n",
       "      <td>0.0</td>\n",
       "    </tr>\n",
       "    <tr>\n",
       "      <th>1617</th>\n",
       "      <td>mp-1238445</td>\n",
       "      <td>Be8H64N16F32</td>\n",
       "      <td>{'symprec': 0.1, 'source': 'spglib', 'symbol':...</td>\n",
       "      <td>6.5561</td>\n",
       "      <td>0.0</td>\n",
       "    </tr>\n",
       "  </tbody>\n",
       "</table>\n",
       "<p>1618 rows × 5 columns</p>\n",
       "</div>"
      ],
      "text/plain": [
       "     material_id  full_formula  \\\n",
       "0           mp-7            S6   \n",
       "1          mp-14           Se3   \n",
       "2          mp-19           Te3   \n",
       "3          mp-24            C8   \n",
       "4          mp-47            C4   \n",
       "...          ...           ...   \n",
       "1613  mp-1205479   K44Sb22F110   \n",
       "1614  mp-1208643     Sr4Hf4S12   \n",
       "1615  mp-1210722  Mg2Te2Mo2O12   \n",
       "1616  mp-1232407    Li6B6H32N4   \n",
       "1617  mp-1238445  Be8H64N16F32   \n",
       "\n",
       "                                             spacegroup  band_gap  candidate  \n",
       "0     {'symprec': 0.1, 'source': 'spglib', 'symbol':...    2.4881        1.0  \n",
       "1     {'symprec': 0.1, 'source': 'spglib', 'symbol':...    1.0119        1.0  \n",
       "2     {'symprec': 0.1, 'source': 'spglib', 'symbol':...    0.5752        1.0  \n",
       "3     {'symprec': 0.1, 'source': 'spglib', 'symbol':...    2.7785        1.0  \n",
       "4     {'symprec': 0.1, 'source': 'spglib', 'symbol':...    3.3395        1.0  \n",
       "...                                                 ...       ...        ...  \n",
       "1613  {'symprec': 0.1, 'source': 'spglib', 'symbol':...    4.7325        0.0  \n",
       "1614  {'symprec': 0.1, 'source': 'spglib', 'symbol':...    2.0461        1.0  \n",
       "1615  {'symprec': 0.1, 'source': 'spglib', 'symbol':...    3.2147        1.0  \n",
       "1616  {'symprec': 0.1, 'source': 'spglib', 'symbol':...    5.9434        0.0  \n",
       "1617  {'symprec': 0.1, 'source': 'spglib', 'symbol':...    6.5561        0.0  \n",
       "\n",
       "[1618 rows x 5 columns]"
      ]
     },
     "execution_count": 19,
     "metadata": {},
     "output_type": "execute_result"
    }
   ],
   "source": [
    "training_data = pd.concat([fitted_entries,unfitted_entries]).reset_index(drop=True)\n",
    "\n",
    "def sortByMPID(df):\n",
    "    mpid_num = []\n",
    "    for i in df[\"material_id\"]:\n",
    "        mpid_num.append(int(i[3:]))\n",
    "    df[\"mpid_num\"] = mpid_num\n",
    "    df = df.sort_values(by=\"mpid_num\").reset_index(drop=True)\n",
    "    df = df.drop(columns=[\"mpid_num\"])\n",
    "    return df\n",
    "\n",
    "training_data=sortByMPID(training_data)\n",
    "training_data"
   ]
  },
  {
   "cell_type": "code",
   "execution_count": 20,
   "metadata": {},
   "outputs": [],
   "source": [
    "drop_columns =  [\"full_formula\", \"spacegroup\", \"band_gap\"]\n",
    "training_data = training_data.drop(drop_columns, axis=1)"
   ]
  },
  {
   "cell_type": "code",
   "execution_count": 21,
   "metadata": {},
   "outputs": [],
   "source": [
    "training_data.to_pickle(data_dir / InsertApproach / \"processed\" / \"trainingCombo.pkl\")"
   ]
  },
  {
   "cell_type": "code",
   "execution_count": null,
   "metadata": {},
   "outputs": [],
   "source": [
    "    "
   ]
  }
 ],
 "metadata": {
  "kernelspec": {
   "display_name": "Python 3",
   "language": "python",
   "name": "python3"
  },
  "language_info": {
   "codemirror_mode": {
    "name": "ipython",
    "version": 3
   },
   "file_extension": ".py",
   "mimetype": "text/x-python",
   "name": "python",
   "nbconvert_exporter": "python",
   "pygments_lexer": "ipython3",
   "version": "3.8.5"
  }
 },
 "nbformat": 4,
 "nbformat_minor": 4
}
